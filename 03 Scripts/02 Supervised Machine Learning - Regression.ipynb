{
 "cells": [
  {
   "cell_type": "markdown",
   "id": "6308a6d3",
   "metadata": {},
   "source": [
    "# Table of Content\n",
    "01. Import Libraries\n",
    "02. Import Data\n",
    "03. Hypothesis to be Tested\n",
    "04. Data Preparation for Regression Analysis\n",
    "05. Regression Analysis\n",
    "06. Discussion"
   ]
  },
  {
   "cell_type": "markdown",
   "id": "5a6dca78",
   "metadata": {},
   "source": [
    "# 01. Import Libraries"
   ]
  },
  {
   "cell_type": "code",
   "execution_count": 1,
   "id": "d6d5b081",
   "metadata": {},
   "outputs": [],
   "source": [
    "# Import libraries\n",
    "import pandas as pd\n",
    "import numpy as np\n",
    "import matplotlib\n",
    "import matplotlib.pyplot as plt\n",
    "import seaborn as sns\n",
    "import os\n",
    "import sklearn\n",
    "from sklearn.model_selection import train_test_split \n",
    "from sklearn.linear_model import LinearRegression\n",
    "from sklearn.metrics import mean_squared_error, r2_score"
   ]
  },
  {
   "cell_type": "code",
   "execution_count": 2,
   "id": "92d16c18",
   "metadata": {},
   "outputs": [],
   "source": [
    "# Adjust setting to allow seeing all the rows in the output of this notebook\n",
    "pd.options.display.max_rows = None"
   ]
  },
  {
   "cell_type": "code",
   "execution_count": 3,
   "id": "a40b9e61",
   "metadata": {},
   "outputs": [],
   "source": [
    "# Adjust setting to allow seeing all the columns in the output of this notebook\n",
    "pd.options.display.max_columns = None"
   ]
  },
  {
   "cell_type": "code",
   "execution_count": 4,
   "id": "0962adb0",
   "metadata": {},
   "outputs": [],
   "source": [
    "# This option ensures that the graphs you create are displayed within the notebook without the need to \"call\" them specifically.\n",
    "%matplotlib inline"
   ]
  },
  {
   "cell_type": "markdown",
   "id": "4d7fce8e",
   "metadata": {},
   "source": [
    "# 02. Import Data"
   ]
  },
  {
   "cell_type": "code",
   "execution_count": 5,
   "id": "cb2d16f5",
   "metadata": {},
   "outputs": [],
   "source": [
    "# Define the main project folder path\n",
    "path = r'C:\\Users\\saich\\Desktop\\CareerFoundry\\Data Immersion\\Achievement 6 Advanced Analytics & Dashboard Design\\11-2023 HDB Flat Resale Analysis'"
   ]
  },
  {
   "cell_type": "code",
   "execution_count": 6,
   "id": "e564f907",
   "metadata": {},
   "outputs": [],
   "source": [
    "# Import 'flat_resale_all_w_cpi (geodata).pkl' from 'Prepared Data' folder\n",
    "flat_resale = pd.read_pickle(os.path.join(path, '02 Data', 'Prepared Data', 'flat_resale_all_explored (geodata).pkl'))"
   ]
  },
  {
   "cell_type": "code",
   "execution_count": 7,
   "id": "093846ca",
   "metadata": {},
   "outputs": [
    {
     "data": {
      "text/html": [
       "<div>\n",
       "<style scoped>\n",
       "    .dataframe tbody tr th:only-of-type {\n",
       "        vertical-align: middle;\n",
       "    }\n",
       "\n",
       "    .dataframe tbody tr th {\n",
       "        vertical-align: top;\n",
       "    }\n",
       "\n",
       "    .dataframe thead th {\n",
       "        text-align: right;\n",
       "    }\n",
       "</style>\n",
       "<table border=\"1\" class=\"dataframe\">\n",
       "  <thead>\n",
       "    <tr style=\"text-align: right;\">\n",
       "      <th></th>\n",
       "      <th>month</th>\n",
       "      <th>town</th>\n",
       "      <th>flat_type</th>\n",
       "      <th>block</th>\n",
       "      <th>street_name</th>\n",
       "      <th>storey_range</th>\n",
       "      <th>floor_area_sqm</th>\n",
       "      <th>flat_model</th>\n",
       "      <th>lease_commence_date</th>\n",
       "      <th>resale_price</th>\n",
       "      <th>remaining_lease</th>\n",
       "      <th>row_id</th>\n",
       "      <th>address</th>\n",
       "      <th>latitude</th>\n",
       "      <th>longitude</th>\n",
       "      <th>geometry</th>\n",
       "      <th>nearest_station</th>\n",
       "      <th>station_distance</th>\n",
       "      <th>station_opening</th>\n",
       "      <th>station_closure</th>\n",
       "      <th>cpi_all_items</th>\n",
       "      <th>adjusted_resale_price</th>\n",
       "      <th>region</th>\n",
       "      <th>interchange_flag</th>\n",
       "      <th>storey_range_midpoint</th>\n",
       "      <th>adj_resale_price_category</th>\n",
       "    </tr>\n",
       "  </thead>\n",
       "  <tbody>\n",
       "    <tr>\n",
       "      <th>0</th>\n",
       "      <td>1990-01-01</td>\n",
       "      <td>ANG MO KIO</td>\n",
       "      <td>1 ROOM</td>\n",
       "      <td>309</td>\n",
       "      <td>ANG MO KIO AVE 1</td>\n",
       "      <td>10 TO 12</td>\n",
       "      <td>31.0</td>\n",
       "      <td>Improved</td>\n",
       "      <td>1977</td>\n",
       "      <td>9000.0</td>\n",
       "      <td>86</td>\n",
       "      <td>0</td>\n",
       "      <td>309 ANG MO KIO AVE 1</td>\n",
       "      <td>1.365517</td>\n",
       "      <td>103.843968</td>\n",
       "      <td>POINT (29185.176 38617.449)</td>\n",
       "      <td>Ang Mo Kio MRT Station (NS16)</td>\n",
       "      <td>790.831215</td>\n",
       "      <td>1987-11-07</td>\n",
       "      <td>NaT</td>\n",
       "      <td>62.0</td>\n",
       "      <td>14516.129032</td>\n",
       "      <td>North East</td>\n",
       "      <td>normal station</td>\n",
       "      <td>11</td>\n",
       "      <td>Low price</td>\n",
       "    </tr>\n",
       "    <tr>\n",
       "      <th>1</th>\n",
       "      <td>1990-01-01</td>\n",
       "      <td>ANG MO KIO</td>\n",
       "      <td>1 ROOM</td>\n",
       "      <td>309</td>\n",
       "      <td>ANG MO KIO AVE 1</td>\n",
       "      <td>04 TO 06</td>\n",
       "      <td>31.0</td>\n",
       "      <td>Improved</td>\n",
       "      <td>1977</td>\n",
       "      <td>6000.0</td>\n",
       "      <td>86</td>\n",
       "      <td>1</td>\n",
       "      <td>309 ANG MO KIO AVE 1</td>\n",
       "      <td>1.365517</td>\n",
       "      <td>103.843968</td>\n",
       "      <td>POINT (29185.176 38617.449)</td>\n",
       "      <td>Ang Mo Kio MRT Station (NS16)</td>\n",
       "      <td>790.831215</td>\n",
       "      <td>1987-11-07</td>\n",
       "      <td>NaT</td>\n",
       "      <td>62.0</td>\n",
       "      <td>9677.419355</td>\n",
       "      <td>North East</td>\n",
       "      <td>normal station</td>\n",
       "      <td>5</td>\n",
       "      <td>Low price</td>\n",
       "    </tr>\n",
       "    <tr>\n",
       "      <th>2</th>\n",
       "      <td>1990-01-01</td>\n",
       "      <td>ANG MO KIO</td>\n",
       "      <td>1 ROOM</td>\n",
       "      <td>309</td>\n",
       "      <td>ANG MO KIO AVE 1</td>\n",
       "      <td>10 TO 12</td>\n",
       "      <td>31.0</td>\n",
       "      <td>Improved</td>\n",
       "      <td>1977</td>\n",
       "      <td>8000.0</td>\n",
       "      <td>86</td>\n",
       "      <td>2</td>\n",
       "      <td>309 ANG MO KIO AVE 1</td>\n",
       "      <td>1.365517</td>\n",
       "      <td>103.843968</td>\n",
       "      <td>POINT (29185.176 38617.449)</td>\n",
       "      <td>Ang Mo Kio MRT Station (NS16)</td>\n",
       "      <td>790.831215</td>\n",
       "      <td>1987-11-07</td>\n",
       "      <td>NaT</td>\n",
       "      <td>62.0</td>\n",
       "      <td>12903.225806</td>\n",
       "      <td>North East</td>\n",
       "      <td>normal station</td>\n",
       "      <td>11</td>\n",
       "      <td>Low price</td>\n",
       "    </tr>\n",
       "    <tr>\n",
       "      <th>3</th>\n",
       "      <td>1990-01-01</td>\n",
       "      <td>ANG MO KIO</td>\n",
       "      <td>1 ROOM</td>\n",
       "      <td>309</td>\n",
       "      <td>ANG MO KIO AVE 1</td>\n",
       "      <td>07 TO 09</td>\n",
       "      <td>31.0</td>\n",
       "      <td>Improved</td>\n",
       "      <td>1977</td>\n",
       "      <td>6000.0</td>\n",
       "      <td>86</td>\n",
       "      <td>3</td>\n",
       "      <td>309 ANG MO KIO AVE 1</td>\n",
       "      <td>1.365517</td>\n",
       "      <td>103.843968</td>\n",
       "      <td>POINT (29185.176 38617.449)</td>\n",
       "      <td>Ang Mo Kio MRT Station (NS16)</td>\n",
       "      <td>790.831215</td>\n",
       "      <td>1987-11-07</td>\n",
       "      <td>NaT</td>\n",
       "      <td>62.0</td>\n",
       "      <td>9677.419355</td>\n",
       "      <td>North East</td>\n",
       "      <td>normal station</td>\n",
       "      <td>8</td>\n",
       "      <td>Low price</td>\n",
       "    </tr>\n",
       "    <tr>\n",
       "      <th>4</th>\n",
       "      <td>1990-01-01</td>\n",
       "      <td>ANG MO KIO</td>\n",
       "      <td>3 ROOM</td>\n",
       "      <td>216</td>\n",
       "      <td>ANG MO KIO AVE 1</td>\n",
       "      <td>04 TO 06</td>\n",
       "      <td>73.0</td>\n",
       "      <td>New Generation</td>\n",
       "      <td>1976</td>\n",
       "      <td>47200.0</td>\n",
       "      <td>85</td>\n",
       "      <td>4</td>\n",
       "      <td>216 ANG MO KIO AVE 1</td>\n",
       "      <td>1.366197</td>\n",
       "      <td>103.841505</td>\n",
       "      <td>POINT (28911.052 38692.617)</td>\n",
       "      <td>Ang Mo Kio MRT Station (NS16)</td>\n",
       "      <td>986.842379</td>\n",
       "      <td>1987-11-07</td>\n",
       "      <td>NaT</td>\n",
       "      <td>62.0</td>\n",
       "      <td>76129.032258</td>\n",
       "      <td>North East</td>\n",
       "      <td>normal station</td>\n",
       "      <td>5</td>\n",
       "      <td>Low price</td>\n",
       "    </tr>\n",
       "  </tbody>\n",
       "</table>\n",
       "</div>"
      ],
      "text/plain": [
       "       month        town flat_type block       street_name storey_range  \\\n",
       "0 1990-01-01  ANG MO KIO    1 ROOM   309  ANG MO KIO AVE 1     10 TO 12   \n",
       "1 1990-01-01  ANG MO KIO    1 ROOM   309  ANG MO KIO AVE 1     04 TO 06   \n",
       "2 1990-01-01  ANG MO KIO    1 ROOM   309  ANG MO KIO AVE 1     10 TO 12   \n",
       "3 1990-01-01  ANG MO KIO    1 ROOM   309  ANG MO KIO AVE 1     07 TO 09   \n",
       "4 1990-01-01  ANG MO KIO    3 ROOM   216  ANG MO KIO AVE 1     04 TO 06   \n",
       "\n",
       "   floor_area_sqm      flat_model  lease_commence_date  resale_price  \\\n",
       "0            31.0        Improved                 1977        9000.0   \n",
       "1            31.0        Improved                 1977        6000.0   \n",
       "2            31.0        Improved                 1977        8000.0   \n",
       "3            31.0        Improved                 1977        6000.0   \n",
       "4            73.0  New Generation                 1976       47200.0   \n",
       "\n",
       "   remaining_lease  row_id               address  latitude   longitude  \\\n",
       "0               86       0  309 ANG MO KIO AVE 1  1.365517  103.843968   \n",
       "1               86       1  309 ANG MO KIO AVE 1  1.365517  103.843968   \n",
       "2               86       2  309 ANG MO KIO AVE 1  1.365517  103.843968   \n",
       "3               86       3  309 ANG MO KIO AVE 1  1.365517  103.843968   \n",
       "4               85       4  216 ANG MO KIO AVE 1  1.366197  103.841505   \n",
       "\n",
       "                      geometry                nearest_station  \\\n",
       "0  POINT (29185.176 38617.449)  Ang Mo Kio MRT Station (NS16)   \n",
       "1  POINT (29185.176 38617.449)  Ang Mo Kio MRT Station (NS16)   \n",
       "2  POINT (29185.176 38617.449)  Ang Mo Kio MRT Station (NS16)   \n",
       "3  POINT (29185.176 38617.449)  Ang Mo Kio MRT Station (NS16)   \n",
       "4  POINT (28911.052 38692.617)  Ang Mo Kio MRT Station (NS16)   \n",
       "\n",
       "   station_distance station_opening station_closure  cpi_all_items  \\\n",
       "0        790.831215      1987-11-07             NaT           62.0   \n",
       "1        790.831215      1987-11-07             NaT           62.0   \n",
       "2        790.831215      1987-11-07             NaT           62.0   \n",
       "3        790.831215      1987-11-07             NaT           62.0   \n",
       "4        986.842379      1987-11-07             NaT           62.0   \n",
       "\n",
       "   adjusted_resale_price      region interchange_flag  storey_range_midpoint  \\\n",
       "0           14516.129032  North East   normal station                     11   \n",
       "1            9677.419355  North East   normal station                      5   \n",
       "2           12903.225806  North East   normal station                     11   \n",
       "3            9677.419355  North East   normal station                      8   \n",
       "4           76129.032258  North East   normal station                      5   \n",
       "\n",
       "  adj_resale_price_category  \n",
       "0                 Low price  \n",
       "1                 Low price  \n",
       "2                 Low price  \n",
       "3                 Low price  \n",
       "4                 Low price  "
      ]
     },
     "execution_count": 7,
     "metadata": {},
     "output_type": "execute_result"
    }
   ],
   "source": [
    "flat_resale.head()"
   ]
  },
  {
   "cell_type": "code",
   "execution_count": 8,
   "id": "e1b731cf",
   "metadata": {},
   "outputs": [
    {
     "data": {
      "text/plain": [
       "(915371, 26)"
      ]
     },
     "execution_count": 8,
     "metadata": {},
     "output_type": "execute_result"
    }
   ],
   "source": [
    "flat_resale.shape"
   ]
  },
  {
   "cell_type": "markdown",
   "id": "d6f57222",
   "metadata": {},
   "source": [
    "# 03. Hypothesis to be Tested"
   ]
  },
  {
   "cell_type": "markdown",
   "id": "0800477c",
   "metadata": {},
   "source": [
    "- <b>The larger the floor area, the higher the adjusted resale price. </b>"
   ]
  },
  {
   "cell_type": "markdown",
   "id": "214ea652",
   "metadata": {},
   "source": [
    "# 04. Data Preparation for Regression Analysis"
   ]
  },
  {
   "cell_type": "code",
   "execution_count": 9,
   "id": "b89d6637",
   "metadata": {
    "scrolled": false
   },
   "outputs": [
    {
     "data": {
      "image/png": "[encoded data removed]",
      "text/plain": [
       "<Figure size 640x480 with 1 Axes>"
      ]
     },
     "metadata": {},
     "output_type": "display_data"
    }
   ],
   "source": [
    "# 1. Create a scatterplot to revisit how the chosen variables of the hypothesis plot against each other. \n",
    "\n",
    "flat_resale.plot.scatter(x = 'floor_area_sqm', y = 'adjusted_resale_price') \n",
    "plt.title('Adjusted Resale Price against Floor area')  \n",
    "plt.xlabel('floor area (sqm)')  \n",
    "plt.ylabel('adjusted resale price')  \n",
    "plt.show()"
   ]
  },
  {
   "cell_type": "code",
   "execution_count": 10,
   "id": "5049bf21",
   "metadata": {},
   "outputs": [],
   "source": [
    "# 2. Reshape the variables into NumPy arrays and put them into separate objects.\n",
    "\n",
    "X = flat_resale['floor_area_sqm'].values.reshape(-1,1)\n",
    "y = flat_resale['adjusted_resale_price'].values.reshape(-1,1)"
   ]
  },
  {
   "cell_type": "code",
   "execution_count": 11,
   "id": "f186bad5",
   "metadata": {},
   "outputs": [
    {
     "data": {
      "text/plain": [
       "array([[ 31.],\n",
       "       [ 31.],\n",
       "       [ 31.],\n",
       "       ...,\n",
       "       [179.],\n",
       "       [179.],\n",
       "       [159.]])"
      ]
     },
     "execution_count": 11,
     "metadata": {},
     "output_type": "execute_result"
    }
   ],
   "source": [
    "X"
   ]
  },
  {
   "cell_type": "code",
   "execution_count": 12,
   "id": "750f096f",
   "metadata": {},
   "outputs": [
    {
     "data": {
      "text/plain": [
       "array([[ 14516.12903226],\n",
       "       [  9677.41935484],\n",
       "       [ 12903.22580645],\n",
       "       ...,\n",
       "       [969479.35368043],\n",
       "       [845620.12142238],\n",
       "       [823063.38028169]])"
      ]
     },
     "execution_count": 12,
     "metadata": {},
     "output_type": "execute_result"
    }
   ],
   "source": [
    "y"
   ]
  },
  {
   "cell_type": "code",
   "execution_count": 13,
   "id": "1bf3258c",
   "metadata": {},
   "outputs": [],
   "source": [
    "# 3. Split data into a training set and a test set.\n",
    "\n",
    "X_train, X_test, y_train, y_test = train_test_split(X, y, test_size = 0.3, random_state = 0)\n",
    "\n",
    "# test_size = 0.3: the test set should comprise 30 percent of the data, thus making the training set 70 percent of the data.\n",
    "# random_state = 0: If int, random_state is the seed used by the random number generator"
   ]
  },
  {
   "cell_type": "markdown",
   "id": "82d8df26",
   "metadata": {},
   "source": [
    "# 05. Regression Analysis"
   ]
  },
  {
   "cell_type": "code",
   "execution_count": 14,
   "id": "cf07c2b1",
   "metadata": {},
   "outputs": [],
   "source": [
    "# 1. Create a regression object.\n",
    "\n",
    "regression = LinearRegression()"
   ]
  },
  {
   "cell_type": "code",
   "execution_count": 15,
   "id": "8790fda4",
   "metadata": {},
   "outputs": [
    {
     "data": {
      "text/html": [
       "<style>#sk-container-id-1 {color: black;}#sk-container-id-1 pre{padding: 0;}#sk-container-id-1 div.sk-toggleable {background-color: white;}#sk-container-id-1 label.sk-toggleable__label {cursor: pointer;display: block;width: 100%;margin-bottom: 0;padding: 0.3em;box-sizing: border-box;text-align: center;}#sk-container-id-1 label.sk-toggleable__label-arrow:before {content: \"▸\";float: left;margin-right: 0.25em;color: #696969;}#sk-container-id-1 label.sk-toggleable__label-arrow:hover:before {color: black;}#sk-container-id-1 div.sk-estimator:hover label.sk-toggleable__label-arrow:before {color: black;}#sk-container-id-1 div.sk-toggleable__content {max-height: 0;max-width: 0;overflow: hidden;text-align: left;background-color: #f0f8ff;}#sk-container-id-1 div.sk-toggleable__content pre {margin: 0.2em;color: black;border-radius: 0.25em;background-color: #f0f8ff;}#sk-container-id-1 input.sk-toggleable__control:checked~div.sk-toggleable__content {max-height: 200px;max-width: 100%;overflow: auto;}#sk-container-id-1 input.sk-toggleable__control:checked~label.sk-toggleable__label-arrow:before {content: \"▾\";}#sk-container-id-1 div.sk-estimator input.sk-toggleable__control:checked~label.sk-toggleable__label {background-color: #d4ebff;}#sk-container-id-1 div.sk-label input.sk-toggleable__control:checked~label.sk-toggleable__label {background-color: #d4ebff;}#sk-container-id-1 input.sk-hidden--visually {border: 0;clip: rect(1px 1px 1px 1px);clip: rect(1px, 1px, 1px, 1px);height: 1px;margin: -1px;overflow: hidden;padding: 0;position: absolute;width: 1px;}#sk-container-id-1 div.sk-estimator {font-family: monospace;background-color: #f0f8ff;border: 1px dotted black;border-radius: 0.25em;box-sizing: border-box;margin-bottom: 0.5em;}#sk-container-id-1 div.sk-estimator:hover {background-color: #d4ebff;}#sk-container-id-1 div.sk-parallel-item::after {content: \"\";width: 100%;border-bottom: 1px solid gray;flex-grow: 1;}#sk-container-id-1 div.sk-label:hover label.sk-toggleable__label {background-color: #d4ebff;}#sk-container-id-1 div.sk-serial::before {content: \"\";position: absolute;border-left: 1px solid gray;box-sizing: border-box;top: 0;bottom: 0;left: 50%;z-index: 0;}#sk-container-id-1 div.sk-serial {display: flex;flex-direction: column;align-items: center;background-color: white;padding-right: 0.2em;padding-left: 0.2em;position: relative;}#sk-container-id-1 div.sk-item {position: relative;z-index: 1;}#sk-container-id-1 div.sk-parallel {display: flex;align-items: stretch;justify-content: center;background-color: white;position: relative;}#sk-container-id-1 div.sk-item::before, #sk-container-id-1 div.sk-parallel-item::before {content: \"\";position: absolute;border-left: 1px solid gray;box-sizing: border-box;top: 0;bottom: 0;left: 50%;z-index: -1;}#sk-container-id-1 div.sk-parallel-item {display: flex;flex-direction: column;z-index: 1;position: relative;background-color: white;}#sk-container-id-1 div.sk-parallel-item:first-child::after {align-self: flex-end;width: 50%;}#sk-container-id-1 div.sk-parallel-item:last-child::after {align-self: flex-start;width: 50%;}#sk-container-id-1 div.sk-parallel-item:only-child::after {width: 0;}#sk-container-id-1 div.sk-dashed-wrapped {border: 1px dashed gray;margin: 0 0.4em 0.5em 0.4em;box-sizing: border-box;padding-bottom: 0.4em;background-color: white;}#sk-container-id-1 div.sk-label label {font-family: monospace;font-weight: bold;display: inline-block;line-height: 1.2em;}#sk-container-id-1 div.sk-label-container {text-align: center;}#sk-container-id-1 div.sk-container {/* jupyter's `normalize.less` sets `[hidden] { display: none; }` but bootstrap.min.css set `[hidden] { display: none !important; }` so we also need the `!important` here to be able to override the default hidden behavior on the sphinx rendered scikit-learn.org. See: https://github.com/scikit-learn/scikit-learn/issues/21755 */display: inline-block !important;position: relative;}#sk-container-id-1 div.sk-text-repr-fallback {display: none;}</style><div id=\"sk-container-id-1\" class=\"sk-top-container\"><div class=\"sk-text-repr-fallback\"><pre>LinearRegression()</pre><b>In a Jupyter environment, please rerun this cell to show the HTML representation or trust the notebook. <br />On GitHub, the HTML representation is unable to render, please try loading this page with nbviewer.org.</b></div><div class=\"sk-container\" hidden><div class=\"sk-item\"><div class=\"sk-estimator sk-toggleable\"><input class=\"sk-toggleable__control sk-hidden--visually\" id=\"sk-estimator-id-1\" type=\"checkbox\" checked><label for=\"sk-estimator-id-1\" class=\"sk-toggleable__label sk-toggleable__label-arrow\">LinearRegression</label><div class=\"sk-toggleable__content\"><pre>LinearRegression()</pre></div></div></div></div></div>"
      ],
      "text/plain": [
       "LinearRegression()"
      ]
     },
     "execution_count": 15,
     "metadata": {},
     "output_type": "execute_result"
    }
   ],
   "source": [
    "# 2. Fit the regression object onto the training set.\n",
    "# By doing so, you’re training the model.\n",
    "\n",
    "regression.fit(X_train, y_train)"
   ]
  },
  {
   "cell_type": "code",
   "execution_count": 16,
   "id": "a2a6c268",
   "metadata": {},
   "outputs": [],
   "source": [
    "# 3. Predict the values of y by applying the model to X_test (test set).\n",
    "\n",
    "y_predicted = regression.predict(X_test)"
   ]
  },
  {
   "cell_type": "code",
   "execution_count": 17,
   "id": "cc04b0df",
   "metadata": {},
   "outputs": [
    {
     "data": {
      "image/png": "[encoded data removed]",
      "text/plain": [
       "<Figure size 640x480 with 1 Axes>"
      ]
     },
     "metadata": {},
     "output_type": "display_data"
    }
   ],
   "source": [
    "# 4. Create a plot that shows the regression line from the model on the test set.\n",
    "# The model will use this regression line to predict y values.\n",
    "\n",
    "plot_test = plt.scatter(X_test, y_test, color = 'gray', s = 15)\n",
    "plt.plot(X_test, y_predicted, color = 'red', linewidth = 3)\n",
    "plt.title('Adjusted Resale Price against Floor Area (Test set)')\n",
    "plt.xlabel('floor area')\n",
    "plt.ylabel('adjusted resale price')\n",
    "plt.show()"
   ]
  },
  {
   "cell_type": "code",
   "execution_count": 18,
   "id": "12a31422",
   "metadata": {},
   "outputs": [],
   "source": [
    "# Export 'plot_test'\n",
    "plot_test.figure.savefig(os.path.join(path, '04 Analysis', 'Visualizations', 'regression_price_vs_floor_area (test set).png'), \n",
    "                         bbox_inches='tight')"
   ]
  },
  {
   "cell_type": "markdown",
   "id": "80a22440",
   "metadata": {},
   "source": [
    "<b><u>Interpretation: </u></b><br> \n",
    "The linear model represented by the red regression line doesn’t perfectly cover all of the data points. For example, in the area where the floor area is small (roughly between 90 to 120 sqm), there are still many data points that indicate high adjusted resale price."
   ]
  },
  {
   "cell_type": "code",
   "execution_count": 19,
   "id": "b37f1440",
   "metadata": {},
   "outputs": [],
   "source": [
    "# 5. Create objects that contain the model summary statistics.\n",
    "\n",
    "mse = mean_squared_error(y_test, y_predicted) # This is the mean squared error\n",
    "r2 = r2_score(y_test, y_predicted) # This is the R2 score (r-squared value). "
   ]
  },
  {
   "cell_type": "code",
   "execution_count": 20,
   "id": "bce4532b",
   "metadata": {},
   "outputs": [
    {
     "name": "stdout",
     "output_type": "stream",
     "text": [
      "Slope: [[4432.23142867]]\n",
      "Mean squared error:  13494620226.467787\n",
      "Root mean squared error:  116166.34722012992\n",
      "R2 score:  0.49180072292985433\n"
     ]
    }
   ],
   "source": [
    "# Print the model summary statistics to evaluate the performance of the model.\n",
    "\n",
    "print('Slope:', regression.coef_)\n",
    "print('Mean squared error: ', mse)\n",
    "print('Root mean squared error: ', np.sqrt(mse))\n",
    "print('R2 score: ', r2)"
   ]
  },
  {
   "cell_type": "markdown",
   "id": "4da30bf2",
   "metadata": {},
   "source": [
    "<b>Interpretation:</b>\n",
    "- Slope is 4432, which means as the floor area increases by 1 sqm, the adjusted resale price will increase \\\\$4432. \n",
    "- Root mean square error is $116166, which means the predicted adjusted resale price would have an average error of \\\\$116166 compared to the actual price. This is not so good. \n",
    "- R2 score is 0.49, which means 49 percent out of 100 percent of variation in adjusted resale price can be explained by the model. This is not very great as well. "
   ]
  },
  {
   "cell_type": "code",
   "execution_count": 21,
   "id": "3ed79e68",
   "metadata": {
    "scrolled": true
   },
   "outputs": [
    {
     "data": {
      "text/html": [
       "<div>\n",
       "<style scoped>\n",
       "    .dataframe tbody tr th:only-of-type {\n",
       "        vertical-align: middle;\n",
       "    }\n",
       "\n",
       "    .dataframe tbody tr th {\n",
       "        vertical-align: top;\n",
       "    }\n",
       "\n",
       "    .dataframe thead th {\n",
       "        text-align: right;\n",
       "    }\n",
       "</style>\n",
       "<table border=\"1\" class=\"dataframe\">\n",
       "  <thead>\n",
       "    <tr style=\"text-align: right;\">\n",
       "      <th></th>\n",
       "      <th>Actual</th>\n",
       "      <th>Predicted</th>\n",
       "    </tr>\n",
       "  </thead>\n",
       "  <tbody>\n",
       "    <tr>\n",
       "      <th>0</th>\n",
       "      <td>57029.177719</td>\n",
       "      <td>73557.844484</td>\n",
       "    </tr>\n",
       "    <tr>\n",
       "      <th>1</th>\n",
       "      <td>534208.059981</td>\n",
       "      <td>494619.830207</td>\n",
       "    </tr>\n",
       "    <tr>\n",
       "      <th>2</th>\n",
       "      <td>141104.294479</td>\n",
       "      <td>348356.193061</td>\n",
       "    </tr>\n",
       "    <tr>\n",
       "      <th>3</th>\n",
       "      <td>398293.029872</td>\n",
       "      <td>485755.367350</td>\n",
       "    </tr>\n",
       "    <tr>\n",
       "      <th>4</th>\n",
       "      <td>292978.208232</td>\n",
       "      <td>405975.201634</td>\n",
       "    </tr>\n",
       "    <tr>\n",
       "      <th>5</th>\n",
       "      <td>162692.847125</td>\n",
       "      <td>246414.870202</td>\n",
       "    </tr>\n",
       "    <tr>\n",
       "      <th>6</th>\n",
       "      <td>243161.094225</td>\n",
       "      <td>246414.870202</td>\n",
       "    </tr>\n",
       "    <tr>\n",
       "      <th>7</th>\n",
       "      <td>251308.900524</td>\n",
       "      <td>241982.638773</td>\n",
       "    </tr>\n",
       "    <tr>\n",
       "      <th>8</th>\n",
       "      <td>543595.263724</td>\n",
       "      <td>432568.590206</td>\n",
       "    </tr>\n",
       "    <tr>\n",
       "      <th>9</th>\n",
       "      <td>379620.379620</td>\n",
       "      <td>405975.201634</td>\n",
       "    </tr>\n",
       "    <tr>\n",
       "      <th>10</th>\n",
       "      <td>327421.555252</td>\n",
       "      <td>405975.201634</td>\n",
       "    </tr>\n",
       "    <tr>\n",
       "      <th>11</th>\n",
       "      <td>279965.004374</td>\n",
       "      <td>241982.638773</td>\n",
       "    </tr>\n",
       "    <tr>\n",
       "      <th>12</th>\n",
       "      <td>455294.117647</td>\n",
       "      <td>521213.218780</td>\n",
       "    </tr>\n",
       "    <tr>\n",
       "      <th>13</th>\n",
       "      <td>96296.296296</td>\n",
       "      <td>317330.573061</td>\n",
       "    </tr>\n",
       "    <tr>\n",
       "      <th>14</th>\n",
       "      <td>545454.545455</td>\n",
       "      <td>273008.258774</td>\n",
       "    </tr>\n",
       "    <tr>\n",
       "      <th>15</th>\n",
       "      <td>571428.571429</td>\n",
       "      <td>543374.375923</td>\n",
       "    </tr>\n",
       "    <tr>\n",
       "      <th>16</th>\n",
       "      <td>362394.957983</td>\n",
       "      <td>379381.813062</td>\n",
       "    </tr>\n",
       "    <tr>\n",
       "      <th>17</th>\n",
       "      <td>822966.507177</td>\n",
       "      <td>357220.655919</td>\n",
       "    </tr>\n",
       "    <tr>\n",
       "      <th>18</th>\n",
       "      <td>272796.812749</td>\n",
       "      <td>241982.638773</td>\n",
       "    </tr>\n",
       "    <tr>\n",
       "      <th>19</th>\n",
       "      <td>188802.083333</td>\n",
       "      <td>228685.944487</td>\n",
       "    </tr>\n",
       "    <tr>\n",
       "      <th>20</th>\n",
       "      <td>322989.361702</td>\n",
       "      <td>388246.275919</td>\n",
       "    </tr>\n",
       "    <tr>\n",
       "      <th>21</th>\n",
       "      <td>387500.000000</td>\n",
       "      <td>459161.978778</td>\n",
       "    </tr>\n",
       "    <tr>\n",
       "      <th>22</th>\n",
       "      <td>426966.292135</td>\n",
       "      <td>268576.027345</td>\n",
       "    </tr>\n",
       "    <tr>\n",
       "      <th>23</th>\n",
       "      <td>100308.641975</td>\n",
       "      <td>361652.887347</td>\n",
       "    </tr>\n",
       "    <tr>\n",
       "      <th>24</th>\n",
       "      <td>300645.161290</td>\n",
       "      <td>401542.970205</td>\n",
       "    </tr>\n",
       "    <tr>\n",
       "      <th>25</th>\n",
       "      <td>246238.030096</td>\n",
       "      <td>317330.573061</td>\n",
       "    </tr>\n",
       "    <tr>\n",
       "      <th>26</th>\n",
       "      <td>561177.552898</td>\n",
       "      <td>521213.218780</td>\n",
       "    </tr>\n",
       "    <tr>\n",
       "      <th>27</th>\n",
       "      <td>469973.890339</td>\n",
       "      <td>600993.384496</td>\n",
       "    </tr>\n",
       "    <tr>\n",
       "      <th>28</th>\n",
       "      <td>585034.013605</td>\n",
       "      <td>503484.293065</td>\n",
       "    </tr>\n",
       "    <tr>\n",
       "      <th>29</th>\n",
       "      <td>90225.563910</td>\n",
       "      <td>241982.638773</td>\n",
       "    </tr>\n",
       "    <tr>\n",
       "      <th>30</th>\n",
       "      <td>84677.419355</td>\n",
       "      <td>241982.638773</td>\n",
       "    </tr>\n",
       "    <tr>\n",
       "      <th>31</th>\n",
       "      <td>434968.017058</td>\n",
       "      <td>366085.118776</td>\n",
       "    </tr>\n",
       "    <tr>\n",
       "      <th>32</th>\n",
       "      <td>491105.568445</td>\n",
       "      <td>450297.515921</td>\n",
       "    </tr>\n",
       "    <tr>\n",
       "      <th>33</th>\n",
       "      <td>583501.006036</td>\n",
       "      <td>503484.293065</td>\n",
       "    </tr>\n",
       "    <tr>\n",
       "      <th>34</th>\n",
       "      <td>351508.120650</td>\n",
       "      <td>352788.424490</td>\n",
       "    </tr>\n",
       "    <tr>\n",
       "      <th>35</th>\n",
       "      <td>808000.000000</td>\n",
       "      <td>605425.615924</td>\n",
       "    </tr>\n",
       "    <tr>\n",
       "      <th>36</th>\n",
       "      <td>315533.980583</td>\n",
       "      <td>241982.638773</td>\n",
       "    </tr>\n",
       "    <tr>\n",
       "      <th>37</th>\n",
       "      <td>462555.066079</td>\n",
       "      <td>437000.821635</td>\n",
       "    </tr>\n",
       "    <tr>\n",
       "      <th>38</th>\n",
       "      <td>127388.535032</td>\n",
       "      <td>352788.424490</td>\n",
       "    </tr>\n",
       "    <tr>\n",
       "      <th>39</th>\n",
       "      <td>261682.242991</td>\n",
       "      <td>357220.655919</td>\n",
       "    </tr>\n",
       "    <tr>\n",
       "      <th>40</th>\n",
       "      <td>284825.870647</td>\n",
       "      <td>397110.738777</td>\n",
       "    </tr>\n",
       "    <tr>\n",
       "      <th>41</th>\n",
       "      <td>483716.475096</td>\n",
       "      <td>481323.135921</td>\n",
       "    </tr>\n",
       "    <tr>\n",
       "      <th>42</th>\n",
       "      <td>541707.556428</td>\n",
       "      <td>352788.424490</td>\n",
       "    </tr>\n",
       "    <tr>\n",
       "      <th>43</th>\n",
       "      <td>401662.049861</td>\n",
       "      <td>352788.424490</td>\n",
       "    </tr>\n",
       "    <tr>\n",
       "      <th>44</th>\n",
       "      <td>377358.490566</td>\n",
       "      <td>414839.664491</td>\n",
       "    </tr>\n",
       "    <tr>\n",
       "      <th>45</th>\n",
       "      <td>373036.649215</td>\n",
       "      <td>468026.441635</td>\n",
       "    </tr>\n",
       "    <tr>\n",
       "      <th>46</th>\n",
       "      <td>405927.835052</td>\n",
       "      <td>556671.070209</td>\n",
       "    </tr>\n",
       "    <tr>\n",
       "      <th>47</th>\n",
       "      <td>424076.607387</td>\n",
       "      <td>405975.201634</td>\n",
       "    </tr>\n",
       "    <tr>\n",
       "      <th>48</th>\n",
       "      <td>337333.333333</td>\n",
       "      <td>405975.201634</td>\n",
       "    </tr>\n",
       "    <tr>\n",
       "      <th>49</th>\n",
       "      <td>187585.266030</td>\n",
       "      <td>228685.944487</td>\n",
       "    </tr>\n",
       "  </tbody>\n",
       "</table>\n",
       "</div>"
      ],
      "text/plain": [
       "           Actual      Predicted\n",
       "0    57029.177719   73557.844484\n",
       "1   534208.059981  494619.830207\n",
       "2   141104.294479  348356.193061\n",
       "3   398293.029872  485755.367350\n",
       "4   292978.208232  405975.201634\n",
       "5   162692.847125  246414.870202\n",
       "6   243161.094225  246414.870202\n",
       "7   251308.900524  241982.638773\n",
       "8   543595.263724  432568.590206\n",
       "9   379620.379620  405975.201634\n",
       "10  327421.555252  405975.201634\n",
       "11  279965.004374  241982.638773\n",
       "12  455294.117647  521213.218780\n",
       "13   96296.296296  317330.573061\n",
       "14  545454.545455  273008.258774\n",
       "15  571428.571429  543374.375923\n",
       "16  362394.957983  379381.813062\n",
       "17  822966.507177  357220.655919\n",
       "18  272796.812749  241982.638773\n",
       "19  188802.083333  228685.944487\n",
       "20  322989.361702  388246.275919\n",
       "21  387500.000000  459161.978778\n",
       "22  426966.292135  268576.027345\n",
       "23  100308.641975  361652.887347\n",
       "24  300645.161290  401542.970205\n",
       "25  246238.030096  317330.573061\n",
       "26  561177.552898  521213.218780\n",
       "27  469973.890339  600993.384496\n",
       "28  585034.013605  503484.293065\n",
       "29   90225.563910  241982.638773\n",
       "30   84677.419355  241982.638773\n",
       "31  434968.017058  366085.118776\n",
       "32  491105.568445  450297.515921\n",
       "33  583501.006036  503484.293065\n",
       "34  351508.120650  352788.424490\n",
       "35  808000.000000  605425.615924\n",
       "36  315533.980583  241982.638773\n",
       "37  462555.066079  437000.821635\n",
       "38  127388.535032  352788.424490\n",
       "39  261682.242991  357220.655919\n",
       "40  284825.870647  397110.738777\n",
       "41  483716.475096  481323.135921\n",
       "42  541707.556428  352788.424490\n",
       "43  401662.049861  352788.424490\n",
       "44  377358.490566  414839.664491\n",
       "45  373036.649215  468026.441635\n",
       "46  405927.835052  556671.070209\n",
       "47  424076.607387  405975.201634\n",
       "48  337333.333333  405975.201634\n",
       "49  187585.266030  228685.944487"
      ]
     },
     "execution_count": 21,
     "metadata": {},
     "output_type": "execute_result"
    }
   ],
   "source": [
    "# 6. Create a dataframe comparing the actual and predicted values of y.\n",
    "\n",
    "data = pd.DataFrame({'Actual': y_test.flatten(), 'Predicted': y_predicted.flatten()})\n",
    "data.head(50)"
   ]
  },
  {
   "cell_type": "markdown",
   "id": "a96b9510",
   "metadata": {},
   "source": [
    "<b>Interpretation:</b> There is quite a big difference between the actual and predicted y values (adjusted resale price). This shows that the regression model isn't doing a great job in explaining the relationship between the 'floor area' and 'adjusted resale price' variables. The relationship simply doesn't follow a single, straight regression line."
   ]
  },
  {
   "cell_type": "code",
   "execution_count": 22,
   "id": "5a89d8cc",
   "metadata": {},
   "outputs": [],
   "source": [
    "# 7. Compare how the regression fits the training set\n",
    "\n",
    "# Predict y values in training set using our regression model\n",
    "y_predicted_train = regression.predict(X_train)"
   ]
  },
  {
   "cell_type": "code",
   "execution_count": 23,
   "id": "a64c4e0d",
   "metadata": {},
   "outputs": [],
   "source": [
    "mse = mean_squared_error(y_train, y_predicted_train)\n",
    "r2 = r2_score(y_train, y_predicted_train)"
   ]
  },
  {
   "cell_type": "code",
   "execution_count": 24,
   "id": "dc854996",
   "metadata": {},
   "outputs": [
    {
     "name": "stdout",
     "output_type": "stream",
     "text": [
      "Slope: [[4432.23142867]]\n",
      "Mean squared error:  13494871180.87467\n",
      "Root mean squared error:  116167.42736617124\n",
      "R2 score:  0.4933179547047679\n"
     ]
    }
   ],
   "source": [
    "# Print the model summary statistics to evaluate the performance of the model in training set itself.\n",
    "\n",
    "print('Slope:', regression.coef_)\n",
    "print('Mean squared error: ', mse)\n",
    "print('Root mean squared error: ', np.sqrt(mse))\n",
    "print('R2 score: ', r2)"
   ]
  },
  {
   "cell_type": "markdown",
   "id": "eab688f0",
   "metadata": {},
   "source": [
    "<b>Interpretation:</b> The model fits the training set very slightly better than the test set (R2 score: training 0.4933 vs test 0.4918). This means the model is not overfit at all. However, it also confirms that the relationship you’re exploring isn’t purely linear.\n",
    "In terms of RMSE, the model performs slightly better in the test set than the training set (RMSE: training \\\\$116167 vs test \\\\$116116). "
   ]
  },
  {
   "cell_type": "code",
   "execution_count": 25,
   "id": "8433f06f",
   "metadata": {},
   "outputs": [
    {
     "data": {
      "image/png": "[encoded data removed]",
      "text/plain": [
       "<Figure size 640x480 with 1 Axes>"
      ]
     },
     "metadata": {},
     "output_type": "display_data"
    }
   ],
   "source": [
    "# Visualizing the training set results.\n",
    "\n",
    "plot_train = plt.scatter(X_train, y_train, color = 'gray', s = 15)\n",
    "plt.plot(X_test, y_predicted, color = 'red', linewidth = 3)\n",
    "plt.title('Adjusted Resale Price against Floor Area (Training set)')\n",
    "plt.xlabel('floor area')\n",
    "plt.ylabel('adjusted resale price')\n",
    "plt.show()"
   ]
  },
  {
   "cell_type": "code",
   "execution_count": 26,
   "id": "ff3e6a4d",
   "metadata": {},
   "outputs": [],
   "source": [
    "# Export 'plot_train'\n",
    "plot_train.figure.savefig(os.path.join(path, '04 Analysis', 'Visualizations', 'regression_price_vs_floor_area (training set).png'), \n",
    "                         bbox_inches='tight')"
   ]
  },
  {
   "cell_type": "markdown",
   "id": "153b6c7a",
   "metadata": {},
   "source": [
    "<b>Interpretation:</b> The plot has not much difference from the test set. "
   ]
  },
  {
   "cell_type": "markdown",
   "id": "6c4122a2",
   "metadata": {},
   "source": [
    "# 05. Discussion"
   ]
  },
  {
   "cell_type": "markdown",
   "id": "cfeb47d7",
   "metadata": {},
   "source": [
    "From the positive slope value 4432 and the visualization, we can see that the hypothesis is generally correct, where the larger the floor area, the higher the adjusted resale price. \n",
    "\n",
    "However, this statement is only partially true. From the RMSE value of \\\\$116116 and R2 score of 0.49, we know that the regression model is not good enough to make an accurate prediction. There’s still a lot of variance in the data that can’t be explained by the linear relationship between the variables. \n",
    "\n",
    "Therefore, floor area alone is not a perfect predictor for adjusted resale price. Perhaps, other variable(s) might be needed to make a better prediction for adjusted resale price. Multiple regression model would be needed for analysis with more than one predictor. "
   ]
  },
  {
   "cell_type": "code",
   "execution_count": null,
   "id": "8ebe2cdc",
   "metadata": {},
   "outputs": [],
   "source": []
  },
  {
   "cell_type": "code",
   "execution_count": null,
   "id": "da6351b3",
   "metadata": {},
   "outputs": [],
   "source": []
  },
  {
   "cell_type": "code",
   "execution_count": null,
   "id": "9c8ca180",
   "metadata": {},
   "outputs": [],
   "source": []
  }
 ],
 "metadata": {
  "kernelspec": {
   "display_name": "geo_env",
   "language": "python",
   "name": "geo_env"
  },
  "language_info": {
   "codemirror_mode": {
    "name": "ipython",
    "version": 3
   },
   "file_extension": ".py",
   "mimetype": "text/x-python",
   "name": "python",
   "nbconvert_exporter": "python",
   "pygments_lexer": "ipython3",
   "version": "3.12.1"
  },
  "varInspector": {
   "cols": {
    "lenName": 16,
    "lenType": 16,
    "lenVar": 40
   },
   "kernels_config": {
    "python": {
     "delete_cmd_postfix": "",
     "delete_cmd_prefix": "del ",
     "library": "var_list.py",
     "varRefreshCmd": "print(var_dic_list())"
    },
    "r": {
     "delete_cmd_postfix": ") ",
     "delete_cmd_prefix": "rm(",
     "library": "var_list.r",
     "varRefreshCmd": "cat(var_dic_list()) "
    }
   },
   "types_to_exclude": [
    "module",
    "function",
    "builtin_function_or_method",
    "instance",
    "_Feature"
   ],
   "window_display": false
  }
 },
 "nbformat": 4,
 "nbformat_minor": 5
}
