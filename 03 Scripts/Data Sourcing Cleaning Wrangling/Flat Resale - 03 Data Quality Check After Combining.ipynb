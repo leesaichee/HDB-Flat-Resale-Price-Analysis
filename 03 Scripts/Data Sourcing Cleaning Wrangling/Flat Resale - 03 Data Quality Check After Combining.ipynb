{
 "cells": [
  {
   "cell_type": "markdown",
   "id": "2d04bfaa",
   "metadata": {},
   "source": [
    "# Table of Content\n",
    "01. Import Libraries\n",
    "02. Import Data\n",
    "03. Change Column Data Type (if necessary)\n",
    "04. Finding Mixed-Type Data\n",
    "05. Data Accuracy\n",
    "06. Data Consistency\n",
    "07. Data Duplicates\n",
    "08. Missing Values\n",
    "09. Export Data"
   ]
  },
  {
   "cell_type": "markdown",
   "id": "c85cfb4d",
   "metadata": {},
   "source": [
    "# 01. Import Libraries"
   ]
  },
  {
   "cell_type": "code",
   "execution_count": 1,
   "id": "08990d53",
   "metadata": {},
   "outputs": [],
   "source": [
    "# Import libraries\n",
    "import pandas as pd\n",
    "import numpy as np\n",
    "import os"
   ]
  },
  {
   "cell_type": "code",
   "execution_count": 2,
   "id": "ba572541",
   "metadata": {},
   "outputs": [],
   "source": [
    "# Adjust the setting to view all rows\n",
    "pd.options.display.max_rows = None"
   ]
  },
  {
   "cell_type": "code",
   "execution_count": 3,
   "id": "9f9a706b",
   "metadata": {},
   "outputs": [],
   "source": [
    "# Adjust the setting to view all columns\n",
    "pd.options.display.max_columns = None"
   ]
  },
  {
   "cell_type": "markdown",
   "id": "c32e06c7",
   "metadata": {},
   "source": [
    "# 02. Import Data"
   ]
  },
  {
   "cell_type": "code",
   "execution_count": 4,
   "id": "0b3a29f2",
   "metadata": {},
   "outputs": [],
   "source": [
    "# Define the main project folder path\n",
    "path = r'C:\\Users\\saich\\Desktop\\CareerFoundry\\Data Immersion\\Achievement 6 Advanced Analytics & Dashboard Design\\11-2023 HDB Flat Resale Analysis'"
   ]
  },
  {
   "cell_type": "code",
   "execution_count": 5,
   "id": "3ad6f413",
   "metadata": {},
   "outputs": [],
   "source": [
    "# Import 'flat_resale_all.csv' from 'Prepared Data' folder\n",
    "flat_resale = pd.read_csv(os.path.join(path, '02 Data', 'Prepared Data', 'flat_resale_all.csv'), index_col = 0)"
   ]
  },
  {
   "cell_type": "code",
   "execution_count": 6,
   "id": "4f578b2c",
   "metadata": {
    "scrolled": true
   },
   "outputs": [
    {
     "data": {
      "text/html": [
       "<div>\n",
       "<style scoped>\n",
       "    .dataframe tbody tr th:only-of-type {\n",
       "        vertical-align: middle;\n",
       "    }\n",
       "\n",
       "    .dataframe tbody tr th {\n",
       "        vertical-align: top;\n",
       "    }\n",
       "\n",
       "    .dataframe thead th {\n",
       "        text-align: right;\n",
       "    }\n",
       "</style>\n",
       "<table border=\"1\" class=\"dataframe\">\n",
       "  <thead>\n",
       "    <tr style=\"text-align: right;\">\n",
       "      <th></th>\n",
       "      <th>month</th>\n",
       "      <th>town</th>\n",
       "      <th>flat_type</th>\n",
       "      <th>block</th>\n",
       "      <th>street_name</th>\n",
       "      <th>storey_range</th>\n",
       "      <th>floor_area_sqm</th>\n",
       "      <th>flat_model</th>\n",
       "      <th>lease_commence_date</th>\n",
       "      <th>resale_price</th>\n",
       "      <th>remaining_lease</th>\n",
       "      <th>row_id</th>\n",
       "    </tr>\n",
       "  </thead>\n",
       "  <tbody>\n",
       "    <tr>\n",
       "      <th>0</th>\n",
       "      <td>1990-01-01</td>\n",
       "      <td>ANG MO KIO</td>\n",
       "      <td>1 ROOM</td>\n",
       "      <td>309</td>\n",
       "      <td>ANG MO KIO AVE 1</td>\n",
       "      <td>10 TO 12</td>\n",
       "      <td>31.0</td>\n",
       "      <td>Improved</td>\n",
       "      <td>1977</td>\n",
       "      <td>9000.0</td>\n",
       "      <td>86</td>\n",
       "      <td>0</td>\n",
       "    </tr>\n",
       "    <tr>\n",
       "      <th>1</th>\n",
       "      <td>1990-01-01</td>\n",
       "      <td>ANG MO KIO</td>\n",
       "      <td>1 ROOM</td>\n",
       "      <td>309</td>\n",
       "      <td>ANG MO KIO AVE 1</td>\n",
       "      <td>04 TO 06</td>\n",
       "      <td>31.0</td>\n",
       "      <td>Improved</td>\n",
       "      <td>1977</td>\n",
       "      <td>6000.0</td>\n",
       "      <td>86</td>\n",
       "      <td>1</td>\n",
       "    </tr>\n",
       "    <tr>\n",
       "      <th>2</th>\n",
       "      <td>1990-01-01</td>\n",
       "      <td>ANG MO KIO</td>\n",
       "      <td>1 ROOM</td>\n",
       "      <td>309</td>\n",
       "      <td>ANG MO KIO AVE 1</td>\n",
       "      <td>10 TO 12</td>\n",
       "      <td>31.0</td>\n",
       "      <td>Improved</td>\n",
       "      <td>1977</td>\n",
       "      <td>8000.0</td>\n",
       "      <td>86</td>\n",
       "      <td>2</td>\n",
       "    </tr>\n",
       "    <tr>\n",
       "      <th>3</th>\n",
       "      <td>1990-01-01</td>\n",
       "      <td>ANG MO KIO</td>\n",
       "      <td>1 ROOM</td>\n",
       "      <td>309</td>\n",
       "      <td>ANG MO KIO AVE 1</td>\n",
       "      <td>07 TO 09</td>\n",
       "      <td>31.0</td>\n",
       "      <td>Improved</td>\n",
       "      <td>1977</td>\n",
       "      <td>6000.0</td>\n",
       "      <td>86</td>\n",
       "      <td>3</td>\n",
       "    </tr>\n",
       "    <tr>\n",
       "      <th>4</th>\n",
       "      <td>1990-01-01</td>\n",
       "      <td>ANG MO KIO</td>\n",
       "      <td>3 ROOM</td>\n",
       "      <td>216</td>\n",
       "      <td>ANG MO KIO AVE 1</td>\n",
       "      <td>04 TO 06</td>\n",
       "      <td>73.0</td>\n",
       "      <td>New Generation</td>\n",
       "      <td>1976</td>\n",
       "      <td>47200.0</td>\n",
       "      <td>85</td>\n",
       "      <td>4</td>\n",
       "    </tr>\n",
       "  </tbody>\n",
       "</table>\n",
       "</div>"
      ],
      "text/plain": [
       "        month        town flat_type block       street_name storey_range  \\\n",
       "0  1990-01-01  ANG MO KIO    1 ROOM   309  ANG MO KIO AVE 1     10 TO 12   \n",
       "1  1990-01-01  ANG MO KIO    1 ROOM   309  ANG MO KIO AVE 1     04 TO 06   \n",
       "2  1990-01-01  ANG MO KIO    1 ROOM   309  ANG MO KIO AVE 1     10 TO 12   \n",
       "3  1990-01-01  ANG MO KIO    1 ROOM   309  ANG MO KIO AVE 1     07 TO 09   \n",
       "4  1990-01-01  ANG MO KIO    3 ROOM   216  ANG MO KIO AVE 1     04 TO 06   \n",
       "\n",
       "   floor_area_sqm      flat_model  lease_commence_date  resale_price  \\\n",
       "0            31.0        Improved                 1977        9000.0   \n",
       "1            31.0        Improved                 1977        6000.0   \n",
       "2            31.0        Improved                 1977        8000.0   \n",
       "3            31.0        Improved                 1977        6000.0   \n",
       "4            73.0  New Generation                 1976       47200.0   \n",
       "\n",
       "   remaining_lease  row_id  \n",
       "0               86       0  \n",
       "1               86       1  \n",
       "2               86       2  \n",
       "3               86       3  \n",
       "4               85       4  "
      ]
     },
     "execution_count": 6,
     "metadata": {},
     "output_type": "execute_result"
    }
   ],
   "source": [
    "flat_resale.head()"
   ]
  },
  {
   "cell_type": "code",
   "execution_count": 7,
   "id": "1f1d2f88",
   "metadata": {},
   "outputs": [
    {
     "data": {
      "text/html": [
       "<div>\n",
       "<style scoped>\n",
       "    .dataframe tbody tr th:only-of-type {\n",
       "        vertical-align: middle;\n",
       "    }\n",
       "\n",
       "    .dataframe tbody tr th {\n",
       "        vertical-align: top;\n",
       "    }\n",
       "\n",
       "    .dataframe thead th {\n",
       "        text-align: right;\n",
       "    }\n",
       "</style>\n",
       "<table border=\"1\" class=\"dataframe\">\n",
       "  <thead>\n",
       "    <tr style=\"text-align: right;\">\n",
       "      <th></th>\n",
       "      <th>month</th>\n",
       "      <th>town</th>\n",
       "      <th>flat_type</th>\n",
       "      <th>block</th>\n",
       "      <th>street_name</th>\n",
       "      <th>storey_range</th>\n",
       "      <th>floor_area_sqm</th>\n",
       "      <th>flat_model</th>\n",
       "      <th>lease_commence_date</th>\n",
       "      <th>resale_price</th>\n",
       "      <th>remaining_lease</th>\n",
       "      <th>row_id</th>\n",
       "    </tr>\n",
       "  </thead>\n",
       "  <tbody>\n",
       "    <tr>\n",
       "      <th>915366</th>\n",
       "      <td>2023-12-01</td>\n",
       "      <td>YISHUN</td>\n",
       "      <td>EXECUTIVE</td>\n",
       "      <td>826</td>\n",
       "      <td>YISHUN ST 81</td>\n",
       "      <td>01 TO 03</td>\n",
       "      <td>142.0</td>\n",
       "      <td>Apartment</td>\n",
       "      <td>1988</td>\n",
       "      <td>780000.0</td>\n",
       "      <td>64</td>\n",
       "      <td>915366</td>\n",
       "    </tr>\n",
       "    <tr>\n",
       "      <th>915367</th>\n",
       "      <td>2023-12-01</td>\n",
       "      <td>YISHUN</td>\n",
       "      <td>EXECUTIVE</td>\n",
       "      <td>834</td>\n",
       "      <td>YISHUN ST 81</td>\n",
       "      <td>01 TO 03</td>\n",
       "      <td>142.0</td>\n",
       "      <td>Apartment</td>\n",
       "      <td>1988</td>\n",
       "      <td>785000.0</td>\n",
       "      <td>64</td>\n",
       "      <td>915367</td>\n",
       "    </tr>\n",
       "    <tr>\n",
       "      <th>915368</th>\n",
       "      <td>2023-01-01</td>\n",
       "      <td>YISHUN</td>\n",
       "      <td>MULTI-GENERATION</td>\n",
       "      <td>666</td>\n",
       "      <td>YISHUN AVE 4</td>\n",
       "      <td>07 TO 09</td>\n",
       "      <td>179.0</td>\n",
       "      <td>Multi Generation</td>\n",
       "      <td>1987</td>\n",
       "      <td>1080000.0</td>\n",
       "      <td>63</td>\n",
       "      <td>915368</td>\n",
       "    </tr>\n",
       "    <tr>\n",
       "      <th>915369</th>\n",
       "      <td>2023-12-01</td>\n",
       "      <td>YISHUN</td>\n",
       "      <td>MULTI-GENERATION</td>\n",
       "      <td>666</td>\n",
       "      <td>YISHUN AVE 4</td>\n",
       "      <td>01 TO 03</td>\n",
       "      <td>179.0</td>\n",
       "      <td>Multi Generation</td>\n",
       "      <td>1987</td>\n",
       "      <td>975000.0</td>\n",
       "      <td>63</td>\n",
       "      <td>915369</td>\n",
       "    </tr>\n",
       "    <tr>\n",
       "      <th>915370</th>\n",
       "      <td>2023-06-01</td>\n",
       "      <td>YISHUN</td>\n",
       "      <td>MULTI-GENERATION</td>\n",
       "      <td>633</td>\n",
       "      <td>YISHUN ST 61</td>\n",
       "      <td>04 TO 06</td>\n",
       "      <td>159.0</td>\n",
       "      <td>Multi Generation</td>\n",
       "      <td>1987</td>\n",
       "      <td>935000.0</td>\n",
       "      <td>63</td>\n",
       "      <td>915370</td>\n",
       "    </tr>\n",
       "  </tbody>\n",
       "</table>\n",
       "</div>"
      ],
      "text/plain": [
       "             month    town         flat_type block   street_name storey_range  \\\n",
       "915366  2023-12-01  YISHUN         EXECUTIVE   826  YISHUN ST 81     01 TO 03   \n",
       "915367  2023-12-01  YISHUN         EXECUTIVE   834  YISHUN ST 81     01 TO 03   \n",
       "915368  2023-01-01  YISHUN  MULTI-GENERATION   666  YISHUN AVE 4     07 TO 09   \n",
       "915369  2023-12-01  YISHUN  MULTI-GENERATION   666  YISHUN AVE 4     01 TO 03   \n",
       "915370  2023-06-01  YISHUN  MULTI-GENERATION   633  YISHUN ST 61     04 TO 06   \n",
       "\n",
       "        floor_area_sqm        flat_model  lease_commence_date  resale_price  \\\n",
       "915366           142.0         Apartment                 1988      780000.0   \n",
       "915367           142.0         Apartment                 1988      785000.0   \n",
       "915368           179.0  Multi Generation                 1987     1080000.0   \n",
       "915369           179.0  Multi Generation                 1987      975000.0   \n",
       "915370           159.0  Multi Generation                 1987      935000.0   \n",
       "\n",
       "        remaining_lease  row_id  \n",
       "915366               64  915366  \n",
       "915367               64  915367  \n",
       "915368               63  915368  \n",
       "915369               63  915369  \n",
       "915370               63  915370  "
      ]
     },
     "execution_count": 7,
     "metadata": {},
     "output_type": "execute_result"
    }
   ],
   "source": [
    "flat_resale.tail()"
   ]
  },
  {
   "cell_type": "code",
   "execution_count": 8,
   "id": "b720e739",
   "metadata": {},
   "outputs": [
    {
     "data": {
      "text/plain": [
       "(915371, 12)"
      ]
     },
     "execution_count": 8,
     "metadata": {},
     "output_type": "execute_result"
    }
   ],
   "source": [
    "flat_resale.shape"
   ]
  },
  {
   "cell_type": "code",
   "execution_count": 9,
   "id": "2a0a2d7d",
   "metadata": {},
   "outputs": [
    {
     "name": "stdout",
     "output_type": "stream",
     "text": [
      "<class 'pandas.core.frame.DataFrame'>\n",
      "Index: 915371 entries, 0 to 915370\n",
      "Data columns (total 12 columns):\n",
      " #   Column               Non-Null Count   Dtype  \n",
      "---  ------               --------------   -----  \n",
      " 0   month                915371 non-null  object \n",
      " 1   town                 915371 non-null  object \n",
      " 2   flat_type            915371 non-null  object \n",
      " 3   block                915371 non-null  object \n",
      " 4   street_name          915371 non-null  object \n",
      " 5   storey_range         915371 non-null  object \n",
      " 6   floor_area_sqm       915371 non-null  float64\n",
      " 7   flat_model           915371 non-null  object \n",
      " 8   lease_commence_date  915371 non-null  int64  \n",
      " 9   resale_price         915371 non-null  float64\n",
      " 10  remaining_lease      915371 non-null  int64  \n",
      " 11  row_id               915371 non-null  int64  \n",
      "dtypes: float64(2), int64(3), object(7)\n",
      "memory usage: 90.8+ MB\n"
     ]
    }
   ],
   "source": [
    "flat_resale.info()"
   ]
  },
  {
   "cell_type": "markdown",
   "id": "50a6f76b",
   "metadata": {},
   "source": [
    "# 03. Change Column Data Type (if necessary)"
   ]
  },
  {
   "cell_type": "markdown",
   "id": "d85e2a74",
   "metadata": {},
   "source": [
    "'month' column stores date information. It should be changed into datetime data type."
   ]
  },
  {
   "cell_type": "code",
   "execution_count": 10,
   "id": "ef829d71",
   "metadata": {
    "scrolled": true
   },
   "outputs": [],
   "source": [
    "# Change 'month' column into datetime\n",
    "flat_resale['month'] = pd.to_datetime(flat_resale['month'])"
   ]
  },
  {
   "cell_type": "code",
   "execution_count": 11,
   "id": "cca23b0e",
   "metadata": {},
   "outputs": [
    {
     "name": "stdout",
     "output_type": "stream",
     "text": [
      "<class 'pandas.core.frame.DataFrame'>\n",
      "Index: 915371 entries, 0 to 915370\n",
      "Data columns (total 12 columns):\n",
      " #   Column               Non-Null Count   Dtype         \n",
      "---  ------               --------------   -----         \n",
      " 0   month                915371 non-null  datetime64[ns]\n",
      " 1   town                 915371 non-null  object        \n",
      " 2   flat_type            915371 non-null  object        \n",
      " 3   block                915371 non-null  object        \n",
      " 4   street_name          915371 non-null  object        \n",
      " 5   storey_range         915371 non-null  object        \n",
      " 6   floor_area_sqm       915371 non-null  float64       \n",
      " 7   flat_model           915371 non-null  object        \n",
      " 8   lease_commence_date  915371 non-null  int64         \n",
      " 9   resale_price         915371 non-null  float64       \n",
      " 10  remaining_lease      915371 non-null  int64         \n",
      " 11  row_id               915371 non-null  int64         \n",
      "dtypes: datetime64[ns](1), float64(2), int64(3), object(6)\n",
      "memory usage: 90.8+ MB\n"
     ]
    }
   ],
   "source": [
    "# Verify the changes\n",
    "flat_resale.info()"
   ]
  },
  {
   "cell_type": "markdown",
   "id": "e2b454fa",
   "metadata": {},
   "source": [
    "# 04. Finding Mixed-type Data"
   ]
  },
  {
   "cell_type": "code",
   "execution_count": 12,
   "id": "9f76cf25",
   "metadata": {},
   "outputs": [],
   "source": [
    "# Check for any mixed-type columns - no output means no mixed-type data\n",
    "for col in flat_resale.columns.tolist():\n",
    "    weird = (flat_resale[[col]].applymap(type) != flat_resale[[col]].iloc[0].apply(type)).any(axis = 1)\n",
    "    if len (flat_resale[weird]) > 0:\n",
    "        print (col)"
   ]
  },
  {
   "cell_type": "markdown",
   "id": "6b2a593c",
   "metadata": {},
   "source": [
    "No unusual findings."
   ]
  },
  {
   "cell_type": "markdown",
   "id": "dc3d56c1",
   "metadata": {},
   "source": [
    "# 05. Data Accuracy"
   ]
  },
  {
   "cell_type": "code",
   "execution_count": 13,
   "id": "b614634c",
   "metadata": {},
   "outputs": [
    {
     "data": {
      "text/html": [
       "<div>\n",
       "<style scoped>\n",
       "    .dataframe tbody tr th:only-of-type {\n",
       "        vertical-align: middle;\n",
       "    }\n",
       "\n",
       "    .dataframe tbody tr th {\n",
       "        vertical-align: top;\n",
       "    }\n",
       "\n",
       "    .dataframe thead th {\n",
       "        text-align: right;\n",
       "    }\n",
       "</style>\n",
       "<table border=\"1\" class=\"dataframe\">\n",
       "  <thead>\n",
       "    <tr style=\"text-align: right;\">\n",
       "      <th></th>\n",
       "      <th>month</th>\n",
       "      <th>floor_area_sqm</th>\n",
       "      <th>lease_commence_date</th>\n",
       "      <th>resale_price</th>\n",
       "      <th>remaining_lease</th>\n",
       "      <th>row_id</th>\n",
       "    </tr>\n",
       "  </thead>\n",
       "  <tbody>\n",
       "    <tr>\n",
       "      <th>count</th>\n",
       "      <td>915371</td>\n",
       "      <td>915371.000000</td>\n",
       "      <td>915371.000000</td>\n",
       "      <td>9.153710e+05</td>\n",
       "      <td>915371.000000</td>\n",
       "      <td>915371.000000</td>\n",
       "    </tr>\n",
       "    <tr>\n",
       "      <th>mean</th>\n",
       "      <td>2006-05-28 03:21:12.314285696</td>\n",
       "      <td>95.695577</td>\n",
       "      <td>1988.147430</td>\n",
       "      <td>3.172368e+05</td>\n",
       "      <td>81.188855</td>\n",
       "      <td>457685.000000</td>\n",
       "    </tr>\n",
       "    <tr>\n",
       "      <th>min</th>\n",
       "      <td>1990-01-01 00:00:00</td>\n",
       "      <td>28.000000</td>\n",
       "      <td>1966.000000</td>\n",
       "      <td>5.000000e+03</td>\n",
       "      <td>42.000000</td>\n",
       "      <td>0.000000</td>\n",
       "    </tr>\n",
       "    <tr>\n",
       "      <th>25%</th>\n",
       "      <td>1998-12-01 00:00:00</td>\n",
       "      <td>73.000000</td>\n",
       "      <td>1981.000000</td>\n",
       "      <td>1.920000e+05</td>\n",
       "      <td>74.000000</td>\n",
       "      <td>228842.500000</td>\n",
       "    </tr>\n",
       "    <tr>\n",
       "      <th>50%</th>\n",
       "      <td>2005-02-01 00:00:00</td>\n",
       "      <td>93.000000</td>\n",
       "      <td>1986.000000</td>\n",
       "      <td>2.950000e+05</td>\n",
       "      <td>83.000000</td>\n",
       "      <td>457685.000000</td>\n",
       "    </tr>\n",
       "    <tr>\n",
       "      <th>75%</th>\n",
       "      <td>2013-07-01 00:00:00</td>\n",
       "      <td>113.000000</td>\n",
       "      <td>1996.000000</td>\n",
       "      <td>4.130000e+05</td>\n",
       "      <td>90.000000</td>\n",
       "      <td>686527.500000</td>\n",
       "    </tr>\n",
       "    <tr>\n",
       "      <th>max</th>\n",
       "      <td>2023-12-01 00:00:00</td>\n",
       "      <td>307.000000</td>\n",
       "      <td>2022.000000</td>\n",
       "      <td>1.500000e+06</td>\n",
       "      <td>101.000000</td>\n",
       "      <td>915370.000000</td>\n",
       "    </tr>\n",
       "    <tr>\n",
       "      <th>std</th>\n",
       "      <td>NaN</td>\n",
       "      <td>25.847794</td>\n",
       "      <td>10.530398</td>\n",
       "      <td>1.674032e+05</td>\n",
       "      <td>10.621328</td>\n",
       "      <td>264244.990965</td>\n",
       "    </tr>\n",
       "  </tbody>\n",
       "</table>\n",
       "</div>"
      ],
      "text/plain": [
       "                               month  floor_area_sqm  lease_commence_date  \\\n",
       "count                         915371   915371.000000        915371.000000   \n",
       "mean   2006-05-28 03:21:12.314285696       95.695577          1988.147430   \n",
       "min              1990-01-01 00:00:00       28.000000          1966.000000   \n",
       "25%              1998-12-01 00:00:00       73.000000          1981.000000   \n",
       "50%              2005-02-01 00:00:00       93.000000          1986.000000   \n",
       "75%              2013-07-01 00:00:00      113.000000          1996.000000   \n",
       "max              2023-12-01 00:00:00      307.000000          2022.000000   \n",
       "std                              NaN       25.847794            10.530398   \n",
       "\n",
       "       resale_price  remaining_lease         row_id  \n",
       "count  9.153710e+05    915371.000000  915371.000000  \n",
       "mean   3.172368e+05        81.188855  457685.000000  \n",
       "min    5.000000e+03        42.000000       0.000000  \n",
       "25%    1.920000e+05        74.000000  228842.500000  \n",
       "50%    2.950000e+05        83.000000  457685.000000  \n",
       "75%    4.130000e+05        90.000000  686527.500000  \n",
       "max    1.500000e+06       101.000000  915370.000000  \n",
       "std    1.674032e+05        10.621328  264244.990965  "
      ]
     },
     "execution_count": 13,
     "metadata": {},
     "output_type": "execute_result"
    }
   ],
   "source": [
    "# Check the descriptive statistics of numerical data\n",
    "flat_resale.describe()"
   ]
  },
  {
   "cell_type": "markdown",
   "id": "8e43083c",
   "metadata": {},
   "source": [
    "No unusual findings."
   ]
  },
  {
   "cell_type": "markdown",
   "id": "2bee1379",
   "metadata": {},
   "source": [
    "# 06. Data Consistency"
   ]
  },
  {
   "cell_type": "markdown",
   "id": "1f1b8ffc",
   "metadata": {},
   "source": [
    "Check the data consistency for each categorical variable"
   ]
  },
  {
   "cell_type": "markdown",
   "id": "eeeadb21",
   "metadata": {},
   "source": [
    "### 06.1 town"
   ]
  },
  {
   "cell_type": "code",
   "execution_count": 14,
   "id": "5edf8e3b",
   "metadata": {
    "scrolled": true
   },
   "outputs": [
    {
     "data": {
      "text/plain": [
       "town\n",
       "ANG MO KIO         51658\n",
       "BEDOK              66082\n",
       "BISHAN             21118\n",
       "BUKIT BATOK        43676\n",
       "BUKIT MERAH        33915\n",
       "BUKIT PANJANG      27339\n",
       "BUKIT TIMAH         2489\n",
       "CENTRAL AREA        7073\n",
       "CHOA CHU KANG      37768\n",
       "CLEMENTI           27803\n",
       "GEYLANG            27938\n",
       "HOUGANG            50072\n",
       "JURONG EAST        24537\n",
       "JURONG WEST        65825\n",
       "KALLANG/WHAMPOA    26832\n",
       "LIM CHU KANG          64\n",
       "MARINE PARADE       7986\n",
       "PASIR RIS          32924\n",
       "PUNGGOL            19810\n",
       "QUEENSTOWN         28487\n",
       "SEMBAWANG          13431\n",
       "SENGKANG           31629\n",
       "SERANGOON          22636\n",
       "TAMPINES           79133\n",
       "TOA PAYOH          31217\n",
       "WOODLANDS          64674\n",
       "YISHUN             69255\n",
       "Name: count, dtype: int64"
      ]
     },
     "execution_count": 14,
     "metadata": {},
     "output_type": "execute_result"
    }
   ],
   "source": [
    "# Check the unique values of 'town' column\n",
    "flat_resale['town'].value_counts(dropna = False).sort_index()"
   ]
  },
  {
   "cell_type": "markdown",
   "id": "2ad657f3",
   "metadata": {},
   "source": [
    "No unusual findings."
   ]
  },
  {
   "cell_type": "markdown",
   "id": "5d32ea6e",
   "metadata": {},
   "source": [
    "###  06.2 flat_type"
   ]
  },
  {
   "cell_type": "code",
   "execution_count": 15,
   "id": "0afe77ef",
   "metadata": {
    "scrolled": true
   },
   "outputs": [
    {
     "data": {
      "text/plain": [
       "flat_type\n",
       "1 ROOM                1300\n",
       "2 ROOM               11490\n",
       "3 ROOM              293090\n",
       "4 ROOM              347298\n",
       "5 ROOM              192726\n",
       "EXECUTIVE            68928\n",
       "MULTI GENERATION       279\n",
       "MULTI-GENERATION       260\n",
       "Name: count, dtype: int64"
      ]
     },
     "execution_count": 15,
     "metadata": {},
     "output_type": "execute_result"
    }
   ],
   "source": [
    "# Check the unique values of 'flat_type' column\n",
    "flat_resale['flat_type'].value_counts(dropna = False).sort_index()"
   ]
  },
  {
   "cell_type": "markdown",
   "id": "d960484c",
   "metadata": {},
   "source": [
    "'MULTI GENERATION' and 'MULTI-GENERATION' refer to the same flat type."
   ]
  },
  {
   "cell_type": "code",
   "execution_count": 16,
   "id": "34ee414b",
   "metadata": {},
   "outputs": [],
   "source": [
    "# Change the value 'MULTI GENERATION' into 'MULTI-GENERATION'\n",
    "flat_resale['flat_type'] = flat_resale['flat_type'].replace('MULTI GENERATION', 'MULTI-GENERATION')"
   ]
  },
  {
   "cell_type": "code",
   "execution_count": 17,
   "id": "886cc04d",
   "metadata": {
    "scrolled": true
   },
   "outputs": [
    {
     "data": {
      "text/plain": [
       "flat_type\n",
       "1 ROOM                1300\n",
       "2 ROOM               11490\n",
       "3 ROOM              293090\n",
       "4 ROOM              347298\n",
       "5 ROOM              192726\n",
       "EXECUTIVE            68928\n",
       "MULTI-GENERATION       539\n",
       "Name: count, dtype: int64"
      ]
     },
     "execution_count": 17,
     "metadata": {},
     "output_type": "execute_result"
    }
   ],
   "source": [
    "# Verify the changes\n",
    "flat_resale['flat_type'].value_counts(dropna = False).sort_index()"
   ]
  },
  {
   "cell_type": "markdown",
   "id": "1a25a89d",
   "metadata": {},
   "source": [
    "### 06.3 storey_range"
   ]
  },
  {
   "cell_type": "code",
   "execution_count": 18,
   "id": "1a624fda",
   "metadata": {
    "scrolled": false
   },
   "outputs": [
    {
     "data": {
      "text/plain": [
       "storey_range\n",
       "01 TO 03    185921\n",
       "04 TO 06    231460\n",
       "07 TO 09    209142\n",
       "10 TO 12    177723\n",
       "13 TO 15     61644\n",
       "16 TO 18     23824\n",
       "19 TO 21     11311\n",
       "22 TO 24      7347\n",
       "25 TO 27      3371\n",
       "28 TO 30      1615\n",
       "31 TO 33       593\n",
       "34 TO 36       555\n",
       "37 TO 39       499\n",
       "40 TO 42       237\n",
       "43 TO 45        64\n",
       "46 TO 48        48\n",
       "49 TO 51        17\n",
       "Name: count, dtype: int64"
      ]
     },
     "execution_count": 18,
     "metadata": {},
     "output_type": "execute_result"
    }
   ],
   "source": [
    "# Check the unique values of 'storey_range' column\n",
    "flat_resale['storey_range'].value_counts(dropna = False).sort_index()"
   ]
  },
  {
   "cell_type": "markdown",
   "id": "d0eb939b",
   "metadata": {},
   "source": [
    "No unusual findings."
   ]
  },
  {
   "cell_type": "markdown",
   "id": "428c3711",
   "metadata": {},
   "source": [
    "### 06.4 flat_model"
   ]
  },
  {
   "cell_type": "code",
   "execution_count": 19,
   "id": "1d0d894d",
   "metadata": {
    "scrolled": false
   },
   "outputs": [
    {
     "data": {
      "text/plain": [
       "flat_model\n",
       "2-Room                        21\n",
       "2-room                        87\n",
       "3Gen                          26\n",
       "Adjoined flat               1234\n",
       "Apartment                  35119\n",
       "DBSS                        3186\n",
       "Improved                  239037\n",
       "Improved-Maisonette          125\n",
       "Maisonette                 29362\n",
       "Model A                   260407\n",
       "Model A-Maisonette          2056\n",
       "Model A2                   10008\n",
       "Multi Generation             539\n",
       "New Generation            187619\n",
       "Premium Apartment          45603\n",
       "Premium Apartment Loft       104\n",
       "Premium Maisonette            86\n",
       "Simplified                 57140\n",
       "Standard                   42282\n",
       "Terrace                      688\n",
       "Type S1                      430\n",
       "Type S2                      212\n",
       "Name: count, dtype: int64"
      ]
     },
     "execution_count": 19,
     "metadata": {},
     "output_type": "execute_result"
    }
   ],
   "source": [
    "flat_resale['flat_model'].value_counts(dropna = False).sort_index()"
   ]
  },
  {
   "cell_type": "markdown",
   "id": "786f501a",
   "metadata": {},
   "source": [
    "'2-Room' and '2-room' refer to the same flat model."
   ]
  },
  {
   "cell_type": "code",
   "execution_count": 20,
   "id": "25f4ff58",
   "metadata": {},
   "outputs": [],
   "source": [
    "# Change the value '2-Room' into '2-room'\n",
    "flat_resale['flat_model'] = flat_resale['flat_model'].replace('2-Room', '2-room')"
   ]
  },
  {
   "cell_type": "code",
   "execution_count": 21,
   "id": "eb08ec6b",
   "metadata": {
    "scrolled": false
   },
   "outputs": [
    {
     "data": {
      "text/plain": [
       "flat_model\n",
       "2-room                       108\n",
       "3Gen                          26\n",
       "Adjoined flat               1234\n",
       "Apartment                  35119\n",
       "DBSS                        3186\n",
       "Improved                  239037\n",
       "Improved-Maisonette          125\n",
       "Maisonette                 29362\n",
       "Model A                   260407\n",
       "Model A-Maisonette          2056\n",
       "Model A2                   10008\n",
       "Multi Generation             539\n",
       "New Generation            187619\n",
       "Premium Apartment          45603\n",
       "Premium Apartment Loft       104\n",
       "Premium Maisonette            86\n",
       "Simplified                 57140\n",
       "Standard                   42282\n",
       "Terrace                      688\n",
       "Type S1                      430\n",
       "Type S2                      212\n",
       "Name: count, dtype: int64"
      ]
     },
     "execution_count": 21,
     "metadata": {},
     "output_type": "execute_result"
    }
   ],
   "source": [
    "# Verify the changes\n",
    "flat_resale['flat_model'].value_counts(dropna = False).sort_index()"
   ]
  },
  {
   "cell_type": "markdown",
   "id": "41876fc9",
   "metadata": {},
   "source": [
    "# 07. Data Duplicates"
   ]
  },
  {
   "cell_type": "code",
   "execution_count": 22,
   "id": "cd4ec118",
   "metadata": {
    "scrolled": true
   },
   "outputs": [
    {
     "data": {
      "text/plain": [
       "0"
      ]
     },
     "execution_count": 22,
     "metadata": {},
     "output_type": "execute_result"
    }
   ],
   "source": [
    "# Check if there are any full duplicates in the dataframe\n",
    "flat_resale.duplicated().sum()"
   ]
  },
  {
   "cell_type": "code",
   "execution_count": 23,
   "id": "bb7a3d33",
   "metadata": {},
   "outputs": [
    {
     "data": {
      "text/html": [
       "<div>\n",
       "<style scoped>\n",
       "    .dataframe tbody tr th:only-of-type {\n",
       "        vertical-align: middle;\n",
       "    }\n",
       "\n",
       "    .dataframe tbody tr th {\n",
       "        vertical-align: top;\n",
       "    }\n",
       "\n",
       "    .dataframe thead th {\n",
       "        text-align: right;\n",
       "    }\n",
       "</style>\n",
       "<table border=\"1\" class=\"dataframe\">\n",
       "  <thead>\n",
       "    <tr style=\"text-align: right;\">\n",
       "      <th></th>\n",
       "      <th>month</th>\n",
       "      <th>town</th>\n",
       "      <th>flat_type</th>\n",
       "      <th>block</th>\n",
       "      <th>street_name</th>\n",
       "      <th>storey_range</th>\n",
       "      <th>floor_area_sqm</th>\n",
       "      <th>flat_model</th>\n",
       "      <th>lease_commence_date</th>\n",
       "      <th>resale_price</th>\n",
       "      <th>remaining_lease</th>\n",
       "      <th>row_id</th>\n",
       "    </tr>\n",
       "  </thead>\n",
       "  <tbody>\n",
       "  </tbody>\n",
       "</table>\n",
       "</div>"
      ],
      "text/plain": [
       "Empty DataFrame\n",
       "Columns: [month, town, flat_type, block, street_name, storey_range, floor_area_sqm, flat_model, lease_commence_date, resale_price, remaining_lease, row_id]\n",
       "Index: []"
      ]
     },
     "execution_count": 23,
     "metadata": {},
     "output_type": "execute_result"
    }
   ],
   "source": [
    "flat_resale.loc[flat_resale.duplicated()]"
   ]
  },
  {
   "cell_type": "markdown",
   "id": "177df5fb",
   "metadata": {},
   "source": [
    "No unusual findings."
   ]
  },
  {
   "cell_type": "markdown",
   "id": "e98bbb79",
   "metadata": {},
   "source": [
    "# 08. Missing Values"
   ]
  },
  {
   "cell_type": "code",
   "execution_count": 24,
   "id": "844a20a3",
   "metadata": {},
   "outputs": [
    {
     "data": {
      "text/plain": [
       "month                  0\n",
       "town                   0\n",
       "flat_type              0\n",
       "block                  0\n",
       "street_name            0\n",
       "storey_range           0\n",
       "floor_area_sqm         0\n",
       "flat_model             0\n",
       "lease_commence_date    0\n",
       "resale_price           0\n",
       "remaining_lease        0\n",
       "row_id                 0\n",
       "dtype: int64"
      ]
     },
     "execution_count": 24,
     "metadata": {},
     "output_type": "execute_result"
    }
   ],
   "source": [
    "# Check the number of missing values in each column\n",
    "flat_resale.isnull().sum()"
   ]
  },
  {
   "cell_type": "markdown",
   "id": "8492b97e",
   "metadata": {},
   "source": [
    "No unusual findings."
   ]
  },
  {
   "cell_type": "markdown",
   "id": "0e96c914",
   "metadata": {},
   "source": [
    "# 09. Export Data"
   ]
  },
  {
   "cell_type": "code",
   "execution_count": 25,
   "id": "c0dda833",
   "metadata": {
    "scrolled": true
   },
   "outputs": [
    {
     "data": {
      "text/plain": [
       "(915371, 12)"
      ]
     },
     "execution_count": 25,
     "metadata": {},
     "output_type": "execute_result"
    }
   ],
   "source": [
    "flat_resale.shape"
   ]
  },
  {
   "cell_type": "code",
   "execution_count": 26,
   "id": "4cc4f5c8",
   "metadata": {},
   "outputs": [],
   "source": [
    "# Export data to 'Prepared Data' folder in csv format\n",
    "flat_resale.to_csv(os.path.join(path, '02 Data', 'Prepared Data', 'flat_resale_all (checked).csv'))"
   ]
  },
  {
   "cell_type": "code",
   "execution_count": null,
   "id": "583ae3e5",
   "metadata": {},
   "outputs": [],
   "source": []
  },
  {
   "cell_type": "code",
   "execution_count": null,
   "id": "97a7f9ae",
   "metadata": {},
   "outputs": [],
   "source": []
  },
  {
   "cell_type": "code",
   "execution_count": null,
   "id": "fc33efac",
   "metadata": {},
   "outputs": [],
   "source": []
  }
 ],
 "metadata": {
  "kernelspec": {
   "display_name": "Python 3 (ipykernel)",
   "language": "python",
   "name": "python3"
  },
  "language_info": {
   "codemirror_mode": {
    "name": "ipython",
    "version": 3
   },
   "file_extension": ".py",
   "mimetype": "text/x-python",
   "name": "python",
   "nbconvert_exporter": "python",
   "pygments_lexer": "ipython3",
   "version": "3.11.5"
  },
  "varInspector": {
   "cols": {
    "lenName": 16,
    "lenType": 16,
    "lenVar": 40
   },
   "kernels_config": {
    "python": {
     "delete_cmd_postfix": "",
     "delete_cmd_prefix": "del ",
     "library": "var_list.py",
     "varRefreshCmd": "print(var_dic_list())"
    },
    "r": {
     "delete_cmd_postfix": ") ",
     "delete_cmd_prefix": "rm(",
     "library": "var_list.r",
     "varRefreshCmd": "cat(var_dic_list()) "
    }
   },
   "types_to_exclude": [
    "module",
    "function",
    "builtin_function_or_method",
    "instance",
    "_Feature"
   ],
   "window_display": false
  }
 },
 "nbformat": 4,
 "nbformat_minor": 5
}
