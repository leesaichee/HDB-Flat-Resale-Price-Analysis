{
 "cells": [
  {
   "cell_type": "markdown",
   "id": "59489890",
   "metadata": {},
   "source": [
    "# Table of Content\n",
    "01. Import Libraries\n",
    "02. Import Data\n",
    "03. Change Column Data Type (if necessary)\n",
    "04. Find Mixed-Type Data\n",
    "05. Data Accuracy\n",
    "06. Data Consistency\n",
    "07. Data Duplicates\n",
    "08. Missing Values\n",
    "09. Export Data"
   ]
  },
  {
   "cell_type": "markdown",
   "id": "3bab7885",
   "metadata": {},
   "source": [
    "# 01. Import Libraries"
   ]
  },
  {
   "cell_type": "code",
   "execution_count": 1,
   "id": "db6d26a1",
   "metadata": {},
   "outputs": [],
   "source": [
    "# Import libraries\n",
    "import pandas as pd\n",
    "import numpy as np\n",
    "import os"
   ]
  },
  {
   "cell_type": "code",
   "execution_count": 2,
   "id": "13e798f0",
   "metadata": {},
   "outputs": [],
   "source": [
    "# Adjust the setting to view all rows\n",
    "pd.options.display.max_rows = None"
   ]
  },
  {
   "cell_type": "code",
   "execution_count": 3,
   "id": "b26eb448",
   "metadata": {},
   "outputs": [],
   "source": [
    "# Adjust the setting to view all columns\n",
    "pd.options.display.max_columns = None"
   ]
  },
  {
   "cell_type": "markdown",
   "id": "131af255",
   "metadata": {},
   "source": [
    "# 02. Import Data"
   ]
  },
  {
   "cell_type": "code",
   "execution_count": 4,
   "id": "c62f72cd",
   "metadata": {},
   "outputs": [],
   "source": [
    "# Define the main project folder path\n",
    "path = r'C:\\Users\\saich\\Desktop\\CareerFoundry\\Data Immersion\\Achievement 6 Advanced Analytics & Dashboard Design\\11-2023 HDB Flat Resale Analysis'"
   ]
  },
  {
   "cell_type": "markdown",
   "id": "e6170330",
   "metadata": {},
   "source": [
    "### 02.1 Import Flat Resale Data: Jan 1990 ~ Dec 1999"
   ]
  },
  {
   "cell_type": "code",
   "execution_count": 5,
   "id": "b492302d",
   "metadata": {},
   "outputs": [],
   "source": [
    "# Import flat resale data from Jan 1990 to Dec 1999\n",
    "flat_resale_90_99 = pd.read_csv(os.path.join(path, '02 Data', 'Original Data', 'Flat Resale Data', 'flat_resale_90_99.csv'))"
   ]
  },
  {
   "cell_type": "code",
   "execution_count": 6,
   "id": "032ae6a5",
   "metadata": {},
   "outputs": [
    {
     "data": {
      "text/html": [
       "<div>\n",
       "<style scoped>\n",
       "    .dataframe tbody tr th:only-of-type {\n",
       "        vertical-align: middle;\n",
       "    }\n",
       "\n",
       "    .dataframe tbody tr th {\n",
       "        vertical-align: top;\n",
       "    }\n",
       "\n",
       "    .dataframe thead th {\n",
       "        text-align: right;\n",
       "    }\n",
       "</style>\n",
       "<table border=\"1\" class=\"dataframe\">\n",
       "  <thead>\n",
       "    <tr style=\"text-align: right;\">\n",
       "      <th></th>\n",
       "      <th>month</th>\n",
       "      <th>town</th>\n",
       "      <th>flat_type</th>\n",
       "      <th>block</th>\n",
       "      <th>street_name</th>\n",
       "      <th>storey_range</th>\n",
       "      <th>floor_area_sqm</th>\n",
       "      <th>flat_model</th>\n",
       "      <th>lease_commence_date</th>\n",
       "      <th>resale_price</th>\n",
       "    </tr>\n",
       "  </thead>\n",
       "  <tbody>\n",
       "    <tr>\n",
       "      <th>0</th>\n",
       "      <td>1990-01</td>\n",
       "      <td>ANG MO KIO</td>\n",
       "      <td>1 ROOM</td>\n",
       "      <td>309</td>\n",
       "      <td>ANG MO KIO AVE 1</td>\n",
       "      <td>10 TO 12</td>\n",
       "      <td>31.0</td>\n",
       "      <td>IMPROVED</td>\n",
       "      <td>1977</td>\n",
       "      <td>9000</td>\n",
       "    </tr>\n",
       "    <tr>\n",
       "      <th>1</th>\n",
       "      <td>1990-01</td>\n",
       "      <td>ANG MO KIO</td>\n",
       "      <td>1 ROOM</td>\n",
       "      <td>309</td>\n",
       "      <td>ANG MO KIO AVE 1</td>\n",
       "      <td>04 TO 06</td>\n",
       "      <td>31.0</td>\n",
       "      <td>IMPROVED</td>\n",
       "      <td>1977</td>\n",
       "      <td>6000</td>\n",
       "    </tr>\n",
       "    <tr>\n",
       "      <th>2</th>\n",
       "      <td>1990-01</td>\n",
       "      <td>ANG MO KIO</td>\n",
       "      <td>1 ROOM</td>\n",
       "      <td>309</td>\n",
       "      <td>ANG MO KIO AVE 1</td>\n",
       "      <td>10 TO 12</td>\n",
       "      <td>31.0</td>\n",
       "      <td>IMPROVED</td>\n",
       "      <td>1977</td>\n",
       "      <td>8000</td>\n",
       "    </tr>\n",
       "    <tr>\n",
       "      <th>3</th>\n",
       "      <td>1990-01</td>\n",
       "      <td>ANG MO KIO</td>\n",
       "      <td>1 ROOM</td>\n",
       "      <td>309</td>\n",
       "      <td>ANG MO KIO AVE 1</td>\n",
       "      <td>07 TO 09</td>\n",
       "      <td>31.0</td>\n",
       "      <td>IMPROVED</td>\n",
       "      <td>1977</td>\n",
       "      <td>6000</td>\n",
       "    </tr>\n",
       "    <tr>\n",
       "      <th>4</th>\n",
       "      <td>1990-01</td>\n",
       "      <td>ANG MO KIO</td>\n",
       "      <td>3 ROOM</td>\n",
       "      <td>216</td>\n",
       "      <td>ANG MO KIO AVE 1</td>\n",
       "      <td>04 TO 06</td>\n",
       "      <td>73.0</td>\n",
       "      <td>NEW GENERATION</td>\n",
       "      <td>1976</td>\n",
       "      <td>47200</td>\n",
       "    </tr>\n",
       "  </tbody>\n",
       "</table>\n",
       "</div>"
      ],
      "text/plain": [
       "     month        town flat_type block       street_name storey_range  \\\n",
       "0  1990-01  ANG MO KIO    1 ROOM   309  ANG MO KIO AVE 1     10 TO 12   \n",
       "1  1990-01  ANG MO KIO    1 ROOM   309  ANG MO KIO AVE 1     04 TO 06   \n",
       "2  1990-01  ANG MO KIO    1 ROOM   309  ANG MO KIO AVE 1     10 TO 12   \n",
       "3  1990-01  ANG MO KIO    1 ROOM   309  ANG MO KIO AVE 1     07 TO 09   \n",
       "4  1990-01  ANG MO KIO    3 ROOM   216  ANG MO KIO AVE 1     04 TO 06   \n",
       "\n",
       "   floor_area_sqm      flat_model  lease_commence_date  resale_price  \n",
       "0            31.0        IMPROVED                 1977          9000  \n",
       "1            31.0        IMPROVED                 1977          6000  \n",
       "2            31.0        IMPROVED                 1977          8000  \n",
       "3            31.0        IMPROVED                 1977          6000  \n",
       "4            73.0  NEW GENERATION                 1976         47200  "
      ]
     },
     "execution_count": 6,
     "metadata": {},
     "output_type": "execute_result"
    }
   ],
   "source": [
    "flat_resale_90_99.head()"
   ]
  },
  {
   "cell_type": "code",
   "execution_count": 7,
   "id": "e5e0958c",
   "metadata": {
    "scrolled": true
   },
   "outputs": [
    {
     "data": {
      "text/plain": [
       "(287196, 10)"
      ]
     },
     "execution_count": 7,
     "metadata": {},
     "output_type": "execute_result"
    }
   ],
   "source": [
    "flat_resale_90_99.shape"
   ]
  },
  {
   "cell_type": "markdown",
   "id": "620694da",
   "metadata": {},
   "source": [
    "### 02.2 Import Flat Resale Data: Jan 2000 ~ Feb 2012"
   ]
  },
  {
   "cell_type": "code",
   "execution_count": 8,
   "id": "27fe0160",
   "metadata": {},
   "outputs": [],
   "source": [
    "# Import flat resale data from Jan 2000 to Feb 2012\n",
    "flat_resale_00_12 = pd.read_csv(os.path.join(path, '02 Data', 'Original Data', 'Flat Resale Data', 'flat_resale_00_12.csv'))"
   ]
  },
  {
   "cell_type": "code",
   "execution_count": 9,
   "id": "9ba87bf1",
   "metadata": {},
   "outputs": [
    {
     "data": {
      "text/html": [
       "<div>\n",
       "<style scoped>\n",
       "    .dataframe tbody tr th:only-of-type {\n",
       "        vertical-align: middle;\n",
       "    }\n",
       "\n",
       "    .dataframe tbody tr th {\n",
       "        vertical-align: top;\n",
       "    }\n",
       "\n",
       "    .dataframe thead th {\n",
       "        text-align: right;\n",
       "    }\n",
       "</style>\n",
       "<table border=\"1\" class=\"dataframe\">\n",
       "  <thead>\n",
       "    <tr style=\"text-align: right;\">\n",
       "      <th></th>\n",
       "      <th>month</th>\n",
       "      <th>town</th>\n",
       "      <th>flat_type</th>\n",
       "      <th>block</th>\n",
       "      <th>street_name</th>\n",
       "      <th>storey_range</th>\n",
       "      <th>floor_area_sqm</th>\n",
       "      <th>flat_model</th>\n",
       "      <th>lease_commence_date</th>\n",
       "      <th>resale_price</th>\n",
       "    </tr>\n",
       "  </thead>\n",
       "  <tbody>\n",
       "    <tr>\n",
       "      <th>0</th>\n",
       "      <td>2000-01</td>\n",
       "      <td>ANG MO KIO</td>\n",
       "      <td>3 ROOM</td>\n",
       "      <td>170</td>\n",
       "      <td>ANG MO KIO AVE 4</td>\n",
       "      <td>07 TO 09</td>\n",
       "      <td>69.0</td>\n",
       "      <td>Improved</td>\n",
       "      <td>1986</td>\n",
       "      <td>147000.0</td>\n",
       "    </tr>\n",
       "    <tr>\n",
       "      <th>1</th>\n",
       "      <td>2000-01</td>\n",
       "      <td>ANG MO KIO</td>\n",
       "      <td>3 ROOM</td>\n",
       "      <td>174</td>\n",
       "      <td>ANG MO KIO AVE 4</td>\n",
       "      <td>04 TO 06</td>\n",
       "      <td>61.0</td>\n",
       "      <td>Improved</td>\n",
       "      <td>1986</td>\n",
       "      <td>144000.0</td>\n",
       "    </tr>\n",
       "    <tr>\n",
       "      <th>2</th>\n",
       "      <td>2000-01</td>\n",
       "      <td>ANG MO KIO</td>\n",
       "      <td>3 ROOM</td>\n",
       "      <td>216</td>\n",
       "      <td>ANG MO KIO AVE 1</td>\n",
       "      <td>07 TO 09</td>\n",
       "      <td>73.0</td>\n",
       "      <td>New Generation</td>\n",
       "      <td>1976</td>\n",
       "      <td>159000.0</td>\n",
       "    </tr>\n",
       "    <tr>\n",
       "      <th>3</th>\n",
       "      <td>2000-01</td>\n",
       "      <td>ANG MO KIO</td>\n",
       "      <td>3 ROOM</td>\n",
       "      <td>215</td>\n",
       "      <td>ANG MO KIO AVE 1</td>\n",
       "      <td>07 TO 09</td>\n",
       "      <td>73.0</td>\n",
       "      <td>New Generation</td>\n",
       "      <td>1976</td>\n",
       "      <td>167000.0</td>\n",
       "    </tr>\n",
       "    <tr>\n",
       "      <th>4</th>\n",
       "      <td>2000-01</td>\n",
       "      <td>ANG MO KIO</td>\n",
       "      <td>3 ROOM</td>\n",
       "      <td>218</td>\n",
       "      <td>ANG MO KIO AVE 1</td>\n",
       "      <td>07 TO 09</td>\n",
       "      <td>67.0</td>\n",
       "      <td>New Generation</td>\n",
       "      <td>1976</td>\n",
       "      <td>163000.0</td>\n",
       "    </tr>\n",
       "  </tbody>\n",
       "</table>\n",
       "</div>"
      ],
      "text/plain": [
       "     month        town flat_type block       street_name storey_range  \\\n",
       "0  2000-01  ANG MO KIO    3 ROOM   170  ANG MO KIO AVE 4     07 TO 09   \n",
       "1  2000-01  ANG MO KIO    3 ROOM   174  ANG MO KIO AVE 4     04 TO 06   \n",
       "2  2000-01  ANG MO KIO    3 ROOM   216  ANG MO KIO AVE 1     07 TO 09   \n",
       "3  2000-01  ANG MO KIO    3 ROOM   215  ANG MO KIO AVE 1     07 TO 09   \n",
       "4  2000-01  ANG MO KIO    3 ROOM   218  ANG MO KIO AVE 1     07 TO 09   \n",
       "\n",
       "   floor_area_sqm      flat_model  lease_commence_date  resale_price  \n",
       "0            69.0        Improved                 1986      147000.0  \n",
       "1            61.0        Improved                 1986      144000.0  \n",
       "2            73.0  New Generation                 1976      159000.0  \n",
       "3            73.0  New Generation                 1976      167000.0  \n",
       "4            67.0  New Generation                 1976      163000.0  "
      ]
     },
     "execution_count": 9,
     "metadata": {},
     "output_type": "execute_result"
    }
   ],
   "source": [
    "flat_resale_00_12.head()"
   ]
  },
  {
   "cell_type": "code",
   "execution_count": 10,
   "id": "bf7c5d95",
   "metadata": {
    "scrolled": false
   },
   "outputs": [
    {
     "data": {
      "text/plain": [
       "(369651, 10)"
      ]
     },
     "execution_count": 10,
     "metadata": {},
     "output_type": "execute_result"
    }
   ],
   "source": [
    "flat_resale_00_12.shape"
   ]
  },
  {
   "cell_type": "markdown",
   "id": "ed90f7b6",
   "metadata": {},
   "source": [
    "### 02.3 Import Flat Resale Data: Mar 2012 ~ Dec 2014"
   ]
  },
  {
   "cell_type": "code",
   "execution_count": 11,
   "id": "d3c87794",
   "metadata": {},
   "outputs": [],
   "source": [
    "# Import flat resale data from Mar 2012 to Dec 2014\n",
    "flat_resale_12_14 = pd.read_csv(os.path.join(path, '02 Data', 'Original Data', 'Flat Resale Data', 'flat_resale_12_14.csv'))"
   ]
  },
  {
   "cell_type": "code",
   "execution_count": 12,
   "id": "d9d6e184",
   "metadata": {},
   "outputs": [
    {
     "data": {
      "text/html": [
       "<div>\n",
       "<style scoped>\n",
       "    .dataframe tbody tr th:only-of-type {\n",
       "        vertical-align: middle;\n",
       "    }\n",
       "\n",
       "    .dataframe tbody tr th {\n",
       "        vertical-align: top;\n",
       "    }\n",
       "\n",
       "    .dataframe thead th {\n",
       "        text-align: right;\n",
       "    }\n",
       "</style>\n",
       "<table border=\"1\" class=\"dataframe\">\n",
       "  <thead>\n",
       "    <tr style=\"text-align: right;\">\n",
       "      <th></th>\n",
       "      <th>month</th>\n",
       "      <th>town</th>\n",
       "      <th>flat_type</th>\n",
       "      <th>block</th>\n",
       "      <th>street_name</th>\n",
       "      <th>storey_range</th>\n",
       "      <th>floor_area_sqm</th>\n",
       "      <th>flat_model</th>\n",
       "      <th>lease_commence_date</th>\n",
       "      <th>resale_price</th>\n",
       "    </tr>\n",
       "  </thead>\n",
       "  <tbody>\n",
       "    <tr>\n",
       "      <th>0</th>\n",
       "      <td>2012-03</td>\n",
       "      <td>ANG MO KIO</td>\n",
       "      <td>2 ROOM</td>\n",
       "      <td>172</td>\n",
       "      <td>ANG MO KIO AVE 4</td>\n",
       "      <td>06 TO 10</td>\n",
       "      <td>45.0</td>\n",
       "      <td>Improved</td>\n",
       "      <td>1986</td>\n",
       "      <td>250000.0</td>\n",
       "    </tr>\n",
       "    <tr>\n",
       "      <th>1</th>\n",
       "      <td>2012-03</td>\n",
       "      <td>ANG MO KIO</td>\n",
       "      <td>2 ROOM</td>\n",
       "      <td>510</td>\n",
       "      <td>ANG MO KIO AVE 8</td>\n",
       "      <td>01 TO 05</td>\n",
       "      <td>44.0</td>\n",
       "      <td>Improved</td>\n",
       "      <td>1980</td>\n",
       "      <td>265000.0</td>\n",
       "    </tr>\n",
       "    <tr>\n",
       "      <th>2</th>\n",
       "      <td>2012-03</td>\n",
       "      <td>ANG MO KIO</td>\n",
       "      <td>3 ROOM</td>\n",
       "      <td>610</td>\n",
       "      <td>ANG MO KIO AVE 4</td>\n",
       "      <td>06 TO 10</td>\n",
       "      <td>68.0</td>\n",
       "      <td>New Generation</td>\n",
       "      <td>1980</td>\n",
       "      <td>315000.0</td>\n",
       "    </tr>\n",
       "    <tr>\n",
       "      <th>3</th>\n",
       "      <td>2012-03</td>\n",
       "      <td>ANG MO KIO</td>\n",
       "      <td>3 ROOM</td>\n",
       "      <td>474</td>\n",
       "      <td>ANG MO KIO AVE 10</td>\n",
       "      <td>01 TO 05</td>\n",
       "      <td>67.0</td>\n",
       "      <td>New Generation</td>\n",
       "      <td>1984</td>\n",
       "      <td>320000.0</td>\n",
       "    </tr>\n",
       "    <tr>\n",
       "      <th>4</th>\n",
       "      <td>2012-03</td>\n",
       "      <td>ANG MO KIO</td>\n",
       "      <td>3 ROOM</td>\n",
       "      <td>604</td>\n",
       "      <td>ANG MO KIO AVE 5</td>\n",
       "      <td>06 TO 10</td>\n",
       "      <td>67.0</td>\n",
       "      <td>New Generation</td>\n",
       "      <td>1980</td>\n",
       "      <td>321000.0</td>\n",
       "    </tr>\n",
       "  </tbody>\n",
       "</table>\n",
       "</div>"
      ],
      "text/plain": [
       "     month        town flat_type block        street_name storey_range  \\\n",
       "0  2012-03  ANG MO KIO    2 ROOM   172   ANG MO KIO AVE 4     06 TO 10   \n",
       "1  2012-03  ANG MO KIO    2 ROOM   510   ANG MO KIO AVE 8     01 TO 05   \n",
       "2  2012-03  ANG MO KIO    3 ROOM   610   ANG MO KIO AVE 4     06 TO 10   \n",
       "3  2012-03  ANG MO KIO    3 ROOM   474  ANG MO KIO AVE 10     01 TO 05   \n",
       "4  2012-03  ANG MO KIO    3 ROOM   604   ANG MO KIO AVE 5     06 TO 10   \n",
       "\n",
       "   floor_area_sqm      flat_model  lease_commence_date  resale_price  \n",
       "0            45.0        Improved                 1986      250000.0  \n",
       "1            44.0        Improved                 1980      265000.0  \n",
       "2            68.0  New Generation                 1980      315000.0  \n",
       "3            67.0  New Generation                 1984      320000.0  \n",
       "4            67.0  New Generation                 1980      321000.0  "
      ]
     },
     "execution_count": 12,
     "metadata": {},
     "output_type": "execute_result"
    }
   ],
   "source": [
    "flat_resale_12_14.head()"
   ]
  },
  {
   "cell_type": "code",
   "execution_count": 13,
   "id": "f2c0e701",
   "metadata": {
    "scrolled": true
   },
   "outputs": [
    {
     "data": {
      "text/plain": [
       "(52203, 10)"
      ]
     },
     "execution_count": 13,
     "metadata": {},
     "output_type": "execute_result"
    }
   ],
   "source": [
    "flat_resale_12_14.shape"
   ]
  },
  {
   "cell_type": "markdown",
   "id": "189e4968",
   "metadata": {},
   "source": [
    "### 02.4 Import Flat Resale Data: Jan 2015 ~ Dec 2016"
   ]
  },
  {
   "cell_type": "code",
   "execution_count": 14,
   "id": "5f9031e4",
   "metadata": {},
   "outputs": [],
   "source": [
    "# Import flat resale data from Jan 2015 to Dec 2016\n",
    "flat_resale_15_16 = pd.read_csv(os.path.join(path, '02 Data', 'Original Data', 'Flat Resale Data', 'flat_resale_15_16.csv'))"
   ]
  },
  {
   "cell_type": "code",
   "execution_count": 15,
   "id": "03eb11f5",
   "metadata": {},
   "outputs": [
    {
     "data": {
      "text/html": [
       "<div>\n",
       "<style scoped>\n",
       "    .dataframe tbody tr th:only-of-type {\n",
       "        vertical-align: middle;\n",
       "    }\n",
       "\n",
       "    .dataframe tbody tr th {\n",
       "        vertical-align: top;\n",
       "    }\n",
       "\n",
       "    .dataframe thead th {\n",
       "        text-align: right;\n",
       "    }\n",
       "</style>\n",
       "<table border=\"1\" class=\"dataframe\">\n",
       "  <thead>\n",
       "    <tr style=\"text-align: right;\">\n",
       "      <th></th>\n",
       "      <th>month</th>\n",
       "      <th>town</th>\n",
       "      <th>flat_type</th>\n",
       "      <th>block</th>\n",
       "      <th>street_name</th>\n",
       "      <th>storey_range</th>\n",
       "      <th>floor_area_sqm</th>\n",
       "      <th>flat_model</th>\n",
       "      <th>lease_commence_date</th>\n",
       "      <th>remaining_lease</th>\n",
       "      <th>resale_price</th>\n",
       "    </tr>\n",
       "  </thead>\n",
       "  <tbody>\n",
       "    <tr>\n",
       "      <th>0</th>\n",
       "      <td>2015-01</td>\n",
       "      <td>ANG MO KIO</td>\n",
       "      <td>3 ROOM</td>\n",
       "      <td>174</td>\n",
       "      <td>ANG MO KIO AVE 4</td>\n",
       "      <td>07 TO 09</td>\n",
       "      <td>60.0</td>\n",
       "      <td>Improved</td>\n",
       "      <td>1986</td>\n",
       "      <td>70</td>\n",
       "      <td>255000.0</td>\n",
       "    </tr>\n",
       "    <tr>\n",
       "      <th>1</th>\n",
       "      <td>2015-01</td>\n",
       "      <td>ANG MO KIO</td>\n",
       "      <td>3 ROOM</td>\n",
       "      <td>541</td>\n",
       "      <td>ANG MO KIO AVE 10</td>\n",
       "      <td>01 TO 03</td>\n",
       "      <td>68.0</td>\n",
       "      <td>New Generation</td>\n",
       "      <td>1981</td>\n",
       "      <td>65</td>\n",
       "      <td>275000.0</td>\n",
       "    </tr>\n",
       "    <tr>\n",
       "      <th>2</th>\n",
       "      <td>2015-01</td>\n",
       "      <td>ANG MO KIO</td>\n",
       "      <td>3 ROOM</td>\n",
       "      <td>163</td>\n",
       "      <td>ANG MO KIO AVE 4</td>\n",
       "      <td>01 TO 03</td>\n",
       "      <td>69.0</td>\n",
       "      <td>New Generation</td>\n",
       "      <td>1980</td>\n",
       "      <td>64</td>\n",
       "      <td>285000.0</td>\n",
       "    </tr>\n",
       "    <tr>\n",
       "      <th>3</th>\n",
       "      <td>2015-01</td>\n",
       "      <td>ANG MO KIO</td>\n",
       "      <td>3 ROOM</td>\n",
       "      <td>446</td>\n",
       "      <td>ANG MO KIO AVE 10</td>\n",
       "      <td>01 TO 03</td>\n",
       "      <td>68.0</td>\n",
       "      <td>New Generation</td>\n",
       "      <td>1979</td>\n",
       "      <td>63</td>\n",
       "      <td>290000.0</td>\n",
       "    </tr>\n",
       "    <tr>\n",
       "      <th>4</th>\n",
       "      <td>2015-01</td>\n",
       "      <td>ANG MO KIO</td>\n",
       "      <td>3 ROOM</td>\n",
       "      <td>557</td>\n",
       "      <td>ANG MO KIO AVE 10</td>\n",
       "      <td>07 TO 09</td>\n",
       "      <td>68.0</td>\n",
       "      <td>New Generation</td>\n",
       "      <td>1980</td>\n",
       "      <td>64</td>\n",
       "      <td>290000.0</td>\n",
       "    </tr>\n",
       "  </tbody>\n",
       "</table>\n",
       "</div>"
      ],
      "text/plain": [
       "     month        town flat_type block        street_name storey_range  \\\n",
       "0  2015-01  ANG MO KIO    3 ROOM   174   ANG MO KIO AVE 4     07 TO 09   \n",
       "1  2015-01  ANG MO KIO    3 ROOM   541  ANG MO KIO AVE 10     01 TO 03   \n",
       "2  2015-01  ANG MO KIO    3 ROOM   163   ANG MO KIO AVE 4     01 TO 03   \n",
       "3  2015-01  ANG MO KIO    3 ROOM   446  ANG MO KIO AVE 10     01 TO 03   \n",
       "4  2015-01  ANG MO KIO    3 ROOM   557  ANG MO KIO AVE 10     07 TO 09   \n",
       "\n",
       "   floor_area_sqm      flat_model  lease_commence_date  remaining_lease  \\\n",
       "0            60.0        Improved                 1986               70   \n",
       "1            68.0  New Generation                 1981               65   \n",
       "2            69.0  New Generation                 1980               64   \n",
       "3            68.0  New Generation                 1979               63   \n",
       "4            68.0  New Generation                 1980               64   \n",
       "\n",
       "   resale_price  \n",
       "0      255000.0  \n",
       "1      275000.0  \n",
       "2      285000.0  \n",
       "3      290000.0  \n",
       "4      290000.0  "
      ]
     },
     "execution_count": 15,
     "metadata": {},
     "output_type": "execute_result"
    }
   ],
   "source": [
    "flat_resale_15_16.head()"
   ]
  },
  {
   "cell_type": "code",
   "execution_count": 16,
   "id": "93169c40",
   "metadata": {
    "scrolled": false
   },
   "outputs": [
    {
     "data": {
      "text/plain": [
       "(37153, 11)"
      ]
     },
     "execution_count": 16,
     "metadata": {},
     "output_type": "execute_result"
    }
   ],
   "source": [
    "flat_resale_15_16.shape"
   ]
  },
  {
   "cell_type": "markdown",
   "id": "840cc89a",
   "metadata": {},
   "source": [
    "### 02.5 Import Flat Resale Data: Jan 2017 ~ Dec 2023"
   ]
  },
  {
   "cell_type": "code",
   "execution_count": 17,
   "id": "d184814d",
   "metadata": {},
   "outputs": [],
   "source": [
    "# Import flat resale data from Jan 2017 to Dec 2023\n",
    "flat_resale_17_23 = pd.read_csv(os.path.join(path, '02 Data', 'Original Data', 'Flat Resale Data', 'flat_resale_17_23.csv'))"
   ]
  },
  {
   "cell_type": "code",
   "execution_count": 18,
   "id": "f18f57ac",
   "metadata": {},
   "outputs": [
    {
     "data": {
      "text/html": [
       "<div>\n",
       "<style scoped>\n",
       "    .dataframe tbody tr th:only-of-type {\n",
       "        vertical-align: middle;\n",
       "    }\n",
       "\n",
       "    .dataframe tbody tr th {\n",
       "        vertical-align: top;\n",
       "    }\n",
       "\n",
       "    .dataframe thead th {\n",
       "        text-align: right;\n",
       "    }\n",
       "</style>\n",
       "<table border=\"1\" class=\"dataframe\">\n",
       "  <thead>\n",
       "    <tr style=\"text-align: right;\">\n",
       "      <th></th>\n",
       "      <th>month</th>\n",
       "      <th>town</th>\n",
       "      <th>flat_type</th>\n",
       "      <th>block</th>\n",
       "      <th>street_name</th>\n",
       "      <th>storey_range</th>\n",
       "      <th>floor_area_sqm</th>\n",
       "      <th>flat_model</th>\n",
       "      <th>lease_commence_date</th>\n",
       "      <th>remaining_lease</th>\n",
       "      <th>resale_price</th>\n",
       "    </tr>\n",
       "  </thead>\n",
       "  <tbody>\n",
       "    <tr>\n",
       "      <th>0</th>\n",
       "      <td>2017-01</td>\n",
       "      <td>ANG MO KIO</td>\n",
       "      <td>2 ROOM</td>\n",
       "      <td>406</td>\n",
       "      <td>ANG MO KIO AVE 10</td>\n",
       "      <td>10 TO 12</td>\n",
       "      <td>44.0</td>\n",
       "      <td>Improved</td>\n",
       "      <td>1979</td>\n",
       "      <td>61 years 04 months</td>\n",
       "      <td>232000.0</td>\n",
       "    </tr>\n",
       "    <tr>\n",
       "      <th>1</th>\n",
       "      <td>2017-01</td>\n",
       "      <td>ANG MO KIO</td>\n",
       "      <td>3 ROOM</td>\n",
       "      <td>108</td>\n",
       "      <td>ANG MO KIO AVE 4</td>\n",
       "      <td>01 TO 03</td>\n",
       "      <td>67.0</td>\n",
       "      <td>New Generation</td>\n",
       "      <td>1978</td>\n",
       "      <td>60 years 07 months</td>\n",
       "      <td>250000.0</td>\n",
       "    </tr>\n",
       "    <tr>\n",
       "      <th>2</th>\n",
       "      <td>2017-01</td>\n",
       "      <td>ANG MO KIO</td>\n",
       "      <td>3 ROOM</td>\n",
       "      <td>602</td>\n",
       "      <td>ANG MO KIO AVE 5</td>\n",
       "      <td>01 TO 03</td>\n",
       "      <td>67.0</td>\n",
       "      <td>New Generation</td>\n",
       "      <td>1980</td>\n",
       "      <td>62 years 05 months</td>\n",
       "      <td>262000.0</td>\n",
       "    </tr>\n",
       "    <tr>\n",
       "      <th>3</th>\n",
       "      <td>2017-01</td>\n",
       "      <td>ANG MO KIO</td>\n",
       "      <td>3 ROOM</td>\n",
       "      <td>465</td>\n",
       "      <td>ANG MO KIO AVE 10</td>\n",
       "      <td>04 TO 06</td>\n",
       "      <td>68.0</td>\n",
       "      <td>New Generation</td>\n",
       "      <td>1980</td>\n",
       "      <td>62 years 01 month</td>\n",
       "      <td>265000.0</td>\n",
       "    </tr>\n",
       "    <tr>\n",
       "      <th>4</th>\n",
       "      <td>2017-01</td>\n",
       "      <td>ANG MO KIO</td>\n",
       "      <td>3 ROOM</td>\n",
       "      <td>601</td>\n",
       "      <td>ANG MO KIO AVE 5</td>\n",
       "      <td>01 TO 03</td>\n",
       "      <td>67.0</td>\n",
       "      <td>New Generation</td>\n",
       "      <td>1980</td>\n",
       "      <td>62 years 05 months</td>\n",
       "      <td>265000.0</td>\n",
       "    </tr>\n",
       "  </tbody>\n",
       "</table>\n",
       "</div>"
      ],
      "text/plain": [
       "     month        town flat_type block        street_name storey_range  \\\n",
       "0  2017-01  ANG MO KIO    2 ROOM   406  ANG MO KIO AVE 10     10 TO 12   \n",
       "1  2017-01  ANG MO KIO    3 ROOM   108   ANG MO KIO AVE 4     01 TO 03   \n",
       "2  2017-01  ANG MO KIO    3 ROOM   602   ANG MO KIO AVE 5     01 TO 03   \n",
       "3  2017-01  ANG MO KIO    3 ROOM   465  ANG MO KIO AVE 10     04 TO 06   \n",
       "4  2017-01  ANG MO KIO    3 ROOM   601   ANG MO KIO AVE 5     01 TO 03   \n",
       "\n",
       "   floor_area_sqm      flat_model  lease_commence_date     remaining_lease  \\\n",
       "0            44.0        Improved                 1979  61 years 04 months   \n",
       "1            67.0  New Generation                 1978  60 years 07 months   \n",
       "2            67.0  New Generation                 1980  62 years 05 months   \n",
       "3            68.0  New Generation                 1980   62 years 01 month   \n",
       "4            67.0  New Generation                 1980  62 years 05 months   \n",
       "\n",
       "   resale_price  \n",
       "0      232000.0  \n",
       "1      250000.0  \n",
       "2      262000.0  \n",
       "3      265000.0  \n",
       "4      265000.0  "
      ]
     },
     "execution_count": 18,
     "metadata": {},
     "output_type": "execute_result"
    }
   ],
   "source": [
    "flat_resale_17_23.head()"
   ]
  },
  {
   "cell_type": "code",
   "execution_count": 19,
   "id": "642aa0cf",
   "metadata": {
    "scrolled": false
   },
   "outputs": [
    {
     "data": {
      "text/plain": [
       "(169168, 11)"
      ]
     },
     "execution_count": 19,
     "metadata": {},
     "output_type": "execute_result"
    }
   ],
   "source": [
    "flat_resale_17_23.shape"
   ]
  },
  {
   "cell_type": "markdown",
   "id": "2cd74053",
   "metadata": {},
   "source": [
    "# 03. Change Column Data Type (if necessary)"
   ]
  },
  {
   "cell_type": "markdown",
   "id": "2e5fed66",
   "metadata": {},
   "source": [
    "'month' column stores date information. It should be changed into datetime data type."
   ]
  },
  {
   "cell_type": "markdown",
   "id": "efceb895",
   "metadata": {},
   "source": [
    "### 03.1 Flat Resale Data: Jan 1990 ~ Dec 1999"
   ]
  },
  {
   "cell_type": "code",
   "execution_count": 20,
   "id": "3babfebd",
   "metadata": {
    "scrolled": true
   },
   "outputs": [
    {
     "name": "stdout",
     "output_type": "stream",
     "text": [
      "<class 'pandas.core.frame.DataFrame'>\n",
      "RangeIndex: 287196 entries, 0 to 287195\n",
      "Data columns (total 10 columns):\n",
      " #   Column               Non-Null Count   Dtype  \n",
      "---  ------               --------------   -----  \n",
      " 0   month                287196 non-null  object \n",
      " 1   town                 287196 non-null  object \n",
      " 2   flat_type            287196 non-null  object \n",
      " 3   block                287196 non-null  object \n",
      " 4   street_name          287196 non-null  object \n",
      " 5   storey_range         287196 non-null  object \n",
      " 6   floor_area_sqm       287196 non-null  float64\n",
      " 7   flat_model           287196 non-null  object \n",
      " 8   lease_commence_date  287196 non-null  int64  \n",
      " 9   resale_price         287196 non-null  int64  \n",
      "dtypes: float64(1), int64(2), object(7)\n",
      "memory usage: 21.9+ MB\n"
     ]
    }
   ],
   "source": [
    "flat_resale_90_99.info()"
   ]
  },
  {
   "cell_type": "code",
   "execution_count": 21,
   "id": "4eb21b30",
   "metadata": {},
   "outputs": [],
   "source": [
    "# Change 'month' column into datetime\n",
    "flat_resale_90_99['month'] = pd.to_datetime(flat_resale_90_99['month'])"
   ]
  },
  {
   "cell_type": "code",
   "execution_count": 22,
   "id": "ede2abd4",
   "metadata": {
    "scrolled": true
   },
   "outputs": [
    {
     "data": {
      "text/plain": [
       "dtype('<M8[ns]')"
      ]
     },
     "execution_count": 22,
     "metadata": {},
     "output_type": "execute_result"
    }
   ],
   "source": [
    "# Verify the changes\n",
    "flat_resale_90_99['month'].dtype"
   ]
  },
  {
   "cell_type": "markdown",
   "id": "089dfd32",
   "metadata": {},
   "source": [
    "### 03.2 Flat Resale Data: Jan 2000 ~ Feb 2012"
   ]
  },
  {
   "cell_type": "code",
   "execution_count": 23,
   "id": "43f74ee3",
   "metadata": {
    "scrolled": true
   },
   "outputs": [
    {
     "name": "stdout",
     "output_type": "stream",
     "text": [
      "<class 'pandas.core.frame.DataFrame'>\n",
      "RangeIndex: 369651 entries, 0 to 369650\n",
      "Data columns (total 10 columns):\n",
      " #   Column               Non-Null Count   Dtype  \n",
      "---  ------               --------------   -----  \n",
      " 0   month                369651 non-null  object \n",
      " 1   town                 369651 non-null  object \n",
      " 2   flat_type            369651 non-null  object \n",
      " 3   block                369651 non-null  object \n",
      " 4   street_name          369651 non-null  object \n",
      " 5   storey_range         369651 non-null  object \n",
      " 6   floor_area_sqm       369651 non-null  float64\n",
      " 7   flat_model           369651 non-null  object \n",
      " 8   lease_commence_date  369651 non-null  int64  \n",
      " 9   resale_price         369651 non-null  float64\n",
      "dtypes: float64(2), int64(1), object(7)\n",
      "memory usage: 28.2+ MB\n"
     ]
    }
   ],
   "source": [
    "flat_resale_00_12.info()"
   ]
  },
  {
   "cell_type": "code",
   "execution_count": 24,
   "id": "d617f0c4",
   "metadata": {},
   "outputs": [],
   "source": [
    "# Change 'month' column into datetime\n",
    "flat_resale_00_12['month'] = pd.to_datetime(flat_resale_00_12['month'])"
   ]
  },
  {
   "cell_type": "code",
   "execution_count": 25,
   "id": "9cd5cbb2",
   "metadata": {
    "scrolled": true
   },
   "outputs": [
    {
     "data": {
      "text/plain": [
       "dtype('<M8[ns]')"
      ]
     },
     "execution_count": 25,
     "metadata": {},
     "output_type": "execute_result"
    }
   ],
   "source": [
    "# Verify the changes\n",
    "flat_resale_00_12['month'].dtype"
   ]
  },
  {
   "cell_type": "markdown",
   "id": "f3673613",
   "metadata": {},
   "source": [
    "### 03.3 Flat Resale Data: Mar 2012 ~ Dec 2014"
   ]
  },
  {
   "cell_type": "code",
   "execution_count": 26,
   "id": "e2ad2223",
   "metadata": {},
   "outputs": [
    {
     "name": "stdout",
     "output_type": "stream",
     "text": [
      "<class 'pandas.core.frame.DataFrame'>\n",
      "RangeIndex: 52203 entries, 0 to 52202\n",
      "Data columns (total 10 columns):\n",
      " #   Column               Non-Null Count  Dtype  \n",
      "---  ------               --------------  -----  \n",
      " 0   month                52203 non-null  object \n",
      " 1   town                 52203 non-null  object \n",
      " 2   flat_type            52203 non-null  object \n",
      " 3   block                52203 non-null  object \n",
      " 4   street_name          52203 non-null  object \n",
      " 5   storey_range         52203 non-null  object \n",
      " 6   floor_area_sqm       52203 non-null  float64\n",
      " 7   flat_model           52203 non-null  object \n",
      " 8   lease_commence_date  52203 non-null  int64  \n",
      " 9   resale_price         52203 non-null  float64\n",
      "dtypes: float64(2), int64(1), object(7)\n",
      "memory usage: 4.0+ MB\n"
     ]
    }
   ],
   "source": [
    "flat_resale_12_14.info()"
   ]
  },
  {
   "cell_type": "code",
   "execution_count": 27,
   "id": "28bbf511",
   "metadata": {},
   "outputs": [],
   "source": [
    "# Change 'month' column into datetime\n",
    "flat_resale_12_14['month'] = pd.to_datetime(flat_resale_12_14['month'])"
   ]
  },
  {
   "cell_type": "code",
   "execution_count": 28,
   "id": "8cf9b3b2",
   "metadata": {
    "scrolled": true
   },
   "outputs": [
    {
     "data": {
      "text/plain": [
       "dtype('<M8[ns]')"
      ]
     },
     "execution_count": 28,
     "metadata": {},
     "output_type": "execute_result"
    }
   ],
   "source": [
    "# Verify the changes\n",
    "flat_resale_12_14['month'].dtype"
   ]
  },
  {
   "cell_type": "markdown",
   "id": "de3a39e9",
   "metadata": {},
   "source": [
    "### 03.4 Flat Resale Data: Jan 2015 ~ Dec 2016"
   ]
  },
  {
   "cell_type": "code",
   "execution_count": 29,
   "id": "1f3626bf",
   "metadata": {},
   "outputs": [
    {
     "name": "stdout",
     "output_type": "stream",
     "text": [
      "<class 'pandas.core.frame.DataFrame'>\n",
      "RangeIndex: 37153 entries, 0 to 37152\n",
      "Data columns (total 11 columns):\n",
      " #   Column               Non-Null Count  Dtype  \n",
      "---  ------               --------------  -----  \n",
      " 0   month                37153 non-null  object \n",
      " 1   town                 37153 non-null  object \n",
      " 2   flat_type            37153 non-null  object \n",
      " 3   block                37153 non-null  object \n",
      " 4   street_name          37153 non-null  object \n",
      " 5   storey_range         37153 non-null  object \n",
      " 6   floor_area_sqm       37153 non-null  float64\n",
      " 7   flat_model           37153 non-null  object \n",
      " 8   lease_commence_date  37153 non-null  int64  \n",
      " 9   remaining_lease      37153 non-null  int64  \n",
      " 10  resale_price         37153 non-null  float64\n",
      "dtypes: float64(2), int64(2), object(7)\n",
      "memory usage: 3.1+ MB\n"
     ]
    }
   ],
   "source": [
    "flat_resale_15_16.info()"
   ]
  },
  {
   "cell_type": "code",
   "execution_count": 30,
   "id": "118caa84",
   "metadata": {},
   "outputs": [],
   "source": [
    "# Change 'month' column into datetime\n",
    "flat_resale_15_16['month'] = pd.to_datetime(flat_resale_15_16['month'])"
   ]
  },
  {
   "cell_type": "code",
   "execution_count": 31,
   "id": "cadb5928",
   "metadata": {
    "scrolled": true
   },
   "outputs": [
    {
     "data": {
      "text/plain": [
       "dtype('<M8[ns]')"
      ]
     },
     "execution_count": 31,
     "metadata": {},
     "output_type": "execute_result"
    }
   ],
   "source": [
    "# Verify the changes\n",
    "flat_resale_15_16['month'].dtype"
   ]
  },
  {
   "cell_type": "markdown",
   "id": "d28cf754",
   "metadata": {},
   "source": [
    "### 03.5 Flat Resale Data: Jan 2017 ~ Dec 2023"
   ]
  },
  {
   "cell_type": "code",
   "execution_count": 32,
   "id": "58a67211",
   "metadata": {},
   "outputs": [
    {
     "name": "stdout",
     "output_type": "stream",
     "text": [
      "<class 'pandas.core.frame.DataFrame'>\n",
      "RangeIndex: 169168 entries, 0 to 169167\n",
      "Data columns (total 11 columns):\n",
      " #   Column               Non-Null Count   Dtype  \n",
      "---  ------               --------------   -----  \n",
      " 0   month                169168 non-null  object \n",
      " 1   town                 169168 non-null  object \n",
      " 2   flat_type            169168 non-null  object \n",
      " 3   block                169168 non-null  object \n",
      " 4   street_name          169168 non-null  object \n",
      " 5   storey_range         169168 non-null  object \n",
      " 6   floor_area_sqm       169168 non-null  float64\n",
      " 7   flat_model           169168 non-null  object \n",
      " 8   lease_commence_date  169168 non-null  int64  \n",
      " 9   remaining_lease      169168 non-null  object \n",
      " 10  resale_price         169168 non-null  float64\n",
      "dtypes: float64(2), int64(1), object(8)\n",
      "memory usage: 14.2+ MB\n"
     ]
    }
   ],
   "source": [
    "flat_resale_17_23.info()"
   ]
  },
  {
   "cell_type": "code",
   "execution_count": 33,
   "id": "181f580e",
   "metadata": {},
   "outputs": [],
   "source": [
    "# Change 'month' column into datetime\n",
    "flat_resale_17_23['month'] = pd.to_datetime(flat_resale_17_23['month'])"
   ]
  },
  {
   "cell_type": "code",
   "execution_count": 34,
   "id": "aa2766b3",
   "metadata": {
    "scrolled": true
   },
   "outputs": [
    {
     "data": {
      "text/plain": [
       "dtype('<M8[ns]')"
      ]
     },
     "execution_count": 34,
     "metadata": {},
     "output_type": "execute_result"
    }
   ],
   "source": [
    "# Verify the changes\n",
    "flat_resale_17_23['month'].dtype"
   ]
  },
  {
   "cell_type": "markdown",
   "id": "7caff62f",
   "metadata": {},
   "source": [
    "# 04. Find Mixed-Type Data"
   ]
  },
  {
   "cell_type": "markdown",
   "id": "4df00a19",
   "metadata": {},
   "source": [
    "### 04.1 Flat Resale Data: Jan 1990 ~ Dec 1999"
   ]
  },
  {
   "cell_type": "code",
   "execution_count": 35,
   "id": "1c82ba1d",
   "metadata": {},
   "outputs": [],
   "source": [
    "# Check for any mixed-type columns - no output means no mixed-type data\n",
    "for col in flat_resale_90_99.columns.tolist():\n",
    "    weird = (flat_resale_90_99[[col]].applymap(type) != flat_resale_90_99[[col]].iloc[0].apply(type)).any(axis = 1)\n",
    "    if len (flat_resale_90_99[weird]) > 0:\n",
    "        print (col)"
   ]
  },
  {
   "cell_type": "markdown",
   "id": "e3eea8dc",
   "metadata": {},
   "source": [
    "No unusual findings."
   ]
  },
  {
   "cell_type": "markdown",
   "id": "cc87bb75",
   "metadata": {},
   "source": [
    "### 04.2 Flat Resale Data: Jan 2000 ~ Feb 2012"
   ]
  },
  {
   "cell_type": "code",
   "execution_count": 36,
   "id": "b23bbc3f",
   "metadata": {},
   "outputs": [],
   "source": [
    "# Check for any mixed-type columns - no output means no mixed-type data\n",
    "for col in flat_resale_00_12.columns.tolist():\n",
    "    weird = (flat_resale_00_12[[col]].applymap(type) != flat_resale_00_12[[col]].iloc[0].apply(type)).any(axis = 1)\n",
    "    if len (flat_resale_00_12[weird]) > 0:\n",
    "        print (col)"
   ]
  },
  {
   "cell_type": "markdown",
   "id": "ebc5295d",
   "metadata": {},
   "source": [
    "No unusual findings."
   ]
  },
  {
   "cell_type": "markdown",
   "id": "b0985e91",
   "metadata": {},
   "source": [
    "### 04.3 Flat Resale Data: Mar 2012 ~ Dec 2014"
   ]
  },
  {
   "cell_type": "code",
   "execution_count": 37,
   "id": "b3fe6e01",
   "metadata": {},
   "outputs": [],
   "source": [
    "# Check for any mixed-type columns - no output means no mixed-type data\n",
    "for col in flat_resale_12_14.columns.tolist():\n",
    "    weird = (flat_resale_12_14[[col]].applymap(type) != flat_resale_12_14[[col]].iloc[0].apply(type)).any(axis = 1)\n",
    "    if len (flat_resale_12_14[weird]) > 0:\n",
    "        print (col)"
   ]
  },
  {
   "cell_type": "markdown",
   "id": "b3df1e4b",
   "metadata": {},
   "source": [
    "No unusual findings."
   ]
  },
  {
   "cell_type": "markdown",
   "id": "ba7bfc40",
   "metadata": {},
   "source": [
    "### 04.4 Flat Resale Data: Jan 2015 ~ Dec 2016"
   ]
  },
  {
   "cell_type": "code",
   "execution_count": 38,
   "id": "4bb932be",
   "metadata": {},
   "outputs": [],
   "source": [
    "# Check for any mixed-type columns - no output means no mixed-type data\n",
    "for col in flat_resale_15_16.columns.tolist():\n",
    "    weird = (flat_resale_15_16[[col]].applymap(type) != flat_resale_15_16[[col]].iloc[0].apply(type)).any(axis = 1)\n",
    "    if len (flat_resale_15_16[weird]) > 0:\n",
    "        print (col)"
   ]
  },
  {
   "cell_type": "markdown",
   "id": "12c828b8",
   "metadata": {},
   "source": [
    "No unusual findings."
   ]
  },
  {
   "cell_type": "markdown",
   "id": "a1ae1367",
   "metadata": {},
   "source": [
    "### 04.5 Flat Resale Data: Jan 2017 ~ Dec 2023"
   ]
  },
  {
   "cell_type": "code",
   "execution_count": 39,
   "id": "195cc129",
   "metadata": {},
   "outputs": [],
   "source": [
    "# Check for any mixed-type columns - no output means no mixed-type data\n",
    "for col in flat_resale_17_23.columns.tolist():\n",
    "    weird = (flat_resale_17_23[[col]].applymap(type) != flat_resale_17_23[[col]].iloc[0].apply(type)).any(axis = 1)\n",
    "    if len (flat_resale_17_23[weird]) > 0:\n",
    "        print (col)"
   ]
  },
  {
   "cell_type": "markdown",
   "id": "ad8b766b",
   "metadata": {},
   "source": [
    "No unusual findings."
   ]
  },
  {
   "cell_type": "markdown",
   "id": "0cd619d7",
   "metadata": {},
   "source": [
    "# 05. Data Accuracy"
   ]
  },
  {
   "cell_type": "markdown",
   "id": "11ffbbd0",
   "metadata": {},
   "source": [
    "### 05.1 Flat Resale Data: Jan 1990 ~ Dec 1999"
   ]
  },
  {
   "cell_type": "code",
   "execution_count": 40,
   "id": "27222bee",
   "metadata": {},
   "outputs": [
    {
     "data": {
      "text/html": [
       "<div>\n",
       "<style scoped>\n",
       "    .dataframe tbody tr th:only-of-type {\n",
       "        vertical-align: middle;\n",
       "    }\n",
       "\n",
       "    .dataframe tbody tr th {\n",
       "        vertical-align: top;\n",
       "    }\n",
       "\n",
       "    .dataframe thead th {\n",
       "        text-align: right;\n",
       "    }\n",
       "</style>\n",
       "<table border=\"1\" class=\"dataframe\">\n",
       "  <thead>\n",
       "    <tr style=\"text-align: right;\">\n",
       "      <th></th>\n",
       "      <th>month</th>\n",
       "      <th>floor_area_sqm</th>\n",
       "      <th>lease_commence_date</th>\n",
       "      <th>resale_price</th>\n",
       "    </tr>\n",
       "  </thead>\n",
       "  <tbody>\n",
       "    <tr>\n",
       "      <th>count</th>\n",
       "      <td>287196</td>\n",
       "      <td>287196.000000</td>\n",
       "      <td>287196.000000</td>\n",
       "      <td>287196.00000</td>\n",
       "    </tr>\n",
       "    <tr>\n",
       "      <th>mean</th>\n",
       "      <td>1996-05-19 04:51:40.154598528</td>\n",
       "      <td>93.351778</td>\n",
       "      <td>1983.206897</td>\n",
       "      <td>219541.67471</td>\n",
       "    </tr>\n",
       "    <tr>\n",
       "      <th>min</th>\n",
       "      <td>1990-01-01 00:00:00</td>\n",
       "      <td>28.000000</td>\n",
       "      <td>1967.000000</td>\n",
       "      <td>5000.00000</td>\n",
       "    </tr>\n",
       "    <tr>\n",
       "      <th>25%</th>\n",
       "      <td>1994-06-01 00:00:00</td>\n",
       "      <td>68.000000</td>\n",
       "      <td>1979.000000</td>\n",
       "      <td>127000.00000</td>\n",
       "    </tr>\n",
       "    <tr>\n",
       "      <th>50%</th>\n",
       "      <td>1996-11-01 00:00:00</td>\n",
       "      <td>91.000000</td>\n",
       "      <td>1984.000000</td>\n",
       "      <td>195000.00000</td>\n",
       "    </tr>\n",
       "    <tr>\n",
       "      <th>75%</th>\n",
       "      <td>1998-10-01 00:00:00</td>\n",
       "      <td>113.000000</td>\n",
       "      <td>1987.000000</td>\n",
       "      <td>298000.00000</td>\n",
       "    </tr>\n",
       "    <tr>\n",
       "      <th>max</th>\n",
       "      <td>1999-12-01 00:00:00</td>\n",
       "      <td>307.000000</td>\n",
       "      <td>1997.000000</td>\n",
       "      <td>900000.00000</td>\n",
       "    </tr>\n",
       "    <tr>\n",
       "      <th>std</th>\n",
       "      <td>NaN</td>\n",
       "      <td>27.361872</td>\n",
       "      <td>6.085632</td>\n",
       "      <td>128145.25346</td>\n",
       "    </tr>\n",
       "  </tbody>\n",
       "</table>\n",
       "</div>"
      ],
      "text/plain": [
       "                               month  floor_area_sqm  lease_commence_date  \\\n",
       "count                         287196   287196.000000        287196.000000   \n",
       "mean   1996-05-19 04:51:40.154598528       93.351778          1983.206897   \n",
       "min              1990-01-01 00:00:00       28.000000          1967.000000   \n",
       "25%              1994-06-01 00:00:00       68.000000          1979.000000   \n",
       "50%              1996-11-01 00:00:00       91.000000          1984.000000   \n",
       "75%              1998-10-01 00:00:00      113.000000          1987.000000   \n",
       "max              1999-12-01 00:00:00      307.000000          1997.000000   \n",
       "std                              NaN       27.361872             6.085632   \n",
       "\n",
       "       resale_price  \n",
       "count  287196.00000  \n",
       "mean   219541.67471  \n",
       "min      5000.00000  \n",
       "25%    127000.00000  \n",
       "50%    195000.00000  \n",
       "75%    298000.00000  \n",
       "max    900000.00000  \n",
       "std    128145.25346  "
      ]
     },
     "execution_count": 40,
     "metadata": {},
     "output_type": "execute_result"
    }
   ],
   "source": [
    "# Check the descriptive statistics of numerical data\n",
    "flat_resale_90_99.describe()"
   ]
  },
  {
   "cell_type": "markdown",
   "id": "e4b986d5",
   "metadata": {},
   "source": [
    "No unusual findings."
   ]
  },
  {
   "cell_type": "markdown",
   "id": "22f30aab",
   "metadata": {},
   "source": [
    "### 05.2 Flat Resale Data: Jan 2000 ~ Feb 2012"
   ]
  },
  {
   "cell_type": "code",
   "execution_count": 41,
   "id": "0f013ec6",
   "metadata": {},
   "outputs": [
    {
     "data": {
      "text/html": [
       "<div>\n",
       "<style scoped>\n",
       "    .dataframe tbody tr th:only-of-type {\n",
       "        vertical-align: middle;\n",
       "    }\n",
       "\n",
       "    .dataframe tbody tr th {\n",
       "        vertical-align: top;\n",
       "    }\n",
       "\n",
       "    .dataframe thead th {\n",
       "        text-align: right;\n",
       "    }\n",
       "</style>\n",
       "<table border=\"1\" class=\"dataframe\">\n",
       "  <thead>\n",
       "    <tr style=\"text-align: right;\">\n",
       "      <th></th>\n",
       "      <th>month</th>\n",
       "      <th>floor_area_sqm</th>\n",
       "      <th>lease_commence_date</th>\n",
       "      <th>resale_price</th>\n",
       "    </tr>\n",
       "  </thead>\n",
       "  <tbody>\n",
       "    <tr>\n",
       "      <th>count</th>\n",
       "      <td>369651</td>\n",
       "      <td>369651.000000</td>\n",
       "      <td>369651.000000</td>\n",
       "      <td>369651.000000</td>\n",
       "    </tr>\n",
       "    <tr>\n",
       "      <th>mean</th>\n",
       "      <td>2005-09-16 23:21:18.086627584</td>\n",
       "      <td>96.586204</td>\n",
       "      <td>1987.984659</td>\n",
       "      <td>281271.860617</td>\n",
       "    </tr>\n",
       "    <tr>\n",
       "      <th>min</th>\n",
       "      <td>2000-01-01 00:00:00</td>\n",
       "      <td>28.000000</td>\n",
       "      <td>1966.000000</td>\n",
       "      <td>28000.000000</td>\n",
       "    </tr>\n",
       "    <tr>\n",
       "      <th>25%</th>\n",
       "      <td>2002-07-01 00:00:00</td>\n",
       "      <td>73.000000</td>\n",
       "      <td>1981.000000</td>\n",
       "      <td>195000.000000</td>\n",
       "    </tr>\n",
       "    <tr>\n",
       "      <th>50%</th>\n",
       "      <td>2005-07-01 00:00:00</td>\n",
       "      <td>100.000000</td>\n",
       "      <td>1987.000000</td>\n",
       "      <td>263000.000000</td>\n",
       "    </tr>\n",
       "    <tr>\n",
       "      <th>75%</th>\n",
       "      <td>2008-12-01 00:00:00</td>\n",
       "      <td>115.000000</td>\n",
       "      <td>1997.000000</td>\n",
       "      <td>350000.000000</td>\n",
       "    </tr>\n",
       "    <tr>\n",
       "      <th>max</th>\n",
       "      <td>2012-02-01 00:00:00</td>\n",
       "      <td>297.000000</td>\n",
       "      <td>2012.000000</td>\n",
       "      <td>903000.000000</td>\n",
       "    </tr>\n",
       "    <tr>\n",
       "      <th>std</th>\n",
       "      <td>NaN</td>\n",
       "      <td>25.598886</td>\n",
       "      <td>9.122421</td>\n",
       "      <td>112118.967206</td>\n",
       "    </tr>\n",
       "  </tbody>\n",
       "</table>\n",
       "</div>"
      ],
      "text/plain": [
       "                               month  floor_area_sqm  lease_commence_date  \\\n",
       "count                         369651   369651.000000        369651.000000   \n",
       "mean   2005-09-16 23:21:18.086627584       96.586204          1987.984659   \n",
       "min              2000-01-01 00:00:00       28.000000          1966.000000   \n",
       "25%              2002-07-01 00:00:00       73.000000          1981.000000   \n",
       "50%              2005-07-01 00:00:00      100.000000          1987.000000   \n",
       "75%              2008-12-01 00:00:00      115.000000          1997.000000   \n",
       "max              2012-02-01 00:00:00      297.000000          2012.000000   \n",
       "std                              NaN       25.598886             9.122421   \n",
       "\n",
       "        resale_price  \n",
       "count  369651.000000  \n",
       "mean   281271.860617  \n",
       "min     28000.000000  \n",
       "25%    195000.000000  \n",
       "50%    263000.000000  \n",
       "75%    350000.000000  \n",
       "max    903000.000000  \n",
       "std    112118.967206  "
      ]
     },
     "execution_count": 41,
     "metadata": {},
     "output_type": "execute_result"
    }
   ],
   "source": [
    "# Check the descriptive statistics of numerical data\n",
    "flat_resale_00_12.describe()"
   ]
  },
  {
   "cell_type": "markdown",
   "id": "f20f16cd",
   "metadata": {},
   "source": [
    "No unusual findings."
   ]
  },
  {
   "cell_type": "markdown",
   "id": "a62e2099",
   "metadata": {},
   "source": [
    "### 05.3 Flat Resale Data: Mar 2012 ~ Dec 2014"
   ]
  },
  {
   "cell_type": "code",
   "execution_count": 42,
   "id": "4b93bd80",
   "metadata": {},
   "outputs": [
    {
     "data": {
      "text/html": [
       "<div>\n",
       "<style scoped>\n",
       "    .dataframe tbody tr th:only-of-type {\n",
       "        vertical-align: middle;\n",
       "    }\n",
       "\n",
       "    .dataframe tbody tr th {\n",
       "        vertical-align: top;\n",
       "    }\n",
       "\n",
       "    .dataframe thead th {\n",
       "        text-align: right;\n",
       "    }\n",
       "</style>\n",
       "<table border=\"1\" class=\"dataframe\">\n",
       "  <thead>\n",
       "    <tr style=\"text-align: right;\">\n",
       "      <th></th>\n",
       "      <th>month</th>\n",
       "      <th>floor_area_sqm</th>\n",
       "      <th>lease_commence_date</th>\n",
       "      <th>resale_price</th>\n",
       "    </tr>\n",
       "  </thead>\n",
       "  <tbody>\n",
       "    <tr>\n",
       "      <th>count</th>\n",
       "      <td>52203</td>\n",
       "      <td>52203.000000</td>\n",
       "      <td>52203.000000</td>\n",
       "      <td>5.220300e+04</td>\n",
       "    </tr>\n",
       "    <tr>\n",
       "      <th>mean</th>\n",
       "      <td>2013-05-27 14:30:29.274179328</td>\n",
       "      <td>96.203285</td>\n",
       "      <td>1989.512902</td>\n",
       "      <td>4.612147e+05</td>\n",
       "    </tr>\n",
       "    <tr>\n",
       "      <th>min</th>\n",
       "      <td>2012-03-01 00:00:00</td>\n",
       "      <td>31.000000</td>\n",
       "      <td>1966.000000</td>\n",
       "      <td>1.950000e+05</td>\n",
       "    </tr>\n",
       "    <tr>\n",
       "      <th>25%</th>\n",
       "      <td>2012-08-01 00:00:00</td>\n",
       "      <td>73.000000</td>\n",
       "      <td>1983.000000</td>\n",
       "      <td>3.700000e+05</td>\n",
       "    </tr>\n",
       "    <tr>\n",
       "      <th>50%</th>\n",
       "      <td>2013-05-01 00:00:00</td>\n",
       "      <td>95.000000</td>\n",
       "      <td>1988.000000</td>\n",
       "      <td>4.400000e+05</td>\n",
       "    </tr>\n",
       "    <tr>\n",
       "      <th>75%</th>\n",
       "      <td>2014-03-01 00:00:00</td>\n",
       "      <td>111.000000</td>\n",
       "      <td>1999.000000</td>\n",
       "      <td>5.250000e+05</td>\n",
       "    </tr>\n",
       "    <tr>\n",
       "      <th>max</th>\n",
       "      <td>2014-12-01 00:00:00</td>\n",
       "      <td>266.000000</td>\n",
       "      <td>2012.000000</td>\n",
       "      <td>1.088888e+06</td>\n",
       "    </tr>\n",
       "    <tr>\n",
       "      <th>std</th>\n",
       "      <td>NaN</td>\n",
       "      <td>24.984010</td>\n",
       "      <td>10.139550</td>\n",
       "      <td>1.225534e+05</td>\n",
       "    </tr>\n",
       "  </tbody>\n",
       "</table>\n",
       "</div>"
      ],
      "text/plain": [
       "                               month  floor_area_sqm  lease_commence_date  \\\n",
       "count                          52203    52203.000000         52203.000000   \n",
       "mean   2013-05-27 14:30:29.274179328       96.203285          1989.512902   \n",
       "min              2012-03-01 00:00:00       31.000000          1966.000000   \n",
       "25%              2012-08-01 00:00:00       73.000000          1983.000000   \n",
       "50%              2013-05-01 00:00:00       95.000000          1988.000000   \n",
       "75%              2014-03-01 00:00:00      111.000000          1999.000000   \n",
       "max              2014-12-01 00:00:00      266.000000          2012.000000   \n",
       "std                              NaN       24.984010            10.139550   \n",
       "\n",
       "       resale_price  \n",
       "count  5.220300e+04  \n",
       "mean   4.612147e+05  \n",
       "min    1.950000e+05  \n",
       "25%    3.700000e+05  \n",
       "50%    4.400000e+05  \n",
       "75%    5.250000e+05  \n",
       "max    1.088888e+06  \n",
       "std    1.225534e+05  "
      ]
     },
     "execution_count": 42,
     "metadata": {},
     "output_type": "execute_result"
    }
   ],
   "source": [
    "# Check the descriptive statistics of numerical data\n",
    "flat_resale_12_14.describe()"
   ]
  },
  {
   "cell_type": "markdown",
   "id": "e0a792a5",
   "metadata": {},
   "source": [
    "No unusual findings."
   ]
  },
  {
   "cell_type": "markdown",
   "id": "65cc0ea3",
   "metadata": {},
   "source": [
    "### 05.4 Flat Resale Data: Jan 2015 ~ Dec 2016"
   ]
  },
  {
   "cell_type": "code",
   "execution_count": 43,
   "id": "ae6d556d",
   "metadata": {},
   "outputs": [
    {
     "data": {
      "text/html": [
       "<div>\n",
       "<style scoped>\n",
       "    .dataframe tbody tr th:only-of-type {\n",
       "        vertical-align: middle;\n",
       "    }\n",
       "\n",
       "    .dataframe tbody tr th {\n",
       "        vertical-align: top;\n",
       "    }\n",
       "\n",
       "    .dataframe thead th {\n",
       "        text-align: right;\n",
       "    }\n",
       "</style>\n",
       "<table border=\"1\" class=\"dataframe\">\n",
       "  <thead>\n",
       "    <tr style=\"text-align: right;\">\n",
       "      <th></th>\n",
       "      <th>month</th>\n",
       "      <th>floor_area_sqm</th>\n",
       "      <th>lease_commence_date</th>\n",
       "      <th>remaining_lease</th>\n",
       "      <th>resale_price</th>\n",
       "    </tr>\n",
       "  </thead>\n",
       "  <tbody>\n",
       "    <tr>\n",
       "      <th>count</th>\n",
       "      <td>37153</td>\n",
       "      <td>37153.000000</td>\n",
       "      <td>37153.000000</td>\n",
       "      <td>37153.000000</td>\n",
       "      <td>3.715300e+04</td>\n",
       "    </tr>\n",
       "    <tr>\n",
       "      <th>mean</th>\n",
       "      <td>2015-12-28 08:18:19.195219712</td>\n",
       "      <td>97.020386</td>\n",
       "      <td>1990.920195</td>\n",
       "      <td>73.913116</td>\n",
       "      <td>4.368628e+05</td>\n",
       "    </tr>\n",
       "    <tr>\n",
       "      <th>min</th>\n",
       "      <td>2015-01-01 00:00:00</td>\n",
       "      <td>31.000000</td>\n",
       "      <td>1966.000000</td>\n",
       "      <td>48.000000</td>\n",
       "      <td>1.900000e+05</td>\n",
       "    </tr>\n",
       "    <tr>\n",
       "      <th>25%</th>\n",
       "      <td>2015-07-01 00:00:00</td>\n",
       "      <td>74.000000</td>\n",
       "      <td>1984.000000</td>\n",
       "      <td>66.000000</td>\n",
       "      <td>3.400000e+05</td>\n",
       "    </tr>\n",
       "    <tr>\n",
       "      <th>50%</th>\n",
       "      <td>2016-01-01 00:00:00</td>\n",
       "      <td>96.000000</td>\n",
       "      <td>1989.000000</td>\n",
       "      <td>72.000000</td>\n",
       "      <td>4.080000e+05</td>\n",
       "    </tr>\n",
       "    <tr>\n",
       "      <th>75%</th>\n",
       "      <td>2016-07-01 00:00:00</td>\n",
       "      <td>111.000000</td>\n",
       "      <td>2000.000000</td>\n",
       "      <td>83.000000</td>\n",
       "      <td>4.950000e+05</td>\n",
       "    </tr>\n",
       "    <tr>\n",
       "      <th>max</th>\n",
       "      <td>2016-12-01 00:00:00</td>\n",
       "      <td>280.000000</td>\n",
       "      <td>2013.000000</td>\n",
       "      <td>97.000000</td>\n",
       "      <td>1.150000e+06</td>\n",
       "    </tr>\n",
       "    <tr>\n",
       "      <th>std</th>\n",
       "      <td>NaN</td>\n",
       "      <td>24.198360</td>\n",
       "      <td>10.862330</td>\n",
       "      <td>10.885456</td>\n",
       "      <td>1.358052e+05</td>\n",
       "    </tr>\n",
       "  </tbody>\n",
       "</table>\n",
       "</div>"
      ],
      "text/plain": [
       "                               month  floor_area_sqm  lease_commence_date  \\\n",
       "count                          37153    37153.000000         37153.000000   \n",
       "mean   2015-12-28 08:18:19.195219712       97.020386          1990.920195   \n",
       "min              2015-01-01 00:00:00       31.000000          1966.000000   \n",
       "25%              2015-07-01 00:00:00       74.000000          1984.000000   \n",
       "50%              2016-01-01 00:00:00       96.000000          1989.000000   \n",
       "75%              2016-07-01 00:00:00      111.000000          2000.000000   \n",
       "max              2016-12-01 00:00:00      280.000000          2013.000000   \n",
       "std                              NaN       24.198360            10.862330   \n",
       "\n",
       "       remaining_lease  resale_price  \n",
       "count     37153.000000  3.715300e+04  \n",
       "mean         73.913116  4.368628e+05  \n",
       "min          48.000000  1.900000e+05  \n",
       "25%          66.000000  3.400000e+05  \n",
       "50%          72.000000  4.080000e+05  \n",
       "75%          83.000000  4.950000e+05  \n",
       "max          97.000000  1.150000e+06  \n",
       "std          10.885456  1.358052e+05  "
      ]
     },
     "execution_count": 43,
     "metadata": {},
     "output_type": "execute_result"
    }
   ],
   "source": [
    "# Check the descriptive statistics of numerical data\n",
    "flat_resale_15_16.describe()"
   ]
  },
  {
   "cell_type": "markdown",
   "id": "14a0fdc0",
   "metadata": {},
   "source": [
    "No unusual findings."
   ]
  },
  {
   "cell_type": "markdown",
   "id": "3e25f512",
   "metadata": {},
   "source": [
    "### 05.5 Flat Resale Data: Jan 2017 ~ Dec 2023"
   ]
  },
  {
   "cell_type": "code",
   "execution_count": 44,
   "id": "b32bce63",
   "metadata": {},
   "outputs": [
    {
     "data": {
      "text/html": [
       "<div>\n",
       "<style scoped>\n",
       "    .dataframe tbody tr th:only-of-type {\n",
       "        vertical-align: middle;\n",
       "    }\n",
       "\n",
       "    .dataframe tbody tr th {\n",
       "        vertical-align: top;\n",
       "    }\n",
       "\n",
       "    .dataframe thead th {\n",
       "        text-align: right;\n",
       "    }\n",
       "</style>\n",
       "<table border=\"1\" class=\"dataframe\">\n",
       "  <thead>\n",
       "    <tr style=\"text-align: right;\">\n",
       "      <th></th>\n",
       "      <th>month</th>\n",
       "      <th>floor_area_sqm</th>\n",
       "      <th>lease_commence_date</th>\n",
       "      <th>resale_price</th>\n",
       "    </tr>\n",
       "  </thead>\n",
       "  <tbody>\n",
       "    <tr>\n",
       "      <th>count</th>\n",
       "      <td>169168</td>\n",
       "      <td>169168.000000</td>\n",
       "      <td>169168.000000</td>\n",
       "      <td>1.691680e+05</td>\n",
       "    </tr>\n",
       "    <tr>\n",
       "      <th>mean</th>\n",
       "      <td>2020-09-01 15:59:23.908068096</td>\n",
       "      <td>97.280891</td>\n",
       "      <td>1995.860305</td>\n",
       "      <td>4.909790e+05</td>\n",
       "    </tr>\n",
       "    <tr>\n",
       "      <th>min</th>\n",
       "      <td>2017-01-01 00:00:00</td>\n",
       "      <td>31.000000</td>\n",
       "      <td>1966.000000</td>\n",
       "      <td>1.400000e+05</td>\n",
       "    </tr>\n",
       "    <tr>\n",
       "      <th>25%</th>\n",
       "      <td>2019-01-01 00:00:00</td>\n",
       "      <td>82.000000</td>\n",
       "      <td>1985.000000</td>\n",
       "      <td>3.650000e+05</td>\n",
       "    </tr>\n",
       "    <tr>\n",
       "      <th>50%</th>\n",
       "      <td>2020-11-01 00:00:00</td>\n",
       "      <td>93.000000</td>\n",
       "      <td>1996.000000</td>\n",
       "      <td>4.600000e+05</td>\n",
       "    </tr>\n",
       "    <tr>\n",
       "      <th>75%</th>\n",
       "      <td>2022-05-01 00:00:00</td>\n",
       "      <td>112.000000</td>\n",
       "      <td>2009.000000</td>\n",
       "      <td>5.830000e+05</td>\n",
       "    </tr>\n",
       "    <tr>\n",
       "      <th>max</th>\n",
       "      <td>2023-12-01 00:00:00</td>\n",
       "      <td>249.000000</td>\n",
       "      <td>2022.000000</td>\n",
       "      <td>1.500000e+06</td>\n",
       "    </tr>\n",
       "    <tr>\n",
       "      <th>std</th>\n",
       "      <td>NaN</td>\n",
       "      <td>24.020269</td>\n",
       "      <td>13.943537</td>\n",
       "      <td>1.698532e+05</td>\n",
       "    </tr>\n",
       "  </tbody>\n",
       "</table>\n",
       "</div>"
      ],
      "text/plain": [
       "                               month  floor_area_sqm  lease_commence_date  \\\n",
       "count                         169168   169168.000000        169168.000000   \n",
       "mean   2020-09-01 15:59:23.908068096       97.280891          1995.860305   \n",
       "min              2017-01-01 00:00:00       31.000000          1966.000000   \n",
       "25%              2019-01-01 00:00:00       82.000000          1985.000000   \n",
       "50%              2020-11-01 00:00:00       93.000000          1996.000000   \n",
       "75%              2022-05-01 00:00:00      112.000000          2009.000000   \n",
       "max              2023-12-01 00:00:00      249.000000          2022.000000   \n",
       "std                              NaN       24.020269            13.943537   \n",
       "\n",
       "       resale_price  \n",
       "count  1.691680e+05  \n",
       "mean   4.909790e+05  \n",
       "min    1.400000e+05  \n",
       "25%    3.650000e+05  \n",
       "50%    4.600000e+05  \n",
       "75%    5.830000e+05  \n",
       "max    1.500000e+06  \n",
       "std    1.698532e+05  "
      ]
     },
     "execution_count": 44,
     "metadata": {},
     "output_type": "execute_result"
    }
   ],
   "source": [
    "# Check the descriptive statistics of numerical data\n",
    "flat_resale_17_23.describe()"
   ]
  },
  {
   "cell_type": "markdown",
   "id": "29eff67e",
   "metadata": {},
   "source": [
    "No unusual findings."
   ]
  },
  {
   "cell_type": "markdown",
   "id": "52dd24e7",
   "metadata": {},
   "source": [
    "# 06. Data Consistency"
   ]
  },
  {
   "cell_type": "markdown",
   "id": "d6c86517",
   "metadata": {},
   "source": [
    "### 06.1 Flat Resale Data: Jan 1990 ~ Dec 1999"
   ]
  },
  {
   "cell_type": "code",
   "execution_count": 45,
   "id": "ab13c529",
   "metadata": {
    "scrolled": true
   },
   "outputs": [
    {
     "data": {
      "text/plain": [
       "town\n",
       "ANG MO KIO         20477\n",
       "BEDOK              27164\n",
       "BISHAN              8332\n",
       "BUKIT BATOK        16365\n",
       "BUKIT MERAH        10610\n",
       "BUKIT PANJANG       5615\n",
       "BUKIT TIMAH          938\n",
       "CENTRAL AREA        2492\n",
       "CHOA CHU KANG       8655\n",
       "CLEMENTI           11337\n",
       "GEYLANG            10476\n",
       "HOUGANG            15921\n",
       "JURONG EAST         9049\n",
       "JURONG WEST        19203\n",
       "KALLANG/WHAMPOA     8712\n",
       "LIM CHU KANG          64\n",
       "MARINE PARADE       3332\n",
       "PASIR RIS          10911\n",
       "QUEENSTOWN          9774\n",
       "SEMBAWANG             24\n",
       "SENGKANG             125\n",
       "SERANGOON           8527\n",
       "TAMPINES           30682\n",
       "TOA PAYOH          10942\n",
       "WOODLANDS           9680\n",
       "YISHUN             27789\n",
       "Name: count, dtype: int64"
      ]
     },
     "execution_count": 45,
     "metadata": {},
     "output_type": "execute_result"
    }
   ],
   "source": [
    "# A) town\n",
    "flat_resale_90_99['town'].value_counts(dropna = False).sort_index()"
   ]
  },
  {
   "cell_type": "markdown",
   "id": "62698b42",
   "metadata": {},
   "source": [
    "No unusual findings."
   ]
  },
  {
   "cell_type": "code",
   "execution_count": 46,
   "id": "dfccf024",
   "metadata": {
    "scrolled": true
   },
   "outputs": [
    {
     "data": {
      "text/plain": [
       "flat_type\n",
       "1 ROOM                 827\n",
       "2 ROOM                4140\n",
       "3 ROOM              113102\n",
       "4 ROOM               98521\n",
       "5 ROOM               48206\n",
       "EXECUTIVE            22121\n",
       "MULTI GENERATION       279\n",
       "Name: count, dtype: int64"
      ]
     },
     "execution_count": 46,
     "metadata": {},
     "output_type": "execute_result"
    }
   ],
   "source": [
    "# B) flat_type\n",
    "flat_resale_90_99['flat_type'].value_counts(dropna = False).sort_index()"
   ]
  },
  {
   "cell_type": "markdown",
   "id": "feecdbab",
   "metadata": {},
   "source": [
    "No unusual findings."
   ]
  },
  {
   "cell_type": "code",
   "execution_count": 47,
   "id": "a3a93ecd",
   "metadata": {},
   "outputs": [
    {
     "data": {
      "text/plain": [
       "storey_range\n",
       "01 TO 03    60965\n",
       "04 TO 06    75455\n",
       "07 TO 09    69393\n",
       "10 TO 12    58442\n",
       "13 TO 15    13692\n",
       "16 TO 18     4391\n",
       "19 TO 21     2609\n",
       "22 TO 24     1713\n",
       "25 TO 27      536\n",
       "Name: count, dtype: int64"
      ]
     },
     "execution_count": 47,
     "metadata": {},
     "output_type": "execute_result"
    }
   ],
   "source": [
    "# C) storey_range\n",
    "flat_resale_90_99['storey_range'].value_counts(dropna = False).sort_index()"
   ]
  },
  {
   "cell_type": "markdown",
   "id": "04740159",
   "metadata": {},
   "source": [
    "No unusual findings."
   ]
  },
  {
   "cell_type": "code",
   "execution_count": 48,
   "id": "7dd7d1de",
   "metadata": {},
   "outputs": [
    {
     "data": {
      "text/plain": [
       "flat_model\n",
       "2-ROOM                    21\n",
       "APARTMENT               9901\n",
       "IMPROVED               73589\n",
       "IMPROVED-MAISONETTE       44\n",
       "MAISONETTE             12215\n",
       "MODEL A                70381\n",
       "MODEL A-MAISONETTE       982\n",
       "MULTI GENERATION         279\n",
       "NEW GENERATION         78898\n",
       "PREMIUM APARTMENT          6\n",
       "SIMPLIFIED             23258\n",
       "STANDARD               17375\n",
       "TERRACE                  247\n",
       "Name: count, dtype: int64"
      ]
     },
     "execution_count": 48,
     "metadata": {},
     "output_type": "execute_result"
    }
   ],
   "source": [
    "# D) flat_model\n",
    "flat_resale_90_99['flat_model'].value_counts(dropna = False).sort_index()"
   ]
  },
  {
   "cell_type": "markdown",
   "id": "db57e8ba",
   "metadata": {},
   "source": [
    "As other datasets have flat models in titlecase form, we will change the flat models into titlecase form."
   ]
  },
  {
   "cell_type": "code",
   "execution_count": 49,
   "id": "4aae09ac",
   "metadata": {},
   "outputs": [],
   "source": [
    "# D1) Change the values in 'flat_model' into titlecase form\n",
    "flat_resale_90_99['flat_model'] = flat_resale_90_99['flat_model'].str.title()"
   ]
  },
  {
   "cell_type": "code",
   "execution_count": 50,
   "id": "3b8ced58",
   "metadata": {},
   "outputs": [
    {
     "data": {
      "text/plain": [
       "flat_model\n",
       "2-Room                    21\n",
       "Apartment               9901\n",
       "Improved               73589\n",
       "Improved-Maisonette       44\n",
       "Maisonette             12215\n",
       "Model A                70381\n",
       "Model A-Maisonette       982\n",
       "Multi Generation         279\n",
       "New Generation         78898\n",
       "Premium Apartment          6\n",
       "Simplified             23258\n",
       "Standard               17375\n",
       "Terrace                  247\n",
       "Name: count, dtype: int64"
      ]
     },
     "execution_count": 50,
     "metadata": {},
     "output_type": "execute_result"
    }
   ],
   "source": [
    "# Verify the changes\n",
    "flat_resale_90_99['flat_model'].value_counts(dropna = False).sort_index()"
   ]
  },
  {
   "cell_type": "code",
   "execution_count": 51,
   "id": "b3808703",
   "metadata": {},
   "outputs": [
    {
     "data": {
      "text/html": [
       "<div>\n",
       "<style scoped>\n",
       "    .dataframe tbody tr th:only-of-type {\n",
       "        vertical-align: middle;\n",
       "    }\n",
       "\n",
       "    .dataframe tbody tr th {\n",
       "        vertical-align: top;\n",
       "    }\n",
       "\n",
       "    .dataframe thead th {\n",
       "        text-align: right;\n",
       "    }\n",
       "</style>\n",
       "<table border=\"1\" class=\"dataframe\">\n",
       "  <thead>\n",
       "    <tr style=\"text-align: right;\">\n",
       "      <th></th>\n",
       "      <th>month</th>\n",
       "      <th>town</th>\n",
       "      <th>flat_type</th>\n",
       "      <th>block</th>\n",
       "      <th>street_name</th>\n",
       "      <th>storey_range</th>\n",
       "      <th>floor_area_sqm</th>\n",
       "      <th>flat_model</th>\n",
       "      <th>lease_commence_date</th>\n",
       "      <th>resale_price</th>\n",
       "    </tr>\n",
       "  </thead>\n",
       "  <tbody>\n",
       "    <tr>\n",
       "      <th>0</th>\n",
       "      <td>1990-01-01</td>\n",
       "      <td>ANG MO KIO</td>\n",
       "      <td>1 ROOM</td>\n",
       "      <td>309</td>\n",
       "      <td>ANG MO KIO AVE 1</td>\n",
       "      <td>10 TO 12</td>\n",
       "      <td>31.0</td>\n",
       "      <td>Improved</td>\n",
       "      <td>1977</td>\n",
       "      <td>9000</td>\n",
       "    </tr>\n",
       "    <tr>\n",
       "      <th>1</th>\n",
       "      <td>1990-01-01</td>\n",
       "      <td>ANG MO KIO</td>\n",
       "      <td>1 ROOM</td>\n",
       "      <td>309</td>\n",
       "      <td>ANG MO KIO AVE 1</td>\n",
       "      <td>04 TO 06</td>\n",
       "      <td>31.0</td>\n",
       "      <td>Improved</td>\n",
       "      <td>1977</td>\n",
       "      <td>6000</td>\n",
       "    </tr>\n",
       "    <tr>\n",
       "      <th>2</th>\n",
       "      <td>1990-01-01</td>\n",
       "      <td>ANG MO KIO</td>\n",
       "      <td>1 ROOM</td>\n",
       "      <td>309</td>\n",
       "      <td>ANG MO KIO AVE 1</td>\n",
       "      <td>10 TO 12</td>\n",
       "      <td>31.0</td>\n",
       "      <td>Improved</td>\n",
       "      <td>1977</td>\n",
       "      <td>8000</td>\n",
       "    </tr>\n",
       "    <tr>\n",
       "      <th>3</th>\n",
       "      <td>1990-01-01</td>\n",
       "      <td>ANG MO KIO</td>\n",
       "      <td>1 ROOM</td>\n",
       "      <td>309</td>\n",
       "      <td>ANG MO KIO AVE 1</td>\n",
       "      <td>07 TO 09</td>\n",
       "      <td>31.0</td>\n",
       "      <td>Improved</td>\n",
       "      <td>1977</td>\n",
       "      <td>6000</td>\n",
       "    </tr>\n",
       "    <tr>\n",
       "      <th>4</th>\n",
       "      <td>1990-01-01</td>\n",
       "      <td>ANG MO KIO</td>\n",
       "      <td>3 ROOM</td>\n",
       "      <td>216</td>\n",
       "      <td>ANG MO KIO AVE 1</td>\n",
       "      <td>04 TO 06</td>\n",
       "      <td>73.0</td>\n",
       "      <td>New Generation</td>\n",
       "      <td>1976</td>\n",
       "      <td>47200</td>\n",
       "    </tr>\n",
       "  </tbody>\n",
       "</table>\n",
       "</div>"
      ],
      "text/plain": [
       "       month        town flat_type block       street_name storey_range  \\\n",
       "0 1990-01-01  ANG MO KIO    1 ROOM   309  ANG MO KIO AVE 1     10 TO 12   \n",
       "1 1990-01-01  ANG MO KIO    1 ROOM   309  ANG MO KIO AVE 1     04 TO 06   \n",
       "2 1990-01-01  ANG MO KIO    1 ROOM   309  ANG MO KIO AVE 1     10 TO 12   \n",
       "3 1990-01-01  ANG MO KIO    1 ROOM   309  ANG MO KIO AVE 1     07 TO 09   \n",
       "4 1990-01-01  ANG MO KIO    3 ROOM   216  ANG MO KIO AVE 1     04 TO 06   \n",
       "\n",
       "   floor_area_sqm      flat_model  lease_commence_date  resale_price  \n",
       "0            31.0        Improved                 1977          9000  \n",
       "1            31.0        Improved                 1977          6000  \n",
       "2            31.0        Improved                 1977          8000  \n",
       "3            31.0        Improved                 1977          6000  \n",
       "4            73.0  New Generation                 1976         47200  "
      ]
     },
     "execution_count": 51,
     "metadata": {},
     "output_type": "execute_result"
    }
   ],
   "source": [
    "flat_resale_90_99.head()"
   ]
  },
  {
   "cell_type": "markdown",
   "id": "f4c4cf83",
   "metadata": {},
   "source": [
    "### 06.2 Flat Resale Data: Jan 2000 ~ Feb 2012"
   ]
  },
  {
   "cell_type": "code",
   "execution_count": 52,
   "id": "0cdbb901",
   "metadata": {
    "scrolled": true
   },
   "outputs": [
    {
     "data": {
      "text/plain": [
       "town\n",
       "ANG MO KIO         19743\n",
       "BEDOK              24002\n",
       "BISHAN              8038\n",
       "BUKIT BATOK        17483\n",
       "BUKIT MERAH        13309\n",
       "BUKIT PANJANG      12294\n",
       "BUKIT TIMAH          938\n",
       "CENTRAL AREA        2470\n",
       "CHOA CHU KANG      17587\n",
       "CLEMENTI           10394\n",
       "GEYLANG            10724\n",
       "HOUGANG            21131\n",
       "JURONG EAST         9952\n",
       "JURONG WEST        28242\n",
       "KALLANG/WHAMPOA    10368\n",
       "MARINE PARADE       2963\n",
       "PASIR RIS          13973\n",
       "PUNGGOL             4229\n",
       "QUEENSTOWN         11567\n",
       "SEMBAWANG           6657\n",
       "SENGKANG           11657\n",
       "SERANGOON           9037\n",
       "TAMPINES           30697\n",
       "TOA PAYOH          12124\n",
       "WOODLANDS          35935\n",
       "YISHUN             24137\n",
       "Name: count, dtype: int64"
      ]
     },
     "execution_count": 52,
     "metadata": {},
     "output_type": "execute_result"
    }
   ],
   "source": [
    "# A) town\n",
    "flat_resale_00_12['town'].value_counts(dropna = False).sort_index()"
   ]
  },
  {
   "cell_type": "markdown",
   "id": "8d94858b",
   "metadata": {},
   "source": [
    "No unusual findings."
   ]
  },
  {
   "cell_type": "code",
   "execution_count": 53,
   "id": "68e44d92",
   "metadata": {
    "scrolled": true
   },
   "outputs": [
    {
     "data": {
      "text/plain": [
       "flat_type\n",
       "1 ROOM                 355\n",
       "2 ROOM                3554\n",
       "3 ROOM              114661\n",
       "4 ROOM              142171\n",
       "5 ROOM               81675\n",
       "EXECUTIVE            27075\n",
       "MULTI-GENERATION       160\n",
       "Name: count, dtype: int64"
      ]
     },
     "execution_count": 53,
     "metadata": {},
     "output_type": "execute_result"
    }
   ],
   "source": [
    "# B) flat_type\n",
    "flat_resale_00_12['flat_type'].value_counts(dropna = False).sort_index()"
   ]
  },
  {
   "cell_type": "markdown",
   "id": "c6023e77",
   "metadata": {},
   "source": [
    "No unusual findings."
   ]
  },
  {
   "cell_type": "code",
   "execution_count": 54,
   "id": "38ea9b54",
   "metadata": {},
   "outputs": [
    {
     "data": {
      "text/plain": [
       "storey_range\n",
       "01 TO 03    76806\n",
       "04 TO 06    95136\n",
       "07 TO 09    84673\n",
       "10 TO 12    71215\n",
       "13 TO 15    24521\n",
       "16 TO 18     9018\n",
       "19 TO 21     4209\n",
       "22 TO 24     2521\n",
       "25 TO 27     1032\n",
       "28 TO 30      434\n",
       "31 TO 33       31\n",
       "34 TO 36       20\n",
       "37 TO 39       23\n",
       "40 TO 42       12\n",
       "Name: count, dtype: int64"
      ]
     },
     "execution_count": 54,
     "metadata": {},
     "output_type": "execute_result"
    }
   ],
   "source": [
    "# C) storey_range\n",
    "flat_resale_00_12['storey_range'].value_counts(dropna = False).sort_index()"
   ]
  },
  {
   "cell_type": "markdown",
   "id": "6cc0c0e2",
   "metadata": {},
   "source": [
    "No unusual findings."
   ]
  },
  {
   "cell_type": "code",
   "execution_count": 55,
   "id": "dffe717b",
   "metadata": {},
   "outputs": [
    {
     "data": {
      "text/plain": [
       "flat_model\n",
       "2-room                     16\n",
       "Adjoined flat             799\n",
       "Apartment               15274\n",
       "Improved               100441\n",
       "Improved-Maisonette        46\n",
       "Maisonette               9839\n",
       "Model A                106147\n",
       "Model A-Maisonette        626\n",
       "Model A2                 6696\n",
       "Multi Generation          160\n",
       "New Generation          71685\n",
       "Premium Apartment       18300\n",
       "Premium Maisonette         66\n",
       "Simplified              22370\n",
       "Standard                16894\n",
       "Terrace                   292\n",
       "Name: count, dtype: int64"
      ]
     },
     "execution_count": 55,
     "metadata": {},
     "output_type": "execute_result"
    }
   ],
   "source": [
    "# D) flat_model\n",
    "flat_resale_00_12['flat_model'].value_counts(dropna = False).sort_index()"
   ]
  },
  {
   "cell_type": "markdown",
   "id": "aa9c8d8e",
   "metadata": {},
   "source": [
    "No unusual findings."
   ]
  },
  {
   "cell_type": "markdown",
   "id": "02d542f2",
   "metadata": {},
   "source": [
    "### 06.3 Flat Resale Data: Mar 2012 ~ Dec 2014"
   ]
  },
  {
   "cell_type": "code",
   "execution_count": 56,
   "id": "1b3eb43a",
   "metadata": {
    "scrolled": true
   },
   "outputs": [
    {
     "data": {
      "text/plain": [
       "town\n",
       "ANG MO KIO         2553\n",
       "BEDOK              3436\n",
       "BISHAN              932\n",
       "BUKIT BATOK        2142\n",
       "BUKIT MERAH        2133\n",
       "BUKIT PANJANG      1737\n",
       "BUKIT TIMAH          99\n",
       "CENTRAL AREA        315\n",
       "CHOA CHU KANG      2043\n",
       "CLEMENTI           1306\n",
       "GEYLANG            1519\n",
       "HOUGANG            2667\n",
       "JURONG EAST        1238\n",
       "JURONG WEST        4391\n",
       "KALLANG/WHAMPOA    1530\n",
       "MARINE PARADE       403\n",
       "PASIR RIS          1777\n",
       "PUNGGOL            1438\n",
       "QUEENSTOWN         1470\n",
       "SEMBAWANG          1217\n",
       "SENGKANG           3094\n",
       "SERANGOON          1134\n",
       "TAMPINES           3821\n",
       "TOA PAYOH          1718\n",
       "WOODLANDS          4502\n",
       "YISHUN             3588\n",
       "Name: count, dtype: int64"
      ]
     },
     "execution_count": 56,
     "metadata": {},
     "output_type": "execute_result"
    }
   ],
   "source": [
    "# A) town\n",
    "flat_resale_12_14['town'].value_counts(dropna = False).sort_index()"
   ]
  },
  {
   "cell_type": "markdown",
   "id": "1422542f",
   "metadata": {},
   "source": [
    "No unusual findings."
   ]
  },
  {
   "cell_type": "code",
   "execution_count": 57,
   "id": "b34963a5",
   "metadata": {
    "scrolled": true
   },
   "outputs": [
    {
     "data": {
      "text/plain": [
       "flat_type\n",
       "1 ROOM                 40\n",
       "2 ROOM                581\n",
       "3 ROOM              15372\n",
       "4 ROOM              20150\n",
       "5 ROOM              11845\n",
       "EXECUTIVE            4194\n",
       "MULTI-GENERATION       21\n",
       "Name: count, dtype: int64"
      ]
     },
     "execution_count": 57,
     "metadata": {},
     "output_type": "execute_result"
    }
   ],
   "source": [
    "# B) flat_type\n",
    "flat_resale_12_14['flat_type'].value_counts(dropna = False).sort_index()"
   ]
  },
  {
   "cell_type": "markdown",
   "id": "8b305ca5",
   "metadata": {},
   "source": [
    "No unusual findings."
   ]
  },
  {
   "cell_type": "code",
   "execution_count": 58,
   "id": "093e4e29",
   "metadata": {
    "scrolled": true
   },
   "outputs": [
    {
     "data": {
      "text/plain": [
       "storey_range\n",
       "01 TO 03     9692\n",
       "01 TO 05     2700\n",
       "04 TO 06    11456\n",
       "06 TO 10     2474\n",
       "07 TO 09     9878\n",
       "10 TO 12     8370\n",
       "11 TO 15     1259\n",
       "13 TO 15     3304\n",
       "16 TO 18     1319\n",
       "16 TO 20      265\n",
       "19 TO 21      605\n",
       "21 TO 25       92\n",
       "22 TO 24      351\n",
       "25 TO 27      183\n",
       "26 TO 30       39\n",
       "28 TO 30      115\n",
       "31 TO 33       23\n",
       "31 TO 35        2\n",
       "34 TO 36       32\n",
       "36 TO 40        7\n",
       "37 TO 39       26\n",
       "40 TO 42       11\n",
       "Name: count, dtype: int64"
      ]
     },
     "execution_count": 58,
     "metadata": {},
     "output_type": "execute_result"
    }
   ],
   "source": [
    "# C) storey_range\n",
    "flat_resale_12_14['storey_range'].value_counts(dropna = False).sort_index()"
   ]
  },
  {
   "cell_type": "markdown",
   "id": "a1c9386f",
   "metadata": {},
   "source": [
    "From the storey range above, there are actually two types of range exist: \n",
    "- increment of 3 (eg. 1 to 3, 4 to 6, 7 to 9,...)\n",
    "- increment of 5 (eg. 1 to 5, 6 to 10, 11 to 15,...)\n",
    "\n",
    "Since other datasets have the storey range of increment of 3, rows with storey range of increment of 5 will be converted."
   ]
  },
  {
   "cell_type": "code",
   "execution_count": 59,
   "id": "eceb613d",
   "metadata": {},
   "outputs": [],
   "source": [
    "# C1) Add a new column 'row_id' to better identify and locate the affected rows \n",
    "flat_resale_12_14['row_id'] = flat_resale_12_14.index"
   ]
  },
  {
   "cell_type": "code",
   "execution_count": 60,
   "id": "22188cf1",
   "metadata": {
    "scrolled": true
   },
   "outputs": [
    {
     "data": {
      "text/html": [
       "<div>\n",
       "<style scoped>\n",
       "    .dataframe tbody tr th:only-of-type {\n",
       "        vertical-align: middle;\n",
       "    }\n",
       "\n",
       "    .dataframe tbody tr th {\n",
       "        vertical-align: top;\n",
       "    }\n",
       "\n",
       "    .dataframe thead th {\n",
       "        text-align: right;\n",
       "    }\n",
       "</style>\n",
       "<table border=\"1\" class=\"dataframe\">\n",
       "  <thead>\n",
       "    <tr style=\"text-align: right;\">\n",
       "      <th></th>\n",
       "      <th>month</th>\n",
       "      <th>town</th>\n",
       "      <th>flat_type</th>\n",
       "      <th>block</th>\n",
       "      <th>street_name</th>\n",
       "      <th>storey_range</th>\n",
       "      <th>floor_area_sqm</th>\n",
       "      <th>flat_model</th>\n",
       "      <th>lease_commence_date</th>\n",
       "      <th>resale_price</th>\n",
       "      <th>row_id</th>\n",
       "    </tr>\n",
       "  </thead>\n",
       "  <tbody>\n",
       "    <tr>\n",
       "      <th>0</th>\n",
       "      <td>2012-03-01</td>\n",
       "      <td>ANG MO KIO</td>\n",
       "      <td>2 ROOM</td>\n",
       "      <td>172</td>\n",
       "      <td>ANG MO KIO AVE 4</td>\n",
       "      <td>06 TO 10</td>\n",
       "      <td>45.0</td>\n",
       "      <td>Improved</td>\n",
       "      <td>1986</td>\n",
       "      <td>250000.0</td>\n",
       "      <td>0</td>\n",
       "    </tr>\n",
       "    <tr>\n",
       "      <th>1</th>\n",
       "      <td>2012-03-01</td>\n",
       "      <td>ANG MO KIO</td>\n",
       "      <td>2 ROOM</td>\n",
       "      <td>510</td>\n",
       "      <td>ANG MO KIO AVE 8</td>\n",
       "      <td>01 TO 05</td>\n",
       "      <td>44.0</td>\n",
       "      <td>Improved</td>\n",
       "      <td>1980</td>\n",
       "      <td>265000.0</td>\n",
       "      <td>1</td>\n",
       "    </tr>\n",
       "    <tr>\n",
       "      <th>2</th>\n",
       "      <td>2012-03-01</td>\n",
       "      <td>ANG MO KIO</td>\n",
       "      <td>3 ROOM</td>\n",
       "      <td>610</td>\n",
       "      <td>ANG MO KIO AVE 4</td>\n",
       "      <td>06 TO 10</td>\n",
       "      <td>68.0</td>\n",
       "      <td>New Generation</td>\n",
       "      <td>1980</td>\n",
       "      <td>315000.0</td>\n",
       "      <td>2</td>\n",
       "    </tr>\n",
       "    <tr>\n",
       "      <th>3</th>\n",
       "      <td>2012-03-01</td>\n",
       "      <td>ANG MO KIO</td>\n",
       "      <td>3 ROOM</td>\n",
       "      <td>474</td>\n",
       "      <td>ANG MO KIO AVE 10</td>\n",
       "      <td>01 TO 05</td>\n",
       "      <td>67.0</td>\n",
       "      <td>New Generation</td>\n",
       "      <td>1984</td>\n",
       "      <td>320000.0</td>\n",
       "      <td>3</td>\n",
       "    </tr>\n",
       "    <tr>\n",
       "      <th>4</th>\n",
       "      <td>2012-03-01</td>\n",
       "      <td>ANG MO KIO</td>\n",
       "      <td>3 ROOM</td>\n",
       "      <td>604</td>\n",
       "      <td>ANG MO KIO AVE 5</td>\n",
       "      <td>06 TO 10</td>\n",
       "      <td>67.0</td>\n",
       "      <td>New Generation</td>\n",
       "      <td>1980</td>\n",
       "      <td>321000.0</td>\n",
       "      <td>4</td>\n",
       "    </tr>\n",
       "    <tr>\n",
       "      <th>5</th>\n",
       "      <td>2012-03-01</td>\n",
       "      <td>ANG MO KIO</td>\n",
       "      <td>3 ROOM</td>\n",
       "      <td>154</td>\n",
       "      <td>ANG MO KIO AVE 5</td>\n",
       "      <td>01 TO 05</td>\n",
       "      <td>68.0</td>\n",
       "      <td>New Generation</td>\n",
       "      <td>1981</td>\n",
       "      <td>321000.0</td>\n",
       "      <td>5</td>\n",
       "    </tr>\n",
       "    <tr>\n",
       "      <th>6</th>\n",
       "      <td>2012-03-01</td>\n",
       "      <td>ANG MO KIO</td>\n",
       "      <td>3 ROOM</td>\n",
       "      <td>110</td>\n",
       "      <td>ANG MO KIO AVE 4</td>\n",
       "      <td>01 TO 05</td>\n",
       "      <td>67.0</td>\n",
       "      <td>New Generation</td>\n",
       "      <td>1978</td>\n",
       "      <td>323000.0</td>\n",
       "      <td>6</td>\n",
       "    </tr>\n",
       "    <tr>\n",
       "      <th>7</th>\n",
       "      <td>2012-03-01</td>\n",
       "      <td>ANG MO KIO</td>\n",
       "      <td>3 ROOM</td>\n",
       "      <td>445</td>\n",
       "      <td>ANG MO KIO AVE 10</td>\n",
       "      <td>01 TO 05</td>\n",
       "      <td>67.0</td>\n",
       "      <td>New Generation</td>\n",
       "      <td>1979</td>\n",
       "      <td>325000.0</td>\n",
       "      <td>7</td>\n",
       "    </tr>\n",
       "    <tr>\n",
       "      <th>8</th>\n",
       "      <td>2012-03-01</td>\n",
       "      <td>ANG MO KIO</td>\n",
       "      <td>3 ROOM</td>\n",
       "      <td>476</td>\n",
       "      <td>ANG MO KIO AVE 10</td>\n",
       "      <td>11 TO 15</td>\n",
       "      <td>67.0</td>\n",
       "      <td>New Generation</td>\n",
       "      <td>1979</td>\n",
       "      <td>328000.0</td>\n",
       "      <td>8</td>\n",
       "    </tr>\n",
       "    <tr>\n",
       "      <th>9</th>\n",
       "      <td>2012-03-01</td>\n",
       "      <td>ANG MO KIO</td>\n",
       "      <td>3 ROOM</td>\n",
       "      <td>631</td>\n",
       "      <td>ANG MO KIO AVE 4</td>\n",
       "      <td>01 TO 05</td>\n",
       "      <td>67.0</td>\n",
       "      <td>New Generation</td>\n",
       "      <td>1985</td>\n",
       "      <td>330000.0</td>\n",
       "      <td>9</td>\n",
       "    </tr>\n",
       "  </tbody>\n",
       "</table>\n",
       "</div>"
      ],
      "text/plain": [
       "       month        town flat_type block        street_name storey_range  \\\n",
       "0 2012-03-01  ANG MO KIO    2 ROOM   172   ANG MO KIO AVE 4     06 TO 10   \n",
       "1 2012-03-01  ANG MO KIO    2 ROOM   510   ANG MO KIO AVE 8     01 TO 05   \n",
       "2 2012-03-01  ANG MO KIO    3 ROOM   610   ANG MO KIO AVE 4     06 TO 10   \n",
       "3 2012-03-01  ANG MO KIO    3 ROOM   474  ANG MO KIO AVE 10     01 TO 05   \n",
       "4 2012-03-01  ANG MO KIO    3 ROOM   604   ANG MO KIO AVE 5     06 TO 10   \n",
       "5 2012-03-01  ANG MO KIO    3 ROOM   154   ANG MO KIO AVE 5     01 TO 05   \n",
       "6 2012-03-01  ANG MO KIO    3 ROOM   110   ANG MO KIO AVE 4     01 TO 05   \n",
       "7 2012-03-01  ANG MO KIO    3 ROOM   445  ANG MO KIO AVE 10     01 TO 05   \n",
       "8 2012-03-01  ANG MO KIO    3 ROOM   476  ANG MO KIO AVE 10     11 TO 15   \n",
       "9 2012-03-01  ANG MO KIO    3 ROOM   631   ANG MO KIO AVE 4     01 TO 05   \n",
       "\n",
       "   floor_area_sqm      flat_model  lease_commence_date  resale_price  row_id  \n",
       "0            45.0        Improved                 1986      250000.0       0  \n",
       "1            44.0        Improved                 1980      265000.0       1  \n",
       "2            68.0  New Generation                 1980      315000.0       2  \n",
       "3            67.0  New Generation                 1984      320000.0       3  \n",
       "4            67.0  New Generation                 1980      321000.0       4  \n",
       "5            68.0  New Generation                 1981      321000.0       5  \n",
       "6            67.0  New Generation                 1978      323000.0       6  \n",
       "7            67.0  New Generation                 1979      325000.0       7  \n",
       "8            67.0  New Generation                 1979      328000.0       8  \n",
       "9            67.0  New Generation                 1985      330000.0       9  "
      ]
     },
     "execution_count": 60,
     "metadata": {},
     "output_type": "execute_result"
    }
   ],
   "source": [
    "flat_resale_12_14.head(10)"
   ]
  },
  {
   "cell_type": "code",
   "execution_count": 61,
   "id": "eef1180c",
   "metadata": {},
   "outputs": [],
   "source": [
    "# C2) Create a list of storey range with increment of 5\n",
    "list_storey_range_5 = ['01 TO 05', '06 TO 10', '11 TO 15', '16 TO 20', '21 TO 25', '26 TO 30', '31 TO 35', '36 TO 40']"
   ]
  },
  {
   "cell_type": "code",
   "execution_count": 62,
   "id": "57708541",
   "metadata": {},
   "outputs": [],
   "source": [
    "# C3) Extract the rows with storey range of increment of 5 and store them into 'rows_storey_range_5'\n",
    "rows_storey_range_5 = flat_resale_12_14.loc[flat_resale_12_14['storey_range'].isin(list_storey_range_5)][['row_id', 'storey_range']]"
   ]
  },
  {
   "cell_type": "code",
   "execution_count": 63,
   "id": "cc4066b3",
   "metadata": {
    "scrolled": true
   },
   "outputs": [
    {
     "data": {
      "text/html": [
       "<div>\n",
       "<style scoped>\n",
       "    .dataframe tbody tr th:only-of-type {\n",
       "        vertical-align: middle;\n",
       "    }\n",
       "\n",
       "    .dataframe tbody tr th {\n",
       "        vertical-align: top;\n",
       "    }\n",
       "\n",
       "    .dataframe thead th {\n",
       "        text-align: right;\n",
       "    }\n",
       "</style>\n",
       "<table border=\"1\" class=\"dataframe\">\n",
       "  <thead>\n",
       "    <tr style=\"text-align: right;\">\n",
       "      <th></th>\n",
       "      <th>row_id</th>\n",
       "      <th>storey_range</th>\n",
       "    </tr>\n",
       "  </thead>\n",
       "  <tbody>\n",
       "    <tr>\n",
       "      <th>0</th>\n",
       "      <td>0</td>\n",
       "      <td>06 TO 10</td>\n",
       "    </tr>\n",
       "    <tr>\n",
       "      <th>1</th>\n",
       "      <td>1</td>\n",
       "      <td>01 TO 05</td>\n",
       "    </tr>\n",
       "    <tr>\n",
       "      <th>2</th>\n",
       "      <td>2</td>\n",
       "      <td>06 TO 10</td>\n",
       "    </tr>\n",
       "    <tr>\n",
       "      <th>3</th>\n",
       "      <td>3</td>\n",
       "      <td>01 TO 05</td>\n",
       "    </tr>\n",
       "    <tr>\n",
       "      <th>4</th>\n",
       "      <td>4</td>\n",
       "      <td>06 TO 10</td>\n",
       "    </tr>\n",
       "    <tr>\n",
       "      <th>5</th>\n",
       "      <td>5</td>\n",
       "      <td>01 TO 05</td>\n",
       "    </tr>\n",
       "    <tr>\n",
       "      <th>6</th>\n",
       "      <td>6</td>\n",
       "      <td>01 TO 05</td>\n",
       "    </tr>\n",
       "    <tr>\n",
       "      <th>7</th>\n",
       "      <td>7</td>\n",
       "      <td>01 TO 05</td>\n",
       "    </tr>\n",
       "    <tr>\n",
       "      <th>8</th>\n",
       "      <td>8</td>\n",
       "      <td>11 TO 15</td>\n",
       "    </tr>\n",
       "    <tr>\n",
       "      <th>9</th>\n",
       "      <td>9</td>\n",
       "      <td>01 TO 05</td>\n",
       "    </tr>\n",
       "  </tbody>\n",
       "</table>\n",
       "</div>"
      ],
      "text/plain": [
       "   row_id storey_range\n",
       "0       0     06 TO 10\n",
       "1       1     01 TO 05\n",
       "2       2     06 TO 10\n",
       "3       3     01 TO 05\n",
       "4       4     06 TO 10\n",
       "5       5     01 TO 05\n",
       "6       6     01 TO 05\n",
       "7       7     01 TO 05\n",
       "8       8     11 TO 15\n",
       "9       9     01 TO 05"
      ]
     },
     "execution_count": 63,
     "metadata": {},
     "output_type": "execute_result"
    }
   ],
   "source": [
    "rows_storey_range_5.head(10)"
   ]
  },
  {
   "cell_type": "code",
   "execution_count": 64,
   "id": "50ef783c",
   "metadata": {
    "scrolled": true
   },
   "outputs": [
    {
     "data": {
      "text/plain": [
       "6838"
      ]
     },
     "execution_count": 64,
     "metadata": {},
     "output_type": "execute_result"
    }
   ],
   "source": [
    "len(rows_storey_range_5)"
   ]
  },
  {
   "cell_type": "code",
   "execution_count": 65,
   "id": "538b1e86",
   "metadata": {},
   "outputs": [],
   "source": [
    "# C4) Randomly assign a storey number to the affected rows based on their existing storey range\n",
    "# Create a list that contain the new assigned storey numbers above\n",
    "\n",
    "list_storey_number = []\n",
    "\n",
    "# Set a seed value to generate the same random numbers everytime we run the code\n",
    "np.random.seed(4)\n",
    "\n",
    "for x in rows_storey_range_5['storey_range']: \n",
    "     \n",
    "    if x == '01 TO 05': \n",
    "        list_storey_number.append(np.random.randint(low = 1, high = 6))   # 1 is included, but 6 is not included\n",
    "    \n",
    "    elif x == '06 TO 10': \n",
    "        list_storey_number.append(np.random.randint(low = 6, high = 11))\n",
    "    \n",
    "    elif x == '11 TO 15': \n",
    "        list_storey_number.append(np.random.randint(low = 11, high = 16))\n",
    "    \n",
    "    elif x == '16 TO 20': \n",
    "        list_storey_number.append(np.random.randint(low = 16, high = 21))\n",
    "    \n",
    "    elif x == '21 TO 25': \n",
    "        list_storey_number.append(np.random.randint(low = 21, high = 26))\n",
    "    \n",
    "    elif x == '26 TO 30': \n",
    "        list_storey_number.append(np.random.randint(low = 26, high = 31))\n",
    "    \n",
    "    elif x == '31 TO 35': \n",
    "        list_storey_number.append(np.random.randint(low = 31, high = 36))\n",
    "    \n",
    "    elif x == '36 TO 40': \n",
    "        list_storey_number.append(np.random.randint(low = 36, high = 40))"
   ]
  },
  {
   "cell_type": "code",
   "execution_count": 66,
   "id": "e89eafe1",
   "metadata": {},
   "outputs": [
    {
     "data": {
      "text/plain": [
       "6838"
      ]
     },
     "execution_count": 66,
     "metadata": {},
     "output_type": "execute_result"
    }
   ],
   "source": [
    "len(list_storey_number)"
   ]
  },
  {
   "cell_type": "code",
   "execution_count": 67,
   "id": "7fcf8485",
   "metadata": {},
   "outputs": [],
   "source": [
    "# C5) Create a new column 'storey_number' in 'rows_storey_range_5' and set it equal to 'list_storey_number'\n",
    "rows_storey_range_5['storey_number'] = list_storey_number"
   ]
  },
  {
   "cell_type": "code",
   "execution_count": 68,
   "id": "eb972d40",
   "metadata": {},
   "outputs": [
    {
     "data": {
      "text/html": [
       "<div>\n",
       "<style scoped>\n",
       "    .dataframe tbody tr th:only-of-type {\n",
       "        vertical-align: middle;\n",
       "    }\n",
       "\n",
       "    .dataframe tbody tr th {\n",
       "        vertical-align: top;\n",
       "    }\n",
       "\n",
       "    .dataframe thead th {\n",
       "        text-align: right;\n",
       "    }\n",
       "</style>\n",
       "<table border=\"1\" class=\"dataframe\">\n",
       "  <thead>\n",
       "    <tr style=\"text-align: right;\">\n",
       "      <th></th>\n",
       "      <th>row_id</th>\n",
       "      <th>storey_range</th>\n",
       "      <th>storey_number</th>\n",
       "    </tr>\n",
       "  </thead>\n",
       "  <tbody>\n",
       "    <tr>\n",
       "      <th>0</th>\n",
       "      <td>0</td>\n",
       "      <td>06 TO 10</td>\n",
       "      <td>8</td>\n",
       "    </tr>\n",
       "    <tr>\n",
       "      <th>1</th>\n",
       "      <td>1</td>\n",
       "      <td>01 TO 05</td>\n",
       "      <td>2</td>\n",
       "    </tr>\n",
       "    <tr>\n",
       "      <th>2</th>\n",
       "      <td>2</td>\n",
       "      <td>06 TO 10</td>\n",
       "      <td>6</td>\n",
       "    </tr>\n",
       "    <tr>\n",
       "      <th>3</th>\n",
       "      <td>3</td>\n",
       "      <td>01 TO 05</td>\n",
       "      <td>1</td>\n",
       "    </tr>\n",
       "    <tr>\n",
       "      <th>4</th>\n",
       "      <td>4</td>\n",
       "      <td>06 TO 10</td>\n",
       "      <td>8</td>\n",
       "    </tr>\n",
       "    <tr>\n",
       "      <th>5</th>\n",
       "      <td>5</td>\n",
       "      <td>01 TO 05</td>\n",
       "      <td>2</td>\n",
       "    </tr>\n",
       "    <tr>\n",
       "      <th>6</th>\n",
       "      <td>6</td>\n",
       "      <td>01 TO 05</td>\n",
       "      <td>3</td>\n",
       "    </tr>\n",
       "    <tr>\n",
       "      <th>7</th>\n",
       "      <td>7</td>\n",
       "      <td>01 TO 05</td>\n",
       "      <td>5</td>\n",
       "    </tr>\n",
       "    <tr>\n",
       "      <th>8</th>\n",
       "      <td>8</td>\n",
       "      <td>11 TO 15</td>\n",
       "      <td>12</td>\n",
       "    </tr>\n",
       "    <tr>\n",
       "      <th>9</th>\n",
       "      <td>9</td>\n",
       "      <td>01 TO 05</td>\n",
       "      <td>1</td>\n",
       "    </tr>\n",
       "  </tbody>\n",
       "</table>\n",
       "</div>"
      ],
      "text/plain": [
       "   row_id storey_range  storey_number\n",
       "0       0     06 TO 10              8\n",
       "1       1     01 TO 05              2\n",
       "2       2     06 TO 10              6\n",
       "3       3     01 TO 05              1\n",
       "4       4     06 TO 10              8\n",
       "5       5     01 TO 05              2\n",
       "6       6     01 TO 05              3\n",
       "7       7     01 TO 05              5\n",
       "8       8     11 TO 15             12\n",
       "9       9     01 TO 05              1"
      ]
     },
     "execution_count": 68,
     "metadata": {},
     "output_type": "execute_result"
    }
   ],
   "source": [
    "rows_storey_range_5.head(10)"
   ]
  },
  {
   "cell_type": "code",
   "execution_count": 69,
   "id": "d5f40982",
   "metadata": {},
   "outputs": [
    {
     "data": {
      "text/html": [
       "<div>\n",
       "<style scoped>\n",
       "    .dataframe tbody tr th:only-of-type {\n",
       "        vertical-align: middle;\n",
       "    }\n",
       "\n",
       "    .dataframe tbody tr th {\n",
       "        vertical-align: top;\n",
       "    }\n",
       "\n",
       "    .dataframe thead tr th {\n",
       "        text-align: left;\n",
       "    }\n",
       "\n",
       "    .dataframe thead tr:last-of-type th {\n",
       "        text-align: right;\n",
       "    }\n",
       "</style>\n",
       "<table border=\"1\" class=\"dataframe\">\n",
       "  <thead>\n",
       "    <tr>\n",
       "      <th></th>\n",
       "      <th colspan=\"3\" halign=\"left\">storey_number</th>\n",
       "    </tr>\n",
       "    <tr>\n",
       "      <th></th>\n",
       "      <th>min</th>\n",
       "      <th>max</th>\n",
       "      <th>count</th>\n",
       "    </tr>\n",
       "    <tr>\n",
       "      <th>storey_range</th>\n",
       "      <th></th>\n",
       "      <th></th>\n",
       "      <th></th>\n",
       "    </tr>\n",
       "  </thead>\n",
       "  <tbody>\n",
       "    <tr>\n",
       "      <th>01 TO 05</th>\n",
       "      <td>1</td>\n",
       "      <td>5</td>\n",
       "      <td>2700</td>\n",
       "    </tr>\n",
       "    <tr>\n",
       "      <th>06 TO 10</th>\n",
       "      <td>6</td>\n",
       "      <td>10</td>\n",
       "      <td>2474</td>\n",
       "    </tr>\n",
       "    <tr>\n",
       "      <th>11 TO 15</th>\n",
       "      <td>11</td>\n",
       "      <td>15</td>\n",
       "      <td>1259</td>\n",
       "    </tr>\n",
       "    <tr>\n",
       "      <th>16 TO 20</th>\n",
       "      <td>16</td>\n",
       "      <td>20</td>\n",
       "      <td>265</td>\n",
       "    </tr>\n",
       "    <tr>\n",
       "      <th>21 TO 25</th>\n",
       "      <td>21</td>\n",
       "      <td>25</td>\n",
       "      <td>92</td>\n",
       "    </tr>\n",
       "    <tr>\n",
       "      <th>26 TO 30</th>\n",
       "      <td>26</td>\n",
       "      <td>30</td>\n",
       "      <td>39</td>\n",
       "    </tr>\n",
       "    <tr>\n",
       "      <th>31 TO 35</th>\n",
       "      <td>32</td>\n",
       "      <td>35</td>\n",
       "      <td>2</td>\n",
       "    </tr>\n",
       "    <tr>\n",
       "      <th>36 TO 40</th>\n",
       "      <td>36</td>\n",
       "      <td>39</td>\n",
       "      <td>7</td>\n",
       "    </tr>\n",
       "  </tbody>\n",
       "</table>\n",
       "</div>"
      ],
      "text/plain": [
       "             storey_number          \n",
       "                       min max count\n",
       "storey_range                        \n",
       "01 TO 05                 1   5  2700\n",
       "06 TO 10                 6  10  2474\n",
       "11 TO 15                11  15  1259\n",
       "16 TO 20                16  20   265\n",
       "21 TO 25                21  25    92\n",
       "26 TO 30                26  30    39\n",
       "31 TO 35                32  35     2\n",
       "36 TO 40                36  39     7"
      ]
     },
     "execution_count": 69,
     "metadata": {},
     "output_type": "execute_result"
    }
   ],
   "source": [
    "# Check the min and max storey number of each storey range\n",
    "rows_storey_range_5.groupby('storey_range').agg({'storey_number': ['min', 'max', 'count']})"
   ]
  },
  {
   "cell_type": "code",
   "execution_count": 70,
   "id": "c38b3be9",
   "metadata": {},
   "outputs": [],
   "source": [
    "# C6) Create a new storey range based on the newly assigned storey numbers\n",
    "list_new_storey_range = []\n",
    "\n",
    "for x in rows_storey_range_5['storey_number']: \n",
    "    \n",
    "    if (x >= 1) and (x <= 3): \n",
    "        list_new_storey_range.append('01 TO 03')\n",
    "    \n",
    "    elif (x >= 4) and (x <= 6): \n",
    "        list_new_storey_range.append('04 TO 06')\n",
    "    \n",
    "    elif (x >= 7) and (x <= 9): \n",
    "        list_new_storey_range.append('07 TO 09')\n",
    "    \n",
    "    elif (x >= 10) and (x <= 12): \n",
    "        list_new_storey_range.append('10 TO 12')\n",
    "    \n",
    "    elif (x >= 13) and (x <= 15): \n",
    "        list_new_storey_range.append('13 TO 15')\n",
    "    \n",
    "    elif (x >= 16) and (x <= 18): \n",
    "        list_new_storey_range.append('16 TO 18')\n",
    "    \n",
    "    elif (x >= 19) and (x <= 21): \n",
    "        list_new_storey_range.append('19 TO 21')\n",
    "    \n",
    "    elif (x >= 22) and (x <= 24): \n",
    "        list_new_storey_range.append('22 TO 24')\n",
    "    \n",
    "    elif (x >= 25) and (x <= 27): \n",
    "        list_new_storey_range.append('25 TO 27')\n",
    "    \n",
    "    elif (x >= 28) and (x <= 30): \n",
    "        list_new_storey_range.append('28 TO 30')\n",
    "    \n",
    "    elif (x >= 31) and (x <= 33): \n",
    "        list_new_storey_range.append('31 TO 33')\n",
    "    \n",
    "    elif (x >= 34) and (x <= 36): \n",
    "        list_new_storey_range.append('34 TO 36')\n",
    "    \n",
    "    elif (x >= 37) and (x <= 39): \n",
    "        list_new_storey_range.append('37 TO 39')\n",
    "    \n",
    "    elif (x >= 40) and (x <= 42): \n",
    "        list_new_storey_range.append('40 TO 42')"
   ]
  },
  {
   "cell_type": "code",
   "execution_count": 71,
   "id": "be0f0b98",
   "metadata": {},
   "outputs": [
    {
     "data": {
      "text/plain": [
       "6838"
      ]
     },
     "execution_count": 71,
     "metadata": {},
     "output_type": "execute_result"
    }
   ],
   "source": [
    "len(list_new_storey_range)"
   ]
  },
  {
   "cell_type": "code",
   "execution_count": 72,
   "id": "2668cfe8",
   "metadata": {},
   "outputs": [],
   "source": [
    "# C7) Create a new column 'new_storey_range' in 'rows_storey_range_5' and set it equal to 'list_new_storey_range'\n",
    "rows_storey_range_5['new_storey_range'] = list_new_storey_range"
   ]
  },
  {
   "cell_type": "code",
   "execution_count": 73,
   "id": "d046ab45",
   "metadata": {},
   "outputs": [
    {
     "data": {
      "text/html": [
       "<div>\n",
       "<style scoped>\n",
       "    .dataframe tbody tr th:only-of-type {\n",
       "        vertical-align: middle;\n",
       "    }\n",
       "\n",
       "    .dataframe tbody tr th {\n",
       "        vertical-align: top;\n",
       "    }\n",
       "\n",
       "    .dataframe thead th {\n",
       "        text-align: right;\n",
       "    }\n",
       "</style>\n",
       "<table border=\"1\" class=\"dataframe\">\n",
       "  <thead>\n",
       "    <tr style=\"text-align: right;\">\n",
       "      <th></th>\n",
       "      <th>row_id</th>\n",
       "      <th>storey_range</th>\n",
       "      <th>storey_number</th>\n",
       "      <th>new_storey_range</th>\n",
       "    </tr>\n",
       "  </thead>\n",
       "  <tbody>\n",
       "    <tr>\n",
       "      <th>0</th>\n",
       "      <td>0</td>\n",
       "      <td>06 TO 10</td>\n",
       "      <td>8</td>\n",
       "      <td>07 TO 09</td>\n",
       "    </tr>\n",
       "    <tr>\n",
       "      <th>1</th>\n",
       "      <td>1</td>\n",
       "      <td>01 TO 05</td>\n",
       "      <td>2</td>\n",
       "      <td>01 TO 03</td>\n",
       "    </tr>\n",
       "    <tr>\n",
       "      <th>2</th>\n",
       "      <td>2</td>\n",
       "      <td>06 TO 10</td>\n",
       "      <td>6</td>\n",
       "      <td>04 TO 06</td>\n",
       "    </tr>\n",
       "    <tr>\n",
       "      <th>3</th>\n",
       "      <td>3</td>\n",
       "      <td>01 TO 05</td>\n",
       "      <td>1</td>\n",
       "      <td>01 TO 03</td>\n",
       "    </tr>\n",
       "    <tr>\n",
       "      <th>4</th>\n",
       "      <td>4</td>\n",
       "      <td>06 TO 10</td>\n",
       "      <td>8</td>\n",
       "      <td>07 TO 09</td>\n",
       "    </tr>\n",
       "    <tr>\n",
       "      <th>5</th>\n",
       "      <td>5</td>\n",
       "      <td>01 TO 05</td>\n",
       "      <td>2</td>\n",
       "      <td>01 TO 03</td>\n",
       "    </tr>\n",
       "    <tr>\n",
       "      <th>6</th>\n",
       "      <td>6</td>\n",
       "      <td>01 TO 05</td>\n",
       "      <td>3</td>\n",
       "      <td>01 TO 03</td>\n",
       "    </tr>\n",
       "    <tr>\n",
       "      <th>7</th>\n",
       "      <td>7</td>\n",
       "      <td>01 TO 05</td>\n",
       "      <td>5</td>\n",
       "      <td>04 TO 06</td>\n",
       "    </tr>\n",
       "    <tr>\n",
       "      <th>8</th>\n",
       "      <td>8</td>\n",
       "      <td>11 TO 15</td>\n",
       "      <td>12</td>\n",
       "      <td>10 TO 12</td>\n",
       "    </tr>\n",
       "    <tr>\n",
       "      <th>9</th>\n",
       "      <td>9</td>\n",
       "      <td>01 TO 05</td>\n",
       "      <td>1</td>\n",
       "      <td>01 TO 03</td>\n",
       "    </tr>\n",
       "  </tbody>\n",
       "</table>\n",
       "</div>"
      ],
      "text/plain": [
       "   row_id storey_range  storey_number new_storey_range\n",
       "0       0     06 TO 10              8         07 TO 09\n",
       "1       1     01 TO 05              2         01 TO 03\n",
       "2       2     06 TO 10              6         04 TO 06\n",
       "3       3     01 TO 05              1         01 TO 03\n",
       "4       4     06 TO 10              8         07 TO 09\n",
       "5       5     01 TO 05              2         01 TO 03\n",
       "6       6     01 TO 05              3         01 TO 03\n",
       "7       7     01 TO 05              5         04 TO 06\n",
       "8       8     11 TO 15             12         10 TO 12\n",
       "9       9     01 TO 05              1         01 TO 03"
      ]
     },
     "execution_count": 73,
     "metadata": {},
     "output_type": "execute_result"
    }
   ],
   "source": [
    "rows_storey_range_5.head(10)"
   ]
  },
  {
   "cell_type": "code",
   "execution_count": 74,
   "id": "e9ddb30e",
   "metadata": {},
   "outputs": [
    {
     "data": {
      "text/html": [
       "<div>\n",
       "<style scoped>\n",
       "    .dataframe tbody tr th:only-of-type {\n",
       "        vertical-align: middle;\n",
       "    }\n",
       "\n",
       "    .dataframe tbody tr th {\n",
       "        vertical-align: top;\n",
       "    }\n",
       "\n",
       "    .dataframe thead tr th {\n",
       "        text-align: left;\n",
       "    }\n",
       "\n",
       "    .dataframe thead tr:last-of-type th {\n",
       "        text-align: right;\n",
       "    }\n",
       "</style>\n",
       "<table border=\"1\" class=\"dataframe\">\n",
       "  <thead>\n",
       "    <tr>\n",
       "      <th></th>\n",
       "      <th colspan=\"3\" halign=\"left\">storey_number</th>\n",
       "    </tr>\n",
       "    <tr>\n",
       "      <th></th>\n",
       "      <th>min</th>\n",
       "      <th>max</th>\n",
       "      <th>count</th>\n",
       "    </tr>\n",
       "    <tr>\n",
       "      <th>new_storey_range</th>\n",
       "      <th></th>\n",
       "      <th></th>\n",
       "      <th></th>\n",
       "    </tr>\n",
       "  </thead>\n",
       "  <tbody>\n",
       "    <tr>\n",
       "      <th>01 TO 03</th>\n",
       "      <td>1</td>\n",
       "      <td>3</td>\n",
       "      <td>1599</td>\n",
       "    </tr>\n",
       "    <tr>\n",
       "      <th>04 TO 06</th>\n",
       "      <td>4</td>\n",
       "      <td>6</td>\n",
       "      <td>1585</td>\n",
       "    </tr>\n",
       "    <tr>\n",
       "      <th>07 TO 09</th>\n",
       "      <td>7</td>\n",
       "      <td>9</td>\n",
       "      <td>1474</td>\n",
       "    </tr>\n",
       "    <tr>\n",
       "      <th>10 TO 12</th>\n",
       "      <td>10</td>\n",
       "      <td>12</td>\n",
       "      <td>1005</td>\n",
       "    </tr>\n",
       "    <tr>\n",
       "      <th>13 TO 15</th>\n",
       "      <td>13</td>\n",
       "      <td>15</td>\n",
       "      <td>770</td>\n",
       "    </tr>\n",
       "    <tr>\n",
       "      <th>16 TO 18</th>\n",
       "      <td>16</td>\n",
       "      <td>18</td>\n",
       "      <td>165</td>\n",
       "    </tr>\n",
       "    <tr>\n",
       "      <th>19 TO 21</th>\n",
       "      <td>19</td>\n",
       "      <td>21</td>\n",
       "      <td>127</td>\n",
       "    </tr>\n",
       "    <tr>\n",
       "      <th>22 TO 24</th>\n",
       "      <td>22</td>\n",
       "      <td>24</td>\n",
       "      <td>52</td>\n",
       "    </tr>\n",
       "    <tr>\n",
       "      <th>25 TO 27</th>\n",
       "      <td>25</td>\n",
       "      <td>27</td>\n",
       "      <td>29</td>\n",
       "    </tr>\n",
       "    <tr>\n",
       "      <th>28 TO 30</th>\n",
       "      <td>28</td>\n",
       "      <td>30</td>\n",
       "      <td>23</td>\n",
       "    </tr>\n",
       "    <tr>\n",
       "      <th>31 TO 33</th>\n",
       "      <td>32</td>\n",
       "      <td>32</td>\n",
       "      <td>1</td>\n",
       "    </tr>\n",
       "    <tr>\n",
       "      <th>34 TO 36</th>\n",
       "      <td>35</td>\n",
       "      <td>36</td>\n",
       "      <td>4</td>\n",
       "    </tr>\n",
       "    <tr>\n",
       "      <th>37 TO 39</th>\n",
       "      <td>37</td>\n",
       "      <td>39</td>\n",
       "      <td>4</td>\n",
       "    </tr>\n",
       "  </tbody>\n",
       "</table>\n",
       "</div>"
      ],
      "text/plain": [
       "                 storey_number          \n",
       "                           min max count\n",
       "new_storey_range                        \n",
       "01 TO 03                     1   3  1599\n",
       "04 TO 06                     4   6  1585\n",
       "07 TO 09                     7   9  1474\n",
       "10 TO 12                    10  12  1005\n",
       "13 TO 15                    13  15   770\n",
       "16 TO 18                    16  18   165\n",
       "19 TO 21                    19  21   127\n",
       "22 TO 24                    22  24    52\n",
       "25 TO 27                    25  27    29\n",
       "28 TO 30                    28  30    23\n",
       "31 TO 33                    32  32     1\n",
       "34 TO 36                    35  36     4\n",
       "37 TO 39                    37  39     4"
      ]
     },
     "execution_count": 74,
     "metadata": {},
     "output_type": "execute_result"
    }
   ],
   "source": [
    "# Check the min and max storey number of each new storey range\n",
    "rows_storey_range_5.groupby('new_storey_range').agg({'storey_number': ['min', 'max', 'count']})"
   ]
  },
  {
   "cell_type": "code",
   "execution_count": 75,
   "id": "56e0d90e",
   "metadata": {},
   "outputs": [],
   "source": [
    "# C8) Replace the storey range of the affected rows in the main dataframe 'flat_resale_12_14' with the new storey range\n",
    "for x in rows_storey_range_5['row_id'].tolist(): \n",
    "    \n",
    "    flat_resale_12_14.loc[flat_resale_12_14['row_id'] == x, 'storey_range'] = rows_storey_range_5.loc[rows_storey_range_5['row_id'] == x]['new_storey_range']"
   ]
  },
  {
   "cell_type": "code",
   "execution_count": 76,
   "id": "d3effb13",
   "metadata": {},
   "outputs": [
    {
     "data": {
      "text/plain": [
       "storey_range\n",
       "01 TO 03    11291\n",
       "04 TO 06    13041\n",
       "07 TO 09    11352\n",
       "10 TO 12     9375\n",
       "13 TO 15     4074\n",
       "16 TO 18     1484\n",
       "19 TO 21      732\n",
       "22 TO 24      403\n",
       "25 TO 27      212\n",
       "28 TO 30      138\n",
       "31 TO 33       24\n",
       "34 TO 36       36\n",
       "37 TO 39       30\n",
       "40 TO 42       11\n",
       "Name: count, dtype: int64"
      ]
     },
     "execution_count": 76,
     "metadata": {},
     "output_type": "execute_result"
    }
   ],
   "source": [
    "# Verify the changes\n",
    "flat_resale_12_14['storey_range'].value_counts(dropna = False).sort_index()"
   ]
  },
  {
   "cell_type": "markdown",
   "id": "01777516",
   "metadata": {},
   "source": [
    "Now the storey range are all with increment of 3."
   ]
  },
  {
   "cell_type": "code",
   "execution_count": 77,
   "id": "070563f7",
   "metadata": {},
   "outputs": [],
   "source": [
    "# C9) Drop the 'row_id' column in 'flat_resale_12_14'\n",
    "flat_resale_12_14.drop(columns = ['row_id'], inplace = True)"
   ]
  },
  {
   "cell_type": "code",
   "execution_count": 78,
   "id": "8f655783",
   "metadata": {},
   "outputs": [
    {
     "data": {
      "text/html": [
       "<div>\n",
       "<style scoped>\n",
       "    .dataframe tbody tr th:only-of-type {\n",
       "        vertical-align: middle;\n",
       "    }\n",
       "\n",
       "    .dataframe tbody tr th {\n",
       "        vertical-align: top;\n",
       "    }\n",
       "\n",
       "    .dataframe thead th {\n",
       "        text-align: right;\n",
       "    }\n",
       "</style>\n",
       "<table border=\"1\" class=\"dataframe\">\n",
       "  <thead>\n",
       "    <tr style=\"text-align: right;\">\n",
       "      <th></th>\n",
       "      <th>month</th>\n",
       "      <th>town</th>\n",
       "      <th>flat_type</th>\n",
       "      <th>block</th>\n",
       "      <th>street_name</th>\n",
       "      <th>storey_range</th>\n",
       "      <th>floor_area_sqm</th>\n",
       "      <th>flat_model</th>\n",
       "      <th>lease_commence_date</th>\n",
       "      <th>resale_price</th>\n",
       "    </tr>\n",
       "  </thead>\n",
       "  <tbody>\n",
       "    <tr>\n",
       "      <th>0</th>\n",
       "      <td>2012-03-01</td>\n",
       "      <td>ANG MO KIO</td>\n",
       "      <td>2 ROOM</td>\n",
       "      <td>172</td>\n",
       "      <td>ANG MO KIO AVE 4</td>\n",
       "      <td>07 TO 09</td>\n",
       "      <td>45.0</td>\n",
       "      <td>Improved</td>\n",
       "      <td>1986</td>\n",
       "      <td>250000.0</td>\n",
       "    </tr>\n",
       "    <tr>\n",
       "      <th>1</th>\n",
       "      <td>2012-03-01</td>\n",
       "      <td>ANG MO KIO</td>\n",
       "      <td>2 ROOM</td>\n",
       "      <td>510</td>\n",
       "      <td>ANG MO KIO AVE 8</td>\n",
       "      <td>01 TO 03</td>\n",
       "      <td>44.0</td>\n",
       "      <td>Improved</td>\n",
       "      <td>1980</td>\n",
       "      <td>265000.0</td>\n",
       "    </tr>\n",
       "    <tr>\n",
       "      <th>2</th>\n",
       "      <td>2012-03-01</td>\n",
       "      <td>ANG MO KIO</td>\n",
       "      <td>3 ROOM</td>\n",
       "      <td>610</td>\n",
       "      <td>ANG MO KIO AVE 4</td>\n",
       "      <td>04 TO 06</td>\n",
       "      <td>68.0</td>\n",
       "      <td>New Generation</td>\n",
       "      <td>1980</td>\n",
       "      <td>315000.0</td>\n",
       "    </tr>\n",
       "    <tr>\n",
       "      <th>3</th>\n",
       "      <td>2012-03-01</td>\n",
       "      <td>ANG MO KIO</td>\n",
       "      <td>3 ROOM</td>\n",
       "      <td>474</td>\n",
       "      <td>ANG MO KIO AVE 10</td>\n",
       "      <td>01 TO 03</td>\n",
       "      <td>67.0</td>\n",
       "      <td>New Generation</td>\n",
       "      <td>1984</td>\n",
       "      <td>320000.0</td>\n",
       "    </tr>\n",
       "    <tr>\n",
       "      <th>4</th>\n",
       "      <td>2012-03-01</td>\n",
       "      <td>ANG MO KIO</td>\n",
       "      <td>3 ROOM</td>\n",
       "      <td>604</td>\n",
       "      <td>ANG MO KIO AVE 5</td>\n",
       "      <td>07 TO 09</td>\n",
       "      <td>67.0</td>\n",
       "      <td>New Generation</td>\n",
       "      <td>1980</td>\n",
       "      <td>321000.0</td>\n",
       "    </tr>\n",
       "  </tbody>\n",
       "</table>\n",
       "</div>"
      ],
      "text/plain": [
       "       month        town flat_type block        street_name storey_range  \\\n",
       "0 2012-03-01  ANG MO KIO    2 ROOM   172   ANG MO KIO AVE 4     07 TO 09   \n",
       "1 2012-03-01  ANG MO KIO    2 ROOM   510   ANG MO KIO AVE 8     01 TO 03   \n",
       "2 2012-03-01  ANG MO KIO    3 ROOM   610   ANG MO KIO AVE 4     04 TO 06   \n",
       "3 2012-03-01  ANG MO KIO    3 ROOM   474  ANG MO KIO AVE 10     01 TO 03   \n",
       "4 2012-03-01  ANG MO KIO    3 ROOM   604   ANG MO KIO AVE 5     07 TO 09   \n",
       "\n",
       "   floor_area_sqm      flat_model  lease_commence_date  resale_price  \n",
       "0            45.0        Improved                 1986      250000.0  \n",
       "1            44.0        Improved                 1980      265000.0  \n",
       "2            68.0  New Generation                 1980      315000.0  \n",
       "3            67.0  New Generation                 1984      320000.0  \n",
       "4            67.0  New Generation                 1980      321000.0  "
      ]
     },
     "execution_count": 78,
     "metadata": {},
     "output_type": "execute_result"
    }
   ],
   "source": [
    "flat_resale_12_14.head()"
   ]
  },
  {
   "cell_type": "code",
   "execution_count": 79,
   "id": "e5fbe3fd",
   "metadata": {},
   "outputs": [
    {
     "data": {
      "text/plain": [
       "flat_model\n",
       "Adjoined flat             84\n",
       "Apartment               2150\n",
       "DBSS                      72\n",
       "Improved               13744\n",
       "Improved-Maisonette        6\n",
       "Maisonette              1443\n",
       "Model A                14430\n",
       "Model A-Maisonette        75\n",
       "Model A2                 792\n",
       "Multi Generation          21\n",
       "New Generation          9598\n",
       "Premium Apartment       4514\n",
       "Premium Maisonette         4\n",
       "Simplified              3092\n",
       "Standard                2144\n",
       "Terrace                   33\n",
       "Type S1                    1\n",
       "Name: count, dtype: int64"
      ]
     },
     "execution_count": 79,
     "metadata": {},
     "output_type": "execute_result"
    }
   ],
   "source": [
    "# D) flat_model\n",
    "flat_resale_12_14['flat_model'].value_counts(dropna = False).sort_index()"
   ]
  },
  {
   "cell_type": "markdown",
   "id": "592485a9",
   "metadata": {},
   "source": [
    "No unusual findings."
   ]
  },
  {
   "cell_type": "markdown",
   "id": "4b1bf1d3",
   "metadata": {},
   "source": [
    "### 06.4 Flat Resale Data: Jan 2015 ~ Dec 2016"
   ]
  },
  {
   "cell_type": "code",
   "execution_count": 80,
   "id": "9f068875",
   "metadata": {
    "scrolled": true
   },
   "outputs": [
    {
     "data": {
      "text/plain": [
       "town\n",
       "ANG MO KIO         1851\n",
       "BEDOK              2442\n",
       "BISHAN              685\n",
       "BUKIT BATOK        1501\n",
       "BUKIT MERAH        1365\n",
       "BUKIT PANJANG      1398\n",
       "BUKIT TIMAH          88\n",
       "CENTRAL AREA        410\n",
       "CHOA CHU KANG      1770\n",
       "CLEMENTI            933\n",
       "GEYLANG            1032\n",
       "HOUGANG            1909\n",
       "JURONG EAST         832\n",
       "JURONG WEST        2888\n",
       "KALLANG/WHAMPOA    1145\n",
       "MARINE PARADE       225\n",
       "PASIR RIS          1185\n",
       "PUNGGOL            1550\n",
       "QUEENSTOWN          971\n",
       "SEMBAWANG          1014\n",
       "SENGKANG           2619\n",
       "SERANGOON           826\n",
       "TAMPINES           2666\n",
       "TOA PAYOH          1095\n",
       "WOODLANDS          2599\n",
       "YISHUN             2154\n",
       "Name: count, dtype: int64"
      ]
     },
     "execution_count": 80,
     "metadata": {},
     "output_type": "execute_result"
    }
   ],
   "source": [
    "# A) town\n",
    "flat_resale_15_16['town'].value_counts(dropna = False).sort_index()"
   ]
  },
  {
   "cell_type": "markdown",
   "id": "3e68dc60",
   "metadata": {},
   "source": [
    "No unusual findings."
   ]
  },
  {
   "cell_type": "code",
   "execution_count": 81,
   "id": "faaaae9a",
   "metadata": {
    "scrolled": false
   },
   "outputs": [
    {
     "data": {
      "text/plain": [
       "flat_type\n",
       "1 ROOM                 14\n",
       "2 ROOM                348\n",
       "3 ROOM              10021\n",
       "4 ROOM              15190\n",
       "5 ROOM               8735\n",
       "EXECUTIVE            2840\n",
       "MULTI-GENERATION        5\n",
       "Name: count, dtype: int64"
      ]
     },
     "execution_count": 81,
     "metadata": {},
     "output_type": "execute_result"
    }
   ],
   "source": [
    "# B) flat_type\n",
    "flat_resale_15_16['flat_type'].value_counts(dropna = False).sort_index()"
   ]
  },
  {
   "cell_type": "markdown",
   "id": "b9fbf478",
   "metadata": {},
   "source": [
    "No unusual findings."
   ]
  },
  {
   "cell_type": "code",
   "execution_count": 82,
   "id": "9146009a",
   "metadata": {},
   "outputs": [
    {
     "data": {
      "text/plain": [
       "storey_range\n",
       "01 TO 03    7050\n",
       "04 TO 06    8961\n",
       "07 TO 09    8220\n",
       "10 TO 12    7048\n",
       "13 TO 15    3176\n",
       "16 TO 18    1300\n",
       "19 TO 21     514\n",
       "22 TO 24     369\n",
       "25 TO 27     189\n",
       "28 TO 30     119\n",
       "31 TO 33      53\n",
       "34 TO 36      55\n",
       "37 TO 39      54\n",
       "40 TO 42      27\n",
       "43 TO 45       8\n",
       "46 TO 48       8\n",
       "49 TO 51       2\n",
       "Name: count, dtype: int64"
      ]
     },
     "execution_count": 82,
     "metadata": {},
     "output_type": "execute_result"
    }
   ],
   "source": [
    "# C) storey_range\n",
    "flat_resale_15_16['storey_range'].value_counts(dropna = False).sort_index()"
   ]
  },
  {
   "cell_type": "markdown",
   "id": "f773a17b",
   "metadata": {},
   "source": [
    "No unusual findings."
   ]
  },
  {
   "cell_type": "code",
   "execution_count": 83,
   "id": "925af65b",
   "metadata": {},
   "outputs": [
    {
     "data": {
      "text/plain": [
       "flat_model\n",
       "2-room                        1\n",
       "Adjoined flat                50\n",
       "Apartment                  1422\n",
       "DBSS                        205\n",
       "Improved                   9511\n",
       "Improved-Maisonette           4\n",
       "Maisonette                 1036\n",
       "Model A                   11143\n",
       "Model A-Maisonette           70\n",
       "Model A2                    576\n",
       "Multi Generation              5\n",
       "New Generation             6328\n",
       "Premium Apartment          3526\n",
       "Premium Apartment Loft        5\n",
       "Premium Maisonette            2\n",
       "Simplified                 1872\n",
       "Standard                   1181\n",
       "Terrace                      24\n",
       "Type S1                     137\n",
       "Type S2                      55\n",
       "Name: count, dtype: int64"
      ]
     },
     "execution_count": 83,
     "metadata": {},
     "output_type": "execute_result"
    }
   ],
   "source": [
    "# D) flat_model\n",
    "flat_resale_15_16['flat_model'].value_counts(dropna = False).sort_index()"
   ]
  },
  {
   "cell_type": "markdown",
   "id": "7f62c0c5",
   "metadata": {},
   "source": [
    "No unusual findings."
   ]
  },
  {
   "cell_type": "markdown",
   "id": "69881d08",
   "metadata": {},
   "source": [
    "### 06.5 Flat Resale Data: Jan 2017 ~ Dec 2023"
   ]
  },
  {
   "cell_type": "code",
   "execution_count": 84,
   "id": "6f884794",
   "metadata": {
    "scrolled": true
   },
   "outputs": [
    {
     "data": {
      "text/plain": [
       "town\n",
       "ANG MO KIO          7034\n",
       "BEDOK               9038\n",
       "BISHAN              3131\n",
       "BUKIT BATOK         6185\n",
       "BUKIT MERAH         6498\n",
       "BUKIT PANJANG       6295\n",
       "BUKIT TIMAH          426\n",
       "CENTRAL AREA        1386\n",
       "CHOA CHU KANG       7713\n",
       "CLEMENTI            3833\n",
       "GEYLANG             4187\n",
       "HOUGANG             8444\n",
       "JURONG EAST         3466\n",
       "JURONG WEST        11101\n",
       "KALLANG/WHAMPOA     5077\n",
       "MARINE PARADE       1063\n",
       "PASIR RIS           5078\n",
       "PUNGGOL            12593\n",
       "QUEENSTOWN          4705\n",
       "SEMBAWANG           4519\n",
       "SENGKANG           14134\n",
       "SERANGOON           3112\n",
       "TAMPINES           11267\n",
       "TOA PAYOH           5338\n",
       "WOODLANDS          11958\n",
       "YISHUN             11587\n",
       "Name: count, dtype: int64"
      ]
     },
     "execution_count": 84,
     "metadata": {},
     "output_type": "execute_result"
    }
   ],
   "source": [
    "# A) town\n",
    "flat_resale_17_23['town'].value_counts(dropna = False).sort_index()"
   ]
  },
  {
   "cell_type": "markdown",
   "id": "6046e840",
   "metadata": {},
   "source": [
    "No unusual findings."
   ]
  },
  {
   "cell_type": "code",
   "execution_count": 85,
   "id": "31ce3844",
   "metadata": {
    "scrolled": true
   },
   "outputs": [
    {
     "data": {
      "text/plain": [
       "flat_type\n",
       "1 ROOM                 64\n",
       "2 ROOM               2867\n",
       "3 ROOM              39934\n",
       "4 ROOM              71266\n",
       "5 ROOM              42265\n",
       "EXECUTIVE           12698\n",
       "MULTI-GENERATION       74\n",
       "Name: count, dtype: int64"
      ]
     },
     "execution_count": 85,
     "metadata": {},
     "output_type": "execute_result"
    }
   ],
   "source": [
    "# B) flat_type\n",
    "flat_resale_17_23['flat_type'].value_counts(dropna = False).sort_index()"
   ]
  },
  {
   "cell_type": "markdown",
   "id": "833bd197",
   "metadata": {},
   "source": [
    "No unusual findings."
   ]
  },
  {
   "cell_type": "code",
   "execution_count": 86,
   "id": "b769818a",
   "metadata": {},
   "outputs": [
    {
     "data": {
      "text/plain": [
       "storey_range\n",
       "01 TO 03    29809\n",
       "04 TO 06    38867\n",
       "07 TO 09    35504\n",
       "10 TO 12    31643\n",
       "13 TO 15    16181\n",
       "16 TO 18     7631\n",
       "19 TO 21     3247\n",
       "22 TO 24     2341\n",
       "25 TO 27     1402\n",
       "28 TO 30      924\n",
       "31 TO 33      485\n",
       "34 TO 36      444\n",
       "37 TO 39      392\n",
       "40 TO 42      187\n",
       "43 TO 45       56\n",
       "46 TO 48       40\n",
       "49 TO 51       15\n",
       "Name: count, dtype: int64"
      ]
     },
     "execution_count": 86,
     "metadata": {},
     "output_type": "execute_result"
    }
   ],
   "source": [
    "# C) storey_range\n",
    "flat_resale_17_23['storey_range'].value_counts(dropna = False).sort_index()"
   ]
  },
  {
   "cell_type": "markdown",
   "id": "fe7ae454",
   "metadata": {},
   "source": [
    "No unusual findings."
   ]
  },
  {
   "cell_type": "code",
   "execution_count": 87,
   "id": "5bbd136c",
   "metadata": {},
   "outputs": [
    {
     "data": {
      "text/plain": [
       "flat_model\n",
       "2-room                       70\n",
       "3Gen                         26\n",
       "Adjoined flat               301\n",
       "Apartment                  6372\n",
       "DBSS                       2909\n",
       "Improved                  41752\n",
       "Improved-Maisonette          25\n",
       "Maisonette                 4829\n",
       "Model A                   58306\n",
       "Model A-Maisonette          303\n",
       "Model A2                   1944\n",
       "Multi Generation             74\n",
       "New Generation            21110\n",
       "Premium Apartment         19257\n",
       "Premium Apartment Loft       99\n",
       "Premium Maisonette           14\n",
       "Simplified                 6548\n",
       "Standard                   4688\n",
       "Terrace                      92\n",
       "Type S1                     292\n",
       "Type S2                     157\n",
       "Name: count, dtype: int64"
      ]
     },
     "execution_count": 87,
     "metadata": {},
     "output_type": "execute_result"
    }
   ],
   "source": [
    "# D) flat_model\n",
    "flat_resale_17_23['flat_model'].value_counts(dropna = False).sort_index()"
   ]
  },
  {
   "cell_type": "markdown",
   "id": "4677940d",
   "metadata": {},
   "source": [
    "No unusual findings."
   ]
  },
  {
   "cell_type": "markdown",
   "id": "69fd4e68",
   "metadata": {},
   "source": [
    "# 07. Data Duplicates"
   ]
  },
  {
   "cell_type": "markdown",
   "id": "250da2e0",
   "metadata": {},
   "source": [
    "### 07.1 Flat Resale Data: Jan 1990 ~ Dec 1999"
   ]
  },
  {
   "cell_type": "code",
   "execution_count": 88,
   "id": "704752ff",
   "metadata": {},
   "outputs": [
    {
     "data": {
      "text/plain": [
       "826"
      ]
     },
     "execution_count": 88,
     "metadata": {},
     "output_type": "execute_result"
    }
   ],
   "source": [
    "# Check if there are any full duplicates in the dataframe\n",
    "flat_resale_90_99.duplicated().sum()"
   ]
  },
  {
   "cell_type": "code",
   "execution_count": 89,
   "id": "5c5e0be9",
   "metadata": {},
   "outputs": [
    {
     "data": {
      "text/plain": [
       "1    285558\n",
       "2       798\n",
       "3        14\n",
       "Name: count, dtype: int64"
      ]
     },
     "execution_count": 89,
     "metadata": {},
     "output_type": "execute_result"
    }
   ],
   "source": [
    "# Get the frequency table of the number of appearance for each unique row\n",
    "flat_resale_90_99.groupby(flat_resale_90_99.columns.to_list()).size().value_counts()"
   ]
  },
  {
   "cell_type": "markdown",
   "id": "044afe18",
   "metadata": {},
   "source": [
    "Since there is no transaction ID for each resale, it's hard to conclude that these duplicates are due to error. This is because multiple resales could be happened in the same flat, same storey range, within the same month, and transacted at the same price. Therefore, no action is needed."
   ]
  },
  {
   "cell_type": "markdown",
   "id": "6d7519dd",
   "metadata": {},
   "source": [
    "### 07.2 Flat Resale Data: Jan 2000 ~ Feb 2012"
   ]
  },
  {
   "cell_type": "code",
   "execution_count": 90,
   "id": "3dcff066",
   "metadata": {},
   "outputs": [
    {
     "data": {
      "text/plain": [
       "513"
      ]
     },
     "execution_count": 90,
     "metadata": {},
     "output_type": "execute_result"
    }
   ],
   "source": [
    "# Check if there are any full duplicates in the dataframe\n",
    "flat_resale_00_12.duplicated().sum()"
   ]
  },
  {
   "cell_type": "code",
   "execution_count": 91,
   "id": "daa2c3d1",
   "metadata": {
    "scrolled": false
   },
   "outputs": [
    {
     "data": {
      "text/plain": [
       "1    368637\n",
       "2       494\n",
       "3         3\n",
       "4         3\n",
       "5         1\n",
       "Name: count, dtype: int64"
      ]
     },
     "execution_count": 91,
     "metadata": {},
     "output_type": "execute_result"
    }
   ],
   "source": [
    "# Get the frequency table of the number of appearance for each unique row\n",
    "flat_resale_00_12.groupby(flat_resale_00_12.columns.to_list()).size().value_counts()"
   ]
  },
  {
   "cell_type": "markdown",
   "id": "c9a28101",
   "metadata": {},
   "source": [
    "Since there is no transaction ID for each resale, it's hard to conclude that these duplicates are due to error. This is because multiple resales could be happened in the same flat, same storey range, within the same month, and transacted at the same price."
   ]
  },
  {
   "cell_type": "code",
   "execution_count": 92,
   "id": "d6408f5d",
   "metadata": {},
   "outputs": [],
   "source": [
    "# Further check the rows with more than 3 appearances\n",
    "\n",
    "# 'as_index = False' is effectively “SQL-style” grouped output\n",
    "flat_resale_00_12_groupby = flat_resale_00_12.groupby(flat_resale_00_12.columns.to_list(), as_index = False).size()"
   ]
  },
  {
   "cell_type": "code",
   "execution_count": 93,
   "id": "bbc30532",
   "metadata": {},
   "outputs": [
    {
     "data": {
      "text/plain": [
       "pandas.core.frame.DataFrame"
      ]
     },
     "execution_count": 93,
     "metadata": {},
     "output_type": "execute_result"
    }
   ],
   "source": [
    "type(flat_resale_00_12_groupby)"
   ]
  },
  {
   "cell_type": "code",
   "execution_count": 94,
   "id": "18b5d38d",
   "metadata": {},
   "outputs": [
    {
     "data": {
      "text/html": [
       "<div>\n",
       "<style scoped>\n",
       "    .dataframe tbody tr th:only-of-type {\n",
       "        vertical-align: middle;\n",
       "    }\n",
       "\n",
       "    .dataframe tbody tr th {\n",
       "        vertical-align: top;\n",
       "    }\n",
       "\n",
       "    .dataframe thead th {\n",
       "        text-align: right;\n",
       "    }\n",
       "</style>\n",
       "<table border=\"1\" class=\"dataframe\">\n",
       "  <thead>\n",
       "    <tr style=\"text-align: right;\">\n",
       "      <th></th>\n",
       "      <th>month</th>\n",
       "      <th>town</th>\n",
       "      <th>flat_type</th>\n",
       "      <th>block</th>\n",
       "      <th>street_name</th>\n",
       "      <th>storey_range</th>\n",
       "      <th>floor_area_sqm</th>\n",
       "      <th>flat_model</th>\n",
       "      <th>lease_commence_date</th>\n",
       "      <th>resale_price</th>\n",
       "      <th>size</th>\n",
       "    </tr>\n",
       "  </thead>\n",
       "  <tbody>\n",
       "    <tr>\n",
       "      <th>279528</th>\n",
       "      <td>2009-01-01</td>\n",
       "      <td>PASIR RIS</td>\n",
       "      <td>3 ROOM</td>\n",
       "      <td>5</td>\n",
       "      <td>CHANGI VILLAGE RD</td>\n",
       "      <td>04 TO 06</td>\n",
       "      <td>66.0</td>\n",
       "      <td>Improved</td>\n",
       "      <td>1981</td>\n",
       "      <td>177000.0</td>\n",
       "      <td>4</td>\n",
       "    </tr>\n",
       "    <tr>\n",
       "      <th>281442</th>\n",
       "      <td>2009-02-01</td>\n",
       "      <td>PASIR RIS</td>\n",
       "      <td>3 ROOM</td>\n",
       "      <td>5</td>\n",
       "      <td>CHANGI VILLAGE RD</td>\n",
       "      <td>01 TO 03</td>\n",
       "      <td>66.0</td>\n",
       "      <td>Improved</td>\n",
       "      <td>1981</td>\n",
       "      <td>177000.0</td>\n",
       "      <td>5</td>\n",
       "    </tr>\n",
       "    <tr>\n",
       "      <th>281447</th>\n",
       "      <td>2009-02-01</td>\n",
       "      <td>PASIR RIS</td>\n",
       "      <td>3 ROOM</td>\n",
       "      <td>5</td>\n",
       "      <td>CHANGI VILLAGE RD</td>\n",
       "      <td>04 TO 06</td>\n",
       "      <td>66.0</td>\n",
       "      <td>Improved</td>\n",
       "      <td>1981</td>\n",
       "      <td>177000.0</td>\n",
       "      <td>4</td>\n",
       "    </tr>\n",
       "    <tr>\n",
       "      <th>285995</th>\n",
       "      <td>2009-04-01</td>\n",
       "      <td>PASIR RIS</td>\n",
       "      <td>3 ROOM</td>\n",
       "      <td>5</td>\n",
       "      <td>CHANGI VILLAGE RD</td>\n",
       "      <td>04 TO 06</td>\n",
       "      <td>66.0</td>\n",
       "      <td>Improved</td>\n",
       "      <td>1981</td>\n",
       "      <td>177000.0</td>\n",
       "      <td>4</td>\n",
       "    </tr>\n",
       "  </tbody>\n",
       "</table>\n",
       "</div>"
      ],
      "text/plain": [
       "            month       town flat_type block        street_name storey_range  \\\n",
       "279528 2009-01-01  PASIR RIS    3 ROOM     5  CHANGI VILLAGE RD     04 TO 06   \n",
       "281442 2009-02-01  PASIR RIS    3 ROOM     5  CHANGI VILLAGE RD     01 TO 03   \n",
       "281447 2009-02-01  PASIR RIS    3 ROOM     5  CHANGI VILLAGE RD     04 TO 06   \n",
       "285995 2009-04-01  PASIR RIS    3 ROOM     5  CHANGI VILLAGE RD     04 TO 06   \n",
       "\n",
       "        floor_area_sqm flat_model  lease_commence_date  resale_price  size  \n",
       "279528            66.0   Improved                 1981      177000.0     4  \n",
       "281442            66.0   Improved                 1981      177000.0     5  \n",
       "281447            66.0   Improved                 1981      177000.0     4  \n",
       "285995            66.0   Improved                 1981      177000.0     4  "
      ]
     },
     "execution_count": 94,
     "metadata": {},
     "output_type": "execute_result"
    }
   ],
   "source": [
    "flat_resale_00_12_groupby.loc[flat_resale_00_12_groupby['size'] >= 4]"
   ]
  },
  {
   "cell_type": "markdown",
   "id": "bfdd4600",
   "metadata": {},
   "source": [
    "For the unique rows that come with 4 and 5 apperances, they are all from 5, Changi Village Road. From the Google Maps, we can see that this flat has 4 floors. The first floor are stalls selling food, groceries and other items. The second to forth floors are residential units. From the PropertyGuru website, there are a total of 75 units in this flat, which means each floor has 25 units. In this case, it is possible that 4 to 5 resales could be happened in this same flat, same storey range, within the same month, and transacted at the same price. Therefore, no action is needed. <br>\n",
    "- Google Maps website: https://maps.app.goo.gl/kiCMueKkSCzLkeTP6 <br>\n",
    "- PropertyGuru website: https://www.propertyguru.com.sg/singapore-property-listing/hdb/pasir-ris/changi-village-road_103875/5#:~:text=Car%20Park-,Buildings%20Details,-Building"
   ]
  },
  {
   "cell_type": "markdown",
   "id": "d347de31",
   "metadata": {},
   "source": [
    "### 07.3 Flat Resale Data: Mar 2012 ~ Dec 2014"
   ]
  },
  {
   "cell_type": "code",
   "execution_count": 95,
   "id": "5a704041",
   "metadata": {},
   "outputs": [
    {
     "data": {
      "text/plain": [
       "246"
      ]
     },
     "execution_count": 95,
     "metadata": {},
     "output_type": "execute_result"
    }
   ],
   "source": [
    "# Check if there are any full duplicates in the dataframe\n",
    "flat_resale_12_14.duplicated().sum()"
   ]
  },
  {
   "cell_type": "code",
   "execution_count": 96,
   "id": "5e9a1428",
   "metadata": {
    "scrolled": true
   },
   "outputs": [
    {
     "data": {
      "text/plain": [
       "1    51711\n",
       "2      246\n",
       "Name: count, dtype: int64"
      ]
     },
     "execution_count": 96,
     "metadata": {},
     "output_type": "execute_result"
    }
   ],
   "source": [
    "# Get the frequency table of the number of appearance for each unique row\n",
    "flat_resale_12_14.groupby(flat_resale_12_14.columns.to_list()).size().value_counts()"
   ]
  },
  {
   "cell_type": "markdown",
   "id": "b4b0d9a9",
   "metadata": {},
   "source": [
    "Since there is no transaction ID for each resale, it's hard to conclude that these duplicates are due to error. This is because multiple resales could be happened in the same flat, same storey range, within the same month, and transacted at the same price. Therefore, no action is needed."
   ]
  },
  {
   "cell_type": "markdown",
   "id": "7901c755",
   "metadata": {},
   "source": [
    "### 07.4 Flat Resale Data: Jan 2015 ~ Dec 2016"
   ]
  },
  {
   "cell_type": "code",
   "execution_count": 97,
   "id": "cd88e96a",
   "metadata": {},
   "outputs": [
    {
     "data": {
      "text/plain": [
       "24"
      ]
     },
     "execution_count": 97,
     "metadata": {},
     "output_type": "execute_result"
    }
   ],
   "source": [
    "# Check if there are any full duplicates in the dataframe\n",
    "flat_resale_15_16.duplicated().sum()"
   ]
  },
  {
   "cell_type": "code",
   "execution_count": 98,
   "id": "ea859c51",
   "metadata": {
    "scrolled": true
   },
   "outputs": [
    {
     "data": {
      "text/plain": [
       "1    37105\n",
       "2       24\n",
       "Name: count, dtype: int64"
      ]
     },
     "execution_count": 98,
     "metadata": {},
     "output_type": "execute_result"
    }
   ],
   "source": [
    "# Get the frequency table of the number of appearance for each unique row\n",
    "flat_resale_15_16.groupby(flat_resale_15_16.columns.to_list()).size().value_counts()"
   ]
  },
  {
   "cell_type": "markdown",
   "id": "abbc2c29",
   "metadata": {},
   "source": [
    "Since there is no transaction ID for each resale, it's hard to conclude that these duplicates are due to error. This is because multiple resales could be happened in the same flat, same storey range, within the same month, and transacted at the same price. Therefore, no action is needed."
   ]
  },
  {
   "cell_type": "markdown",
   "id": "cb6a1a99",
   "metadata": {},
   "source": [
    "### 07.5 Flat Resale Data: Jan 2017 ~ Dec 2023"
   ]
  },
  {
   "cell_type": "code",
   "execution_count": 99,
   "id": "3e69aabd",
   "metadata": {},
   "outputs": [
    {
     "data": {
      "text/plain": [
       "281"
      ]
     },
     "execution_count": 99,
     "metadata": {},
     "output_type": "execute_result"
    }
   ],
   "source": [
    "# Check if there are any full duplicates in the dataframe\n",
    "flat_resale_17_23.duplicated().sum()"
   ]
  },
  {
   "cell_type": "code",
   "execution_count": 100,
   "id": "26f1daa9",
   "metadata": {
    "scrolled": true
   },
   "outputs": [
    {
     "data": {
      "text/plain": [
       "1    168606\n",
       "2       281\n",
       "Name: count, dtype: int64"
      ]
     },
     "execution_count": 100,
     "metadata": {},
     "output_type": "execute_result"
    }
   ],
   "source": [
    "# Get the frequency table of the number of appearance for each unique row\n",
    "flat_resale_17_23.groupby(flat_resale_17_23.columns.to_list()).size().value_counts()"
   ]
  },
  {
   "cell_type": "markdown",
   "id": "9e4dec39",
   "metadata": {},
   "source": [
    "Since there is no transaction ID for each resale, it's hard to conclude that these duplicates are due to error. This is because multiple resales could be happened in the same flat, same storey range, within the same month, and transacted at the same price. Therefore, no action is needed."
   ]
  },
  {
   "cell_type": "markdown",
   "id": "e0ffa1a5",
   "metadata": {},
   "source": [
    "# 08. Missing Values"
   ]
  },
  {
   "cell_type": "markdown",
   "id": "93accf0a",
   "metadata": {},
   "source": [
    "### 08.1 Flat Resale Data: Jan 1990 ~ Dec 1999"
   ]
  },
  {
   "cell_type": "code",
   "execution_count": 101,
   "id": "2f8b0ce6",
   "metadata": {},
   "outputs": [
    {
     "data": {
      "text/plain": [
       "month                  0\n",
       "town                   0\n",
       "flat_type              0\n",
       "block                  0\n",
       "street_name            0\n",
       "storey_range           0\n",
       "floor_area_sqm         0\n",
       "flat_model             0\n",
       "lease_commence_date    0\n",
       "resale_price           0\n",
       "dtype: int64"
      ]
     },
     "execution_count": 101,
     "metadata": {},
     "output_type": "execute_result"
    }
   ],
   "source": [
    "# Check the number of missing values in each column\n",
    "flat_resale_90_99.isnull().sum()"
   ]
  },
  {
   "cell_type": "markdown",
   "id": "b556aee2",
   "metadata": {},
   "source": [
    "### 08.2 Flat Resale Data: Jan 2000 ~ Feb 2012"
   ]
  },
  {
   "cell_type": "code",
   "execution_count": 102,
   "id": "5e7e9439",
   "metadata": {},
   "outputs": [
    {
     "data": {
      "text/plain": [
       "month                  0\n",
       "town                   0\n",
       "flat_type              0\n",
       "block                  0\n",
       "street_name            0\n",
       "storey_range           0\n",
       "floor_area_sqm         0\n",
       "flat_model             0\n",
       "lease_commence_date    0\n",
       "resale_price           0\n",
       "dtype: int64"
      ]
     },
     "execution_count": 102,
     "metadata": {},
     "output_type": "execute_result"
    }
   ],
   "source": [
    "# Check the number of missing values in each column\n",
    "flat_resale_00_12.isnull().sum()"
   ]
  },
  {
   "cell_type": "markdown",
   "id": "5bcd3e10",
   "metadata": {},
   "source": [
    "### 08.3 Flat Resale Data: Mar 2012 ~ Dec 2014"
   ]
  },
  {
   "cell_type": "code",
   "execution_count": 103,
   "id": "d935ab15",
   "metadata": {},
   "outputs": [
    {
     "data": {
      "text/plain": [
       "month                  0\n",
       "town                   0\n",
       "flat_type              0\n",
       "block                  0\n",
       "street_name            0\n",
       "storey_range           0\n",
       "floor_area_sqm         0\n",
       "flat_model             0\n",
       "lease_commence_date    0\n",
       "resale_price           0\n",
       "dtype: int64"
      ]
     },
     "execution_count": 103,
     "metadata": {},
     "output_type": "execute_result"
    }
   ],
   "source": [
    "# Check the number of missing values in each column\n",
    "flat_resale_12_14.isnull().sum()"
   ]
  },
  {
   "cell_type": "markdown",
   "id": "8f81add9",
   "metadata": {},
   "source": [
    "### 08.4 Flat Resale Data: Jan 2015 ~ Dec 2016"
   ]
  },
  {
   "cell_type": "code",
   "execution_count": 104,
   "id": "0142912f",
   "metadata": {},
   "outputs": [
    {
     "data": {
      "text/plain": [
       "month                  0\n",
       "town                   0\n",
       "flat_type              0\n",
       "block                  0\n",
       "street_name            0\n",
       "storey_range           0\n",
       "floor_area_sqm         0\n",
       "flat_model             0\n",
       "lease_commence_date    0\n",
       "remaining_lease        0\n",
       "resale_price           0\n",
       "dtype: int64"
      ]
     },
     "execution_count": 104,
     "metadata": {},
     "output_type": "execute_result"
    }
   ],
   "source": [
    "# Check the number of missing values in each column\n",
    "flat_resale_15_16.isnull().sum()"
   ]
  },
  {
   "cell_type": "markdown",
   "id": "30cd7578",
   "metadata": {},
   "source": [
    "### 08.5 Flat Resale Data: Jan 2017 ~ Dec 2023"
   ]
  },
  {
   "cell_type": "code",
   "execution_count": 105,
   "id": "3894472e",
   "metadata": {},
   "outputs": [
    {
     "data": {
      "text/plain": [
       "month                  0\n",
       "town                   0\n",
       "flat_type              0\n",
       "block                  0\n",
       "street_name            0\n",
       "storey_range           0\n",
       "floor_area_sqm         0\n",
       "flat_model             0\n",
       "lease_commence_date    0\n",
       "remaining_lease        0\n",
       "resale_price           0\n",
       "dtype: int64"
      ]
     },
     "execution_count": 105,
     "metadata": {},
     "output_type": "execute_result"
    }
   ],
   "source": [
    "# Check the number of missing values in each column\n",
    "flat_resale_17_23.isnull().sum()"
   ]
  },
  {
   "cell_type": "markdown",
   "id": "7f03a4c8",
   "metadata": {},
   "source": [
    "# 09. Export Data"
   ]
  },
  {
   "cell_type": "markdown",
   "id": "e0b5ff66",
   "metadata": {},
   "source": [
    "### 09.1 Flat Resale Data: Jan 1990 ~ Dec 1999"
   ]
  },
  {
   "cell_type": "code",
   "execution_count": 106,
   "id": "2af9b40d",
   "metadata": {},
   "outputs": [
    {
     "data": {
      "text/plain": [
       "(287196, 10)"
      ]
     },
     "execution_count": 106,
     "metadata": {},
     "output_type": "execute_result"
    }
   ],
   "source": [
    "flat_resale_90_99.shape"
   ]
  },
  {
   "cell_type": "code",
   "execution_count": 107,
   "id": "995fa28b",
   "metadata": {},
   "outputs": [],
   "source": [
    "flat_resale_90_99.to_csv(os.path.join(path, '02 Data', 'Prepared Data', 'flat_resale_90_99 (checked).csv'))"
   ]
  },
  {
   "cell_type": "markdown",
   "id": "cbb44978",
   "metadata": {},
   "source": [
    "### 09.2 Flat Resale Data: Jan 2000 ~ Feb 2012"
   ]
  },
  {
   "cell_type": "code",
   "execution_count": 108,
   "id": "4c613fd6",
   "metadata": {},
   "outputs": [
    {
     "data": {
      "text/plain": [
       "(369651, 10)"
      ]
     },
     "execution_count": 108,
     "metadata": {},
     "output_type": "execute_result"
    }
   ],
   "source": [
    "flat_resale_00_12.shape"
   ]
  },
  {
   "cell_type": "code",
   "execution_count": 109,
   "id": "fafd3d9c",
   "metadata": {},
   "outputs": [],
   "source": [
    "flat_resale_00_12.to_csv(os.path.join(path, '02 Data', 'Prepared Data', 'flat_resale_00_12 (checked).csv'))"
   ]
  },
  {
   "cell_type": "markdown",
   "id": "2ed64612",
   "metadata": {},
   "source": [
    "### 09.3 Flat Resale Data: Mar 2012 ~ Dec 2014"
   ]
  },
  {
   "cell_type": "code",
   "execution_count": 110,
   "id": "28ac5a8f",
   "metadata": {},
   "outputs": [
    {
     "data": {
      "text/plain": [
       "(52203, 10)"
      ]
     },
     "execution_count": 110,
     "metadata": {},
     "output_type": "execute_result"
    }
   ],
   "source": [
    "flat_resale_12_14.shape"
   ]
  },
  {
   "cell_type": "code",
   "execution_count": 111,
   "id": "e53fdacb",
   "metadata": {},
   "outputs": [],
   "source": [
    "flat_resale_12_14.to_csv(os.path.join(path, '02 Data', 'Prepared Data', 'flat_resale_12_14 (checked).csv'))"
   ]
  },
  {
   "cell_type": "markdown",
   "id": "f069d72a",
   "metadata": {},
   "source": [
    "### 09.4 Flat Resale Data: Jan 2015 ~ Dec 2016"
   ]
  },
  {
   "cell_type": "code",
   "execution_count": 112,
   "id": "369fa5b5",
   "metadata": {},
   "outputs": [
    {
     "data": {
      "text/plain": [
       "(37153, 11)"
      ]
     },
     "execution_count": 112,
     "metadata": {},
     "output_type": "execute_result"
    }
   ],
   "source": [
    "flat_resale_15_16.shape"
   ]
  },
  {
   "cell_type": "code",
   "execution_count": 113,
   "id": "8871ba38",
   "metadata": {},
   "outputs": [],
   "source": [
    "flat_resale_15_16.to_csv(os.path.join(path, '02 Data', 'Prepared Data', 'flat_resale_15_16 (checked).csv'))"
   ]
  },
  {
   "cell_type": "markdown",
   "id": "1df2b751",
   "metadata": {},
   "source": [
    "### 09.5 Flat Resale Data: Jan 2017 ~ Dec 2023"
   ]
  },
  {
   "cell_type": "code",
   "execution_count": 114,
   "id": "6ddfbb11",
   "metadata": {},
   "outputs": [
    {
     "data": {
      "text/plain": [
       "(169168, 11)"
      ]
     },
     "execution_count": 114,
     "metadata": {},
     "output_type": "execute_result"
    }
   ],
   "source": [
    "flat_resale_17_23.shape"
   ]
  },
  {
   "cell_type": "code",
   "execution_count": 115,
   "id": "3c2f5a36",
   "metadata": {},
   "outputs": [],
   "source": [
    "flat_resale_17_23.to_csv(os.path.join(path, '02 Data', 'Prepared Data', 'flat_resale_17_23 (checked).csv'))"
   ]
  },
  {
   "cell_type": "code",
   "execution_count": null,
   "id": "01954c53",
   "metadata": {},
   "outputs": [],
   "source": []
  },
  {
   "cell_type": "code",
   "execution_count": null,
   "id": "ae02bcb0",
   "metadata": {},
   "outputs": [],
   "source": []
  },
  {
   "cell_type": "code",
   "execution_count": null,
   "id": "f87efad2",
   "metadata": {},
   "outputs": [],
   "source": []
  }
 ],
 "metadata": {
  "kernelspec": {
   "display_name": "Python 3 (ipykernel)",
   "language": "python",
   "name": "python3"
  },
  "language_info": {
   "codemirror_mode": {
    "name": "ipython",
    "version": 3
   },
   "file_extension": ".py",
   "mimetype": "text/x-python",
   "name": "python",
   "nbconvert_exporter": "python",
   "pygments_lexer": "ipython3",
   "version": "3.11.5"
  },
  "varInspector": {
   "cols": {
    "lenName": 16,
    "lenType": 16,
    "lenVar": 40
   },
   "kernels_config": {
    "python": {
     "delete_cmd_postfix": "",
     "delete_cmd_prefix": "del ",
     "library": "var_list.py",
     "varRefreshCmd": "print(var_dic_list())"
    },
    "r": {
     "delete_cmd_postfix": ") ",
     "delete_cmd_prefix": "rm(",
     "library": "var_list.r",
     "varRefreshCmd": "cat(var_dic_list()) "
    }
   },
   "types_to_exclude": [
    "module",
    "function",
    "builtin_function_or_method",
    "instance",
    "_Feature"
   ],
   "window_display": false
  }
 },
 "nbformat": 4,
 "nbformat_minor": 5
}
