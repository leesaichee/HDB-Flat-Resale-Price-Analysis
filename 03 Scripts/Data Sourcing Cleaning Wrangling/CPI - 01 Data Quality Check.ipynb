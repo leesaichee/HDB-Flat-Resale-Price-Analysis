{
 "cells": [
  {
   "cell_type": "markdown",
   "id": "06c33fd7",
   "metadata": {},
   "source": [
    "# Table of Content\n",
    "01. Import Libraries\n",
    "02. Import Data\n",
    "03. Change Column Data Type (if necessary)\n",
    "04. Find Mixed-type Data\n",
    "05. Data Accuracy\n",
    "06. Data Consistency\n",
    "07. Data Duplicates\n",
    "08. Missing Values\n",
    "09. Export Data"
   ]
  },
  {
   "cell_type": "markdown",
   "id": "1678647e",
   "metadata": {},
   "source": [
    "# 01. Import Libraries"
   ]
  },
  {
   "cell_type": "code",
   "execution_count": 1,
   "id": "cf859140",
   "metadata": {},
   "outputs": [],
   "source": [
    "# Import libraries\n",
    "import pandas as pd\n",
    "import numpy as np\n",
    "import os"
   ]
  },
  {
   "cell_type": "code",
   "execution_count": 2,
   "id": "3ca5e8a7",
   "metadata": {},
   "outputs": [],
   "source": [
    "# Adjust the setting to view all rows\n",
    "pd.options.display.max_rows = None"
   ]
  },
  {
   "cell_type": "code",
   "execution_count": 3,
   "id": "d39e8b37",
   "metadata": {},
   "outputs": [],
   "source": [
    "# Adjust the setting to view all columns\n",
    "pd.options.display.max_columns = None"
   ]
  },
  {
   "cell_type": "markdown",
   "id": "35ddc511",
   "metadata": {},
   "source": [
    "# 02. Import Data"
   ]
  },
  {
   "cell_type": "code",
   "execution_count": 4,
   "id": "4051b480",
   "metadata": {},
   "outputs": [],
   "source": [
    "# Define the main project folder path\n",
    "path = r'C:\\Users\\saich\\Desktop\\CareerFoundry\\Data Immersion\\Achievement 6 Advanced Analytics & Dashboard Design\\11-2023 HDB Flat Resale Analysis'"
   ]
  },
  {
   "cell_type": "code",
   "execution_count": 5,
   "id": "6d8c9065",
   "metadata": {},
   "outputs": [],
   "source": [
    "# Import the 'Extracted CPI' sheet from 'consumer_price_index.xlsx' under 'Original Data' folder\n",
    "cpi = pd.read_excel(os.path.join(path, '02 Data', 'Original Data', 'consumer_price_index.xlsx'), sheet_name = 'Extracted CPI')"
   ]
  },
  {
   "cell_type": "code",
   "execution_count": 6,
   "id": "6b93a097",
   "metadata": {},
   "outputs": [
    {
     "data": {
      "text/html": [
       "<div>\n",
       "<style scoped>\n",
       "    .dataframe tbody tr th:only-of-type {\n",
       "        vertical-align: middle;\n",
       "    }\n",
       "\n",
       "    .dataframe tbody tr th {\n",
       "        vertical-align: top;\n",
       "    }\n",
       "\n",
       "    .dataframe thead th {\n",
       "        text-align: right;\n",
       "    }\n",
       "</style>\n",
       "<table border=\"1\" class=\"dataframe\">\n",
       "  <thead>\n",
       "    <tr style=\"text-align: right;\">\n",
       "      <th></th>\n",
       "      <th>month</th>\n",
       "      <th>cpi_all_items</th>\n",
       "    </tr>\n",
       "  </thead>\n",
       "  <tbody>\n",
       "    <tr>\n",
       "      <th>0</th>\n",
       "      <td>1990 Jan</td>\n",
       "      <td>62.0</td>\n",
       "    </tr>\n",
       "    <tr>\n",
       "      <th>1</th>\n",
       "      <td>1990 Feb</td>\n",
       "      <td>62.1</td>\n",
       "    </tr>\n",
       "    <tr>\n",
       "      <th>2</th>\n",
       "      <td>1990 Mar</td>\n",
       "      <td>61.9</td>\n",
       "    </tr>\n",
       "    <tr>\n",
       "      <th>3</th>\n",
       "      <td>1990 Apr</td>\n",
       "      <td>62.3</td>\n",
       "    </tr>\n",
       "    <tr>\n",
       "      <th>4</th>\n",
       "      <td>1990 May</td>\n",
       "      <td>62.4</td>\n",
       "    </tr>\n",
       "  </tbody>\n",
       "</table>\n",
       "</div>"
      ],
      "text/plain": [
       "      month  cpi_all_items\n",
       "0  1990 Jan           62.0\n",
       "1  1990 Feb           62.1\n",
       "2  1990 Mar           61.9\n",
       "3  1990 Apr           62.3\n",
       "4  1990 May           62.4"
      ]
     },
     "execution_count": 6,
     "metadata": {},
     "output_type": "execute_result"
    }
   ],
   "source": [
    "cpi.head()"
   ]
  },
  {
   "cell_type": "code",
   "execution_count": 7,
   "id": "f4fd21ff",
   "metadata": {},
   "outputs": [
    {
     "data": {
      "text/plain": [
       "(408, 2)"
      ]
     },
     "execution_count": 7,
     "metadata": {},
     "output_type": "execute_result"
    }
   ],
   "source": [
    "cpi.shape"
   ]
  },
  {
   "cell_type": "markdown",
   "id": "85b5d93e",
   "metadata": {},
   "source": [
    "# 03. Change Column Data Type (if necessary)"
   ]
  },
  {
   "cell_type": "code",
   "execution_count": 8,
   "id": "73448165",
   "metadata": {
    "scrolled": true
   },
   "outputs": [
    {
     "data": {
      "text/plain": [
       "month             object\n",
       "cpi_all_items    float64\n",
       "dtype: object"
      ]
     },
     "execution_count": 8,
     "metadata": {},
     "output_type": "execute_result"
    }
   ],
   "source": [
    "# Check the data type of each column\n",
    "cpi.dtypes"
   ]
  },
  {
   "cell_type": "markdown",
   "id": "a2f33570",
   "metadata": {},
   "source": [
    "'month' column store date information. It should be changed into datetime data type."
   ]
  },
  {
   "cell_type": "code",
   "execution_count": 9,
   "id": "a79a2696",
   "metadata": {
    "scrolled": true
   },
   "outputs": [
    {
     "name": "stderr",
     "output_type": "stream",
     "text": [
      "C:\\Users\\saich\\AppData\\Local\\Temp\\ipykernel_19176\\3942163427.py:1: UserWarning: Could not infer format, so each element will be parsed individually, falling back to `dateutil`. To ensure parsing is consistent and as-expected, please specify a format.\n",
      "  cpi['month'] = pd.to_datetime(cpi['month'])\n"
     ]
    }
   ],
   "source": [
    "cpi['month'] = pd.to_datetime(cpi['month'])"
   ]
  },
  {
   "cell_type": "code",
   "execution_count": 10,
   "id": "c3ff72ca",
   "metadata": {},
   "outputs": [
    {
     "data": {
      "text/plain": [
       "month            datetime64[ns]\n",
       "cpi_all_items           float64\n",
       "dtype: object"
      ]
     },
     "execution_count": 10,
     "metadata": {},
     "output_type": "execute_result"
    }
   ],
   "source": [
    "# Verify the changes\n",
    "cpi.dtypes"
   ]
  },
  {
   "cell_type": "code",
   "execution_count": 11,
   "id": "d3c609e0",
   "metadata": {},
   "outputs": [
    {
     "data": {
      "text/html": [
       "<div>\n",
       "<style scoped>\n",
       "    .dataframe tbody tr th:only-of-type {\n",
       "        vertical-align: middle;\n",
       "    }\n",
       "\n",
       "    .dataframe tbody tr th {\n",
       "        vertical-align: top;\n",
       "    }\n",
       "\n",
       "    .dataframe thead th {\n",
       "        text-align: right;\n",
       "    }\n",
       "</style>\n",
       "<table border=\"1\" class=\"dataframe\">\n",
       "  <thead>\n",
       "    <tr style=\"text-align: right;\">\n",
       "      <th></th>\n",
       "      <th>month</th>\n",
       "      <th>cpi_all_items</th>\n",
       "    </tr>\n",
       "  </thead>\n",
       "  <tbody>\n",
       "    <tr>\n",
       "      <th>0</th>\n",
       "      <td>1990-01-01</td>\n",
       "      <td>62.0</td>\n",
       "    </tr>\n",
       "    <tr>\n",
       "      <th>1</th>\n",
       "      <td>1990-02-01</td>\n",
       "      <td>62.1</td>\n",
       "    </tr>\n",
       "    <tr>\n",
       "      <th>2</th>\n",
       "      <td>1990-03-01</td>\n",
       "      <td>61.9</td>\n",
       "    </tr>\n",
       "    <tr>\n",
       "      <th>3</th>\n",
       "      <td>1990-04-01</td>\n",
       "      <td>62.3</td>\n",
       "    </tr>\n",
       "    <tr>\n",
       "      <th>4</th>\n",
       "      <td>1990-05-01</td>\n",
       "      <td>62.4</td>\n",
       "    </tr>\n",
       "  </tbody>\n",
       "</table>\n",
       "</div>"
      ],
      "text/plain": [
       "       month  cpi_all_items\n",
       "0 1990-01-01           62.0\n",
       "1 1990-02-01           62.1\n",
       "2 1990-03-01           61.9\n",
       "3 1990-04-01           62.3\n",
       "4 1990-05-01           62.4"
      ]
     },
     "execution_count": 11,
     "metadata": {},
     "output_type": "execute_result"
    }
   ],
   "source": [
    "cpi.head()"
   ]
  },
  {
   "cell_type": "markdown",
   "id": "a715a198",
   "metadata": {},
   "source": [
    "# 04. Find Mixed-type Data"
   ]
  },
  {
   "cell_type": "code",
   "execution_count": 12,
   "id": "3f040b27",
   "metadata": {},
   "outputs": [],
   "source": [
    "# Check for any mixed-type columns - no output means no mixed-type data\n",
    "for col in cpi.columns.tolist():\n",
    "    weird = (cpi[[col]].applymap(type) != cpi[[col]].iloc[0].apply(type)).any(axis = 1)\n",
    "    if len (cpi[weird]) > 0:\n",
    "        print (col)"
   ]
  },
  {
   "cell_type": "markdown",
   "id": "719acee4",
   "metadata": {},
   "source": [
    "No unusual findings. "
   ]
  },
  {
   "cell_type": "markdown",
   "id": "648d643e",
   "metadata": {},
   "source": [
    "# 05. Data Accuracy"
   ]
  },
  {
   "cell_type": "code",
   "execution_count": 13,
   "id": "ed1bc310",
   "metadata": {
    "scrolled": false
   },
   "outputs": [
    {
     "data": {
      "text/html": [
       "<div>\n",
       "<style scoped>\n",
       "    .dataframe tbody tr th:only-of-type {\n",
       "        vertical-align: middle;\n",
       "    }\n",
       "\n",
       "    .dataframe tbody tr th {\n",
       "        vertical-align: top;\n",
       "    }\n",
       "\n",
       "    .dataframe thead th {\n",
       "        text-align: right;\n",
       "    }\n",
       "</style>\n",
       "<table border=\"1\" class=\"dataframe\">\n",
       "  <thead>\n",
       "    <tr style=\"text-align: right;\">\n",
       "      <th></th>\n",
       "      <th>month</th>\n",
       "      <th>cpi_all_items</th>\n",
       "    </tr>\n",
       "  </thead>\n",
       "  <tbody>\n",
       "    <tr>\n",
       "      <th>count</th>\n",
       "      <td>408</td>\n",
       "      <td>408.000000</td>\n",
       "    </tr>\n",
       "    <tr>\n",
       "      <th>mean</th>\n",
       "      <td>2006-12-16 04:42:21.176470528</td>\n",
       "      <td>84.369118</td>\n",
       "    </tr>\n",
       "    <tr>\n",
       "      <th>min</th>\n",
       "      <td>1990-01-01 00:00:00</td>\n",
       "      <td>61.900000</td>\n",
       "    </tr>\n",
       "    <tr>\n",
       "      <th>25%</th>\n",
       "      <td>1998-06-23 12:00:00</td>\n",
       "      <td>73.475000</td>\n",
       "    </tr>\n",
       "    <tr>\n",
       "      <th>50%</th>\n",
       "      <td>2006-12-16 12:00:00</td>\n",
       "      <td>77.800000</td>\n",
       "    </tr>\n",
       "    <tr>\n",
       "      <th>75%</th>\n",
       "      <td>2015-06-08 12:00:00</td>\n",
       "      <td>98.900000</td>\n",
       "    </tr>\n",
       "    <tr>\n",
       "      <th>max</th>\n",
       "      <td>2023-12-01 00:00:00</td>\n",
       "      <td>115.300000</td>\n",
       "    </tr>\n",
       "    <tr>\n",
       "      <th>std</th>\n",
       "      <td>NaN</td>\n",
       "      <td>13.957868</td>\n",
       "    </tr>\n",
       "  </tbody>\n",
       "</table>\n",
       "</div>"
      ],
      "text/plain": [
       "                               month  cpi_all_items\n",
       "count                            408     408.000000\n",
       "mean   2006-12-16 04:42:21.176470528      84.369118\n",
       "min              1990-01-01 00:00:00      61.900000\n",
       "25%              1998-06-23 12:00:00      73.475000\n",
       "50%              2006-12-16 12:00:00      77.800000\n",
       "75%              2015-06-08 12:00:00      98.900000\n",
       "max              2023-12-01 00:00:00     115.300000\n",
       "std                              NaN      13.957868"
      ]
     },
     "execution_count": 13,
     "metadata": {},
     "output_type": "execute_result"
    }
   ],
   "source": [
    "cpi.describe()"
   ]
  },
  {
   "cell_type": "markdown",
   "id": "3fc6aaf2",
   "metadata": {},
   "source": [
    "No unusual findings."
   ]
  },
  {
   "cell_type": "markdown",
   "id": "0274035e",
   "metadata": {},
   "source": [
    "# 06. Data Consistency"
   ]
  },
  {
   "cell_type": "markdown",
   "id": "73cbef2e",
   "metadata": {},
   "source": [
    "Not applicable as there is no categorical variable in this dataset. "
   ]
  },
  {
   "cell_type": "markdown",
   "id": "7ffaa35f",
   "metadata": {},
   "source": [
    "# 07. Data Duplicates"
   ]
  },
  {
   "cell_type": "code",
   "execution_count": 14,
   "id": "925ad3b6",
   "metadata": {},
   "outputs": [
    {
     "data": {
      "text/plain": [
       "0"
      ]
     },
     "execution_count": 14,
     "metadata": {},
     "output_type": "execute_result"
    }
   ],
   "source": [
    "# Check if there are any full duplicates in the dataframe\n",
    "cpi.duplicated().sum()"
   ]
  },
  {
   "cell_type": "code",
   "execution_count": 15,
   "id": "8103850e",
   "metadata": {},
   "outputs": [
    {
     "data": {
      "text/html": [
       "<div>\n",
       "<style scoped>\n",
       "    .dataframe tbody tr th:only-of-type {\n",
       "        vertical-align: middle;\n",
       "    }\n",
       "\n",
       "    .dataframe tbody tr th {\n",
       "        vertical-align: top;\n",
       "    }\n",
       "\n",
       "    .dataframe thead th {\n",
       "        text-align: right;\n",
       "    }\n",
       "</style>\n",
       "<table border=\"1\" class=\"dataframe\">\n",
       "  <thead>\n",
       "    <tr style=\"text-align: right;\">\n",
       "      <th></th>\n",
       "      <th>month</th>\n",
       "      <th>cpi_all_items</th>\n",
       "    </tr>\n",
       "  </thead>\n",
       "  <tbody>\n",
       "  </tbody>\n",
       "</table>\n",
       "</div>"
      ],
      "text/plain": [
       "Empty DataFrame\n",
       "Columns: [month, cpi_all_items]\n",
       "Index: []"
      ]
     },
     "execution_count": 15,
     "metadata": {},
     "output_type": "execute_result"
    }
   ],
   "source": [
    "cpi.loc[cpi.duplicated()]"
   ]
  },
  {
   "cell_type": "markdown",
   "id": "a668a02c",
   "metadata": {},
   "source": [
    "No unusual findings."
   ]
  },
  {
   "cell_type": "markdown",
   "id": "0a68f224",
   "metadata": {},
   "source": [
    "# 08. Missing Values"
   ]
  },
  {
   "cell_type": "code",
   "execution_count": 16,
   "id": "7776674b",
   "metadata": {},
   "outputs": [
    {
     "data": {
      "text/plain": [
       "month            0\n",
       "cpi_all_items    0\n",
       "dtype: int64"
      ]
     },
     "execution_count": 16,
     "metadata": {},
     "output_type": "execute_result"
    }
   ],
   "source": [
    "# Check the number of missing values in each column\n",
    "cpi.isnull().sum()"
   ]
  },
  {
   "cell_type": "markdown",
   "id": "123f7920",
   "metadata": {},
   "source": [
    "No unusual findings."
   ]
  },
  {
   "cell_type": "markdown",
   "id": "b4b43b01",
   "metadata": {},
   "source": [
    "# 09. Export Data"
   ]
  },
  {
   "cell_type": "code",
   "execution_count": 17,
   "id": "70b92e53",
   "metadata": {
    "scrolled": true
   },
   "outputs": [
    {
     "data": {
      "text/plain": [
       "(408, 2)"
      ]
     },
     "execution_count": 17,
     "metadata": {},
     "output_type": "execute_result"
    }
   ],
   "source": [
    "cpi.shape"
   ]
  },
  {
   "cell_type": "code",
   "execution_count": 18,
   "id": "5c46ed6d",
   "metadata": {},
   "outputs": [],
   "source": [
    "# Export data to 'Prepared Data' folder in pickle format\n",
    "cpi.to_pickle(os.path.join(path, '02 Data', 'Prepared Data', 'consumer_price_index (checked).pkl'))"
   ]
  },
  {
   "cell_type": "code",
   "execution_count": null,
   "id": "a0cd4a26",
   "metadata": {},
   "outputs": [],
   "source": []
  }
 ],
 "metadata": {
  "kernelspec": {
   "display_name": "Python 3 (ipykernel)",
   "language": "python",
   "name": "python3"
  },
  "language_info": {
   "codemirror_mode": {
    "name": "ipython",
    "version": 3
   },
   "file_extension": ".py",
   "mimetype": "text/x-python",
   "name": "python",
   "nbconvert_exporter": "python",
   "pygments_lexer": "ipython3",
   "version": "3.11.5"
  },
  "varInspector": {
   "cols": {
    "lenName": 16,
    "lenType": 16,
    "lenVar": 40
   },
   "kernels_config": {
    "python": {
     "delete_cmd_postfix": "",
     "delete_cmd_prefix": "del ",
     "library": "var_list.py",
     "varRefreshCmd": "print(var_dic_list())"
    },
    "r": {
     "delete_cmd_postfix": ") ",
     "delete_cmd_prefix": "rm(",
     "library": "var_list.r",
     "varRefreshCmd": "cat(var_dic_list()) "
    }
   },
   "types_to_exclude": [
    "module",
    "function",
    "builtin_function_or_method",
    "instance",
    "_Feature"
   ],
   "window_display": false
  }
 },
 "nbformat": 4,
 "nbformat_minor": 5
}
