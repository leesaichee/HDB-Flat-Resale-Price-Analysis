{
 "cells": [
  {
   "cell_type": "markdown",
   "id": "738fd3a0",
   "metadata": {},
   "source": [
    "# Table of Content\n",
    "01. Import Libraries\n",
    "02. Import Data\n",
    "03. Change Date Columns From String To Datetime\n",
    "04. Convert Data to GeoData\n",
    "05. Change CRS from EPSG:4326 (longitude & latitude) to EPSG:3414 (projected planar x and y coordinates for Singapore)\n",
    "06. Fill N/A Train Station Closure Dates with Dummies\n",
    "07. Reduce Granularity for Train Station Opening and Closure Dates\n",
    "08. Get Nearest Train Station and Its Distance for Each Flat\n",
    "09. Data Validation\n",
    "10. Combine The Result of Nearest Train Station into Main Dataframe\n",
    "11. Export Data"
   ]
  },
  {
   "cell_type": "markdown",
   "id": "b7f85247",
   "metadata": {},
   "source": [
    "# 01. Import Libraries"
   ]
  },
  {
   "cell_type": "code",
   "execution_count": 1,
   "id": "2bf91dd6",
   "metadata": {},
   "outputs": [],
   "source": [
    "# Import libraries\n",
    "import pandas as pd\n",
    "import numpy as np\n",
    "import geopandas as gpd\n",
    "import os"
   ]
  },
  {
   "cell_type": "code",
   "execution_count": 2,
   "id": "5fea8ce0",
   "metadata": {},
   "outputs": [],
   "source": [
    "# Adjust setting to allow seeing all the rows in the output of this notebook\n",
    "pd.options.display.max_rows = None"
   ]
  },
  {
   "cell_type": "code",
   "execution_count": 3,
   "id": "5138f188",
   "metadata": {},
   "outputs": [],
   "source": [
    "# Adjust setting to allow seeing all the columns in the output of this notebook\n",
    "pd.options.display.max_columns = None"
   ]
  },
  {
   "cell_type": "markdown",
   "id": "f8cb1cde",
   "metadata": {},
   "source": [
    "# 02. Import Data"
   ]
  },
  {
   "cell_type": "code",
   "execution_count": 4,
   "id": "6b2e375a",
   "metadata": {},
   "outputs": [],
   "source": [
    "# Define the main project folder path\n",
    "path = r'C:\\Users\\saich\\Desktop\\CareerFoundry\\Data Immersion\\Achievement 6 Advanced Analytics & Dashboard Design\\11-2023 HDB Flat Resale Analysis'"
   ]
  },
  {
   "cell_type": "code",
   "execution_count": 5,
   "id": "ac3e59c2",
   "metadata": {},
   "outputs": [],
   "source": [
    "# 1) 'flat_resale' \n",
    "\n",
    "# Import 'flat_resale_all_w_coord.csv' from 'Prepared Data' folder\n",
    "flat_resale = pd.read_csv(os.path.join(path, '02 Data', 'Prepared Data', 'flat_resale_all_w_coord.csv'), index_col = 0)"
   ]
  },
  {
   "cell_type": "code",
   "execution_count": 6,
   "id": "8517bfdb",
   "metadata": {},
   "outputs": [
    {
     "data": {
      "text/html": [
       "<div>\n",
       "<style scoped>\n",
       "    .dataframe tbody tr th:only-of-type {\n",
       "        vertical-align: middle;\n",
       "    }\n",
       "\n",
       "    .dataframe tbody tr th {\n",
       "        vertical-align: top;\n",
       "    }\n",
       "\n",
       "    .dataframe thead th {\n",
       "        text-align: right;\n",
       "    }\n",
       "</style>\n",
       "<table border=\"1\" class=\"dataframe\">\n",
       "  <thead>\n",
       "    <tr style=\"text-align: right;\">\n",
       "      <th></th>\n",
       "      <th>month</th>\n",
       "      <th>town</th>\n",
       "      <th>flat_type</th>\n",
       "      <th>block</th>\n",
       "      <th>street_name</th>\n",
       "      <th>storey_range</th>\n",
       "      <th>floor_area_sqm</th>\n",
       "      <th>flat_model</th>\n",
       "      <th>lease_commence_date</th>\n",
       "      <th>resale_price</th>\n",
       "      <th>remaining_lease</th>\n",
       "      <th>row_id</th>\n",
       "      <th>address</th>\n",
       "      <th>latitude</th>\n",
       "      <th>longitude</th>\n",
       "    </tr>\n",
       "  </thead>\n",
       "  <tbody>\n",
       "    <tr>\n",
       "      <th>0</th>\n",
       "      <td>1990-01-01</td>\n",
       "      <td>ANG MO KIO</td>\n",
       "      <td>1 ROOM</td>\n",
       "      <td>309</td>\n",
       "      <td>ANG MO KIO AVE 1</td>\n",
       "      <td>10 TO 12</td>\n",
       "      <td>31.0</td>\n",
       "      <td>Improved</td>\n",
       "      <td>1977</td>\n",
       "      <td>9000.0</td>\n",
       "      <td>86</td>\n",
       "      <td>0</td>\n",
       "      <td>309 ANG MO KIO AVE 1</td>\n",
       "      <td>1.365517</td>\n",
       "      <td>103.843968</td>\n",
       "    </tr>\n",
       "    <tr>\n",
       "      <th>1</th>\n",
       "      <td>1990-01-01</td>\n",
       "      <td>ANG MO KIO</td>\n",
       "      <td>1 ROOM</td>\n",
       "      <td>309</td>\n",
       "      <td>ANG MO KIO AVE 1</td>\n",
       "      <td>04 TO 06</td>\n",
       "      <td>31.0</td>\n",
       "      <td>Improved</td>\n",
       "      <td>1977</td>\n",
       "      <td>6000.0</td>\n",
       "      <td>86</td>\n",
       "      <td>1</td>\n",
       "      <td>309 ANG MO KIO AVE 1</td>\n",
       "      <td>1.365517</td>\n",
       "      <td>103.843968</td>\n",
       "    </tr>\n",
       "    <tr>\n",
       "      <th>2</th>\n",
       "      <td>1990-01-01</td>\n",
       "      <td>ANG MO KIO</td>\n",
       "      <td>1 ROOM</td>\n",
       "      <td>309</td>\n",
       "      <td>ANG MO KIO AVE 1</td>\n",
       "      <td>10 TO 12</td>\n",
       "      <td>31.0</td>\n",
       "      <td>Improved</td>\n",
       "      <td>1977</td>\n",
       "      <td>8000.0</td>\n",
       "      <td>86</td>\n",
       "      <td>2</td>\n",
       "      <td>309 ANG MO KIO AVE 1</td>\n",
       "      <td>1.365517</td>\n",
       "      <td>103.843968</td>\n",
       "    </tr>\n",
       "    <tr>\n",
       "      <th>3</th>\n",
       "      <td>1990-01-01</td>\n",
       "      <td>ANG MO KIO</td>\n",
       "      <td>1 ROOM</td>\n",
       "      <td>309</td>\n",
       "      <td>ANG MO KIO AVE 1</td>\n",
       "      <td>07 TO 09</td>\n",
       "      <td>31.0</td>\n",
       "      <td>Improved</td>\n",
       "      <td>1977</td>\n",
       "      <td>6000.0</td>\n",
       "      <td>86</td>\n",
       "      <td>3</td>\n",
       "      <td>309 ANG MO KIO AVE 1</td>\n",
       "      <td>1.365517</td>\n",
       "      <td>103.843968</td>\n",
       "    </tr>\n",
       "    <tr>\n",
       "      <th>4</th>\n",
       "      <td>1990-01-01</td>\n",
       "      <td>ANG MO KIO</td>\n",
       "      <td>3 ROOM</td>\n",
       "      <td>216</td>\n",
       "      <td>ANG MO KIO AVE 1</td>\n",
       "      <td>04 TO 06</td>\n",
       "      <td>73.0</td>\n",
       "      <td>New Generation</td>\n",
       "      <td>1976</td>\n",
       "      <td>47200.0</td>\n",
       "      <td>85</td>\n",
       "      <td>4</td>\n",
       "      <td>216 ANG MO KIO AVE 1</td>\n",
       "      <td>1.366197</td>\n",
       "      <td>103.841505</td>\n",
       "    </tr>\n",
       "  </tbody>\n",
       "</table>\n",
       "</div>"
      ],
      "text/plain": [
       "        month        town flat_type block       street_name storey_range  \\\n",
       "0  1990-01-01  ANG MO KIO    1 ROOM   309  ANG MO KIO AVE 1     10 TO 12   \n",
       "1  1990-01-01  ANG MO KIO    1 ROOM   309  ANG MO KIO AVE 1     04 TO 06   \n",
       "2  1990-01-01  ANG MO KIO    1 ROOM   309  ANG MO KIO AVE 1     10 TO 12   \n",
       "3  1990-01-01  ANG MO KIO    1 ROOM   309  ANG MO KIO AVE 1     07 TO 09   \n",
       "4  1990-01-01  ANG MO KIO    3 ROOM   216  ANG MO KIO AVE 1     04 TO 06   \n",
       "\n",
       "   floor_area_sqm      flat_model  lease_commence_date  resale_price  \\\n",
       "0            31.0        Improved                 1977        9000.0   \n",
       "1            31.0        Improved                 1977        6000.0   \n",
       "2            31.0        Improved                 1977        8000.0   \n",
       "3            31.0        Improved                 1977        6000.0   \n",
       "4            73.0  New Generation                 1976       47200.0   \n",
       "\n",
       "   remaining_lease  row_id               address  latitude   longitude  \n",
       "0               86       0  309 ANG MO KIO AVE 1  1.365517  103.843968  \n",
       "1               86       1  309 ANG MO KIO AVE 1  1.365517  103.843968  \n",
       "2               86       2  309 ANG MO KIO AVE 1  1.365517  103.843968  \n",
       "3               86       3  309 ANG MO KIO AVE 1  1.365517  103.843968  \n",
       "4               85       4  216 ANG MO KIO AVE 1  1.366197  103.841505  "
      ]
     },
     "execution_count": 6,
     "metadata": {},
     "output_type": "execute_result"
    }
   ],
   "source": [
    "flat_resale.head()"
   ]
  },
  {
   "cell_type": "code",
   "execution_count": 7,
   "id": "ec478b93",
   "metadata": {},
   "outputs": [
    {
     "data": {
      "text/plain": [
       "(915371, 15)"
      ]
     },
     "execution_count": 7,
     "metadata": {},
     "output_type": "execute_result"
    }
   ],
   "source": [
    "flat_resale.shape"
   ]
  },
  {
   "cell_type": "code",
   "execution_count": 8,
   "id": "22fe4cfa",
   "metadata": {},
   "outputs": [],
   "source": [
    "# 2) 'train_station'\n",
    "\n",
    "# Import 'train_station_w_coord.csv' from 'Prepared Data' folder\n",
    "train_station = pd.read_csv(os.path.join(path, '02 Data', 'Prepared Data', 'train_station_w_coord.csv'), index_col = 0)"
   ]
  },
  {
   "cell_type": "code",
   "execution_count": 9,
   "id": "e0234614",
   "metadata": {},
   "outputs": [
    {
     "data": {
      "text/html": [
       "<div>\n",
       "<style scoped>\n",
       "    .dataframe tbody tr th:only-of-type {\n",
       "        vertical-align: middle;\n",
       "    }\n",
       "\n",
       "    .dataframe tbody tr th {\n",
       "        vertical-align: top;\n",
       "    }\n",
       "\n",
       "    .dataframe thead th {\n",
       "        text-align: right;\n",
       "    }\n",
       "</style>\n",
       "<table border=\"1\" class=\"dataframe\">\n",
       "  <thead>\n",
       "    <tr style=\"text-align: right;\">\n",
       "      <th></th>\n",
       "      <th>station_code</th>\n",
       "      <th>station_name</th>\n",
       "      <th>line</th>\n",
       "      <th>opening</th>\n",
       "      <th>closure</th>\n",
       "      <th>station_name_w_code</th>\n",
       "      <th>latitude</th>\n",
       "      <th>longitude</th>\n",
       "    </tr>\n",
       "  </thead>\n",
       "  <tbody>\n",
       "    <tr>\n",
       "      <th>0</th>\n",
       "      <td>NS1</td>\n",
       "      <td>Jurong East</td>\n",
       "      <td>North-South Line</td>\n",
       "      <td>1990-03-10</td>\n",
       "      <td>NaN</td>\n",
       "      <td>Jurong East MRT Station (NS1)</td>\n",
       "      <td>1.333153</td>\n",
       "      <td>103.742286</td>\n",
       "    </tr>\n",
       "    <tr>\n",
       "      <th>1</th>\n",
       "      <td>NS2</td>\n",
       "      <td>Bukit Batok</td>\n",
       "      <td>North-South Line</td>\n",
       "      <td>1990-03-10</td>\n",
       "      <td>NaN</td>\n",
       "      <td>Bukit Batok MRT Station (NS2)</td>\n",
       "      <td>1.349033</td>\n",
       "      <td>103.749566</td>\n",
       "    </tr>\n",
       "    <tr>\n",
       "      <th>2</th>\n",
       "      <td>NS3</td>\n",
       "      <td>Bukit Gombak</td>\n",
       "      <td>North-South Line</td>\n",
       "      <td>1990-03-10</td>\n",
       "      <td>NaN</td>\n",
       "      <td>Bukit Gombak MRT Station (NS3)</td>\n",
       "      <td>1.358612</td>\n",
       "      <td>103.751791</td>\n",
       "    </tr>\n",
       "    <tr>\n",
       "      <th>3</th>\n",
       "      <td>NS4</td>\n",
       "      <td>Choa Chu Kang</td>\n",
       "      <td>North-South Line</td>\n",
       "      <td>1990-03-10</td>\n",
       "      <td>NaN</td>\n",
       "      <td>Choa Chu Kang MRT Station (NS4)</td>\n",
       "      <td>1.385363</td>\n",
       "      <td>103.744371</td>\n",
       "    </tr>\n",
       "    <tr>\n",
       "      <th>4</th>\n",
       "      <td>NS5</td>\n",
       "      <td>Yew Tee</td>\n",
       "      <td>North-South Line</td>\n",
       "      <td>1996-02-10</td>\n",
       "      <td>NaN</td>\n",
       "      <td>Yew Tee MRT Station (NS5)</td>\n",
       "      <td>1.397535</td>\n",
       "      <td>103.747405</td>\n",
       "    </tr>\n",
       "  </tbody>\n",
       "</table>\n",
       "</div>"
      ],
      "text/plain": [
       "  station_code   station_name              line     opening closure  \\\n",
       "0          NS1    Jurong East  North-South Line  1990-03-10     NaN   \n",
       "1          NS2    Bukit Batok  North-South Line  1990-03-10     NaN   \n",
       "2          NS3   Bukit Gombak  North-South Line  1990-03-10     NaN   \n",
       "3          NS4  Choa Chu Kang  North-South Line  1990-03-10     NaN   \n",
       "4          NS5        Yew Tee  North-South Line  1996-02-10     NaN   \n",
       "\n",
       "               station_name_w_code  latitude   longitude  \n",
       "0    Jurong East MRT Station (NS1)  1.333153  103.742286  \n",
       "1    Bukit Batok MRT Station (NS2)  1.349033  103.749566  \n",
       "2   Bukit Gombak MRT Station (NS3)  1.358612  103.751791  \n",
       "3  Choa Chu Kang MRT Station (NS4)  1.385363  103.744371  \n",
       "4        Yew Tee MRT Station (NS5)  1.397535  103.747405  "
      ]
     },
     "execution_count": 9,
     "metadata": {},
     "output_type": "execute_result"
    }
   ],
   "source": [
    "train_station.head()"
   ]
  },
  {
   "cell_type": "code",
   "execution_count": 10,
   "id": "444bf1e1",
   "metadata": {},
   "outputs": [
    {
     "data": {
      "text/plain": [
       "(204, 8)"
      ]
     },
     "execution_count": 10,
     "metadata": {},
     "output_type": "execute_result"
    }
   ],
   "source": [
    "train_station.shape"
   ]
  },
  {
   "cell_type": "markdown",
   "id": "49990a39",
   "metadata": {},
   "source": [
    "# 03. Change Date Columns From String To Datetime"
   ]
  },
  {
   "cell_type": "code",
   "execution_count": 11,
   "id": "319cc2c4",
   "metadata": {},
   "outputs": [],
   "source": [
    "flat_resale['month'] = pd.to_datetime(flat_resale['month'])"
   ]
  },
  {
   "cell_type": "code",
   "execution_count": 12,
   "id": "4a6459cf",
   "metadata": {},
   "outputs": [],
   "source": [
    "train_station['opening'] = pd.to_datetime(train_station['opening'])"
   ]
  },
  {
   "cell_type": "code",
   "execution_count": 13,
   "id": "6951d9f8",
   "metadata": {},
   "outputs": [],
   "source": [
    "train_station['closure'] = pd.to_datetime(train_station['closure'])"
   ]
  },
  {
   "cell_type": "markdown",
   "id": "48776646",
   "metadata": {},
   "source": [
    "# 04. Convert Data to GeoData"
   ]
  },
  {
   "cell_type": "code",
   "execution_count": 14,
   "id": "5b56cb31",
   "metadata": {},
   "outputs": [
    {
     "data": {
      "text/plain": [
       "pandas.core.frame.DataFrame"
      ]
     },
     "execution_count": 14,
     "metadata": {},
     "output_type": "execute_result"
    }
   ],
   "source": [
    "# 1) 'flat_resale'\n",
    "\n",
    "type(flat_resale)"
   ]
  },
  {
   "cell_type": "code",
   "execution_count": 15,
   "id": "b7e30f9c",
   "metadata": {},
   "outputs": [],
   "source": [
    "# Create geometry for 'flat_resale' with its longitude and latitude \n",
    "\n",
    "# geopandas.points_from_xy() - Generate GeometryArray of shapely Point geometries from x, y(, z) coordinates.\n",
    "# In case of geographic coordinates, it is assumed that longitude is captured by x coordinates and latitude by y.\n",
    "\n",
    "flat_resale_geometry = gpd.points_from_xy(flat_resale['longitude'], flat_resale['latitude'])"
   ]
  },
  {
   "cell_type": "code",
   "execution_count": 16,
   "id": "b33051bd",
   "metadata": {},
   "outputs": [],
   "source": [
    "# Convert 'flat_resale' into geodataframe\n",
    "flat_resale_gdf = gpd.GeoDataFrame(flat_resale, geometry = flat_resale_geometry, crs = 'EPSG:4326')\n",
    "# EPSG:4326 is a coordinate system that defines latitude and longitude coordinates. "
   ]
  },
  {
   "cell_type": "code",
   "execution_count": 17,
   "id": "eaa8911b",
   "metadata": {},
   "outputs": [
    {
     "data": {
      "text/plain": [
       "geopandas.geodataframe.GeoDataFrame"
      ]
     },
     "execution_count": 17,
     "metadata": {},
     "output_type": "execute_result"
    }
   ],
   "source": [
    "type(flat_resale_gdf)"
   ]
  },
  {
   "cell_type": "code",
   "execution_count": 18,
   "id": "f70d8478",
   "metadata": {},
   "outputs": [
    {
     "data": {
      "text/html": [
       "<div>\n",
       "<style scoped>\n",
       "    .dataframe tbody tr th:only-of-type {\n",
       "        vertical-align: middle;\n",
       "    }\n",
       "\n",
       "    .dataframe tbody tr th {\n",
       "        vertical-align: top;\n",
       "    }\n",
       "\n",
       "    .dataframe thead th {\n",
       "        text-align: right;\n",
       "    }\n",
       "</style>\n",
       "<table border=\"1\" class=\"dataframe\">\n",
       "  <thead>\n",
       "    <tr style=\"text-align: right;\">\n",
       "      <th></th>\n",
       "      <th>month</th>\n",
       "      <th>town</th>\n",
       "      <th>flat_type</th>\n",
       "      <th>block</th>\n",
       "      <th>street_name</th>\n",
       "      <th>storey_range</th>\n",
       "      <th>floor_area_sqm</th>\n",
       "      <th>flat_model</th>\n",
       "      <th>lease_commence_date</th>\n",
       "      <th>resale_price</th>\n",
       "      <th>remaining_lease</th>\n",
       "      <th>row_id</th>\n",
       "      <th>address</th>\n",
       "      <th>latitude</th>\n",
       "      <th>longitude</th>\n",
       "      <th>geometry</th>\n",
       "    </tr>\n",
       "  </thead>\n",
       "  <tbody>\n",
       "    <tr>\n",
       "      <th>0</th>\n",
       "      <td>1990-01-01</td>\n",
       "      <td>ANG MO KIO</td>\n",
       "      <td>1 ROOM</td>\n",
       "      <td>309</td>\n",
       "      <td>ANG MO KIO AVE 1</td>\n",
       "      <td>10 TO 12</td>\n",
       "      <td>31.0</td>\n",
       "      <td>Improved</td>\n",
       "      <td>1977</td>\n",
       "      <td>9000.0</td>\n",
       "      <td>86</td>\n",
       "      <td>0</td>\n",
       "      <td>309 ANG MO KIO AVE 1</td>\n",
       "      <td>1.365517</td>\n",
       "      <td>103.843968</td>\n",
       "      <td>POINT (103.84397 1.36552)</td>\n",
       "    </tr>\n",
       "    <tr>\n",
       "      <th>1</th>\n",
       "      <td>1990-01-01</td>\n",
       "      <td>ANG MO KIO</td>\n",
       "      <td>1 ROOM</td>\n",
       "      <td>309</td>\n",
       "      <td>ANG MO KIO AVE 1</td>\n",
       "      <td>04 TO 06</td>\n",
       "      <td>31.0</td>\n",
       "      <td>Improved</td>\n",
       "      <td>1977</td>\n",
       "      <td>6000.0</td>\n",
       "      <td>86</td>\n",
       "      <td>1</td>\n",
       "      <td>309 ANG MO KIO AVE 1</td>\n",
       "      <td>1.365517</td>\n",
       "      <td>103.843968</td>\n",
       "      <td>POINT (103.84397 1.36552)</td>\n",
       "    </tr>\n",
       "    <tr>\n",
       "      <th>2</th>\n",
       "      <td>1990-01-01</td>\n",
       "      <td>ANG MO KIO</td>\n",
       "      <td>1 ROOM</td>\n",
       "      <td>309</td>\n",
       "      <td>ANG MO KIO AVE 1</td>\n",
       "      <td>10 TO 12</td>\n",
       "      <td>31.0</td>\n",
       "      <td>Improved</td>\n",
       "      <td>1977</td>\n",
       "      <td>8000.0</td>\n",
       "      <td>86</td>\n",
       "      <td>2</td>\n",
       "      <td>309 ANG MO KIO AVE 1</td>\n",
       "      <td>1.365517</td>\n",
       "      <td>103.843968</td>\n",
       "      <td>POINT (103.84397 1.36552)</td>\n",
       "    </tr>\n",
       "    <tr>\n",
       "      <th>3</th>\n",
       "      <td>1990-01-01</td>\n",
       "      <td>ANG MO KIO</td>\n",
       "      <td>1 ROOM</td>\n",
       "      <td>309</td>\n",
       "      <td>ANG MO KIO AVE 1</td>\n",
       "      <td>07 TO 09</td>\n",
       "      <td>31.0</td>\n",
       "      <td>Improved</td>\n",
       "      <td>1977</td>\n",
       "      <td>6000.0</td>\n",
       "      <td>86</td>\n",
       "      <td>3</td>\n",
       "      <td>309 ANG MO KIO AVE 1</td>\n",
       "      <td>1.365517</td>\n",
       "      <td>103.843968</td>\n",
       "      <td>POINT (103.84397 1.36552)</td>\n",
       "    </tr>\n",
       "    <tr>\n",
       "      <th>4</th>\n",
       "      <td>1990-01-01</td>\n",
       "      <td>ANG MO KIO</td>\n",
       "      <td>3 ROOM</td>\n",
       "      <td>216</td>\n",
       "      <td>ANG MO KIO AVE 1</td>\n",
       "      <td>04 TO 06</td>\n",
       "      <td>73.0</td>\n",
       "      <td>New Generation</td>\n",
       "      <td>1976</td>\n",
       "      <td>47200.0</td>\n",
       "      <td>85</td>\n",
       "      <td>4</td>\n",
       "      <td>216 ANG MO KIO AVE 1</td>\n",
       "      <td>1.366197</td>\n",
       "      <td>103.841505</td>\n",
       "      <td>POINT (103.84151 1.36620)</td>\n",
       "    </tr>\n",
       "  </tbody>\n",
       "</table>\n",
       "</div>"
      ],
      "text/plain": [
       "       month        town flat_type block       street_name storey_range  \\\n",
       "0 1990-01-01  ANG MO KIO    1 ROOM   309  ANG MO KIO AVE 1     10 TO 12   \n",
       "1 1990-01-01  ANG MO KIO    1 ROOM   309  ANG MO KIO AVE 1     04 TO 06   \n",
       "2 1990-01-01  ANG MO KIO    1 ROOM   309  ANG MO KIO AVE 1     10 TO 12   \n",
       "3 1990-01-01  ANG MO KIO    1 ROOM   309  ANG MO KIO AVE 1     07 TO 09   \n",
       "4 1990-01-01  ANG MO KIO    3 ROOM   216  ANG MO KIO AVE 1     04 TO 06   \n",
       "\n",
       "   floor_area_sqm      flat_model  lease_commence_date  resale_price  \\\n",
       "0            31.0        Improved                 1977        9000.0   \n",
       "1            31.0        Improved                 1977        6000.0   \n",
       "2            31.0        Improved                 1977        8000.0   \n",
       "3            31.0        Improved                 1977        6000.0   \n",
       "4            73.0  New Generation                 1976       47200.0   \n",
       "\n",
       "   remaining_lease  row_id               address  latitude   longitude  \\\n",
       "0               86       0  309 ANG MO KIO AVE 1  1.365517  103.843968   \n",
       "1               86       1  309 ANG MO KIO AVE 1  1.365517  103.843968   \n",
       "2               86       2  309 ANG MO KIO AVE 1  1.365517  103.843968   \n",
       "3               86       3  309 ANG MO KIO AVE 1  1.365517  103.843968   \n",
       "4               85       4  216 ANG MO KIO AVE 1  1.366197  103.841505   \n",
       "\n",
       "                    geometry  \n",
       "0  POINT (103.84397 1.36552)  \n",
       "1  POINT (103.84397 1.36552)  \n",
       "2  POINT (103.84397 1.36552)  \n",
       "3  POINT (103.84397 1.36552)  \n",
       "4  POINT (103.84151 1.36620)  "
      ]
     },
     "execution_count": 18,
     "metadata": {},
     "output_type": "execute_result"
    }
   ],
   "source": [
    "flat_resale_gdf.head()"
   ]
  },
  {
   "cell_type": "code",
   "execution_count": 19,
   "id": "4641f93e",
   "metadata": {},
   "outputs": [
    {
     "data": {
      "text/plain": [
       "<Geographic 2D CRS: EPSG:4326>\n",
       "Name: WGS 84\n",
       "Axis Info [ellipsoidal]:\n",
       "- Lat[north]: Geodetic latitude (degree)\n",
       "- Lon[east]: Geodetic longitude (degree)\n",
       "Area of Use:\n",
       "- name: World.\n",
       "- bounds: (-180.0, -90.0, 180.0, 90.0)\n",
       "Datum: World Geodetic System 1984 ensemble\n",
       "- Ellipsoid: WGS 84\n",
       "- Prime Meridian: Greenwich"
      ]
     },
     "execution_count": 19,
     "metadata": {},
     "output_type": "execute_result"
    }
   ],
   "source": [
    "# Check the crs (Coordinate Reference System) of 'flat_resale_gdf'\n",
    "flat_resale_gdf.crs"
   ]
  },
  {
   "cell_type": "code",
   "execution_count": 20,
   "id": "30673dfe",
   "metadata": {},
   "outputs": [
    {
     "data": {
      "text/plain": [
       "pandas.core.frame.DataFrame"
      ]
     },
     "execution_count": 20,
     "metadata": {},
     "output_type": "execute_result"
    }
   ],
   "source": [
    "# 2) 'train_station'\n",
    "\n",
    "type(train_station)"
   ]
  },
  {
   "cell_type": "code",
   "execution_count": 21,
   "id": "7904882f",
   "metadata": {
    "scrolled": true
   },
   "outputs": [],
   "source": [
    "# Create geometry for 'train_station' with its longitude and latitude \n",
    "\n",
    "# geopandas.points_from_xy() - Generate GeometryArray of shapely Point geometries from x, y(, z) coordinates.\n",
    "# In case of geographic coordinates, it is assumed that longitude is captured by x coordinates and latitude by y.\n",
    "\n",
    "train_station_geometry = gpd.points_from_xy(train_station['longitude'], train_station['latitude'])"
   ]
  },
  {
   "cell_type": "code",
   "execution_count": 22,
   "id": "3ef1de10",
   "metadata": {},
   "outputs": [],
   "source": [
    "# Convert 'train_station' into geodataframe\n",
    "train_station_gdf = gpd.GeoDataFrame(train_station, geometry = train_station_geometry, crs = 'EPSG:4326')\n",
    "# EPSG:4326 is a coordinate system that defines latitude and longitude coordinates. "
   ]
  },
  {
   "cell_type": "code",
   "execution_count": 23,
   "id": "5c580c8f",
   "metadata": {},
   "outputs": [
    {
     "data": {
      "text/plain": [
       "geopandas.geodataframe.GeoDataFrame"
      ]
     },
     "execution_count": 23,
     "metadata": {},
     "output_type": "execute_result"
    }
   ],
   "source": [
    "type(train_station_gdf)"
   ]
  },
  {
   "cell_type": "code",
   "execution_count": 24,
   "id": "d3049991",
   "metadata": {},
   "outputs": [
    {
     "data": {
      "text/html": [
       "<div>\n",
       "<style scoped>\n",
       "    .dataframe tbody tr th:only-of-type {\n",
       "        vertical-align: middle;\n",
       "    }\n",
       "\n",
       "    .dataframe tbody tr th {\n",
       "        vertical-align: top;\n",
       "    }\n",
       "\n",
       "    .dataframe thead th {\n",
       "        text-align: right;\n",
       "    }\n",
       "</style>\n",
       "<table border=\"1\" class=\"dataframe\">\n",
       "  <thead>\n",
       "    <tr style=\"text-align: right;\">\n",
       "      <th></th>\n",
       "      <th>station_code</th>\n",
       "      <th>station_name</th>\n",
       "      <th>line</th>\n",
       "      <th>opening</th>\n",
       "      <th>closure</th>\n",
       "      <th>station_name_w_code</th>\n",
       "      <th>latitude</th>\n",
       "      <th>longitude</th>\n",
       "      <th>geometry</th>\n",
       "    </tr>\n",
       "  </thead>\n",
       "  <tbody>\n",
       "    <tr>\n",
       "      <th>0</th>\n",
       "      <td>NS1</td>\n",
       "      <td>Jurong East</td>\n",
       "      <td>North-South Line</td>\n",
       "      <td>1990-03-10</td>\n",
       "      <td>NaT</td>\n",
       "      <td>Jurong East MRT Station (NS1)</td>\n",
       "      <td>1.333153</td>\n",
       "      <td>103.742286</td>\n",
       "      <td>POINT (103.74229 1.33315)</td>\n",
       "    </tr>\n",
       "    <tr>\n",
       "      <th>1</th>\n",
       "      <td>NS2</td>\n",
       "      <td>Bukit Batok</td>\n",
       "      <td>North-South Line</td>\n",
       "      <td>1990-03-10</td>\n",
       "      <td>NaT</td>\n",
       "      <td>Bukit Batok MRT Station (NS2)</td>\n",
       "      <td>1.349033</td>\n",
       "      <td>103.749566</td>\n",
       "      <td>POINT (103.74957 1.34903)</td>\n",
       "    </tr>\n",
       "    <tr>\n",
       "      <th>2</th>\n",
       "      <td>NS3</td>\n",
       "      <td>Bukit Gombak</td>\n",
       "      <td>North-South Line</td>\n",
       "      <td>1990-03-10</td>\n",
       "      <td>NaT</td>\n",
       "      <td>Bukit Gombak MRT Station (NS3)</td>\n",
       "      <td>1.358612</td>\n",
       "      <td>103.751791</td>\n",
       "      <td>POINT (103.75179 1.35861)</td>\n",
       "    </tr>\n",
       "    <tr>\n",
       "      <th>3</th>\n",
       "      <td>NS4</td>\n",
       "      <td>Choa Chu Kang</td>\n",
       "      <td>North-South Line</td>\n",
       "      <td>1990-03-10</td>\n",
       "      <td>NaT</td>\n",
       "      <td>Choa Chu Kang MRT Station (NS4)</td>\n",
       "      <td>1.385363</td>\n",
       "      <td>103.744371</td>\n",
       "      <td>POINT (103.74437 1.38536)</td>\n",
       "    </tr>\n",
       "    <tr>\n",
       "      <th>4</th>\n",
       "      <td>NS5</td>\n",
       "      <td>Yew Tee</td>\n",
       "      <td>North-South Line</td>\n",
       "      <td>1996-02-10</td>\n",
       "      <td>NaT</td>\n",
       "      <td>Yew Tee MRT Station (NS5)</td>\n",
       "      <td>1.397535</td>\n",
       "      <td>103.747405</td>\n",
       "      <td>POINT (103.74741 1.39754)</td>\n",
       "    </tr>\n",
       "  </tbody>\n",
       "</table>\n",
       "</div>"
      ],
      "text/plain": [
       "  station_code   station_name              line    opening closure  \\\n",
       "0          NS1    Jurong East  North-South Line 1990-03-10     NaT   \n",
       "1          NS2    Bukit Batok  North-South Line 1990-03-10     NaT   \n",
       "2          NS3   Bukit Gombak  North-South Line 1990-03-10     NaT   \n",
       "3          NS4  Choa Chu Kang  North-South Line 1990-03-10     NaT   \n",
       "4          NS5        Yew Tee  North-South Line 1996-02-10     NaT   \n",
       "\n",
       "               station_name_w_code  latitude   longitude  \\\n",
       "0    Jurong East MRT Station (NS1)  1.333153  103.742286   \n",
       "1    Bukit Batok MRT Station (NS2)  1.349033  103.749566   \n",
       "2   Bukit Gombak MRT Station (NS3)  1.358612  103.751791   \n",
       "3  Choa Chu Kang MRT Station (NS4)  1.385363  103.744371   \n",
       "4        Yew Tee MRT Station (NS5)  1.397535  103.747405   \n",
       "\n",
       "                    geometry  \n",
       "0  POINT (103.74229 1.33315)  \n",
       "1  POINT (103.74957 1.34903)  \n",
       "2  POINT (103.75179 1.35861)  \n",
       "3  POINT (103.74437 1.38536)  \n",
       "4  POINT (103.74741 1.39754)  "
      ]
     },
     "execution_count": 24,
     "metadata": {},
     "output_type": "execute_result"
    }
   ],
   "source": [
    "train_station_gdf.head()"
   ]
  },
  {
   "cell_type": "code",
   "execution_count": 25,
   "id": "66629fca",
   "metadata": {},
   "outputs": [
    {
     "data": {
      "text/plain": [
       "<Geographic 2D CRS: EPSG:4326>\n",
       "Name: WGS 84\n",
       "Axis Info [ellipsoidal]:\n",
       "- Lat[north]: Geodetic latitude (degree)\n",
       "- Lon[east]: Geodetic longitude (degree)\n",
       "Area of Use:\n",
       "- name: World.\n",
       "- bounds: (-180.0, -90.0, 180.0, 90.0)\n",
       "Datum: World Geodetic System 1984 ensemble\n",
       "- Ellipsoid: WGS 84\n",
       "- Prime Meridian: Greenwich"
      ]
     },
     "execution_count": 25,
     "metadata": {},
     "output_type": "execute_result"
    }
   ],
   "source": [
    "# Check the crs (Coordinate Reference System) of 'train_station_gdf'\n",
    "train_station_gdf.crs"
   ]
  },
  {
   "cell_type": "markdown",
   "id": "cf94c9b4",
   "metadata": {},
   "source": [
    "# 05. Change CRS from EPSG:4326 (longitude & latitude) to EPSG:3414 (projected planar x and y coordinates for Singapore)"
   ]
  },
  {
   "cell_type": "markdown",
   "id": "3326d753",
   "metadata": {},
   "source": [
    "Localised datums (such as SVY21 in Singapore’s case) can provide a more accurate representation of the area of than the global WGS 84 datum. <br>\n",
    "https://epsg.io/?q=Singapore <br>\n",
    "https://app.sla.gov.sg/sirent/About/PlaneCoordinateSystem"
   ]
  },
  {
   "cell_type": "code",
   "execution_count": 26,
   "id": "285c008d",
   "metadata": {},
   "outputs": [],
   "source": [
    "# 1) 'flat_resale_gdf'\n",
    "\n",
    "# geopandas.to_crs(): Transform geometries to a new coordinate reference system.\n",
    "flat_resale_gdf_reprojected = flat_resale_gdf.to_crs('EPSG:3414')"
   ]
  },
  {
   "cell_type": "code",
   "execution_count": 27,
   "id": "524cbaf1",
   "metadata": {},
   "outputs": [
    {
     "data": {
      "text/html": [
       "<div>\n",
       "<style scoped>\n",
       "    .dataframe tbody tr th:only-of-type {\n",
       "        vertical-align: middle;\n",
       "    }\n",
       "\n",
       "    .dataframe tbody tr th {\n",
       "        vertical-align: top;\n",
       "    }\n",
       "\n",
       "    .dataframe thead th {\n",
       "        text-align: right;\n",
       "    }\n",
       "</style>\n",
       "<table border=\"1\" class=\"dataframe\">\n",
       "  <thead>\n",
       "    <tr style=\"text-align: right;\">\n",
       "      <th></th>\n",
       "      <th>month</th>\n",
       "      <th>town</th>\n",
       "      <th>flat_type</th>\n",
       "      <th>block</th>\n",
       "      <th>street_name</th>\n",
       "      <th>storey_range</th>\n",
       "      <th>floor_area_sqm</th>\n",
       "      <th>flat_model</th>\n",
       "      <th>lease_commence_date</th>\n",
       "      <th>resale_price</th>\n",
       "      <th>remaining_lease</th>\n",
       "      <th>row_id</th>\n",
       "      <th>address</th>\n",
       "      <th>latitude</th>\n",
       "      <th>longitude</th>\n",
       "      <th>geometry</th>\n",
       "    </tr>\n",
       "  </thead>\n",
       "  <tbody>\n",
       "    <tr>\n",
       "      <th>0</th>\n",
       "      <td>1990-01-01</td>\n",
       "      <td>ANG MO KIO</td>\n",
       "      <td>1 ROOM</td>\n",
       "      <td>309</td>\n",
       "      <td>ANG MO KIO AVE 1</td>\n",
       "      <td>10 TO 12</td>\n",
       "      <td>31.0</td>\n",
       "      <td>Improved</td>\n",
       "      <td>1977</td>\n",
       "      <td>9000.0</td>\n",
       "      <td>86</td>\n",
       "      <td>0</td>\n",
       "      <td>309 ANG MO KIO AVE 1</td>\n",
       "      <td>1.365517</td>\n",
       "      <td>103.843968</td>\n",
       "      <td>POINT (29185.176 38617.449)</td>\n",
       "    </tr>\n",
       "    <tr>\n",
       "      <th>1</th>\n",
       "      <td>1990-01-01</td>\n",
       "      <td>ANG MO KIO</td>\n",
       "      <td>1 ROOM</td>\n",
       "      <td>309</td>\n",
       "      <td>ANG MO KIO AVE 1</td>\n",
       "      <td>04 TO 06</td>\n",
       "      <td>31.0</td>\n",
       "      <td>Improved</td>\n",
       "      <td>1977</td>\n",
       "      <td>6000.0</td>\n",
       "      <td>86</td>\n",
       "      <td>1</td>\n",
       "      <td>309 ANG MO KIO AVE 1</td>\n",
       "      <td>1.365517</td>\n",
       "      <td>103.843968</td>\n",
       "      <td>POINT (29185.176 38617.449)</td>\n",
       "    </tr>\n",
       "    <tr>\n",
       "      <th>2</th>\n",
       "      <td>1990-01-01</td>\n",
       "      <td>ANG MO KIO</td>\n",
       "      <td>1 ROOM</td>\n",
       "      <td>309</td>\n",
       "      <td>ANG MO KIO AVE 1</td>\n",
       "      <td>10 TO 12</td>\n",
       "      <td>31.0</td>\n",
       "      <td>Improved</td>\n",
       "      <td>1977</td>\n",
       "      <td>8000.0</td>\n",
       "      <td>86</td>\n",
       "      <td>2</td>\n",
       "      <td>309 ANG MO KIO AVE 1</td>\n",
       "      <td>1.365517</td>\n",
       "      <td>103.843968</td>\n",
       "      <td>POINT (29185.176 38617.449)</td>\n",
       "    </tr>\n",
       "    <tr>\n",
       "      <th>3</th>\n",
       "      <td>1990-01-01</td>\n",
       "      <td>ANG MO KIO</td>\n",
       "      <td>1 ROOM</td>\n",
       "      <td>309</td>\n",
       "      <td>ANG MO KIO AVE 1</td>\n",
       "      <td>07 TO 09</td>\n",
       "      <td>31.0</td>\n",
       "      <td>Improved</td>\n",
       "      <td>1977</td>\n",
       "      <td>6000.0</td>\n",
       "      <td>86</td>\n",
       "      <td>3</td>\n",
       "      <td>309 ANG MO KIO AVE 1</td>\n",
       "      <td>1.365517</td>\n",
       "      <td>103.843968</td>\n",
       "      <td>POINT (29185.176 38617.449)</td>\n",
       "    </tr>\n",
       "    <tr>\n",
       "      <th>4</th>\n",
       "      <td>1990-01-01</td>\n",
       "      <td>ANG MO KIO</td>\n",
       "      <td>3 ROOM</td>\n",
       "      <td>216</td>\n",
       "      <td>ANG MO KIO AVE 1</td>\n",
       "      <td>04 TO 06</td>\n",
       "      <td>73.0</td>\n",
       "      <td>New Generation</td>\n",
       "      <td>1976</td>\n",
       "      <td>47200.0</td>\n",
       "      <td>85</td>\n",
       "      <td>4</td>\n",
       "      <td>216 ANG MO KIO AVE 1</td>\n",
       "      <td>1.366197</td>\n",
       "      <td>103.841505</td>\n",
       "      <td>POINT (28911.052 38692.617)</td>\n",
       "    </tr>\n",
       "  </tbody>\n",
       "</table>\n",
       "</div>"
      ],
      "text/plain": [
       "       month        town flat_type block       street_name storey_range  \\\n",
       "0 1990-01-01  ANG MO KIO    1 ROOM   309  ANG MO KIO AVE 1     10 TO 12   \n",
       "1 1990-01-01  ANG MO KIO    1 ROOM   309  ANG MO KIO AVE 1     04 TO 06   \n",
       "2 1990-01-01  ANG MO KIO    1 ROOM   309  ANG MO KIO AVE 1     10 TO 12   \n",
       "3 1990-01-01  ANG MO KIO    1 ROOM   309  ANG MO KIO AVE 1     07 TO 09   \n",
       "4 1990-01-01  ANG MO KIO    3 ROOM   216  ANG MO KIO AVE 1     04 TO 06   \n",
       "\n",
       "   floor_area_sqm      flat_model  lease_commence_date  resale_price  \\\n",
       "0            31.0        Improved                 1977        9000.0   \n",
       "1            31.0        Improved                 1977        6000.0   \n",
       "2            31.0        Improved                 1977        8000.0   \n",
       "3            31.0        Improved                 1977        6000.0   \n",
       "4            73.0  New Generation                 1976       47200.0   \n",
       "\n",
       "   remaining_lease  row_id               address  latitude   longitude  \\\n",
       "0               86       0  309 ANG MO KIO AVE 1  1.365517  103.843968   \n",
       "1               86       1  309 ANG MO KIO AVE 1  1.365517  103.843968   \n",
       "2               86       2  309 ANG MO KIO AVE 1  1.365517  103.843968   \n",
       "3               86       3  309 ANG MO KIO AVE 1  1.365517  103.843968   \n",
       "4               85       4  216 ANG MO KIO AVE 1  1.366197  103.841505   \n",
       "\n",
       "                      geometry  \n",
       "0  POINT (29185.176 38617.449)  \n",
       "1  POINT (29185.176 38617.449)  \n",
       "2  POINT (29185.176 38617.449)  \n",
       "3  POINT (29185.176 38617.449)  \n",
       "4  POINT (28911.052 38692.617)  "
      ]
     },
     "execution_count": 27,
     "metadata": {},
     "output_type": "execute_result"
    }
   ],
   "source": [
    "flat_resale_gdf_reprojected.head()"
   ]
  },
  {
   "cell_type": "code",
   "execution_count": 28,
   "id": "dc77a3d2",
   "metadata": {},
   "outputs": [
    {
     "data": {
      "text/plain": [
       "<Projected CRS: EPSG:3414>\n",
       "Name: SVY21 / Singapore TM\n",
       "Axis Info [cartesian]:\n",
       "- N[north]: Northing (metre)\n",
       "- E[east]: Easting (metre)\n",
       "Area of Use:\n",
       "- name: Singapore - onshore and offshore.\n",
       "- bounds: (103.59, 1.13, 104.07, 1.47)\n",
       "Coordinate Operation:\n",
       "- name: Singapore Transverse Mercator\n",
       "- method: Transverse Mercator\n",
       "Datum: SVY21\n",
       "- Ellipsoid: WGS 84\n",
       "- Prime Meridian: Greenwich"
      ]
     },
     "execution_count": 28,
     "metadata": {},
     "output_type": "execute_result"
    }
   ],
   "source": [
    "flat_resale_gdf_reprojected.crs"
   ]
  },
  {
   "cell_type": "code",
   "execution_count": 29,
   "id": "60389a9c",
   "metadata": {},
   "outputs": [],
   "source": [
    "# 2) 'train_station_gdf'\n",
    "\n",
    "# geopandas.to_crs(): Transform geometries to a new coordinate reference system.\n",
    "train_station_gdf_reprojected = train_station_gdf.to_crs('EPSG:3414')"
   ]
  },
  {
   "cell_type": "code",
   "execution_count": 30,
   "id": "2a09136a",
   "metadata": {},
   "outputs": [
    {
     "data": {
      "text/html": [
       "<div>\n",
       "<style scoped>\n",
       "    .dataframe tbody tr th:only-of-type {\n",
       "        vertical-align: middle;\n",
       "    }\n",
       "\n",
       "    .dataframe tbody tr th {\n",
       "        vertical-align: top;\n",
       "    }\n",
       "\n",
       "    .dataframe thead th {\n",
       "        text-align: right;\n",
       "    }\n",
       "</style>\n",
       "<table border=\"1\" class=\"dataframe\">\n",
       "  <thead>\n",
       "    <tr style=\"text-align: right;\">\n",
       "      <th></th>\n",
       "      <th>station_code</th>\n",
       "      <th>station_name</th>\n",
       "      <th>line</th>\n",
       "      <th>opening</th>\n",
       "      <th>closure</th>\n",
       "      <th>station_name_w_code</th>\n",
       "      <th>latitude</th>\n",
       "      <th>longitude</th>\n",
       "      <th>geometry</th>\n",
       "    </tr>\n",
       "  </thead>\n",
       "  <tbody>\n",
       "    <tr>\n",
       "      <th>0</th>\n",
       "      <td>NS1</td>\n",
       "      <td>Jurong East</td>\n",
       "      <td>North-South Line</td>\n",
       "      <td>1990-03-10</td>\n",
       "      <td>NaT</td>\n",
       "      <td>Jurong East MRT Station (NS1)</td>\n",
       "      <td>1.333153</td>\n",
       "      <td>103.742286</td>\n",
       "      <td>POINT (17869.057 35038.969)</td>\n",
       "    </tr>\n",
       "    <tr>\n",
       "      <th>1</th>\n",
       "      <td>NS2</td>\n",
       "      <td>Bukit Batok</td>\n",
       "      <td>North-South Line</td>\n",
       "      <td>1990-03-10</td>\n",
       "      <td>NaT</td>\n",
       "      <td>Bukit Batok MRT Station (NS2)</td>\n",
       "      <td>1.349033</td>\n",
       "      <td>103.749566</td>\n",
       "      <td>POINT (18679.322 36794.926)</td>\n",
       "    </tr>\n",
       "    <tr>\n",
       "      <th>2</th>\n",
       "      <td>NS3</td>\n",
       "      <td>Bukit Gombak</td>\n",
       "      <td>North-South Line</td>\n",
       "      <td>1990-03-10</td>\n",
       "      <td>NaT</td>\n",
       "      <td>Bukit Gombak MRT Station (NS3)</td>\n",
       "      <td>1.358612</td>\n",
       "      <td>103.751791</td>\n",
       "      <td>POINT (18926.913 37854.036)</td>\n",
       "    </tr>\n",
       "    <tr>\n",
       "      <th>3</th>\n",
       "      <td>NS4</td>\n",
       "      <td>Choa Chu Kang</td>\n",
       "      <td>North-South Line</td>\n",
       "      <td>1990-03-10</td>\n",
       "      <td>NaT</td>\n",
       "      <td>Choa Chu Kang MRT Station (NS4)</td>\n",
       "      <td>1.385363</td>\n",
       "      <td>103.744371</td>\n",
       "      <td>POINT (18101.247 40812.122)</td>\n",
       "    </tr>\n",
       "    <tr>\n",
       "      <th>4</th>\n",
       "      <td>NS5</td>\n",
       "      <td>Yew Tee</td>\n",
       "      <td>North-South Line</td>\n",
       "      <td>1996-02-10</td>\n",
       "      <td>NaT</td>\n",
       "      <td>Yew Tee MRT Station (NS5)</td>\n",
       "      <td>1.397535</td>\n",
       "      <td>103.747405</td>\n",
       "      <td>POINT (18438.983 42158.018)</td>\n",
       "    </tr>\n",
       "  </tbody>\n",
       "</table>\n",
       "</div>"
      ],
      "text/plain": [
       "  station_code   station_name              line    opening closure  \\\n",
       "0          NS1    Jurong East  North-South Line 1990-03-10     NaT   \n",
       "1          NS2    Bukit Batok  North-South Line 1990-03-10     NaT   \n",
       "2          NS3   Bukit Gombak  North-South Line 1990-03-10     NaT   \n",
       "3          NS4  Choa Chu Kang  North-South Line 1990-03-10     NaT   \n",
       "4          NS5        Yew Tee  North-South Line 1996-02-10     NaT   \n",
       "\n",
       "               station_name_w_code  latitude   longitude  \\\n",
       "0    Jurong East MRT Station (NS1)  1.333153  103.742286   \n",
       "1    Bukit Batok MRT Station (NS2)  1.349033  103.749566   \n",
       "2   Bukit Gombak MRT Station (NS3)  1.358612  103.751791   \n",
       "3  Choa Chu Kang MRT Station (NS4)  1.385363  103.744371   \n",
       "4        Yew Tee MRT Station (NS5)  1.397535  103.747405   \n",
       "\n",
       "                      geometry  \n",
       "0  POINT (17869.057 35038.969)  \n",
       "1  POINT (18679.322 36794.926)  \n",
       "2  POINT (18926.913 37854.036)  \n",
       "3  POINT (18101.247 40812.122)  \n",
       "4  POINT (18438.983 42158.018)  "
      ]
     },
     "execution_count": 30,
     "metadata": {},
     "output_type": "execute_result"
    }
   ],
   "source": [
    "train_station_gdf_reprojected.head()"
   ]
  },
  {
   "cell_type": "code",
   "execution_count": 31,
   "id": "d63add26",
   "metadata": {},
   "outputs": [
    {
     "data": {
      "text/plain": [
       "<Projected CRS: EPSG:3414>\n",
       "Name: SVY21 / Singapore TM\n",
       "Axis Info [cartesian]:\n",
       "- N[north]: Northing (metre)\n",
       "- E[east]: Easting (metre)\n",
       "Area of Use:\n",
       "- name: Singapore - onshore and offshore.\n",
       "- bounds: (103.59, 1.13, 104.07, 1.47)\n",
       "Coordinate Operation:\n",
       "- name: Singapore Transverse Mercator\n",
       "- method: Transverse Mercator\n",
       "Datum: SVY21\n",
       "- Ellipsoid: WGS 84\n",
       "- Prime Meridian: Greenwich"
      ]
     },
     "execution_count": 31,
     "metadata": {},
     "output_type": "execute_result"
    }
   ],
   "source": [
    "train_station_gdf_reprojected.crs"
   ]
  },
  {
   "cell_type": "markdown",
   "id": "bb391763",
   "metadata": {},
   "source": [
    "# 06. Fill N/A Train Station Closure Dates with Dummies"
   ]
  },
  {
   "cell_type": "markdown",
   "id": "8108c5d1",
   "metadata": {},
   "source": [
    "This could prevent the addition handling for N/A dates (NaT) later. "
   ]
  },
  {
   "cell_type": "code",
   "execution_count": 32,
   "id": "4904e2f0",
   "metadata": {},
   "outputs": [
    {
     "data": {
      "text/plain": [
       "closure\n",
       "NaT           203\n",
       "2019-01-13      1\n",
       "Name: count, dtype: int64"
      ]
     },
     "execution_count": 32,
     "metadata": {},
     "output_type": "execute_result"
    }
   ],
   "source": [
    "# Check the number of N/A dates in 'closure' column\n",
    "train_station_gdf_reprojected['closure'].value_counts(dropna = False)"
   ]
  },
  {
   "cell_type": "code",
   "execution_count": 33,
   "id": "05ad5d87",
   "metadata": {},
   "outputs": [],
   "source": [
    "# Create a column 'closure_w_dummy' that equals to 'closure'\n",
    "train_station_gdf_reprojected['closure_w_dummy'] = train_station_gdf_reprojected['closure']"
   ]
  },
  {
   "cell_type": "code",
   "execution_count": 34,
   "id": "9acc7fd7",
   "metadata": {},
   "outputs": [],
   "source": [
    "# Fill the N/A dates with a dummy date (2099-01-01)\n",
    "train_station_gdf_reprojected['closure_w_dummy'] = train_station_gdf_reprojected['closure_w_dummy'].fillna('2099-01-01')"
   ]
  },
  {
   "cell_type": "code",
   "execution_count": 35,
   "id": "2fd27671",
   "metadata": {},
   "outputs": [
    {
     "data": {
      "text/html": [
       "<div>\n",
       "<style scoped>\n",
       "    .dataframe tbody tr th:only-of-type {\n",
       "        vertical-align: middle;\n",
       "    }\n",
       "\n",
       "    .dataframe tbody tr th {\n",
       "        vertical-align: top;\n",
       "    }\n",
       "\n",
       "    .dataframe thead th {\n",
       "        text-align: right;\n",
       "    }\n",
       "</style>\n",
       "<table border=\"1\" class=\"dataframe\">\n",
       "  <thead>\n",
       "    <tr style=\"text-align: right;\">\n",
       "      <th></th>\n",
       "      <th>station_code</th>\n",
       "      <th>station_name</th>\n",
       "      <th>line</th>\n",
       "      <th>opening</th>\n",
       "      <th>closure</th>\n",
       "      <th>station_name_w_code</th>\n",
       "      <th>latitude</th>\n",
       "      <th>longitude</th>\n",
       "      <th>geometry</th>\n",
       "      <th>closure_w_dummy</th>\n",
       "    </tr>\n",
       "  </thead>\n",
       "  <tbody>\n",
       "    <tr>\n",
       "      <th>0</th>\n",
       "      <td>NS1</td>\n",
       "      <td>Jurong East</td>\n",
       "      <td>North-South Line</td>\n",
       "      <td>1990-03-10</td>\n",
       "      <td>NaT</td>\n",
       "      <td>Jurong East MRT Station (NS1)</td>\n",
       "      <td>1.333153</td>\n",
       "      <td>103.742286</td>\n",
       "      <td>POINT (17869.057 35038.969)</td>\n",
       "      <td>2099-01-01</td>\n",
       "    </tr>\n",
       "    <tr>\n",
       "      <th>1</th>\n",
       "      <td>NS2</td>\n",
       "      <td>Bukit Batok</td>\n",
       "      <td>North-South Line</td>\n",
       "      <td>1990-03-10</td>\n",
       "      <td>NaT</td>\n",
       "      <td>Bukit Batok MRT Station (NS2)</td>\n",
       "      <td>1.349033</td>\n",
       "      <td>103.749566</td>\n",
       "      <td>POINT (18679.322 36794.926)</td>\n",
       "      <td>2099-01-01</td>\n",
       "    </tr>\n",
       "    <tr>\n",
       "      <th>2</th>\n",
       "      <td>NS3</td>\n",
       "      <td>Bukit Gombak</td>\n",
       "      <td>North-South Line</td>\n",
       "      <td>1990-03-10</td>\n",
       "      <td>NaT</td>\n",
       "      <td>Bukit Gombak MRT Station (NS3)</td>\n",
       "      <td>1.358612</td>\n",
       "      <td>103.751791</td>\n",
       "      <td>POINT (18926.913 37854.036)</td>\n",
       "      <td>2099-01-01</td>\n",
       "    </tr>\n",
       "    <tr>\n",
       "      <th>3</th>\n",
       "      <td>NS4</td>\n",
       "      <td>Choa Chu Kang</td>\n",
       "      <td>North-South Line</td>\n",
       "      <td>1990-03-10</td>\n",
       "      <td>NaT</td>\n",
       "      <td>Choa Chu Kang MRT Station (NS4)</td>\n",
       "      <td>1.385363</td>\n",
       "      <td>103.744371</td>\n",
       "      <td>POINT (18101.247 40812.122)</td>\n",
       "      <td>2099-01-01</td>\n",
       "    </tr>\n",
       "    <tr>\n",
       "      <th>4</th>\n",
       "      <td>NS5</td>\n",
       "      <td>Yew Tee</td>\n",
       "      <td>North-South Line</td>\n",
       "      <td>1996-02-10</td>\n",
       "      <td>NaT</td>\n",
       "      <td>Yew Tee MRT Station (NS5)</td>\n",
       "      <td>1.397535</td>\n",
       "      <td>103.747405</td>\n",
       "      <td>POINT (18438.983 42158.018)</td>\n",
       "      <td>2099-01-01</td>\n",
       "    </tr>\n",
       "  </tbody>\n",
       "</table>\n",
       "</div>"
      ],
      "text/plain": [
       "  station_code   station_name              line    opening closure  \\\n",
       "0          NS1    Jurong East  North-South Line 1990-03-10     NaT   \n",
       "1          NS2    Bukit Batok  North-South Line 1990-03-10     NaT   \n",
       "2          NS3   Bukit Gombak  North-South Line 1990-03-10     NaT   \n",
       "3          NS4  Choa Chu Kang  North-South Line 1990-03-10     NaT   \n",
       "4          NS5        Yew Tee  North-South Line 1996-02-10     NaT   \n",
       "\n",
       "               station_name_w_code  latitude   longitude  \\\n",
       "0    Jurong East MRT Station (NS1)  1.333153  103.742286   \n",
       "1    Bukit Batok MRT Station (NS2)  1.349033  103.749566   \n",
       "2   Bukit Gombak MRT Station (NS3)  1.358612  103.751791   \n",
       "3  Choa Chu Kang MRT Station (NS4)  1.385363  103.744371   \n",
       "4        Yew Tee MRT Station (NS5)  1.397535  103.747405   \n",
       "\n",
       "                      geometry closure_w_dummy  \n",
       "0  POINT (17869.057 35038.969)      2099-01-01  \n",
       "1  POINT (18679.322 36794.926)      2099-01-01  \n",
       "2  POINT (18926.913 37854.036)      2099-01-01  \n",
       "3  POINT (18101.247 40812.122)      2099-01-01  \n",
       "4  POINT (18438.983 42158.018)      2099-01-01  "
      ]
     },
     "execution_count": 35,
     "metadata": {},
     "output_type": "execute_result"
    }
   ],
   "source": [
    "# Verify the changes\n",
    "train_station_gdf_reprojected.head()"
   ]
  },
  {
   "cell_type": "code",
   "execution_count": 36,
   "id": "40939320",
   "metadata": {},
   "outputs": [
    {
     "data": {
      "text/plain": [
       "closure_w_dummy\n",
       "2099-01-01    203\n",
       "2019-01-13      1\n",
       "Name: count, dtype: int64"
      ]
     },
     "execution_count": 36,
     "metadata": {},
     "output_type": "execute_result"
    }
   ],
   "source": [
    "train_station_gdf_reprojected['closure_w_dummy'].value_counts(dropna = False)"
   ]
  },
  {
   "cell_type": "code",
   "execution_count": 37,
   "id": "53543285",
   "metadata": {
    "scrolled": true
   },
   "outputs": [
    {
     "data": {
      "text/plain": [
       "dtype('<M8[ns]')"
      ]
     },
     "execution_count": 37,
     "metadata": {},
     "output_type": "execute_result"
    }
   ],
   "source": [
    "train_station_gdf_reprojected['closure_w_dummy'].dtype"
   ]
  },
  {
   "cell_type": "markdown",
   "id": "8423589e",
   "metadata": {},
   "source": [
    "# 07. Reduce Granularity for Train Station Opening and Closure Dates"
   ]
  },
  {
   "cell_type": "markdown",
   "id": "1fcbbc43",
   "metadata": {},
   "source": [
    "<b>Reduce the date granularity of 'train_station' from day (yyyy-mm-dd) to month (yyyy-mm-01) because the date granularity in 'flat_resale' is up to month only. </b><br>\n",
    "If date granularity is not reduced, the flat filtering in the section 7 below will be inaccurate. \n",
    "\n",
    "Example: <br>\n",
    "<u>Before</u> <br>\n",
    "Date: <b>1990-03-10</b> (only elements smaller than this date is included) <br>\n",
    "Train station: from 1988-03-12 to 1989-12-16 (40 in total) <br>\n",
    "Flat: from 1990-01-01 to 1990-03-01 (3588 in total) <br>\n",
    "Flat in 1990-03-01 (1990 march) by right should be exposed with train stations opened up to 1990-03-10, but this is not the case here.\n",
    "\n",
    "<u>After</u> <br>\n",
    "Date: <b>1990-03-01</b> (only elements smaller than this date is included) <br>\n",
    "Train station: from 1988-03-12 to 1989-12-16 (40 in total) <br>\n",
    "Flat: from 1990-01-01 to 1990-02-01 (2438 in total) <br>\n",
    "After the change, flat in 1990-03-01 (1990 march) will not be included in this timeframe.\n",
    "\n",
    "Next date: <b>1990-07-01</b> (only elements smaller than this date is included) <br>\n",
    "Train station: from 1988-03-12 to 1990-03-10 (44 in total) <br>\n",
    "Flat: from 1990-03-01 to 1990-06-01 (3799 in total) <br>\n",
    "Now flat in 1990-03-01 (1990 march) are exposed with train stations opened up to 1990-03-10. "
   ]
  },
  {
   "cell_type": "code",
   "execution_count": 38,
   "id": "e12442d1",
   "metadata": {},
   "outputs": [],
   "source": [
    "# 1) train_station_gdf_reprojected['opening']\n",
    "\n",
    "# Extract the year and month from existing opening dates and store into new column 'opening_yymm'\n",
    "train_station_gdf_reprojected['opening_yymm'] = train_station_gdf_reprojected['opening'].apply(lambda x: x.strftime('%Y-%m'))"
   ]
  },
  {
   "cell_type": "code",
   "execution_count": 39,
   "id": "143cf747",
   "metadata": {},
   "outputs": [
    {
     "data": {
      "text/html": [
       "<div>\n",
       "<style scoped>\n",
       "    .dataframe tbody tr th:only-of-type {\n",
       "        vertical-align: middle;\n",
       "    }\n",
       "\n",
       "    .dataframe tbody tr th {\n",
       "        vertical-align: top;\n",
       "    }\n",
       "\n",
       "    .dataframe thead th {\n",
       "        text-align: right;\n",
       "    }\n",
       "</style>\n",
       "<table border=\"1\" class=\"dataframe\">\n",
       "  <thead>\n",
       "    <tr style=\"text-align: right;\">\n",
       "      <th></th>\n",
       "      <th>station_code</th>\n",
       "      <th>station_name</th>\n",
       "      <th>line</th>\n",
       "      <th>opening</th>\n",
       "      <th>closure</th>\n",
       "      <th>station_name_w_code</th>\n",
       "      <th>latitude</th>\n",
       "      <th>longitude</th>\n",
       "      <th>geometry</th>\n",
       "      <th>closure_w_dummy</th>\n",
       "      <th>opening_yymm</th>\n",
       "    </tr>\n",
       "  </thead>\n",
       "  <tbody>\n",
       "    <tr>\n",
       "      <th>0</th>\n",
       "      <td>NS1</td>\n",
       "      <td>Jurong East</td>\n",
       "      <td>North-South Line</td>\n",
       "      <td>1990-03-10</td>\n",
       "      <td>NaT</td>\n",
       "      <td>Jurong East MRT Station (NS1)</td>\n",
       "      <td>1.333153</td>\n",
       "      <td>103.742286</td>\n",
       "      <td>POINT (17869.057 35038.969)</td>\n",
       "      <td>2099-01-01</td>\n",
       "      <td>1990-03</td>\n",
       "    </tr>\n",
       "    <tr>\n",
       "      <th>1</th>\n",
       "      <td>NS2</td>\n",
       "      <td>Bukit Batok</td>\n",
       "      <td>North-South Line</td>\n",
       "      <td>1990-03-10</td>\n",
       "      <td>NaT</td>\n",
       "      <td>Bukit Batok MRT Station (NS2)</td>\n",
       "      <td>1.349033</td>\n",
       "      <td>103.749566</td>\n",
       "      <td>POINT (18679.322 36794.926)</td>\n",
       "      <td>2099-01-01</td>\n",
       "      <td>1990-03</td>\n",
       "    </tr>\n",
       "    <tr>\n",
       "      <th>2</th>\n",
       "      <td>NS3</td>\n",
       "      <td>Bukit Gombak</td>\n",
       "      <td>North-South Line</td>\n",
       "      <td>1990-03-10</td>\n",
       "      <td>NaT</td>\n",
       "      <td>Bukit Gombak MRT Station (NS3)</td>\n",
       "      <td>1.358612</td>\n",
       "      <td>103.751791</td>\n",
       "      <td>POINT (18926.913 37854.036)</td>\n",
       "      <td>2099-01-01</td>\n",
       "      <td>1990-03</td>\n",
       "    </tr>\n",
       "    <tr>\n",
       "      <th>3</th>\n",
       "      <td>NS4</td>\n",
       "      <td>Choa Chu Kang</td>\n",
       "      <td>North-South Line</td>\n",
       "      <td>1990-03-10</td>\n",
       "      <td>NaT</td>\n",
       "      <td>Choa Chu Kang MRT Station (NS4)</td>\n",
       "      <td>1.385363</td>\n",
       "      <td>103.744371</td>\n",
       "      <td>POINT (18101.247 40812.122)</td>\n",
       "      <td>2099-01-01</td>\n",
       "      <td>1990-03</td>\n",
       "    </tr>\n",
       "    <tr>\n",
       "      <th>4</th>\n",
       "      <td>NS5</td>\n",
       "      <td>Yew Tee</td>\n",
       "      <td>North-South Line</td>\n",
       "      <td>1996-02-10</td>\n",
       "      <td>NaT</td>\n",
       "      <td>Yew Tee MRT Station (NS5)</td>\n",
       "      <td>1.397535</td>\n",
       "      <td>103.747405</td>\n",
       "      <td>POINT (18438.983 42158.018)</td>\n",
       "      <td>2099-01-01</td>\n",
       "      <td>1996-02</td>\n",
       "    </tr>\n",
       "  </tbody>\n",
       "</table>\n",
       "</div>"
      ],
      "text/plain": [
       "  station_code   station_name              line    opening closure  \\\n",
       "0          NS1    Jurong East  North-South Line 1990-03-10     NaT   \n",
       "1          NS2    Bukit Batok  North-South Line 1990-03-10     NaT   \n",
       "2          NS3   Bukit Gombak  North-South Line 1990-03-10     NaT   \n",
       "3          NS4  Choa Chu Kang  North-South Line 1990-03-10     NaT   \n",
       "4          NS5        Yew Tee  North-South Line 1996-02-10     NaT   \n",
       "\n",
       "               station_name_w_code  latitude   longitude  \\\n",
       "0    Jurong East MRT Station (NS1)  1.333153  103.742286   \n",
       "1    Bukit Batok MRT Station (NS2)  1.349033  103.749566   \n",
       "2   Bukit Gombak MRT Station (NS3)  1.358612  103.751791   \n",
       "3  Choa Chu Kang MRT Station (NS4)  1.385363  103.744371   \n",
       "4        Yew Tee MRT Station (NS5)  1.397535  103.747405   \n",
       "\n",
       "                      geometry closure_w_dummy opening_yymm  \n",
       "0  POINT (17869.057 35038.969)      2099-01-01      1990-03  \n",
       "1  POINT (18679.322 36794.926)      2099-01-01      1990-03  \n",
       "2  POINT (18926.913 37854.036)      2099-01-01      1990-03  \n",
       "3  POINT (18101.247 40812.122)      2099-01-01      1990-03  \n",
       "4  POINT (18438.983 42158.018)      2099-01-01      1996-02  "
      ]
     },
     "execution_count": 39,
     "metadata": {},
     "output_type": "execute_result"
    }
   ],
   "source": [
    "train_station_gdf_reprojected.head()"
   ]
  },
  {
   "cell_type": "code",
   "execution_count": 40,
   "id": "d7129804",
   "metadata": {},
   "outputs": [
    {
     "data": {
      "text/plain": [
       "dtype('O')"
      ]
     },
     "execution_count": 40,
     "metadata": {},
     "output_type": "execute_result"
    }
   ],
   "source": [
    "# The extracted value is in string form (Object)\n",
    "train_station_gdf_reprojected['opening_yymm'].dtype"
   ]
  },
  {
   "cell_type": "code",
   "execution_count": 41,
   "id": "1ad82e95",
   "metadata": {},
   "outputs": [],
   "source": [
    "# Convert 'opening_yymm' into datetime\n",
    "train_station_gdf_reprojected['opening_yymm'] = pd.to_datetime(train_station_gdf_reprojected['opening_yymm'])"
   ]
  },
  {
   "cell_type": "code",
   "execution_count": 42,
   "id": "43d2e127",
   "metadata": {},
   "outputs": [
    {
     "data": {
      "text/plain": [
       "dtype('<M8[ns]')"
      ]
     },
     "execution_count": 42,
     "metadata": {},
     "output_type": "execute_result"
    }
   ],
   "source": [
    "train_station_gdf_reprojected['opening_yymm'].dtype"
   ]
  },
  {
   "cell_type": "code",
   "execution_count": 43,
   "id": "a039973b",
   "metadata": {},
   "outputs": [
    {
     "data": {
      "text/html": [
       "<div>\n",
       "<style scoped>\n",
       "    .dataframe tbody tr th:only-of-type {\n",
       "        vertical-align: middle;\n",
       "    }\n",
       "\n",
       "    .dataframe tbody tr th {\n",
       "        vertical-align: top;\n",
       "    }\n",
       "\n",
       "    .dataframe thead th {\n",
       "        text-align: right;\n",
       "    }\n",
       "</style>\n",
       "<table border=\"1\" class=\"dataframe\">\n",
       "  <thead>\n",
       "    <tr style=\"text-align: right;\">\n",
       "      <th></th>\n",
       "      <th>station_code</th>\n",
       "      <th>station_name</th>\n",
       "      <th>line</th>\n",
       "      <th>opening</th>\n",
       "      <th>closure</th>\n",
       "      <th>station_name_w_code</th>\n",
       "      <th>latitude</th>\n",
       "      <th>longitude</th>\n",
       "      <th>geometry</th>\n",
       "      <th>closure_w_dummy</th>\n",
       "      <th>opening_yymm</th>\n",
       "    </tr>\n",
       "  </thead>\n",
       "  <tbody>\n",
       "    <tr>\n",
       "      <th>0</th>\n",
       "      <td>NS1</td>\n",
       "      <td>Jurong East</td>\n",
       "      <td>North-South Line</td>\n",
       "      <td>1990-03-10</td>\n",
       "      <td>NaT</td>\n",
       "      <td>Jurong East MRT Station (NS1)</td>\n",
       "      <td>1.333153</td>\n",
       "      <td>103.742286</td>\n",
       "      <td>POINT (17869.057 35038.969)</td>\n",
       "      <td>2099-01-01</td>\n",
       "      <td>1990-03-01</td>\n",
       "    </tr>\n",
       "    <tr>\n",
       "      <th>1</th>\n",
       "      <td>NS2</td>\n",
       "      <td>Bukit Batok</td>\n",
       "      <td>North-South Line</td>\n",
       "      <td>1990-03-10</td>\n",
       "      <td>NaT</td>\n",
       "      <td>Bukit Batok MRT Station (NS2)</td>\n",
       "      <td>1.349033</td>\n",
       "      <td>103.749566</td>\n",
       "      <td>POINT (18679.322 36794.926)</td>\n",
       "      <td>2099-01-01</td>\n",
       "      <td>1990-03-01</td>\n",
       "    </tr>\n",
       "    <tr>\n",
       "      <th>2</th>\n",
       "      <td>NS3</td>\n",
       "      <td>Bukit Gombak</td>\n",
       "      <td>North-South Line</td>\n",
       "      <td>1990-03-10</td>\n",
       "      <td>NaT</td>\n",
       "      <td>Bukit Gombak MRT Station (NS3)</td>\n",
       "      <td>1.358612</td>\n",
       "      <td>103.751791</td>\n",
       "      <td>POINT (18926.913 37854.036)</td>\n",
       "      <td>2099-01-01</td>\n",
       "      <td>1990-03-01</td>\n",
       "    </tr>\n",
       "    <tr>\n",
       "      <th>3</th>\n",
       "      <td>NS4</td>\n",
       "      <td>Choa Chu Kang</td>\n",
       "      <td>North-South Line</td>\n",
       "      <td>1990-03-10</td>\n",
       "      <td>NaT</td>\n",
       "      <td>Choa Chu Kang MRT Station (NS4)</td>\n",
       "      <td>1.385363</td>\n",
       "      <td>103.744371</td>\n",
       "      <td>POINT (18101.247 40812.122)</td>\n",
       "      <td>2099-01-01</td>\n",
       "      <td>1990-03-01</td>\n",
       "    </tr>\n",
       "    <tr>\n",
       "      <th>4</th>\n",
       "      <td>NS5</td>\n",
       "      <td>Yew Tee</td>\n",
       "      <td>North-South Line</td>\n",
       "      <td>1996-02-10</td>\n",
       "      <td>NaT</td>\n",
       "      <td>Yew Tee MRT Station (NS5)</td>\n",
       "      <td>1.397535</td>\n",
       "      <td>103.747405</td>\n",
       "      <td>POINT (18438.983 42158.018)</td>\n",
       "      <td>2099-01-01</td>\n",
       "      <td>1996-02-01</td>\n",
       "    </tr>\n",
       "  </tbody>\n",
       "</table>\n",
       "</div>"
      ],
      "text/plain": [
       "  station_code   station_name              line    opening closure  \\\n",
       "0          NS1    Jurong East  North-South Line 1990-03-10     NaT   \n",
       "1          NS2    Bukit Batok  North-South Line 1990-03-10     NaT   \n",
       "2          NS3   Bukit Gombak  North-South Line 1990-03-10     NaT   \n",
       "3          NS4  Choa Chu Kang  North-South Line 1990-03-10     NaT   \n",
       "4          NS5        Yew Tee  North-South Line 1996-02-10     NaT   \n",
       "\n",
       "               station_name_w_code  latitude   longitude  \\\n",
       "0    Jurong East MRT Station (NS1)  1.333153  103.742286   \n",
       "1    Bukit Batok MRT Station (NS2)  1.349033  103.749566   \n",
       "2   Bukit Gombak MRT Station (NS3)  1.358612  103.751791   \n",
       "3  Choa Chu Kang MRT Station (NS4)  1.385363  103.744371   \n",
       "4        Yew Tee MRT Station (NS5)  1.397535  103.747405   \n",
       "\n",
       "                      geometry closure_w_dummy opening_yymm  \n",
       "0  POINT (17869.057 35038.969)      2099-01-01   1990-03-01  \n",
       "1  POINT (18679.322 36794.926)      2099-01-01   1990-03-01  \n",
       "2  POINT (18926.913 37854.036)      2099-01-01   1990-03-01  \n",
       "3  POINT (18101.247 40812.122)      2099-01-01   1990-03-01  \n",
       "4  POINT (18438.983 42158.018)      2099-01-01   1996-02-01  "
      ]
     },
     "execution_count": 43,
     "metadata": {},
     "output_type": "execute_result"
    }
   ],
   "source": [
    "train_station_gdf_reprojected.head()"
   ]
  },
  {
   "cell_type": "code",
   "execution_count": 44,
   "id": "417d5adf",
   "metadata": {
    "scrolled": true
   },
   "outputs": [
    {
     "data": {
      "text/plain": [
       "opening_yymm\n",
       "2017-10-01    16\n",
       "1999-11-01    14\n",
       "2003-06-01    14\n",
       "2011-10-01    12\n",
       "2015-12-01    12\n",
       "2010-04-01    11\n",
       "2022-11-01    11\n",
       "1987-12-01    11\n",
       "2005-01-01    11\n",
       "1989-11-01    10\n",
       "1988-03-01     6\n",
       "2021-08-01     6\n",
       "2013-12-01     6\n",
       "2003-01-01     6\n",
       "1996-02-01     6\n",
       "1987-11-01     5\n",
       "2009-05-01     5\n",
       "1990-03-01     4\n",
       "2017-06-01     4\n",
       "1989-12-01     3\n",
       "2020-01-01     3\n",
       "1988-11-01     3\n",
       "2014-06-01     3\n",
       "2012-01-01     2\n",
       "1988-12-01     2\n",
       "2009-02-01     2\n",
       "2011-06-01     2\n",
       "2002-02-01     1\n",
       "2001-10-01     1\n",
       "2006-01-01     1\n",
       "2014-11-01     1\n",
       "2001-01-01     1\n",
       "1990-07-01     1\n",
       "2007-11-01     1\n",
       "2015-06-01     1\n",
       "2019-11-01     1\n",
       "2007-06-01     1\n",
       "2016-02-01     1\n",
       "2016-12-01     1\n",
       "2017-03-01     1\n",
       "2013-01-01     1\n",
       "Name: count, dtype: int64"
      ]
     },
     "execution_count": 44,
     "metadata": {},
     "output_type": "execute_result"
    }
   ],
   "source": [
    "# Verify the changes\n",
    "train_station_gdf_reprojected['opening_yymm'].value_counts(dropna = False)"
   ]
  },
  {
   "cell_type": "code",
   "execution_count": 45,
   "id": "9127b4d2",
   "metadata": {
    "scrolled": true
   },
   "outputs": [
    {
     "data": {
      "text/plain": [
       "opening\n",
       "2017-10-21    16\n",
       "1999-11-06    14\n",
       "2003-06-20    14\n",
       "2011-10-08    12\n",
       "2015-12-27    12\n",
       "2010-04-17    11\n",
       "2022-11-13    11\n",
       "1987-12-12    11\n",
       "2005-01-29    11\n",
       "1989-11-04    10\n",
       "1988-03-12     6\n",
       "2021-08-28     6\n",
       "2013-12-22     6\n",
       "2003-01-18     6\n",
       "1996-02-10     6\n",
       "1987-11-07     5\n",
       "2009-05-28     5\n",
       "1990-03-10     4\n",
       "2017-06-18     4\n",
       "1989-12-16     3\n",
       "2020-01-31     3\n",
       "1988-11-05     3\n",
       "2014-06-29     3\n",
       "2012-01-14     2\n",
       "1988-12-20     2\n",
       "2009-02-28     2\n",
       "2011-06-20     2\n",
       "2002-02-08     1\n",
       "2001-10-18     1\n",
       "2006-01-15     1\n",
       "2014-11-23     1\n",
       "2001-01-10     1\n",
       "1990-07-06     1\n",
       "2007-11-15     1\n",
       "2015-06-27     1\n",
       "2019-11-02     1\n",
       "2007-06-15     1\n",
       "2016-02-29     1\n",
       "2016-12-29     1\n",
       "2017-03-31     1\n",
       "2013-01-01     1\n",
       "Name: count, dtype: int64"
      ]
     },
     "execution_count": 45,
     "metadata": {},
     "output_type": "execute_result"
    }
   ],
   "source": [
    "train_station_gdf_reprojected['opening'].value_counts(dropna = False)"
   ]
  },
  {
   "cell_type": "code",
   "execution_count": 46,
   "id": "b4908419",
   "metadata": {},
   "outputs": [],
   "source": [
    "# 2) train_station_gdf_reprojected['closure_w_dummy']\n",
    "\n",
    "# Extract the year and month from existing closure dates (with dummy) and store into new column 'closure_w_dummy_yymm'\n",
    "train_station_gdf_reprojected['closure_w_dummy_yymm'] = train_station_gdf_reprojected['closure_w_dummy'].apply(lambda x: x.strftime('%Y-%m'))"
   ]
  },
  {
   "cell_type": "code",
   "execution_count": 47,
   "id": "305a4b46",
   "metadata": {},
   "outputs": [
    {
     "data": {
      "text/plain": [
       "dtype('O')"
      ]
     },
     "execution_count": 47,
     "metadata": {},
     "output_type": "execute_result"
    }
   ],
   "source": [
    "# The extracted value is in string form (Object)\n",
    "train_station_gdf_reprojected['closure_w_dummy_yymm'].dtype"
   ]
  },
  {
   "cell_type": "code",
   "execution_count": 48,
   "id": "51b87ea9",
   "metadata": {},
   "outputs": [],
   "source": [
    "# Convert 'closure_w_dummy_yymm' into datetime\n",
    "train_station_gdf_reprojected['closure_w_dummy_yymm'] = pd.to_datetime(train_station_gdf_reprojected['closure_w_dummy_yymm'])"
   ]
  },
  {
   "cell_type": "code",
   "execution_count": 49,
   "id": "9d5dc0fb",
   "metadata": {},
   "outputs": [
    {
     "data": {
      "text/plain": [
       "dtype('<M8[ns]')"
      ]
     },
     "execution_count": 49,
     "metadata": {},
     "output_type": "execute_result"
    }
   ],
   "source": [
    "train_station_gdf_reprojected['closure_w_dummy_yymm'].dtype"
   ]
  },
  {
   "cell_type": "code",
   "execution_count": 50,
   "id": "2792f3d7",
   "metadata": {},
   "outputs": [
    {
     "data": {
      "text/html": [
       "<div>\n",
       "<style scoped>\n",
       "    .dataframe tbody tr th:only-of-type {\n",
       "        vertical-align: middle;\n",
       "    }\n",
       "\n",
       "    .dataframe tbody tr th {\n",
       "        vertical-align: top;\n",
       "    }\n",
       "\n",
       "    .dataframe thead th {\n",
       "        text-align: right;\n",
       "    }\n",
       "</style>\n",
       "<table border=\"1\" class=\"dataframe\">\n",
       "  <thead>\n",
       "    <tr style=\"text-align: right;\">\n",
       "      <th></th>\n",
       "      <th>station_code</th>\n",
       "      <th>station_name</th>\n",
       "      <th>line</th>\n",
       "      <th>opening</th>\n",
       "      <th>closure</th>\n",
       "      <th>station_name_w_code</th>\n",
       "      <th>latitude</th>\n",
       "      <th>longitude</th>\n",
       "      <th>geometry</th>\n",
       "      <th>closure_w_dummy</th>\n",
       "      <th>opening_yymm</th>\n",
       "      <th>closure_w_dummy_yymm</th>\n",
       "    </tr>\n",
       "  </thead>\n",
       "  <tbody>\n",
       "    <tr>\n",
       "      <th>0</th>\n",
       "      <td>NS1</td>\n",
       "      <td>Jurong East</td>\n",
       "      <td>North-South Line</td>\n",
       "      <td>1990-03-10</td>\n",
       "      <td>NaT</td>\n",
       "      <td>Jurong East MRT Station (NS1)</td>\n",
       "      <td>1.333153</td>\n",
       "      <td>103.742286</td>\n",
       "      <td>POINT (17869.057 35038.969)</td>\n",
       "      <td>2099-01-01</td>\n",
       "      <td>1990-03-01</td>\n",
       "      <td>2099-01-01</td>\n",
       "    </tr>\n",
       "    <tr>\n",
       "      <th>1</th>\n",
       "      <td>NS2</td>\n",
       "      <td>Bukit Batok</td>\n",
       "      <td>North-South Line</td>\n",
       "      <td>1990-03-10</td>\n",
       "      <td>NaT</td>\n",
       "      <td>Bukit Batok MRT Station (NS2)</td>\n",
       "      <td>1.349033</td>\n",
       "      <td>103.749566</td>\n",
       "      <td>POINT (18679.322 36794.926)</td>\n",
       "      <td>2099-01-01</td>\n",
       "      <td>1990-03-01</td>\n",
       "      <td>2099-01-01</td>\n",
       "    </tr>\n",
       "    <tr>\n",
       "      <th>2</th>\n",
       "      <td>NS3</td>\n",
       "      <td>Bukit Gombak</td>\n",
       "      <td>North-South Line</td>\n",
       "      <td>1990-03-10</td>\n",
       "      <td>NaT</td>\n",
       "      <td>Bukit Gombak MRT Station (NS3)</td>\n",
       "      <td>1.358612</td>\n",
       "      <td>103.751791</td>\n",
       "      <td>POINT (18926.913 37854.036)</td>\n",
       "      <td>2099-01-01</td>\n",
       "      <td>1990-03-01</td>\n",
       "      <td>2099-01-01</td>\n",
       "    </tr>\n",
       "    <tr>\n",
       "      <th>3</th>\n",
       "      <td>NS4</td>\n",
       "      <td>Choa Chu Kang</td>\n",
       "      <td>North-South Line</td>\n",
       "      <td>1990-03-10</td>\n",
       "      <td>NaT</td>\n",
       "      <td>Choa Chu Kang MRT Station (NS4)</td>\n",
       "      <td>1.385363</td>\n",
       "      <td>103.744371</td>\n",
       "      <td>POINT (18101.247 40812.122)</td>\n",
       "      <td>2099-01-01</td>\n",
       "      <td>1990-03-01</td>\n",
       "      <td>2099-01-01</td>\n",
       "    </tr>\n",
       "    <tr>\n",
       "      <th>4</th>\n",
       "      <td>NS5</td>\n",
       "      <td>Yew Tee</td>\n",
       "      <td>North-South Line</td>\n",
       "      <td>1996-02-10</td>\n",
       "      <td>NaT</td>\n",
       "      <td>Yew Tee MRT Station (NS5)</td>\n",
       "      <td>1.397535</td>\n",
       "      <td>103.747405</td>\n",
       "      <td>POINT (18438.983 42158.018)</td>\n",
       "      <td>2099-01-01</td>\n",
       "      <td>1996-02-01</td>\n",
       "      <td>2099-01-01</td>\n",
       "    </tr>\n",
       "  </tbody>\n",
       "</table>\n",
       "</div>"
      ],
      "text/plain": [
       "  station_code   station_name              line    opening closure  \\\n",
       "0          NS1    Jurong East  North-South Line 1990-03-10     NaT   \n",
       "1          NS2    Bukit Batok  North-South Line 1990-03-10     NaT   \n",
       "2          NS3   Bukit Gombak  North-South Line 1990-03-10     NaT   \n",
       "3          NS4  Choa Chu Kang  North-South Line 1990-03-10     NaT   \n",
       "4          NS5        Yew Tee  North-South Line 1996-02-10     NaT   \n",
       "\n",
       "               station_name_w_code  latitude   longitude  \\\n",
       "0    Jurong East MRT Station (NS1)  1.333153  103.742286   \n",
       "1    Bukit Batok MRT Station (NS2)  1.349033  103.749566   \n",
       "2   Bukit Gombak MRT Station (NS3)  1.358612  103.751791   \n",
       "3  Choa Chu Kang MRT Station (NS4)  1.385363  103.744371   \n",
       "4        Yew Tee MRT Station (NS5)  1.397535  103.747405   \n",
       "\n",
       "                      geometry closure_w_dummy opening_yymm  \\\n",
       "0  POINT (17869.057 35038.969)      2099-01-01   1990-03-01   \n",
       "1  POINT (18679.322 36794.926)      2099-01-01   1990-03-01   \n",
       "2  POINT (18926.913 37854.036)      2099-01-01   1990-03-01   \n",
       "3  POINT (18101.247 40812.122)      2099-01-01   1990-03-01   \n",
       "4  POINT (18438.983 42158.018)      2099-01-01   1996-02-01   \n",
       "\n",
       "  closure_w_dummy_yymm  \n",
       "0           2099-01-01  \n",
       "1           2099-01-01  \n",
       "2           2099-01-01  \n",
       "3           2099-01-01  \n",
       "4           2099-01-01  "
      ]
     },
     "execution_count": 50,
     "metadata": {},
     "output_type": "execute_result"
    }
   ],
   "source": [
    "train_station_gdf_reprojected.head()"
   ]
  },
  {
   "cell_type": "code",
   "execution_count": 51,
   "id": "43993379",
   "metadata": {},
   "outputs": [
    {
     "data": {
      "text/plain": [
       "closure_w_dummy_yymm\n",
       "2099-01-01    203\n",
       "2019-01-01      1\n",
       "Name: count, dtype: int64"
      ]
     },
     "execution_count": 51,
     "metadata": {},
     "output_type": "execute_result"
    }
   ],
   "source": [
    "# Verify the changes\n",
    "train_station_gdf_reprojected['closure_w_dummy_yymm'].value_counts(dropna = False)"
   ]
  },
  {
   "cell_type": "code",
   "execution_count": 52,
   "id": "e0833671",
   "metadata": {},
   "outputs": [
    {
     "data": {
      "text/plain": [
       "closure_w_dummy\n",
       "2099-01-01    203\n",
       "2019-01-13      1\n",
       "Name: count, dtype: int64"
      ]
     },
     "execution_count": 52,
     "metadata": {},
     "output_type": "execute_result"
    }
   ],
   "source": [
    "train_station_gdf_reprojected['closure_w_dummy'].value_counts(dropna = False)"
   ]
  },
  {
   "cell_type": "markdown",
   "id": "aae04491",
   "metadata": {},
   "source": [
    "# 08. Get Nearest Train Station and Its Distance for Each Flat"
   ]
  },
  {
   "cell_type": "markdown",
   "id": "2bb26fb9",
   "metadata": {},
   "source": [
    "### 08.1 Create a date filter list based on train station opening and closure dates"
   ]
  },
  {
   "cell_type": "markdown",
   "id": "2881476b",
   "metadata": {},
   "source": [
    "This filter will be used later to create smaller dataframes in searching nearest train stations, improving the code efficiency. "
   ]
  },
  {
   "cell_type": "code",
   "execution_count": 53,
   "id": "94bb6d8a",
   "metadata": {},
   "outputs": [],
   "source": [
    "# 1) List of opening dates (reduced granularity)\n",
    "opening_date_list = train_station_gdf_reprojected['opening_yymm'].tolist()"
   ]
  },
  {
   "cell_type": "code",
   "execution_count": 54,
   "id": "837c4cf8",
   "metadata": {},
   "outputs": [
    {
     "data": {
      "text/plain": [
       "204"
      ]
     },
     "execution_count": 54,
     "metadata": {},
     "output_type": "execute_result"
    }
   ],
   "source": [
    "len(opening_date_list)"
   ]
  },
  {
   "cell_type": "code",
   "execution_count": 55,
   "id": "51304e04",
   "metadata": {},
   "outputs": [],
   "source": [
    "# Get the unique elements in a list using set(), then convert the set into list using list()\n",
    "opening_date_list = list(set(opening_date_list))"
   ]
  },
  {
   "cell_type": "code",
   "execution_count": 56,
   "id": "79775366",
   "metadata": {},
   "outputs": [
    {
     "data": {
      "text/plain": [
       "41"
      ]
     },
     "execution_count": 56,
     "metadata": {},
     "output_type": "execute_result"
    }
   ],
   "source": [
    "len(opening_date_list)"
   ]
  },
  {
   "cell_type": "code",
   "execution_count": 57,
   "id": "0fad13f6",
   "metadata": {},
   "outputs": [],
   "source": [
    "# 2) List of opening dates (reduced granularity)\n",
    "closure_date_list = train_station_gdf_reprojected['closure_w_dummy_yymm'].tolist()"
   ]
  },
  {
   "cell_type": "code",
   "execution_count": 58,
   "id": "05aa16f3",
   "metadata": {},
   "outputs": [
    {
     "data": {
      "text/plain": [
       "204"
      ]
     },
     "execution_count": 58,
     "metadata": {},
     "output_type": "execute_result"
    }
   ],
   "source": [
    "len(closure_date_list)"
   ]
  },
  {
   "cell_type": "code",
   "execution_count": 59,
   "id": "1778aa62",
   "metadata": {},
   "outputs": [],
   "source": [
    "# Get the unique elements in a list using set(), then convert the set into list using list()\n",
    "closure_date_list = list(set(closure_date_list))"
   ]
  },
  {
   "cell_type": "code",
   "execution_count": 60,
   "id": "e634f6b7",
   "metadata": {},
   "outputs": [
    {
     "data": {
      "text/plain": [
       "2"
      ]
     },
     "execution_count": 60,
     "metadata": {},
     "output_type": "execute_result"
    }
   ],
   "source": [
    "len(closure_date_list)"
   ]
  },
  {
   "cell_type": "code",
   "execution_count": 61,
   "id": "fe6747b4",
   "metadata": {},
   "outputs": [],
   "source": [
    "# 3) Combine 'opening_date_list' and 'closure_date_list'\n",
    "date_filter_list = opening_date_list + closure_date_list"
   ]
  },
  {
   "cell_type": "code",
   "execution_count": 62,
   "id": "438e11f6",
   "metadata": {},
   "outputs": [
    {
     "data": {
      "text/plain": [
       "43"
      ]
     },
     "execution_count": 62,
     "metadata": {},
     "output_type": "execute_result"
    }
   ],
   "source": [
    "len(date_filter_list)"
   ]
  },
  {
   "cell_type": "code",
   "execution_count": 63,
   "id": "91b09d25",
   "metadata": {
    "scrolled": true
   },
   "outputs": [
    {
     "data": {
      "text/plain": [
       "[Timestamp('2006-01-01 00:00:00'),\n",
       " Timestamp('1988-12-01 00:00:00'),\n",
       " Timestamp('2016-12-01 00:00:00'),\n",
       " Timestamp('2013-12-01 00:00:00'),\n",
       " Timestamp('2009-05-01 00:00:00'),\n",
       " Timestamp('2003-06-01 00:00:00'),\n",
       " Timestamp('2016-02-01 00:00:00'),\n",
       " Timestamp('1989-12-01 00:00:00'),\n",
       " Timestamp('1988-11-01 00:00:00'),\n",
       " Timestamp('2014-11-01 00:00:00'),\n",
       " Timestamp('2017-06-01 00:00:00'),\n",
       " Timestamp('2011-06-01 00:00:00'),\n",
       " Timestamp('2017-03-01 00:00:00'),\n",
       " Timestamp('1999-11-01 00:00:00'),\n",
       " Timestamp('2022-11-01 00:00:00'),\n",
       " Timestamp('2015-06-01 00:00:00'),\n",
       " Timestamp('2009-02-01 00:00:00'),\n",
       " Timestamp('2001-10-01 00:00:00'),\n",
       " Timestamp('2011-10-01 00:00:00'),\n",
       " Timestamp('1987-11-01 00:00:00'),\n",
       " Timestamp('2015-12-01 00:00:00'),\n",
       " Timestamp('2003-01-01 00:00:00'),\n",
       " Timestamp('2020-01-01 00:00:00'),\n",
       " Timestamp('1987-12-01 00:00:00'),\n",
       " Timestamp('2019-11-01 00:00:00'),\n",
       " Timestamp('2010-04-01 00:00:00'),\n",
       " Timestamp('2005-01-01 00:00:00'),\n",
       " Timestamp('1996-02-01 00:00:00'),\n",
       " Timestamp('2014-06-01 00:00:00'),\n",
       " Timestamp('2007-11-01 00:00:00'),\n",
       " Timestamp('2021-08-01 00:00:00'),\n",
       " Timestamp('2001-01-01 00:00:00'),\n",
       " Timestamp('1990-07-01 00:00:00'),\n",
       " Timestamp('2007-06-01 00:00:00'),\n",
       " Timestamp('1989-11-01 00:00:00'),\n",
       " Timestamp('2017-10-01 00:00:00'),\n",
       " Timestamp('1990-03-01 00:00:00'),\n",
       " Timestamp('1988-03-01 00:00:00'),\n",
       " Timestamp('2012-01-01 00:00:00'),\n",
       " Timestamp('2013-01-01 00:00:00'),\n",
       " Timestamp('2002-02-01 00:00:00'),\n",
       " Timestamp('2019-01-01 00:00:00'),\n",
       " Timestamp('2099-01-01 00:00:00')]"
      ]
     },
     "execution_count": 63,
     "metadata": {},
     "output_type": "execute_result"
    }
   ],
   "source": [
    "date_filter_list"
   ]
  },
  {
   "cell_type": "code",
   "execution_count": 64,
   "id": "ba1915dc",
   "metadata": {},
   "outputs": [],
   "source": [
    "# 4) Sort the elements in the list in ascending order\n",
    "date_filter_list.sort()"
   ]
  },
  {
   "cell_type": "code",
   "execution_count": 65,
   "id": "e1a03d63",
   "metadata": {
    "scrolled": true
   },
   "outputs": [
    {
     "data": {
      "text/plain": [
       "[Timestamp('1987-11-01 00:00:00'),\n",
       " Timestamp('1987-12-01 00:00:00'),\n",
       " Timestamp('1988-03-01 00:00:00'),\n",
       " Timestamp('1988-11-01 00:00:00'),\n",
       " Timestamp('1988-12-01 00:00:00'),\n",
       " Timestamp('1989-11-01 00:00:00'),\n",
       " Timestamp('1989-12-01 00:00:00'),\n",
       " Timestamp('1990-03-01 00:00:00'),\n",
       " Timestamp('1990-07-01 00:00:00'),\n",
       " Timestamp('1996-02-01 00:00:00'),\n",
       " Timestamp('1999-11-01 00:00:00'),\n",
       " Timestamp('2001-01-01 00:00:00'),\n",
       " Timestamp('2001-10-01 00:00:00'),\n",
       " Timestamp('2002-02-01 00:00:00'),\n",
       " Timestamp('2003-01-01 00:00:00'),\n",
       " Timestamp('2003-06-01 00:00:00'),\n",
       " Timestamp('2005-01-01 00:00:00'),\n",
       " Timestamp('2006-01-01 00:00:00'),\n",
       " Timestamp('2007-06-01 00:00:00'),\n",
       " Timestamp('2007-11-01 00:00:00'),\n",
       " Timestamp('2009-02-01 00:00:00'),\n",
       " Timestamp('2009-05-01 00:00:00'),\n",
       " Timestamp('2010-04-01 00:00:00'),\n",
       " Timestamp('2011-06-01 00:00:00'),\n",
       " Timestamp('2011-10-01 00:00:00'),\n",
       " Timestamp('2012-01-01 00:00:00'),\n",
       " Timestamp('2013-01-01 00:00:00'),\n",
       " Timestamp('2013-12-01 00:00:00'),\n",
       " Timestamp('2014-06-01 00:00:00'),\n",
       " Timestamp('2014-11-01 00:00:00'),\n",
       " Timestamp('2015-06-01 00:00:00'),\n",
       " Timestamp('2015-12-01 00:00:00'),\n",
       " Timestamp('2016-02-01 00:00:00'),\n",
       " Timestamp('2016-12-01 00:00:00'),\n",
       " Timestamp('2017-03-01 00:00:00'),\n",
       " Timestamp('2017-06-01 00:00:00'),\n",
       " Timestamp('2017-10-01 00:00:00'),\n",
       " Timestamp('2019-01-01 00:00:00'),\n",
       " Timestamp('2019-11-01 00:00:00'),\n",
       " Timestamp('2020-01-01 00:00:00'),\n",
       " Timestamp('2021-08-01 00:00:00'),\n",
       " Timestamp('2022-11-01 00:00:00'),\n",
       " Timestamp('2099-01-01 00:00:00')]"
      ]
     },
     "execution_count": 65,
     "metadata": {},
     "output_type": "execute_result"
    }
   ],
   "source": [
    "date_filter_list"
   ]
  },
  {
   "cell_type": "code",
   "execution_count": 66,
   "id": "714bdefb",
   "metadata": {},
   "outputs": [],
   "source": [
    "# 5) Remove the dummy date (2099-01-01) from 'date_filter_list'\n",
    "date_filter_list.remove(pd.to_datetime('2099-01-01'))"
   ]
  },
  {
   "cell_type": "code",
   "execution_count": 67,
   "id": "0460498e",
   "metadata": {
    "scrolled": true
   },
   "outputs": [
    {
     "data": {
      "text/plain": [
       "[Timestamp('1987-11-01 00:00:00'),\n",
       " Timestamp('1987-12-01 00:00:00'),\n",
       " Timestamp('1988-03-01 00:00:00'),\n",
       " Timestamp('1988-11-01 00:00:00'),\n",
       " Timestamp('1988-12-01 00:00:00'),\n",
       " Timestamp('1989-11-01 00:00:00'),\n",
       " Timestamp('1989-12-01 00:00:00'),\n",
       " Timestamp('1990-03-01 00:00:00'),\n",
       " Timestamp('1990-07-01 00:00:00'),\n",
       " Timestamp('1996-02-01 00:00:00'),\n",
       " Timestamp('1999-11-01 00:00:00'),\n",
       " Timestamp('2001-01-01 00:00:00'),\n",
       " Timestamp('2001-10-01 00:00:00'),\n",
       " Timestamp('2002-02-01 00:00:00'),\n",
       " Timestamp('2003-01-01 00:00:00'),\n",
       " Timestamp('2003-06-01 00:00:00'),\n",
       " Timestamp('2005-01-01 00:00:00'),\n",
       " Timestamp('2006-01-01 00:00:00'),\n",
       " Timestamp('2007-06-01 00:00:00'),\n",
       " Timestamp('2007-11-01 00:00:00'),\n",
       " Timestamp('2009-02-01 00:00:00'),\n",
       " Timestamp('2009-05-01 00:00:00'),\n",
       " Timestamp('2010-04-01 00:00:00'),\n",
       " Timestamp('2011-06-01 00:00:00'),\n",
       " Timestamp('2011-10-01 00:00:00'),\n",
       " Timestamp('2012-01-01 00:00:00'),\n",
       " Timestamp('2013-01-01 00:00:00'),\n",
       " Timestamp('2013-12-01 00:00:00'),\n",
       " Timestamp('2014-06-01 00:00:00'),\n",
       " Timestamp('2014-11-01 00:00:00'),\n",
       " Timestamp('2015-06-01 00:00:00'),\n",
       " Timestamp('2015-12-01 00:00:00'),\n",
       " Timestamp('2016-02-01 00:00:00'),\n",
       " Timestamp('2016-12-01 00:00:00'),\n",
       " Timestamp('2017-03-01 00:00:00'),\n",
       " Timestamp('2017-06-01 00:00:00'),\n",
       " Timestamp('2017-10-01 00:00:00'),\n",
       " Timestamp('2019-01-01 00:00:00'),\n",
       " Timestamp('2019-11-01 00:00:00'),\n",
       " Timestamp('2020-01-01 00:00:00'),\n",
       " Timestamp('2021-08-01 00:00:00'),\n",
       " Timestamp('2022-11-01 00:00:00')]"
      ]
     },
     "execution_count": 67,
     "metadata": {},
     "output_type": "execute_result"
    }
   ],
   "source": [
    "date_filter_list"
   ]
  },
  {
   "cell_type": "code",
   "execution_count": 68,
   "id": "26f9d810",
   "metadata": {},
   "outputs": [
    {
     "data": {
      "text/plain": [
       "42"
      ]
     },
     "execution_count": 68,
     "metadata": {},
     "output_type": "execute_result"
    }
   ],
   "source": [
    "len(date_filter_list)"
   ]
  },
  {
   "cell_type": "code",
   "execution_count": 69,
   "id": "5dcf9dd5",
   "metadata": {},
   "outputs": [],
   "source": [
    "# 6) Include the latest date of the flat resale record\n",
    "date_filter_list.append(flat_resale_gdf_reprojected['month'].max())"
   ]
  },
  {
   "cell_type": "code",
   "execution_count": 70,
   "id": "87e7c42f",
   "metadata": {
    "scrolled": true
   },
   "outputs": [
    {
     "data": {
      "text/plain": [
       "[Timestamp('1987-11-01 00:00:00'),\n",
       " Timestamp('1987-12-01 00:00:00'),\n",
       " Timestamp('1988-03-01 00:00:00'),\n",
       " Timestamp('1988-11-01 00:00:00'),\n",
       " Timestamp('1988-12-01 00:00:00'),\n",
       " Timestamp('1989-11-01 00:00:00'),\n",
       " Timestamp('1989-12-01 00:00:00'),\n",
       " Timestamp('1990-03-01 00:00:00'),\n",
       " Timestamp('1990-07-01 00:00:00'),\n",
       " Timestamp('1996-02-01 00:00:00'),\n",
       " Timestamp('1999-11-01 00:00:00'),\n",
       " Timestamp('2001-01-01 00:00:00'),\n",
       " Timestamp('2001-10-01 00:00:00'),\n",
       " Timestamp('2002-02-01 00:00:00'),\n",
       " Timestamp('2003-01-01 00:00:00'),\n",
       " Timestamp('2003-06-01 00:00:00'),\n",
       " Timestamp('2005-01-01 00:00:00'),\n",
       " Timestamp('2006-01-01 00:00:00'),\n",
       " Timestamp('2007-06-01 00:00:00'),\n",
       " Timestamp('2007-11-01 00:00:00'),\n",
       " Timestamp('2009-02-01 00:00:00'),\n",
       " Timestamp('2009-05-01 00:00:00'),\n",
       " Timestamp('2010-04-01 00:00:00'),\n",
       " Timestamp('2011-06-01 00:00:00'),\n",
       " Timestamp('2011-10-01 00:00:00'),\n",
       " Timestamp('2012-01-01 00:00:00'),\n",
       " Timestamp('2013-01-01 00:00:00'),\n",
       " Timestamp('2013-12-01 00:00:00'),\n",
       " Timestamp('2014-06-01 00:00:00'),\n",
       " Timestamp('2014-11-01 00:00:00'),\n",
       " Timestamp('2015-06-01 00:00:00'),\n",
       " Timestamp('2015-12-01 00:00:00'),\n",
       " Timestamp('2016-02-01 00:00:00'),\n",
       " Timestamp('2016-12-01 00:00:00'),\n",
       " Timestamp('2017-03-01 00:00:00'),\n",
       " Timestamp('2017-06-01 00:00:00'),\n",
       " Timestamp('2017-10-01 00:00:00'),\n",
       " Timestamp('2019-01-01 00:00:00'),\n",
       " Timestamp('2019-11-01 00:00:00'),\n",
       " Timestamp('2020-01-01 00:00:00'),\n",
       " Timestamp('2021-08-01 00:00:00'),\n",
       " Timestamp('2022-11-01 00:00:00'),\n",
       " Timestamp('2023-12-01 00:00:00')]"
      ]
     },
     "execution_count": 70,
     "metadata": {},
     "output_type": "execute_result"
    }
   ],
   "source": [
    "date_filter_list"
   ]
  },
  {
   "cell_type": "code",
   "execution_count": 71,
   "id": "8c97f803",
   "metadata": {},
   "outputs": [
    {
     "data": {
      "text/plain": [
       "43"
      ]
     },
     "execution_count": 71,
     "metadata": {},
     "output_type": "execute_result"
    }
   ],
   "source": [
    "len(date_filter_list)"
   ]
  },
  {
   "cell_type": "markdown",
   "id": "a6c0c802",
   "metadata": {},
   "source": [
    "### 08.2 Get the nearest station and its distance with the date filter"
   ]
  },
  {
   "cell_type": "markdown",
   "id": "5b8300c8",
   "metadata": {},
   "source": [
    "#### Introduction of geopandas.sindex.nearest() function"
   ]
  },
  {
   "cell_type": "code",
   "execution_count": 72,
   "id": "1b4aa267",
   "metadata": {},
   "outputs": [],
   "source": [
    "# Using geopandas.sindex.nearest() function, we could get the nearest train station for each input hdb geometry\n",
    "# Parameter 'return_distance = True' will return distances in addition to indexes. By default it's False. \n",
    "# Parameter 'return_all = False' will return only a single nearest geometry if there are multiple equidistant or intersecting nearest geometries. By default it's True. \n",
    "\n",
    "# Example: Get the nearest train stations for the first 10 hdb address geometries\n",
    "testing = train_station_gdf_reprojected.sindex.nearest(flat_resale_gdf_reprojected['geometry'][:10], return_distance = True, return_all = False)"
   ]
  },
  {
   "cell_type": "code",
   "execution_count": 73,
   "id": "d1ce47d9",
   "metadata": {},
   "outputs": [
    {
     "data": {
      "text/plain": [
       "(array([[  0,   1,   2,   3,   4,   5,   6,   7,   8,   9],\n",
       "        [ 14,  14,  14,  14, 147, 147,  14, 147, 147, 147]], dtype=int64),\n",
       " array([790.83121537, 790.83121537, 790.83121537, 790.83121537,\n",
       "        800.63218697, 620.31021896, 584.67227213, 513.09179219,\n",
       "        513.09179219, 351.6956691 ]))"
      ]
     },
     "execution_count": 73,
     "metadata": {},
     "output_type": "execute_result"
    }
   ],
   "source": [
    "testing"
   ]
  },
  {
   "cell_type": "markdown",
   "id": "bee6c9fc",
   "metadata": {},
   "source": [
    "The result is returned in two NumPy ndarrays (n-dimensional arrays), named \"indices\" and \"distances\" with specific shapes. <br>\n",
    "1. The first array is <b>'indices' array</b>. It is a 2-dimensional array with two subarrays. \n",
    "   - The first subarray stores the indices of the input geometries. \n",
    "   - The second subarray stores the indices of the resulted tree geometry. \n",
    "2. The second array is <b>'distances' array</b> (if present). It is a 1-dimensional array with 'n' elements. \n",
    "   - Each element represents the distance between the corresponding elements in the input and resulted tree geometries."
   ]
  },
  {
   "cell_type": "code",
   "execution_count": 74,
   "id": "1ff0d975",
   "metadata": {},
   "outputs": [
    {
     "data": {
      "text/plain": [
       "0"
      ]
     },
     "execution_count": 74,
     "metadata": {},
     "output_type": "execute_result"
    }
   ],
   "source": [
    "# Retrieval of infomation\n",
    "\n",
    "# This is the index of the first input hdb address geometry\n",
    "testing[0][0][0]"
   ]
  },
  {
   "cell_type": "code",
   "execution_count": 75,
   "id": "9b9968f2",
   "metadata": {},
   "outputs": [
    {
     "data": {
      "text/plain": [
       "'309 ANG MO KIO AVE 1'"
      ]
     },
     "execution_count": 75,
     "metadata": {},
     "output_type": "execute_result"
    }
   ],
   "source": [
    "flat_resale_gdf_reprojected['address'][testing[0][0][0]]"
   ]
  },
  {
   "cell_type": "code",
   "execution_count": 76,
   "id": "a6cb66c1",
   "metadata": {},
   "outputs": [
    {
     "data": {
      "text/plain": [
       "14"
      ]
     },
     "execution_count": 76,
     "metadata": {},
     "output_type": "execute_result"
    }
   ],
   "source": [
    "# This is the index of the resulted geometry (nearest train station) of the first input hdb address geometry\n",
    "testing[0][1][0]"
   ]
  },
  {
   "cell_type": "code",
   "execution_count": 77,
   "id": "c45ac6f5",
   "metadata": {},
   "outputs": [
    {
     "data": {
      "text/plain": [
       "'Ang Mo Kio MRT Station (NS16)'"
      ]
     },
     "execution_count": 77,
     "metadata": {},
     "output_type": "execute_result"
    }
   ],
   "source": [
    "train_station_gdf_reprojected['station_name_w_code'][testing[0][1][0]]"
   ]
  },
  {
   "cell_type": "code",
   "execution_count": 78,
   "id": "c77f6b55",
   "metadata": {},
   "outputs": [
    {
     "data": {
      "text/plain": [
       "790.8312153737169"
      ]
     },
     "execution_count": 78,
     "metadata": {},
     "output_type": "execute_result"
    }
   ],
   "source": [
    "# This is the distance between the input hdb address geometry and its nearest train station (in meter based on the crs)\n",
    "testing[1][0]"
   ]
  },
  {
   "cell_type": "markdown",
   "id": "e5e0fd04",
   "metadata": {},
   "source": [
    "#### Actual code"
   ]
  },
  {
   "cell_type": "code",
   "execution_count": 79,
   "id": "3a5f9c1f",
   "metadata": {
    "scrolled": true
   },
   "outputs": [
    {
     "name": "stdout",
     "output_type": "stream",
     "text": [
      "1987-11-01 00:00:00\n",
      "filtered_train_station: 0\n",
      "filtered_flat_resale: 0\n",
      "result: 0\n",
      "nearest_station_list: 0\n",
      "station_distance_list: 0\n",
      "nearest_station_opening_list: 0\n",
      "nearest_station_closure_list: 0\n",
      "\n",
      "1987-12-01 00:00:00\n",
      "filtered_train_station: 5\n",
      "filtered_flat_resale: 0\n",
      "result: 0\n",
      "nearest_station_list: 0\n",
      "station_distance_list: 0\n",
      "nearest_station_opening_list: 0\n",
      "nearest_station_closure_list: 0\n",
      "\n",
      "1988-03-01 00:00:00\n",
      "filtered_train_station: 16\n",
      "filtered_flat_resale: 0\n",
      "result: 0\n",
      "nearest_station_list: 0\n",
      "station_distance_list: 0\n",
      "nearest_station_opening_list: 0\n",
      "nearest_station_closure_list: 0\n",
      "\n",
      "1988-11-01 00:00:00\n",
      "filtered_train_station: 22\n",
      "filtered_flat_resale: 0\n",
      "result: 0\n",
      "nearest_station_list: 0\n",
      "station_distance_list: 0\n",
      "nearest_station_opening_list: 0\n",
      "nearest_station_closure_list: 0\n",
      "\n",
      "1988-12-01 00:00:00\n",
      "filtered_train_station: 25\n",
      "filtered_flat_resale: 0\n",
      "result: 0\n",
      "nearest_station_list: 0\n",
      "station_distance_list: 0\n",
      "nearest_station_opening_list: 0\n",
      "nearest_station_closure_list: 0\n",
      "\n",
      "1989-11-01 00:00:00\n",
      "filtered_train_station: 27\n",
      "filtered_flat_resale: 0\n",
      "result: 0\n",
      "nearest_station_list: 0\n",
      "station_distance_list: 0\n",
      "nearest_station_opening_list: 0\n",
      "nearest_station_closure_list: 0\n",
      "\n",
      "1989-12-01 00:00:00\n",
      "filtered_train_station: 37\n",
      "filtered_flat_resale: 0\n",
      "result: 0\n",
      "nearest_station_list: 0\n",
      "station_distance_list: 0\n",
      "nearest_station_opening_list: 0\n",
      "nearest_station_closure_list: 0\n",
      "\n",
      "1990-03-01 00:00:00\n",
      "filtered_train_station: 40\n",
      "filtered_flat_resale: 2438\n",
      "result: 2438\n",
      "nearest_station_list: 2438\n",
      "station_distance_list: 2438\n",
      "nearest_station_opening_list: 2438\n",
      "nearest_station_closure_list: 2438\n",
      "\n",
      "1990-07-01 00:00:00\n",
      "filtered_train_station: 44\n",
      "filtered_flat_resale: 3799\n",
      "result: 3799\n",
      "nearest_station_list: 6237\n",
      "station_distance_list: 6237\n",
      "nearest_station_opening_list: 6237\n",
      "nearest_station_closure_list: 6237\n",
      "\n",
      "1996-02-01 00:00:00\n",
      "filtered_train_station: 45\n",
      "filtered_flat_resale: 108708\n",
      "result: 108708\n",
      "nearest_station_list: 114945\n",
      "station_distance_list: 114945\n",
      "nearest_station_opening_list: 114945\n",
      "nearest_station_closure_list: 114945\n",
      "\n",
      "1999-11-01 00:00:00\n",
      "filtered_train_station: 51\n",
      "filtered_flat_resale: 166081\n",
      "result: 166081\n",
      "nearest_station_list: 281026\n",
      "station_distance_list: 281026\n",
      "nearest_station_opening_list: 281026\n",
      "nearest_station_closure_list: 281026\n",
      "\n",
      "2001-01-01 00:00:00\n",
      "filtered_train_station: 65\n",
      "filtered_flat_resale: 41032\n",
      "result: 41032\n",
      "nearest_station_list: 322058\n",
      "station_distance_list: 322058\n",
      "nearest_station_opening_list: 322058\n",
      "nearest_station_closure_list: 322058\n",
      "\n",
      "2001-10-01 00:00:00\n",
      "filtered_train_station: 66\n",
      "filtered_flat_resale: 28211\n",
      "result: 28211\n",
      "nearest_station_list: 350269\n",
      "station_distance_list: 350269\n",
      "nearest_station_opening_list: 350269\n",
      "nearest_station_closure_list: 350269\n",
      "\n",
      "2002-02-01 00:00:00\n",
      "filtered_train_station: 67\n",
      "filtered_flat_resale: 13229\n",
      "result: 13229\n",
      "nearest_station_list: 363498\n",
      "station_distance_list: 363498\n",
      "nearest_station_opening_list: 363498\n",
      "nearest_station_closure_list: 363498\n",
      "\n",
      "2003-01-01 00:00:00\n",
      "filtered_train_station: 68\n",
      "filtered_flat_resale: 32713\n",
      "result: 32713\n",
      "nearest_station_list: 396211\n",
      "station_distance_list: 396211\n",
      "nearest_station_opening_list: 396211\n",
      "nearest_station_closure_list: 396211\n",
      "\n",
      "2003-06-01 00:00:00\n",
      "filtered_train_station: 74\n",
      "filtered_flat_resale: 11265\n",
      "result: 11265\n",
      "nearest_station_list: 407476\n",
      "station_distance_list: 407476\n",
      "nearest_station_opening_list: 407476\n",
      "nearest_station_closure_list: 407476\n",
      "\n",
      "2005-01-01 00:00:00\n",
      "filtered_train_station: 88\n",
      "filtered_flat_resale: 46850\n",
      "result: 46850\n",
      "nearest_station_list: 454326\n",
      "station_distance_list: 454326\n",
      "nearest_station_opening_list: 454326\n",
      "nearest_station_closure_list: 454326\n",
      "\n",
      "2006-01-01 00:00:00\n",
      "filtered_train_station: 99\n",
      "filtered_flat_resale: 30045\n",
      "result: 30045\n",
      "nearest_station_list: 484371\n",
      "station_distance_list: 484371\n",
      "nearest_station_opening_list: 484371\n",
      "nearest_station_closure_list: 484371\n",
      "\n",
      "2007-06-01 00:00:00\n",
      "filtered_train_station: 100\n",
      "filtered_flat_resale: 38243\n",
      "result: 38243\n",
      "nearest_station_list: 522614\n",
      "station_distance_list: 522614\n",
      "nearest_station_opening_list: 522614\n",
      "nearest_station_closure_list: 522614\n",
      "\n",
      "2007-11-01 00:00:00\n",
      "filtered_train_station: 101\n",
      "filtered_flat_resale: 11914\n",
      "result: 11914\n",
      "nearest_station_list: 534528\n",
      "station_distance_list: 534528\n",
      "nearest_station_opening_list: 534528\n",
      "nearest_station_closure_list: 534528\n",
      "\n",
      "2009-02-01 00:00:00\n",
      "filtered_train_station: 102\n",
      "filtered_flat_resale: 33520\n",
      "result: 33520\n",
      "nearest_station_list: 568048\n",
      "station_distance_list: 568048\n",
      "nearest_station_opening_list: 568048\n",
      "nearest_station_closure_list: 568048\n",
      "\n",
      "2009-05-01 00:00:00\n",
      "filtered_train_station: 104\n",
      "filtered_flat_resale: 6596\n",
      "result: 6596\n",
      "nearest_station_list: 574644\n",
      "station_distance_list: 574644\n",
      "nearest_station_opening_list: 574644\n",
      "nearest_station_closure_list: 574644\n",
      "\n",
      "2010-04-01 00:00:00\n",
      "filtered_train_station: 109\n",
      "filtered_flat_resale: 30387\n",
      "result: 30387\n",
      "nearest_station_list: 605031\n",
      "station_distance_list: 605031\n",
      "nearest_station_opening_list: 605031\n",
      "nearest_station_closure_list: 605031\n",
      "\n",
      "2011-06-01 00:00:00\n",
      "filtered_train_station: 120\n",
      "filtered_flat_resale: 36154\n",
      "result: 36154\n",
      "nearest_station_list: 641185\n",
      "station_distance_list: 641185\n",
      "nearest_station_opening_list: 641185\n",
      "nearest_station_closure_list: 641185\n",
      "\n",
      "2011-10-01 00:00:00\n",
      "filtered_train_station: 122\n",
      "filtered_flat_resale: 7542\n",
      "result: 7542\n",
      "nearest_station_list: 648727\n",
      "station_distance_list: 648727\n",
      "nearest_station_opening_list: 648727\n",
      "nearest_station_closure_list: 648727\n",
      "\n",
      "2012-01-01 00:00:00\n",
      "filtered_train_station: 134\n",
      "filtered_flat_resale: 4932\n",
      "result: 4932\n",
      "nearest_station_list: 653659\n",
      "station_distance_list: 653659\n",
      "nearest_station_opening_list: 653659\n",
      "nearest_station_closure_list: 653659\n",
      "\n",
      "2013-01-01 00:00:00\n",
      "filtered_train_station: 136\n",
      "filtered_flat_resale: 23198\n",
      "result: 23198\n",
      "nearest_station_list: 676857\n",
      "station_distance_list: 676857\n",
      "nearest_station_opening_list: 676857\n",
      "nearest_station_closure_list: 676857\n",
      "\n",
      "2013-12-01 00:00:00\n",
      "filtered_train_station: 137\n",
      "filtered_flat_resale: 15089\n",
      "result: 15089\n",
      "nearest_station_list: 691946\n",
      "station_distance_list: 691946\n",
      "nearest_station_opening_list: 691946\n",
      "nearest_station_closure_list: 691946\n",
      "\n",
      "2014-06-01 00:00:00\n",
      "filtered_train_station: 143\n",
      "filtered_flat_resale: 7513\n",
      "result: 7513\n",
      "nearest_station_list: 699459\n",
      "station_distance_list: 699459\n",
      "nearest_station_opening_list: 699459\n",
      "nearest_station_closure_list: 699459\n",
      "\n",
      "2014-11-01 00:00:00\n",
      "filtered_train_station: 146\n",
      "filtered_flat_resale: 6936\n",
      "result: 6936\n",
      "nearest_station_list: 706395\n",
      "station_distance_list: 706395\n",
      "nearest_station_opening_list: 706395\n",
      "nearest_station_closure_list: 706395\n",
      "\n",
      "2015-06-01 00:00:00\n",
      "filtered_train_station: 147\n",
      "filtered_flat_resale: 9601\n",
      "result: 9601\n",
      "nearest_station_list: 715996\n",
      "station_distance_list: 715996\n",
      "nearest_station_opening_list: 715996\n",
      "nearest_station_closure_list: 715996\n",
      "\n",
      "2015-12-01 00:00:00\n",
      "filtered_train_station: 148\n",
      "filtered_flat_resale: 9422\n",
      "result: 9422\n",
      "nearest_station_list: 725418\n",
      "station_distance_list: 725418\n",
      "nearest_station_opening_list: 725418\n",
      "nearest_station_closure_list: 725418\n",
      "\n",
      "2016-02-01 00:00:00\n",
      "filtered_train_station: 160\n",
      "filtered_flat_resale: 2692\n",
      "result: 2692\n",
      "nearest_station_list: 728110\n",
      "station_distance_list: 728110\n",
      "nearest_station_opening_list: 728110\n",
      "nearest_station_closure_list: 728110\n",
      "\n",
      "2016-12-01 00:00:00\n",
      "filtered_train_station: 161\n",
      "filtered_flat_resale: 16715\n",
      "result: 16715\n",
      "nearest_station_list: 744825\n",
      "station_distance_list: 744825\n",
      "nearest_station_opening_list: 744825\n",
      "nearest_station_closure_list: 744825\n",
      "\n",
      "2017-03-01 00:00:00\n",
      "filtered_train_station: 162\n",
      "filtered_flat_resale: 3648\n",
      "result: 3648\n",
      "nearest_station_list: 748473\n",
      "station_distance_list: 748473\n",
      "nearest_station_opening_list: 748473\n",
      "nearest_station_closure_list: 748473\n",
      "\n",
      "2017-06-01 00:00:00\n",
      "filtered_train_station: 163\n",
      "filtered_flat_resale: 5722\n",
      "result: 5722\n",
      "nearest_station_list: 754195\n",
      "station_distance_list: 754195\n",
      "nearest_station_opening_list: 754195\n",
      "nearest_station_closure_list: 754195\n",
      "\n",
      "2017-10-01 00:00:00\n",
      "filtered_train_station: 167\n",
      "filtered_flat_resale: 7167\n",
      "result: 7167\n",
      "nearest_station_list: 761362\n",
      "station_distance_list: 761362\n",
      "nearest_station_opening_list: 761362\n",
      "nearest_station_closure_list: 761362\n",
      "\n",
      "2019-01-01 00:00:00\n",
      "filtered_train_station: 182\n",
      "filtered_flat_resale: 26911\n",
      "result: 26911\n",
      "nearest_station_list: 788273\n",
      "station_distance_list: 788273\n",
      "nearest_station_opening_list: 788273\n",
      "nearest_station_closure_list: 788273\n",
      "\n",
      "2019-11-01 00:00:00\n"
     ]
    },
    {
     "name": "stdout",
     "output_type": "stream",
     "text": [
      "filtered_train_station: 182\n",
      "filtered_flat_resale: 18428\n",
      "result: 18428\n",
      "nearest_station_list: 806701\n",
      "station_distance_list: 806701\n",
      "nearest_station_opening_list: 806701\n",
      "nearest_station_closure_list: 806701\n",
      "\n",
      "2020-01-01 00:00:00\n",
      "filtered_train_station: 183\n",
      "filtered_flat_resale: 3758\n",
      "result: 3758\n",
      "nearest_station_list: 810459\n",
      "station_distance_list: 810459\n",
      "nearest_station_opening_list: 810459\n",
      "nearest_station_closure_list: 810459\n",
      "\n",
      "2021-08-01 00:00:00\n",
      "filtered_train_station: 186\n",
      "filtered_flat_resale: 39678\n",
      "result: 39678\n",
      "nearest_station_list: 850137\n",
      "station_distance_list: 850137\n",
      "nearest_station_opening_list: 850137\n",
      "nearest_station_closure_list: 850137\n",
      "\n",
      "2022-11-01 00:00:00\n",
      "filtered_train_station: 192\n",
      "filtered_flat_resale: 35097\n",
      "result: 35097\n",
      "nearest_station_list: 885234\n",
      "station_distance_list: 885234\n",
      "nearest_station_opening_list: 885234\n",
      "nearest_station_closure_list: 885234\n",
      "\n",
      "2023-12-01 00:00:00\n",
      "filtered_train_station: 203\n",
      "filtered_flat_resale: 30137\n",
      "result: 30137\n",
      "nearest_station_list: 915371\n",
      "station_distance_list: 915371\n",
      "nearest_station_opening_list: 915371\n",
      "nearest_station_closure_list: 915371\n",
      "\n"
     ]
    }
   ],
   "source": [
    "month_list = []\n",
    "row_id_list = []\n",
    "address_list = []\n",
    "nearest_station_list = []\n",
    "station_distance_list = []\n",
    "nearest_station_opening_list = []\n",
    "nearest_station_closure_list = []\n",
    "nearest_station_opening_yymm_list = []\n",
    "nearest_station_closure_w_dummy_yymm_list = []\n",
    "\n",
    "# Define a function to find the nearest train station and its distance using the filtered dataframes\n",
    "def get_nearest_station(filtered_train_station, filtered_flat_resale): \n",
    "    \n",
    "    # geopandas.sindex.nearest(): Return the nearest geometry in the tree for each input geometry.\n",
    "    # Parameter 'return_distance = True' will return distances in addition to indexes. By default it's False. \n",
    "    # Parameter 'return_all = False' will return only a single nearest geometry if there are multiple equidistant or intersecting nearest geometries. By default it's True. \n",
    "    result = filtered_train_station.sindex.nearest(filtered_flat_resale['geometry'], return_distance = True, return_all = False)\n",
    "    \n",
    "    for i in range(len(result[0][0])): \n",
    "        \n",
    "        month_list.append(filtered_flat_resale['month'][i])\n",
    "        row_id_list.append(filtered_flat_resale['row_id'][i])\n",
    "        address_list.append(filtered_flat_resale['address'][i])\n",
    "        \n",
    "        nearest_station_index = result[0][1][i]\n",
    "        nearest_station = filtered_train_station['station_name_w_code'][nearest_station_index]\n",
    "        nearest_station_list.append(nearest_station)\n",
    "\n",
    "        station_distance = result[1][i]\n",
    "        station_distance_list.append(station_distance)\n",
    "        \n",
    "        nearest_station_opening = filtered_train_station['opening'][nearest_station_index]\n",
    "        nearest_station_opening_list.append(nearest_station_opening)\n",
    "        \n",
    "        nearest_station_closure = filtered_train_station['closure'][nearest_station_index]\n",
    "        nearest_station_closure_list.append(nearest_station_closure)\n",
    "        \n",
    "        nearest_station_opening_yymm = filtered_train_station['opening_yymm'][nearest_station_index]\n",
    "        nearest_station_opening_yymm_list.append(nearest_station_opening_yymm)\n",
    "        \n",
    "        nearest_station_closure_w_dummy_yymm = filtered_train_station['closure_w_dummy_yymm'][nearest_station_index]\n",
    "        nearest_station_closure_w_dummy_yymm_list.append(nearest_station_closure_w_dummy_yymm)\n",
    "    \n",
    "    print('filtered_train_station: {}'.format(len(filtered_train_station)))\n",
    "    print('filtered_flat_resale: {}'.format(len(filtered_flat_resale)))\n",
    "    print('result: {}'.format(len(result[0][0])))\n",
    "    print('nearest_station_list: {}'.format(len(nearest_station_list)))\n",
    "    print('station_distance_list: {}'.format(len(station_distance_list)))\n",
    "    print('nearest_station_opening_list: {}'.format(len(nearest_station_opening_list)))\n",
    "    print('nearest_station_closure_list: {}'.format(len(nearest_station_closure_list)))\n",
    "    print()\n",
    "\n",
    "    \n",
    "# Here is where we create smaller filtered 'flat_resale' and 'train_station' dataframes using 'date_filter_list' \n",
    "for i in range(len(date_filter_list)): \n",
    "    \n",
    "    print(date_filter_list[i])\n",
    "    \n",
    "    # 1) FILTERING OF TRAIN STATION\n",
    "    # Select the train stations available before the given date based on the reduced granularity opening and closure dates\n",
    "    # Do not include train stations with opening date equals to the given date\n",
    "    \n",
    "    filtered_train_station = train_station_gdf_reprojected.loc[(train_station_gdf_reprojected['opening_yymm'] < date_filter_list[i]) & \n",
    "                                                               (train_station_gdf_reprojected['closure_w_dummy_yymm'] > date_filter_list[i])]\n",
    "    \n",
    "    # Reset the index of 'filtered_train_station' because: \n",
    "    # the index of 'filtered_train_station' is no longer in sequence after the filter (eg. 2, 3, 7, 12, 32)\n",
    "    # to align with the resulted indexing of sindex.nearest() function (eg. 0, 1, 2, 3, 4)\n",
    "    \n",
    "    filtered_train_station.reset_index(drop = True, inplace = True)\n",
    "    \n",
    "    # 2) FILTERING OF FLAT\n",
    "    # Select the flat resale records from the last filter date up to but not including the given date\n",
    "    # Do not include flat resale records of the given date, except the very last date\n",
    "    \n",
    "    if i == 0:     # for the first date in the date filter list\n",
    "        filtered_flat_resale = flat_resale_gdf_reprojected.loc[flat_resale_gdf_reprojected['month'] < date_filter_list[i]]\n",
    "    \n",
    "    elif i == (len(date_filter_list) - 1):     # for the very last date in date filter list\n",
    "        filtered_flat_resale = flat_resale_gdf_reprojected.loc[((flat_resale_gdf_reprojected['month'] <= date_filter_list[i]) & \n",
    "                                                               (flat_resale_gdf_reprojected['month'] >= date_filter_list[i-1]))]\n",
    "    \n",
    "    else:\n",
    "        filtered_flat_resale = flat_resale_gdf_reprojected.loc[((flat_resale_gdf_reprojected['month'] < date_filter_list[i]) & \n",
    "                                                                (flat_resale_gdf_reprojected['month'] >= date_filter_list[i-1]))]\n",
    "    \n",
    "    # Reset the index of 'filtered_flat_resale' (same as the reason mentioned in 'filtered_train_station') \n",
    "    filtered_flat_resale.reset_index(drop = True, inplace = True)\n",
    "    \n",
    "    # 3) SEARCH FOR NEAREST STATION USING THE FILTERED 'TRAIN_STATION' AND 'FLAT_RESALE' DATAFRAMES\n",
    "    get_nearest_station(filtered_train_station, filtered_flat_resale)\n"
   ]
  },
  {
   "cell_type": "markdown",
   "id": "c90b1f9e",
   "metadata": {},
   "source": [
    "The code completes in less than 30 seconds. \n",
    "The total number of elements in the output lists aligns with the total row number of flat_resale."
   ]
  },
  {
   "cell_type": "markdown",
   "id": "0625f9d5",
   "metadata": {},
   "source": [
    "# 09. Data Validation\n",
    "To make sure the nearest stations are present during the flat resale transactions."
   ]
  },
  {
   "cell_type": "code",
   "execution_count": 80,
   "id": "7669472d",
   "metadata": {},
   "outputs": [],
   "source": [
    "# Create a new dataframe to store the result above\n",
    "df_nearest_station = pd.DataFrame({'month' : month_list, \n",
    "                                   'row_id' : row_id_list, \n",
    "                                   'address' : address_list, \n",
    "                                   'nearest_station' : nearest_station_list, \n",
    "                                   'station_distance' : station_distance_list, \n",
    "                                   'station_opening' : nearest_station_opening_list, \n",
    "                                   'station_closure' : nearest_station_closure_list, \n",
    "                                   'station_opening_yymm' : nearest_station_opening_yymm_list, \n",
    "                                   'station_closure_w_dummy_yymm' : nearest_station_closure_w_dummy_yymm_list\n",
    "                                  }) "
   ]
  },
  {
   "cell_type": "code",
   "execution_count": 81,
   "id": "fb9effd5",
   "metadata": {},
   "outputs": [
    {
     "data": {
      "text/html": [
       "<div>\n",
       "<style scoped>\n",
       "    .dataframe tbody tr th:only-of-type {\n",
       "        vertical-align: middle;\n",
       "    }\n",
       "\n",
       "    .dataframe tbody tr th {\n",
       "        vertical-align: top;\n",
       "    }\n",
       "\n",
       "    .dataframe thead th {\n",
       "        text-align: right;\n",
       "    }\n",
       "</style>\n",
       "<table border=\"1\" class=\"dataframe\">\n",
       "  <thead>\n",
       "    <tr style=\"text-align: right;\">\n",
       "      <th></th>\n",
       "      <th>month</th>\n",
       "      <th>row_id</th>\n",
       "      <th>address</th>\n",
       "      <th>nearest_station</th>\n",
       "      <th>station_distance</th>\n",
       "      <th>station_opening</th>\n",
       "      <th>station_closure</th>\n",
       "      <th>station_opening_yymm</th>\n",
       "      <th>station_closure_w_dummy_yymm</th>\n",
       "    </tr>\n",
       "  </thead>\n",
       "  <tbody>\n",
       "    <tr>\n",
       "      <th>0</th>\n",
       "      <td>1990-01-01</td>\n",
       "      <td>0</td>\n",
       "      <td>309 ANG MO KIO AVE 1</td>\n",
       "      <td>Ang Mo Kio MRT Station (NS16)</td>\n",
       "      <td>790.831215</td>\n",
       "      <td>1987-11-07</td>\n",
       "      <td>NaT</td>\n",
       "      <td>1987-11-01</td>\n",
       "      <td>2099-01-01</td>\n",
       "    </tr>\n",
       "    <tr>\n",
       "      <th>1</th>\n",
       "      <td>1990-01-01</td>\n",
       "      <td>1</td>\n",
       "      <td>309 ANG MO KIO AVE 1</td>\n",
       "      <td>Ang Mo Kio MRT Station (NS16)</td>\n",
       "      <td>790.831215</td>\n",
       "      <td>1987-11-07</td>\n",
       "      <td>NaT</td>\n",
       "      <td>1987-11-01</td>\n",
       "      <td>2099-01-01</td>\n",
       "    </tr>\n",
       "    <tr>\n",
       "      <th>2</th>\n",
       "      <td>1990-01-01</td>\n",
       "      <td>2</td>\n",
       "      <td>309 ANG MO KIO AVE 1</td>\n",
       "      <td>Ang Mo Kio MRT Station (NS16)</td>\n",
       "      <td>790.831215</td>\n",
       "      <td>1987-11-07</td>\n",
       "      <td>NaT</td>\n",
       "      <td>1987-11-01</td>\n",
       "      <td>2099-01-01</td>\n",
       "    </tr>\n",
       "    <tr>\n",
       "      <th>3</th>\n",
       "      <td>1990-01-01</td>\n",
       "      <td>3</td>\n",
       "      <td>309 ANG MO KIO AVE 1</td>\n",
       "      <td>Ang Mo Kio MRT Station (NS16)</td>\n",
       "      <td>790.831215</td>\n",
       "      <td>1987-11-07</td>\n",
       "      <td>NaT</td>\n",
       "      <td>1987-11-01</td>\n",
       "      <td>2099-01-01</td>\n",
       "    </tr>\n",
       "    <tr>\n",
       "      <th>4</th>\n",
       "      <td>1990-01-01</td>\n",
       "      <td>4</td>\n",
       "      <td>216 ANG MO KIO AVE 1</td>\n",
       "      <td>Ang Mo Kio MRT Station (NS16)</td>\n",
       "      <td>986.842379</td>\n",
       "      <td>1987-11-07</td>\n",
       "      <td>NaT</td>\n",
       "      <td>1987-11-01</td>\n",
       "      <td>2099-01-01</td>\n",
       "    </tr>\n",
       "  </tbody>\n",
       "</table>\n",
       "</div>"
      ],
      "text/plain": [
       "       month  row_id               address                nearest_station  \\\n",
       "0 1990-01-01       0  309 ANG MO KIO AVE 1  Ang Mo Kio MRT Station (NS16)   \n",
       "1 1990-01-01       1  309 ANG MO KIO AVE 1  Ang Mo Kio MRT Station (NS16)   \n",
       "2 1990-01-01       2  309 ANG MO KIO AVE 1  Ang Mo Kio MRT Station (NS16)   \n",
       "3 1990-01-01       3  309 ANG MO KIO AVE 1  Ang Mo Kio MRT Station (NS16)   \n",
       "4 1990-01-01       4  216 ANG MO KIO AVE 1  Ang Mo Kio MRT Station (NS16)   \n",
       "\n",
       "   station_distance station_opening station_closure station_opening_yymm  \\\n",
       "0        790.831215      1987-11-07             NaT           1987-11-01   \n",
       "1        790.831215      1987-11-07             NaT           1987-11-01   \n",
       "2        790.831215      1987-11-07             NaT           1987-11-01   \n",
       "3        790.831215      1987-11-07             NaT           1987-11-01   \n",
       "4        986.842379      1987-11-07             NaT           1987-11-01   \n",
       "\n",
       "  station_closure_w_dummy_yymm  \n",
       "0                   2099-01-01  \n",
       "1                   2099-01-01  \n",
       "2                   2099-01-01  \n",
       "3                   2099-01-01  \n",
       "4                   2099-01-01  "
      ]
     },
     "execution_count": 81,
     "metadata": {},
     "output_type": "execute_result"
    }
   ],
   "source": [
    "df_nearest_station.head()"
   ]
  },
  {
   "cell_type": "code",
   "execution_count": 82,
   "id": "bdcb63de",
   "metadata": {},
   "outputs": [
    {
     "data": {
      "text/html": [
       "<div>\n",
       "<style scoped>\n",
       "    .dataframe tbody tr th:only-of-type {\n",
       "        vertical-align: middle;\n",
       "    }\n",
       "\n",
       "    .dataframe tbody tr th {\n",
       "        vertical-align: top;\n",
       "    }\n",
       "\n",
       "    .dataframe thead th {\n",
       "        text-align: right;\n",
       "    }\n",
       "</style>\n",
       "<table border=\"1\" class=\"dataframe\">\n",
       "  <thead>\n",
       "    <tr style=\"text-align: right;\">\n",
       "      <th></th>\n",
       "      <th>month</th>\n",
       "      <th>row_id</th>\n",
       "      <th>address</th>\n",
       "      <th>nearest_station</th>\n",
       "      <th>station_distance</th>\n",
       "      <th>station_opening</th>\n",
       "      <th>station_closure</th>\n",
       "      <th>station_opening_yymm</th>\n",
       "      <th>station_closure_w_dummy_yymm</th>\n",
       "    </tr>\n",
       "  </thead>\n",
       "  <tbody>\n",
       "    <tr>\n",
       "      <th>915366</th>\n",
       "      <td>2023-12-01</td>\n",
       "      <td>915366</td>\n",
       "      <td>826 YISHUN ST 81</td>\n",
       "      <td>Khatib MRT Station (NS14)</td>\n",
       "      <td>359.654884</td>\n",
       "      <td>1988-12-20</td>\n",
       "      <td>NaT</td>\n",
       "      <td>1988-12-01</td>\n",
       "      <td>2099-01-01</td>\n",
       "    </tr>\n",
       "    <tr>\n",
       "      <th>915367</th>\n",
       "      <td>2023-12-01</td>\n",
       "      <td>915367</td>\n",
       "      <td>834 YISHUN ST 81</td>\n",
       "      <td>Khatib MRT Station (NS14)</td>\n",
       "      <td>278.011616</td>\n",
       "      <td>1988-12-20</td>\n",
       "      <td>NaT</td>\n",
       "      <td>1988-12-01</td>\n",
       "      <td>2099-01-01</td>\n",
       "    </tr>\n",
       "    <tr>\n",
       "      <th>915368</th>\n",
       "      <td>2023-01-01</td>\n",
       "      <td>915368</td>\n",
       "      <td>666 YISHUN AVE 4</td>\n",
       "      <td>Khatib MRT Station (NS14)</td>\n",
       "      <td>863.123975</td>\n",
       "      <td>1988-12-20</td>\n",
       "      <td>NaT</td>\n",
       "      <td>1988-12-01</td>\n",
       "      <td>2099-01-01</td>\n",
       "    </tr>\n",
       "    <tr>\n",
       "      <th>915369</th>\n",
       "      <td>2023-12-01</td>\n",
       "      <td>915369</td>\n",
       "      <td>666 YISHUN AVE 4</td>\n",
       "      <td>Khatib MRT Station (NS14)</td>\n",
       "      <td>863.123975</td>\n",
       "      <td>1988-12-20</td>\n",
       "      <td>NaT</td>\n",
       "      <td>1988-12-01</td>\n",
       "      <td>2099-01-01</td>\n",
       "    </tr>\n",
       "    <tr>\n",
       "      <th>915370</th>\n",
       "      <td>2023-06-01</td>\n",
       "      <td>915370</td>\n",
       "      <td>633 YISHUN ST 61</td>\n",
       "      <td>Khatib MRT Station (NS14)</td>\n",
       "      <td>776.554343</td>\n",
       "      <td>1988-12-20</td>\n",
       "      <td>NaT</td>\n",
       "      <td>1988-12-01</td>\n",
       "      <td>2099-01-01</td>\n",
       "    </tr>\n",
       "  </tbody>\n",
       "</table>\n",
       "</div>"
      ],
      "text/plain": [
       "            month  row_id           address            nearest_station  \\\n",
       "915366 2023-12-01  915366  826 YISHUN ST 81  Khatib MRT Station (NS14)   \n",
       "915367 2023-12-01  915367  834 YISHUN ST 81  Khatib MRT Station (NS14)   \n",
       "915368 2023-01-01  915368  666 YISHUN AVE 4  Khatib MRT Station (NS14)   \n",
       "915369 2023-12-01  915369  666 YISHUN AVE 4  Khatib MRT Station (NS14)   \n",
       "915370 2023-06-01  915370  633 YISHUN ST 61  Khatib MRT Station (NS14)   \n",
       "\n",
       "        station_distance station_opening station_closure station_opening_yymm  \\\n",
       "915366        359.654884      1988-12-20             NaT           1988-12-01   \n",
       "915367        278.011616      1988-12-20             NaT           1988-12-01   \n",
       "915368        863.123975      1988-12-20             NaT           1988-12-01   \n",
       "915369        863.123975      1988-12-20             NaT           1988-12-01   \n",
       "915370        776.554343      1988-12-20             NaT           1988-12-01   \n",
       "\n",
       "       station_closure_w_dummy_yymm  \n",
       "915366                   2099-01-01  \n",
       "915367                   2099-01-01  \n",
       "915368                   2099-01-01  \n",
       "915369                   2099-01-01  \n",
       "915370                   2099-01-01  "
      ]
     },
     "execution_count": 82,
     "metadata": {},
     "output_type": "execute_result"
    }
   ],
   "source": [
    "df_nearest_station.tail()"
   ]
  },
  {
   "cell_type": "code",
   "execution_count": 83,
   "id": "b46e6ece",
   "metadata": {},
   "outputs": [
    {
     "data": {
      "text/plain": [
       "True    915371\n",
       "Name: count, dtype: int64"
      ]
     },
     "execution_count": 83,
     "metadata": {},
     "output_type": "execute_result"
    }
   ],
   "source": [
    "# Check if the train station opening date is smaller than or equal to flat resale month\n",
    "df_nearest_station_check_opening = df_nearest_station['station_opening_yymm'] <= df_nearest_station['month']\n",
    "df_nearest_station_check_opening.value_counts()"
   ]
  },
  {
   "cell_type": "code",
   "execution_count": 84,
   "id": "daed3124",
   "metadata": {},
   "outputs": [
    {
     "data": {
      "text/plain": [
       "True    915371\n",
       "Name: count, dtype: int64"
      ]
     },
     "execution_count": 84,
     "metadata": {},
     "output_type": "execute_result"
    }
   ],
   "source": [
    "# Check if the train station closure date is greater than flat resale month\n",
    "df_nearest_station_check_closure = df_nearest_station['station_closure_w_dummy_yymm'] > df_nearest_station['month']\n",
    "df_nearest_station_check_closure.value_counts()"
   ]
  },
  {
   "cell_type": "markdown",
   "id": "8c97e870",
   "metadata": {},
   "source": [
    "All nearest train stations are present for every HDB resale record. No issue."
   ]
  },
  {
   "cell_type": "markdown",
   "id": "6996e9f3",
   "metadata": {},
   "source": [
    "# 10. Combine The Result of Nearest Train Station into Main Dataframe"
   ]
  },
  {
   "cell_type": "code",
   "execution_count": 85,
   "id": "a3f3345d",
   "metadata": {
    "scrolled": true
   },
   "outputs": [],
   "source": [
    "# Merge 'df_nearest_station' with the main dataframe 'flat_resale_gdf_reprojected'\n",
    "flat_resale_gdf_reprojected_merge = flat_resale_gdf_reprojected.merge(df_nearest_station, on = ['month', 'row_id', 'address'], how = 'outer', indicator = True)"
   ]
  },
  {
   "cell_type": "code",
   "execution_count": 86,
   "id": "d173a610",
   "metadata": {},
   "outputs": [
    {
     "data": {
      "text/html": [
       "<div>\n",
       "<style scoped>\n",
       "    .dataframe tbody tr th:only-of-type {\n",
       "        vertical-align: middle;\n",
       "    }\n",
       "\n",
       "    .dataframe tbody tr th {\n",
       "        vertical-align: top;\n",
       "    }\n",
       "\n",
       "    .dataframe thead th {\n",
       "        text-align: right;\n",
       "    }\n",
       "</style>\n",
       "<table border=\"1\" class=\"dataframe\">\n",
       "  <thead>\n",
       "    <tr style=\"text-align: right;\">\n",
       "      <th></th>\n",
       "      <th>month</th>\n",
       "      <th>town</th>\n",
       "      <th>flat_type</th>\n",
       "      <th>block</th>\n",
       "      <th>street_name</th>\n",
       "      <th>storey_range</th>\n",
       "      <th>floor_area_sqm</th>\n",
       "      <th>flat_model</th>\n",
       "      <th>lease_commence_date</th>\n",
       "      <th>resale_price</th>\n",
       "      <th>remaining_lease</th>\n",
       "      <th>row_id</th>\n",
       "      <th>address</th>\n",
       "      <th>latitude</th>\n",
       "      <th>longitude</th>\n",
       "      <th>geometry</th>\n",
       "      <th>nearest_station</th>\n",
       "      <th>station_distance</th>\n",
       "      <th>station_opening</th>\n",
       "      <th>station_closure</th>\n",
       "      <th>station_opening_yymm</th>\n",
       "      <th>station_closure_w_dummy_yymm</th>\n",
       "      <th>_merge</th>\n",
       "    </tr>\n",
       "  </thead>\n",
       "  <tbody>\n",
       "    <tr>\n",
       "      <th>0</th>\n",
       "      <td>1990-01-01</td>\n",
       "      <td>ANG MO KIO</td>\n",
       "      <td>1 ROOM</td>\n",
       "      <td>309</td>\n",
       "      <td>ANG MO KIO AVE 1</td>\n",
       "      <td>10 TO 12</td>\n",
       "      <td>31.0</td>\n",
       "      <td>Improved</td>\n",
       "      <td>1977</td>\n",
       "      <td>9000.0</td>\n",
       "      <td>86</td>\n",
       "      <td>0</td>\n",
       "      <td>309 ANG MO KIO AVE 1</td>\n",
       "      <td>1.365517</td>\n",
       "      <td>103.843968</td>\n",
       "      <td>POINT (29185.176 38617.449)</td>\n",
       "      <td>Ang Mo Kio MRT Station (NS16)</td>\n",
       "      <td>790.831215</td>\n",
       "      <td>1987-11-07</td>\n",
       "      <td>NaT</td>\n",
       "      <td>1987-11-01</td>\n",
       "      <td>2099-01-01</td>\n",
       "      <td>both</td>\n",
       "    </tr>\n",
       "    <tr>\n",
       "      <th>1</th>\n",
       "      <td>1990-01-01</td>\n",
       "      <td>ANG MO KIO</td>\n",
       "      <td>1 ROOM</td>\n",
       "      <td>309</td>\n",
       "      <td>ANG MO KIO AVE 1</td>\n",
       "      <td>04 TO 06</td>\n",
       "      <td>31.0</td>\n",
       "      <td>Improved</td>\n",
       "      <td>1977</td>\n",
       "      <td>6000.0</td>\n",
       "      <td>86</td>\n",
       "      <td>1</td>\n",
       "      <td>309 ANG MO KIO AVE 1</td>\n",
       "      <td>1.365517</td>\n",
       "      <td>103.843968</td>\n",
       "      <td>POINT (29185.176 38617.449)</td>\n",
       "      <td>Ang Mo Kio MRT Station (NS16)</td>\n",
       "      <td>790.831215</td>\n",
       "      <td>1987-11-07</td>\n",
       "      <td>NaT</td>\n",
       "      <td>1987-11-01</td>\n",
       "      <td>2099-01-01</td>\n",
       "      <td>both</td>\n",
       "    </tr>\n",
       "    <tr>\n",
       "      <th>2</th>\n",
       "      <td>1990-01-01</td>\n",
       "      <td>ANG MO KIO</td>\n",
       "      <td>1 ROOM</td>\n",
       "      <td>309</td>\n",
       "      <td>ANG MO KIO AVE 1</td>\n",
       "      <td>10 TO 12</td>\n",
       "      <td>31.0</td>\n",
       "      <td>Improved</td>\n",
       "      <td>1977</td>\n",
       "      <td>8000.0</td>\n",
       "      <td>86</td>\n",
       "      <td>2</td>\n",
       "      <td>309 ANG MO KIO AVE 1</td>\n",
       "      <td>1.365517</td>\n",
       "      <td>103.843968</td>\n",
       "      <td>POINT (29185.176 38617.449)</td>\n",
       "      <td>Ang Mo Kio MRT Station (NS16)</td>\n",
       "      <td>790.831215</td>\n",
       "      <td>1987-11-07</td>\n",
       "      <td>NaT</td>\n",
       "      <td>1987-11-01</td>\n",
       "      <td>2099-01-01</td>\n",
       "      <td>both</td>\n",
       "    </tr>\n",
       "    <tr>\n",
       "      <th>3</th>\n",
       "      <td>1990-01-01</td>\n",
       "      <td>ANG MO KIO</td>\n",
       "      <td>1 ROOM</td>\n",
       "      <td>309</td>\n",
       "      <td>ANG MO KIO AVE 1</td>\n",
       "      <td>07 TO 09</td>\n",
       "      <td>31.0</td>\n",
       "      <td>Improved</td>\n",
       "      <td>1977</td>\n",
       "      <td>6000.0</td>\n",
       "      <td>86</td>\n",
       "      <td>3</td>\n",
       "      <td>309 ANG MO KIO AVE 1</td>\n",
       "      <td>1.365517</td>\n",
       "      <td>103.843968</td>\n",
       "      <td>POINT (29185.176 38617.449)</td>\n",
       "      <td>Ang Mo Kio MRT Station (NS16)</td>\n",
       "      <td>790.831215</td>\n",
       "      <td>1987-11-07</td>\n",
       "      <td>NaT</td>\n",
       "      <td>1987-11-01</td>\n",
       "      <td>2099-01-01</td>\n",
       "      <td>both</td>\n",
       "    </tr>\n",
       "    <tr>\n",
       "      <th>4</th>\n",
       "      <td>1990-01-01</td>\n",
       "      <td>ANG MO KIO</td>\n",
       "      <td>3 ROOM</td>\n",
       "      <td>216</td>\n",
       "      <td>ANG MO KIO AVE 1</td>\n",
       "      <td>04 TO 06</td>\n",
       "      <td>73.0</td>\n",
       "      <td>New Generation</td>\n",
       "      <td>1976</td>\n",
       "      <td>47200.0</td>\n",
       "      <td>85</td>\n",
       "      <td>4</td>\n",
       "      <td>216 ANG MO KIO AVE 1</td>\n",
       "      <td>1.366197</td>\n",
       "      <td>103.841505</td>\n",
       "      <td>POINT (28911.052 38692.617)</td>\n",
       "      <td>Ang Mo Kio MRT Station (NS16)</td>\n",
       "      <td>986.842379</td>\n",
       "      <td>1987-11-07</td>\n",
       "      <td>NaT</td>\n",
       "      <td>1987-11-01</td>\n",
       "      <td>2099-01-01</td>\n",
       "      <td>both</td>\n",
       "    </tr>\n",
       "  </tbody>\n",
       "</table>\n",
       "</div>"
      ],
      "text/plain": [
       "       month        town flat_type block       street_name storey_range  \\\n",
       "0 1990-01-01  ANG MO KIO    1 ROOM   309  ANG MO KIO AVE 1     10 TO 12   \n",
       "1 1990-01-01  ANG MO KIO    1 ROOM   309  ANG MO KIO AVE 1     04 TO 06   \n",
       "2 1990-01-01  ANG MO KIO    1 ROOM   309  ANG MO KIO AVE 1     10 TO 12   \n",
       "3 1990-01-01  ANG MO KIO    1 ROOM   309  ANG MO KIO AVE 1     07 TO 09   \n",
       "4 1990-01-01  ANG MO KIO    3 ROOM   216  ANG MO KIO AVE 1     04 TO 06   \n",
       "\n",
       "   floor_area_sqm      flat_model  lease_commence_date  resale_price  \\\n",
       "0            31.0        Improved                 1977        9000.0   \n",
       "1            31.0        Improved                 1977        6000.0   \n",
       "2            31.0        Improved                 1977        8000.0   \n",
       "3            31.0        Improved                 1977        6000.0   \n",
       "4            73.0  New Generation                 1976       47200.0   \n",
       "\n",
       "   remaining_lease  row_id               address  latitude   longitude  \\\n",
       "0               86       0  309 ANG MO KIO AVE 1  1.365517  103.843968   \n",
       "1               86       1  309 ANG MO KIO AVE 1  1.365517  103.843968   \n",
       "2               86       2  309 ANG MO KIO AVE 1  1.365517  103.843968   \n",
       "3               86       3  309 ANG MO KIO AVE 1  1.365517  103.843968   \n",
       "4               85       4  216 ANG MO KIO AVE 1  1.366197  103.841505   \n",
       "\n",
       "                      geometry                nearest_station  \\\n",
       "0  POINT (29185.176 38617.449)  Ang Mo Kio MRT Station (NS16)   \n",
       "1  POINT (29185.176 38617.449)  Ang Mo Kio MRT Station (NS16)   \n",
       "2  POINT (29185.176 38617.449)  Ang Mo Kio MRT Station (NS16)   \n",
       "3  POINT (29185.176 38617.449)  Ang Mo Kio MRT Station (NS16)   \n",
       "4  POINT (28911.052 38692.617)  Ang Mo Kio MRT Station (NS16)   \n",
       "\n",
       "   station_distance station_opening station_closure station_opening_yymm  \\\n",
       "0        790.831215      1987-11-07             NaT           1987-11-01   \n",
       "1        790.831215      1987-11-07             NaT           1987-11-01   \n",
       "2        790.831215      1987-11-07             NaT           1987-11-01   \n",
       "3        790.831215      1987-11-07             NaT           1987-11-01   \n",
       "4        986.842379      1987-11-07             NaT           1987-11-01   \n",
       "\n",
       "  station_closure_w_dummy_yymm _merge  \n",
       "0                   2099-01-01   both  \n",
       "1                   2099-01-01   both  \n",
       "2                   2099-01-01   both  \n",
       "3                   2099-01-01   both  \n",
       "4                   2099-01-01   both  "
      ]
     },
     "execution_count": 86,
     "metadata": {},
     "output_type": "execute_result"
    }
   ],
   "source": [
    "flat_resale_gdf_reprojected_merge.head()"
   ]
  },
  {
   "cell_type": "code",
   "execution_count": 87,
   "id": "bb4913f6",
   "metadata": {},
   "outputs": [
    {
     "data": {
      "text/plain": [
       "_merge\n",
       "both          915371\n",
       "left_only          0\n",
       "right_only         0\n",
       "Name: count, dtype: int64"
      ]
     },
     "execution_count": 87,
     "metadata": {},
     "output_type": "execute_result"
    }
   ],
   "source": [
    "# Check the merging rate\n",
    "flat_resale_gdf_reprojected_merge['_merge'].value_counts()"
   ]
  },
  {
   "cell_type": "code",
   "execution_count": 88,
   "id": "5fdd2802",
   "metadata": {},
   "outputs": [],
   "source": [
    "# Drop the unnecessary 'station_opening_yymm', 'station_closure_w_dummy_yymm', '_merge' columns\n",
    "flat_resale_gdf_reprojected_merge.drop(columns = ['station_opening_yymm', 'station_closure_w_dummy_yymm', '_merge'], inplace = True)"
   ]
  },
  {
   "cell_type": "code",
   "execution_count": 89,
   "id": "6203c8c5",
   "metadata": {},
   "outputs": [
    {
     "data": {
      "text/html": [
       "<div>\n",
       "<style scoped>\n",
       "    .dataframe tbody tr th:only-of-type {\n",
       "        vertical-align: middle;\n",
       "    }\n",
       "\n",
       "    .dataframe tbody tr th {\n",
       "        vertical-align: top;\n",
       "    }\n",
       "\n",
       "    .dataframe thead th {\n",
       "        text-align: right;\n",
       "    }\n",
       "</style>\n",
       "<table border=\"1\" class=\"dataframe\">\n",
       "  <thead>\n",
       "    <tr style=\"text-align: right;\">\n",
       "      <th></th>\n",
       "      <th>month</th>\n",
       "      <th>town</th>\n",
       "      <th>flat_type</th>\n",
       "      <th>block</th>\n",
       "      <th>street_name</th>\n",
       "      <th>storey_range</th>\n",
       "      <th>floor_area_sqm</th>\n",
       "      <th>flat_model</th>\n",
       "      <th>lease_commence_date</th>\n",
       "      <th>resale_price</th>\n",
       "      <th>remaining_lease</th>\n",
       "      <th>row_id</th>\n",
       "      <th>address</th>\n",
       "      <th>latitude</th>\n",
       "      <th>longitude</th>\n",
       "      <th>geometry</th>\n",
       "      <th>nearest_station</th>\n",
       "      <th>station_distance</th>\n",
       "      <th>station_opening</th>\n",
       "      <th>station_closure</th>\n",
       "    </tr>\n",
       "  </thead>\n",
       "  <tbody>\n",
       "    <tr>\n",
       "      <th>0</th>\n",
       "      <td>1990-01-01</td>\n",
       "      <td>ANG MO KIO</td>\n",
       "      <td>1 ROOM</td>\n",
       "      <td>309</td>\n",
       "      <td>ANG MO KIO AVE 1</td>\n",
       "      <td>10 TO 12</td>\n",
       "      <td>31.0</td>\n",
       "      <td>Improved</td>\n",
       "      <td>1977</td>\n",
       "      <td>9000.0</td>\n",
       "      <td>86</td>\n",
       "      <td>0</td>\n",
       "      <td>309 ANG MO KIO AVE 1</td>\n",
       "      <td>1.365517</td>\n",
       "      <td>103.843968</td>\n",
       "      <td>POINT (29185.176 38617.449)</td>\n",
       "      <td>Ang Mo Kio MRT Station (NS16)</td>\n",
       "      <td>790.831215</td>\n",
       "      <td>1987-11-07</td>\n",
       "      <td>NaT</td>\n",
       "    </tr>\n",
       "    <tr>\n",
       "      <th>1</th>\n",
       "      <td>1990-01-01</td>\n",
       "      <td>ANG MO KIO</td>\n",
       "      <td>1 ROOM</td>\n",
       "      <td>309</td>\n",
       "      <td>ANG MO KIO AVE 1</td>\n",
       "      <td>04 TO 06</td>\n",
       "      <td>31.0</td>\n",
       "      <td>Improved</td>\n",
       "      <td>1977</td>\n",
       "      <td>6000.0</td>\n",
       "      <td>86</td>\n",
       "      <td>1</td>\n",
       "      <td>309 ANG MO KIO AVE 1</td>\n",
       "      <td>1.365517</td>\n",
       "      <td>103.843968</td>\n",
       "      <td>POINT (29185.176 38617.449)</td>\n",
       "      <td>Ang Mo Kio MRT Station (NS16)</td>\n",
       "      <td>790.831215</td>\n",
       "      <td>1987-11-07</td>\n",
       "      <td>NaT</td>\n",
       "    </tr>\n",
       "    <tr>\n",
       "      <th>2</th>\n",
       "      <td>1990-01-01</td>\n",
       "      <td>ANG MO KIO</td>\n",
       "      <td>1 ROOM</td>\n",
       "      <td>309</td>\n",
       "      <td>ANG MO KIO AVE 1</td>\n",
       "      <td>10 TO 12</td>\n",
       "      <td>31.0</td>\n",
       "      <td>Improved</td>\n",
       "      <td>1977</td>\n",
       "      <td>8000.0</td>\n",
       "      <td>86</td>\n",
       "      <td>2</td>\n",
       "      <td>309 ANG MO KIO AVE 1</td>\n",
       "      <td>1.365517</td>\n",
       "      <td>103.843968</td>\n",
       "      <td>POINT (29185.176 38617.449)</td>\n",
       "      <td>Ang Mo Kio MRT Station (NS16)</td>\n",
       "      <td>790.831215</td>\n",
       "      <td>1987-11-07</td>\n",
       "      <td>NaT</td>\n",
       "    </tr>\n",
       "    <tr>\n",
       "      <th>3</th>\n",
       "      <td>1990-01-01</td>\n",
       "      <td>ANG MO KIO</td>\n",
       "      <td>1 ROOM</td>\n",
       "      <td>309</td>\n",
       "      <td>ANG MO KIO AVE 1</td>\n",
       "      <td>07 TO 09</td>\n",
       "      <td>31.0</td>\n",
       "      <td>Improved</td>\n",
       "      <td>1977</td>\n",
       "      <td>6000.0</td>\n",
       "      <td>86</td>\n",
       "      <td>3</td>\n",
       "      <td>309 ANG MO KIO AVE 1</td>\n",
       "      <td>1.365517</td>\n",
       "      <td>103.843968</td>\n",
       "      <td>POINT (29185.176 38617.449)</td>\n",
       "      <td>Ang Mo Kio MRT Station (NS16)</td>\n",
       "      <td>790.831215</td>\n",
       "      <td>1987-11-07</td>\n",
       "      <td>NaT</td>\n",
       "    </tr>\n",
       "    <tr>\n",
       "      <th>4</th>\n",
       "      <td>1990-01-01</td>\n",
       "      <td>ANG MO KIO</td>\n",
       "      <td>3 ROOM</td>\n",
       "      <td>216</td>\n",
       "      <td>ANG MO KIO AVE 1</td>\n",
       "      <td>04 TO 06</td>\n",
       "      <td>73.0</td>\n",
       "      <td>New Generation</td>\n",
       "      <td>1976</td>\n",
       "      <td>47200.0</td>\n",
       "      <td>85</td>\n",
       "      <td>4</td>\n",
       "      <td>216 ANG MO KIO AVE 1</td>\n",
       "      <td>1.366197</td>\n",
       "      <td>103.841505</td>\n",
       "      <td>POINT (28911.052 38692.617)</td>\n",
       "      <td>Ang Mo Kio MRT Station (NS16)</td>\n",
       "      <td>986.842379</td>\n",
       "      <td>1987-11-07</td>\n",
       "      <td>NaT</td>\n",
       "    </tr>\n",
       "  </tbody>\n",
       "</table>\n",
       "</div>"
      ],
      "text/plain": [
       "       month        town flat_type block       street_name storey_range  \\\n",
       "0 1990-01-01  ANG MO KIO    1 ROOM   309  ANG MO KIO AVE 1     10 TO 12   \n",
       "1 1990-01-01  ANG MO KIO    1 ROOM   309  ANG MO KIO AVE 1     04 TO 06   \n",
       "2 1990-01-01  ANG MO KIO    1 ROOM   309  ANG MO KIO AVE 1     10 TO 12   \n",
       "3 1990-01-01  ANG MO KIO    1 ROOM   309  ANG MO KIO AVE 1     07 TO 09   \n",
       "4 1990-01-01  ANG MO KIO    3 ROOM   216  ANG MO KIO AVE 1     04 TO 06   \n",
       "\n",
       "   floor_area_sqm      flat_model  lease_commence_date  resale_price  \\\n",
       "0            31.0        Improved                 1977        9000.0   \n",
       "1            31.0        Improved                 1977        6000.0   \n",
       "2            31.0        Improved                 1977        8000.0   \n",
       "3            31.0        Improved                 1977        6000.0   \n",
       "4            73.0  New Generation                 1976       47200.0   \n",
       "\n",
       "   remaining_lease  row_id               address  latitude   longitude  \\\n",
       "0               86       0  309 ANG MO KIO AVE 1  1.365517  103.843968   \n",
       "1               86       1  309 ANG MO KIO AVE 1  1.365517  103.843968   \n",
       "2               86       2  309 ANG MO KIO AVE 1  1.365517  103.843968   \n",
       "3               86       3  309 ANG MO KIO AVE 1  1.365517  103.843968   \n",
       "4               85       4  216 ANG MO KIO AVE 1  1.366197  103.841505   \n",
       "\n",
       "                      geometry                nearest_station  \\\n",
       "0  POINT (29185.176 38617.449)  Ang Mo Kio MRT Station (NS16)   \n",
       "1  POINT (29185.176 38617.449)  Ang Mo Kio MRT Station (NS16)   \n",
       "2  POINT (29185.176 38617.449)  Ang Mo Kio MRT Station (NS16)   \n",
       "3  POINT (29185.176 38617.449)  Ang Mo Kio MRT Station (NS16)   \n",
       "4  POINT (28911.052 38692.617)  Ang Mo Kio MRT Station (NS16)   \n",
       "\n",
       "   station_distance station_opening station_closure  \n",
       "0        790.831215      1987-11-07             NaT  \n",
       "1        790.831215      1987-11-07             NaT  \n",
       "2        790.831215      1987-11-07             NaT  \n",
       "3        790.831215      1987-11-07             NaT  \n",
       "4        986.842379      1987-11-07             NaT  "
      ]
     },
     "execution_count": 89,
     "metadata": {},
     "output_type": "execute_result"
    }
   ],
   "source": [
    "flat_resale_gdf_reprojected_merge.head()"
   ]
  },
  {
   "cell_type": "code",
   "execution_count": 90,
   "id": "081f00e0",
   "metadata": {},
   "outputs": [
    {
     "data": {
      "text/plain": [
       "(915371, 20)"
      ]
     },
     "execution_count": 90,
     "metadata": {},
     "output_type": "execute_result"
    }
   ],
   "source": [
    "flat_resale_gdf_reprojected_merge.shape"
   ]
  },
  {
   "cell_type": "markdown",
   "id": "538e0021",
   "metadata": {},
   "source": [
    "# 11. Export Data"
   ]
  },
  {
   "cell_type": "markdown",
   "id": "ea93b3bd",
   "metadata": {},
   "source": [
    "<b>Geodata export in pickle: </b><br>\n",
    "The exported geodata pickle file needs geopandas to reopen/import, the file is still a geodata. <br>\n",
    "If the active 'geometry' column is dropped and then export in pickle, then the pickle file is a normal data file. No longer needs geopandas to reopen/import. <br>\n",
    "\n",
    "<b>Geodata export in csv: </b><br>\n",
    "The exported geodata csv file does not need geopandas to reopen/import. The file is a normal data file. The active 'geometry' column is converted from Point into string. "
   ]
  },
  {
   "cell_type": "code",
   "execution_count": 91,
   "id": "7fc37263",
   "metadata": {},
   "outputs": [],
   "source": [
    "# 1) 'flat_resale_gdf_reprojected_merge'\n",
    "\n",
    "# Export 'flat_resale_gdf_reprojected_merge' to 'Prepared Data' folder in csv format\n",
    "flat_resale_gdf_reprojected_merge.to_csv(os.path.join(path, '02 Data', 'Prepared Data', 'flat_resale_all_w_nearest_stn (geodata).csv'))"
   ]
  },
  {
   "cell_type": "code",
   "execution_count": 92,
   "id": "2ea590dd",
   "metadata": {},
   "outputs": [],
   "source": [
    "# Export 'flat_resale_gdf_reprojected_merge' to 'Prepared Data' folder in pkl format\n",
    "flat_resale_gdf_reprojected_merge.to_pickle(os.path.join(path, '02 Data', 'Prepared Data', 'flat_resale_all_w_nearest_stn (geodata).pkl'))"
   ]
  },
  {
   "cell_type": "code",
   "execution_count": 93,
   "id": "de6043a6",
   "metadata": {},
   "outputs": [
    {
     "data": {
      "text/html": [
       "<div>\n",
       "<style scoped>\n",
       "    .dataframe tbody tr th:only-of-type {\n",
       "        vertical-align: middle;\n",
       "    }\n",
       "\n",
       "    .dataframe tbody tr th {\n",
       "        vertical-align: top;\n",
       "    }\n",
       "\n",
       "    .dataframe thead th {\n",
       "        text-align: right;\n",
       "    }\n",
       "</style>\n",
       "<table border=\"1\" class=\"dataframe\">\n",
       "  <thead>\n",
       "    <tr style=\"text-align: right;\">\n",
       "      <th></th>\n",
       "      <th>station_code</th>\n",
       "      <th>station_name</th>\n",
       "      <th>line</th>\n",
       "      <th>opening</th>\n",
       "      <th>closure</th>\n",
       "      <th>station_name_w_code</th>\n",
       "      <th>latitude</th>\n",
       "      <th>longitude</th>\n",
       "      <th>geometry</th>\n",
       "      <th>closure_w_dummy</th>\n",
       "      <th>opening_yymm</th>\n",
       "      <th>closure_w_dummy_yymm</th>\n",
       "    </tr>\n",
       "  </thead>\n",
       "  <tbody>\n",
       "    <tr>\n",
       "      <th>0</th>\n",
       "      <td>NS1</td>\n",
       "      <td>Jurong East</td>\n",
       "      <td>North-South Line</td>\n",
       "      <td>1990-03-10</td>\n",
       "      <td>NaT</td>\n",
       "      <td>Jurong East MRT Station (NS1)</td>\n",
       "      <td>1.333153</td>\n",
       "      <td>103.742286</td>\n",
       "      <td>POINT (17869.057 35038.969)</td>\n",
       "      <td>2099-01-01</td>\n",
       "      <td>1990-03-01</td>\n",
       "      <td>2099-01-01</td>\n",
       "    </tr>\n",
       "    <tr>\n",
       "      <th>1</th>\n",
       "      <td>NS2</td>\n",
       "      <td>Bukit Batok</td>\n",
       "      <td>North-South Line</td>\n",
       "      <td>1990-03-10</td>\n",
       "      <td>NaT</td>\n",
       "      <td>Bukit Batok MRT Station (NS2)</td>\n",
       "      <td>1.349033</td>\n",
       "      <td>103.749566</td>\n",
       "      <td>POINT (18679.322 36794.926)</td>\n",
       "      <td>2099-01-01</td>\n",
       "      <td>1990-03-01</td>\n",
       "      <td>2099-01-01</td>\n",
       "    </tr>\n",
       "    <tr>\n",
       "      <th>2</th>\n",
       "      <td>NS3</td>\n",
       "      <td>Bukit Gombak</td>\n",
       "      <td>North-South Line</td>\n",
       "      <td>1990-03-10</td>\n",
       "      <td>NaT</td>\n",
       "      <td>Bukit Gombak MRT Station (NS3)</td>\n",
       "      <td>1.358612</td>\n",
       "      <td>103.751791</td>\n",
       "      <td>POINT (18926.913 37854.036)</td>\n",
       "      <td>2099-01-01</td>\n",
       "      <td>1990-03-01</td>\n",
       "      <td>2099-01-01</td>\n",
       "    </tr>\n",
       "    <tr>\n",
       "      <th>3</th>\n",
       "      <td>NS4</td>\n",
       "      <td>Choa Chu Kang</td>\n",
       "      <td>North-South Line</td>\n",
       "      <td>1990-03-10</td>\n",
       "      <td>NaT</td>\n",
       "      <td>Choa Chu Kang MRT Station (NS4)</td>\n",
       "      <td>1.385363</td>\n",
       "      <td>103.744371</td>\n",
       "      <td>POINT (18101.247 40812.122)</td>\n",
       "      <td>2099-01-01</td>\n",
       "      <td>1990-03-01</td>\n",
       "      <td>2099-01-01</td>\n",
       "    </tr>\n",
       "    <tr>\n",
       "      <th>4</th>\n",
       "      <td>NS5</td>\n",
       "      <td>Yew Tee</td>\n",
       "      <td>North-South Line</td>\n",
       "      <td>1996-02-10</td>\n",
       "      <td>NaT</td>\n",
       "      <td>Yew Tee MRT Station (NS5)</td>\n",
       "      <td>1.397535</td>\n",
       "      <td>103.747405</td>\n",
       "      <td>POINT (18438.983 42158.018)</td>\n",
       "      <td>2099-01-01</td>\n",
       "      <td>1996-02-01</td>\n",
       "      <td>2099-01-01</td>\n",
       "    </tr>\n",
       "  </tbody>\n",
       "</table>\n",
       "</div>"
      ],
      "text/plain": [
       "  station_code   station_name              line    opening closure  \\\n",
       "0          NS1    Jurong East  North-South Line 1990-03-10     NaT   \n",
       "1          NS2    Bukit Batok  North-South Line 1990-03-10     NaT   \n",
       "2          NS3   Bukit Gombak  North-South Line 1990-03-10     NaT   \n",
       "3          NS4  Choa Chu Kang  North-South Line 1990-03-10     NaT   \n",
       "4          NS5        Yew Tee  North-South Line 1996-02-10     NaT   \n",
       "\n",
       "               station_name_w_code  latitude   longitude  \\\n",
       "0    Jurong East MRT Station (NS1)  1.333153  103.742286   \n",
       "1    Bukit Batok MRT Station (NS2)  1.349033  103.749566   \n",
       "2   Bukit Gombak MRT Station (NS3)  1.358612  103.751791   \n",
       "3  Choa Chu Kang MRT Station (NS4)  1.385363  103.744371   \n",
       "4        Yew Tee MRT Station (NS5)  1.397535  103.747405   \n",
       "\n",
       "                      geometry closure_w_dummy opening_yymm  \\\n",
       "0  POINT (17869.057 35038.969)      2099-01-01   1990-03-01   \n",
       "1  POINT (18679.322 36794.926)      2099-01-01   1990-03-01   \n",
       "2  POINT (18926.913 37854.036)      2099-01-01   1990-03-01   \n",
       "3  POINT (18101.247 40812.122)      2099-01-01   1990-03-01   \n",
       "4  POINT (18438.983 42158.018)      2099-01-01   1996-02-01   \n",
       "\n",
       "  closure_w_dummy_yymm  \n",
       "0           2099-01-01  \n",
       "1           2099-01-01  \n",
       "2           2099-01-01  \n",
       "3           2099-01-01  \n",
       "4           2099-01-01  "
      ]
     },
     "execution_count": 93,
     "metadata": {},
     "output_type": "execute_result"
    }
   ],
   "source": [
    "# 2) 'train_station_gdf_reprojected'\n",
    "\n",
    "train_station_gdf_reprojected.head()"
   ]
  },
  {
   "cell_type": "code",
   "execution_count": 94,
   "id": "223f961e",
   "metadata": {
    "scrolled": true
   },
   "outputs": [
    {
     "data": {
      "text/plain": [
       "(204, 12)"
      ]
     },
     "execution_count": 94,
     "metadata": {},
     "output_type": "execute_result"
    }
   ],
   "source": [
    "train_station_gdf_reprojected.shape"
   ]
  },
  {
   "cell_type": "code",
   "execution_count": 95,
   "id": "d3b7ed39",
   "metadata": {},
   "outputs": [],
   "source": [
    "# Export 'train_station_gdf_reprojected' to 'Prepared Data' folder in csv format\n",
    "train_station_gdf_reprojected.to_csv(os.path.join(path, '02 Data', 'Prepared Data', 'train_station_w_coord (geodata).csv'))"
   ]
  },
  {
   "cell_type": "code",
   "execution_count": 96,
   "id": "ae517a8b",
   "metadata": {},
   "outputs": [],
   "source": [
    "# Export 'train_station_gdf_reprojected' to 'Prepared Data' folder in pkl format\n",
    "train_station_gdf_reprojected.to_pickle(os.path.join(path, '02 Data', 'Prepared Data', 'train_station_w_coord (geodata).pkl'))"
   ]
  },
  {
   "cell_type": "code",
   "execution_count": null,
   "id": "4ffa0ecd",
   "metadata": {},
   "outputs": [],
   "source": []
  },
  {
   "cell_type": "code",
   "execution_count": null,
   "id": "c0370581",
   "metadata": {},
   "outputs": [],
   "source": []
  },
  {
   "cell_type": "code",
   "execution_count": null,
   "id": "54c0d64d",
   "metadata": {},
   "outputs": [],
   "source": []
  }
 ],
 "metadata": {
  "kernelspec": {
   "display_name": "geo_env",
   "language": "python",
   "name": "geo_env"
  },
  "language_info": {
   "codemirror_mode": {
    "name": "ipython",
    "version": 3
   },
   "file_extension": ".py",
   "mimetype": "text/x-python",
   "name": "python",
   "nbconvert_exporter": "python",
   "pygments_lexer": "ipython3",
   "version": "3.12.1"
  },
  "varInspector": {
   "cols": {
    "lenName": 16,
    "lenType": 16,
    "lenVar": 40
   },
   "kernels_config": {
    "python": {
     "delete_cmd_postfix": "",
     "delete_cmd_prefix": "del ",
     "library": "var_list.py",
     "varRefreshCmd": "print(var_dic_list())"
    },
    "r": {
     "delete_cmd_postfix": ") ",
     "delete_cmd_prefix": "rm(",
     "library": "var_list.r",
     "varRefreshCmd": "cat(var_dic_list()) "
    }
   },
   "types_to_exclude": [
    "module",
    "function",
    "builtin_function_or_method",
    "instance",
    "_Feature"
   ],
   "window_display": false
  }
 },
 "nbformat": 4,
 "nbformat_minor": 5
}
